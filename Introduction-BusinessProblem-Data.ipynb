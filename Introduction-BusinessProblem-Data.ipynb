{
 "cells": [
  {
   "cell_type": "markdown",
   "id": "colonial-locking",
   "metadata": {},
   "source": [
    "# The Battle of the Neighborhoods - Open a Tea Room in Vancouver\n",
    "\n",
    "### Capstone Project - IBM Data Science Professional Certificate - Coursera\n",
    "***"
   ]
  },
  {
   "cell_type": "markdown",
   "id": "analyzed-spider",
   "metadata": {},
   "source": [
    "## Introduction: Business Problem"
   ]
  },
  {
   "cell_type": "markdown",
   "id": "requested-compiler",
   "metadata": {},
   "source": [
    "Vancouver is a major city in western Canada, located in the region of British Columbia. It is one of the most ethnically and linguistically diverse cities in Canada. Almost half of its residents are not native English speakers and belong to visible minority groups, mostly Asians. With its location on the Pacific Rim and at the western terminus of Canada's transcontinental highway and rail routes, Vancouver is one of the nation's largest industrial centres, and it's scenic location makes it a major tourist destination.\n",
    "\n",
    "In many asian countries, a teahouse is traditionally a place which offers tea to its customers, alongside with small plates of food. People gather at teahouses to chat, socialize and enjoy tea, and young people often meet at teahouses for dates. Tea rooms are also popular in Commonwealth countries, particularly Canada, with its harsh winters when afternoon tea is popular. The menu will generally have pastries, butter tarts or other small desserts. \n",
    "\n",
    "All these factors combined make of Vancouver a perfect city to open a Tea Room. In this project I will try to find an optimal location for a \"Tea Room & Pastries\" shop. Specifically, __this report will be targeted to stakeholders interested in opening a Tea Room in Vancouver, Canada__.\n",
    "\n",
    "I will try to detect locations that are not already crowded with tea rooms, coffee shops and similar venues. I will take into account the city's neighborhoods demographic diversity and the proximity to tourist attractions to evaluate each location's potential attractiveness to customers.\n",
    "\n",
    "I will use my data science skills to find the most promissing neighborhoods based on this criteria. Advantages of each area will be described so that the best possible final location can be chosen by stakeholders.\n",
    "\n",
    "***"
   ]
  },
  {
   "cell_type": "markdown",
   "id": "parental-restoration",
   "metadata": {},
   "source": [
    "## Data"
   ]
  },
  {
   "cell_type": "markdown",
   "id": "painful-publisher",
   "metadata": {},
   "source": [
    "Based on the definition of the problem, the following factors will guide this analysis:\n",
    "* The number of existing similar venues in the neighborhood (other tea rooms, breakfast spots, coffee shops, etc.)\n",
    "* The proximity to tourist attractions.\n",
    "* Each neighborhoods' demographics and its residential or commercial character.\n",
    "\n",
    "I will use the [postal codes of British Columbia](https://en.wikipedia.org/wiki/List_of_postal_codes_of_Canada:_V) to find Vancouver's neighborhoods names and postal codes. \n",
    "\n",
    "I will use the following resources to extract/generate the required information:\n",
    "- To get the center coordinates of each postal code I will use __Geocoder__.\n",
    "- The data about venues (name, type and location) for each neighborhood will be obtained using **Foursquare API**.\n",
    "- To find information about the city and it's demographics, I will use [Vancouver's Wikipedia page](https://en.wikipedia.org/wiki/Vancouver)\n",
    "***"
   ]
  }
 ],
 "metadata": {
  "kernelspec": {
   "display_name": "Python 3",
   "language": "python",
   "name": "python3"
  },
  "language_info": {
   "codemirror_mode": {
    "name": "ipython",
    "version": 3
   },
   "file_extension": ".py",
   "mimetype": "text/x-python",
   "name": "python",
   "nbconvert_exporter": "python",
   "pygments_lexer": "ipython3",
   "version": "3.7.6"
  }
 },
 "nbformat": 4,
 "nbformat_minor": 5
}
