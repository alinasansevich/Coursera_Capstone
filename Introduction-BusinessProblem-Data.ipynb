{
 "cells": [
  {
   "cell_type": "markdown",
   "id": "entire-briefs",
   "metadata": {},
   "source": [
    "# Battle of the Neighborhoods\n",
    "\n",
    "### Capstone Project - IBM Data Science Professional Certificate - Coursera\n",
    "***"
   ]
  },
  {
   "cell_type": "markdown",
   "id": "clinical-nomination",
   "metadata": {},
   "source": [
    "## Introduction: Business Problem"
   ]
  },
  {
   "cell_type": "markdown",
   "id": "distant-chapter",
   "metadata": {},
   "source": [
    "In this project I will try to find an optimal location for a \"Tea Room & Pastries\" shop.<br>\n",
    "Specifically, this report will be targeted to stakeholders interested in opening a __Tea Room in Vancouver, Canada__.\n",
    "\n",
    "I will try to detect locations that are not already crowded with tea rooms, coffee shops and similar venues. I will take into account the city's neighborhoods demographic diversity and the proximity to tourist attractions to evaluate each location's potential attractiveness to customers.\n",
    "\n",
    "I will use my data science skills to find the most promissing neighborhoods based on this criteria. Advantages of each area will be described so that the best possible final location can be chosen by stakeholders.\n",
    "\n",
    "***"
   ]
  },
  {
   "cell_type": "markdown",
   "id": "native-malpractice",
   "metadata": {},
   "source": [
    "## Data <a name=\"data\"></a>"
   ]
  },
  {
   "cell_type": "markdown",
   "id": "solar-rochester",
   "metadata": {},
   "source": [
    "Based on the definition of the problem, the factors that will influence my decissions are:\n",
    "* The number of existing similar venues in the neighborhood.\n",
    "* The proximity to tourist attractions.\n",
    "* Neighborhoods' demographics.\n",
    "\n",
    "I will use the [postal codes of British Columbia](https://en.wikipedia.org/wiki/List_of_postal_codes_of_Canada:_V) to find Vancouver's neighborhoods. \n",
    "\n",
    "I will use the following resources to extract/generate the required information:\n",
    "- To get the center coordinates of each postal code I will use __Google Maps, ‘Search Nearby’ option__.\n",
    "- The data about venues (name, type and location) for each neighborhood will be obtained using **Foursquare API**.\n",
    "- To find information about the city and it's demographics, I will use [Vancouver's Wikipedia page](https://en.wikipedia.org/wiki/Vancouver)\n",
    "***"
   ]
  }
 ],
 "metadata": {
  "kernelspec": {
   "display_name": "Python 3",
   "language": "python",
   "name": "python3"
  },
  "language_info": {
   "codemirror_mode": {
    "name": "ipython",
    "version": 3
   },
   "file_extension": ".py",
   "mimetype": "text/x-python",
   "name": "python",
   "nbconvert_exporter": "python",
   "pygments_lexer": "ipython3",
   "version": "3.7.6"
  }
 },
 "nbformat": 4,
 "nbformat_minor": 5
}
