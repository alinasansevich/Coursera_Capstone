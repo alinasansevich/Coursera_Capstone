{
 "cells": [
  {
   "cell_type": "markdown",
   "id": "printable-registration",
   "metadata": {},
   "source": [
    "# Capstone Project - The Battle of Neighborhoods\n",
    "\n",
    "Now that you have been equipped with the skills and the tools to use location data to explore a geographical location, over the course of two weeks, you will have the opportunity to be as creative as you want and come up with an idea to leverage the Foursquare location data to explore or compare neighborhoods or cities of your choice or to come up with a problem that you can use the Foursquare location data to solve. If you cannot think of an idea or a problem, here are some ideas to get you started:\n",
    "\n",
    "    In Module 3, we explored New York City and the city of Toronto and segmented and clustered their neighborhoods. Both cities are very diverse and are the financial capitals of their respective countries. One interesting idea would be to compare the neighborhoods of the two cities and determine how similar or dissimilar they are. Is New York City more like Toronto or Paris or some other multicultural city? I will leave it to you to refine this idea.\n",
    "    In a city of your choice, if someone is looking to open a restaurant, where would you recommend that they open it? Similarly, if a contractor is trying to start their own business, where would you recommend that they setup their office?\n",
    "\n",
    "These are just a couple of many ideas and problems that can be solved using location data in addition to other datasets. No matter what you decide to do, make sure to provide sufficient justification of why you think what you want to do or solve is important and why would a client or a group of people be interested in your project.\n",
    "Review criteria\n",
    "\n",
    "This capstone project will be graded by your peers. This capstone project is worth 70% of your total grade. The project will be completed over the course of 2 weeks.  Week 1 submissions will be worth 30% whereas week 2 submissions will be worth 40% of your total grade.\n",
    "\n",
    "__For this week, you will required to submit the following:__\n",
    "\n",
    "    A description of the problem and a discussion of the background. (15 marks)\n",
    "    A description of the data and how it will be used to solve the problem. (15 marks)\n",
    "\n",
    "__For the second week, the final deliverables of the project will be:__\n",
    "\n",
    "1. A link to your Notebook on your Github repository, showing your code. (15 marks)  _&rarr; Jupyter Notebook_\n",
    "\n",
    "2. A full report consisting of all of the following components (15 marks):  _&rarr; Text as .pdf_\n",
    "\n",
    "    __Introduction__ where you discuss the business problem and who would be interested in this project.\n",
    "    \n",
    "    __Data__ where you describe the data that will be used to solve the problem and the source of the data.\n",
    "    \n",
    "    __Methodology section__ which represents the main component of the report where you discuss and describe any exploratory data analysis that you did, any inferential statistical testing that you performed, if any, and what machine learnings were used and why.\n",
    "    \n",
    "    __Results section__ where you discuss the results.\n",
    "    \n",
    "    __Discussion section__ where you discuss any observations you noted and any recommendations you can make based on the results.\n",
    "    \n",
    "    __Conclusion section__ where you conclude the report.\n",
    "\n",
    "3. Your choice of a presentation or blogpost. (10 marks)  _&rarr; PowerPoint as .pdf_"
   ]
  },
  {
   "cell_type": "markdown",
   "id": "acoustic-jonathan",
   "metadata": {},
   "source": [
    "***\n",
    "# WEEK 4\n",
    "\n",
    "Project Title: \"Give your project a descriptive title\n",
    "\n",
    "Clearly define a problem or an idea of your choice, where you would need to leverage the Foursquare location data to solve or execute. Remember that data science problems always target an audience and are meant to help a group of stakeholders solve a problem, so make sure that you explicitly describe your audience and why they would care about your problem.\n",
    "\n",
    "This submission will eventually become your __Introduction/Business Problem__ section in your final report. So I recommend that you push the report (having your Introduction/Business Problem section only for now) to your Github repository and submit a link to it.\n",
    "\n",
    "URL\n",
    "\n",
    "Describe the data that you will be using to solve the problem or execute your idea. Remember that you will need to use the Foursquare location data to solve the problem or execute your idea. You can absolutely use other datasets in combination with the Foursquare location data. So make sure that you provide adequate explanation and discussion, with examples, of the data that you will be using, even if it is only Foursquare location data.\n",
    "\n",
    "This submission will eventually become your __Data__ section in your final report. So I recommend that you push the report (having your Data section) to your Github repository and submit a link to it.\n",
    "\n",
    "URL\n",
    "***"
   ]
  },
  {
   "cell_type": "markdown",
   "id": "thick-eight",
   "metadata": {},
   "source": [
    "***\n",
    "# WEEK 5\n",
    "\n",
    "In this week, you will continue working on your capstone project. Please remember by the end of this week, you will need to submit the following:\n",
    "\n",
    "    A full report consisting of all of the following components (15 marks):\n",
    "\n",
    "    Introduction where you discuss the business problem and who would be interested in this project.\n",
    "    Data where you describe the data that will be used to solve the problem and the source of the data.\n",
    "    Methodology section which represents the main component of the report where you discuss and describe any exploratory data analysis that you did, any inferential statistical testing that you performed, if any, and what machine learnings were used and why.\n",
    "    Results section where you discuss the results.\n",
    "    Discussion section where you discuss any observations you noted and any recommendations you can make based on the results.\n",
    "    Conclusion section where you conclude the report.\n",
    "\n",
    "2. A link to your Notebook on your Github repository pushed showing your code. (15 marks)\n",
    "\n",
    "3. Your choice of a presentation or blogpost. (10 marks)\n",
    "\n",
    "Here are examples of previous outstanding submissions that should give you an idea of what your report would look like, what your notebook would look like in terms of clean, clear, and well-commented code, and what your presentation would look like or your blogpost would look like:\n",
    "\n",
    "    Report: Report Template\n",
    "    Notebook: Notebook Template\n",
    "    Presentation: Presentation Template\n",
    "    Blogpost: Blogpost template\n",
    "\n",
    "\n",
    "Project Title\n",
    "\n",
    "Please submit a link to your Notebook.\n",
    "URL\n",
    "\n",
    "Please submit a link to your report.\n",
    "URL\n",
    "\n",
    "Please submit a link to either your presentation or blogpost.\n",
    "URL\n",
    "\n",
    "\n",
    "\n",
    "***"
   ]
  },
  {
   "cell_type": "code",
   "execution_count": null,
   "id": "greatest-capture",
   "metadata": {},
   "outputs": [],
   "source": [
    "# Sample code from Week 3 >>> @@@@@@@@@@@@@@@@@@@@ REMOVE LATER!!!\n",
    "import pandas as pd\n",
    "import numpy as np\n",
    "import requests\n",
    "\n",
    "from bs4 import BeautifulSoup\n",
    "\n",
    "\n",
    "source = requests.get('https://en.wikipedia.org/wiki/List_of_postal_codes_of_Canada:_M').text\n",
    "\n",
    "soup = BeautifulSoup(source, 'html5lib')\n",
    "\n",
    "postal_codes_dict = {} # initialize an empty dictionary to save the data in\n",
    "for table_cell in soup.find_all('td'):\n",
    "    try:\n",
    "        postal_code = table_cell.p.b.text # get the postal code\n",
    "        postal_code_investigate = table_cell.span.text\n",
    "        neighborhoods_data = table_cell.span.text # get the rest of the data in the cell\n",
    "        borough = neighborhoods_data.split('(')[0] # get the borough in the cell\n",
    "        \n",
    "        # if the cell is not assigned then ignore it\n",
    "        if neighborhoods_data == 'Not assigned':\n",
    "            neighborhoods = []\n",
    "        # else process the data and add it to the dictionary\n",
    "        else:\n",
    "            postal_codes_dict[postal_code] = {}\n",
    "            \n",
    "            try:\n",
    "                neighborhoods = neighborhoods_data.split('(')[1]\n",
    "            \n",
    "                # remove parantheses from neighborhoods string\n",
    "                neighborhoods = neighborhoods.replace('(', ' ')\n",
    "                neighborhoods = neighborhoods.replace(')', ' ')\n",
    "\n",
    "                neighborhoods_names = neighborhoods.split('/')\n",
    "                neighborhoods_clean = ', '.join([name.strip() for name in neighborhoods_names])\n",
    "            except:\n",
    "                borough = borough.strip('\\n')\n",
    "                neighborhoods_clean = borough\n",
    " \n",
    "            # add borough and neighborhood to dictionary\n",
    "            postal_codes_dict[postal_code]['borough'] = borough\n",
    "            postal_codes_dict[postal_code]['neighborhoods'] = neighborhoods_clean\n",
    "    except:\n",
    "        pass\n",
    "    \n",
    "# create an empty dataframe\n",
    "columns = ['PostalCode', 'Borough', 'Neighborhood']\n",
    "toronto_data = pd.DataFrame(columns=columns)\n",
    "toronto_data\n",
    "\n",
    "# populate dataframe with data from dictionary\n",
    "for ind, postal_code in enumerate(postal_codes_dict):\n",
    "    borough = postal_codes_dict[postal_code]['borough']\n",
    "    neighborhood = postal_codes_dict[postal_code]['neighborhoods']\n",
    "    toronto_data = toronto_data.append({\"PostalCode\": postal_code, \n",
    "                                        \"Borough\": borough, \n",
    "                                        \"Neighborhood\": neighborhood},\n",
    "                                        ignore_index=True)\n",
    "\n",
    "# print number of rows of dataframe\n",
    "toronto_data.shape[0]"
   ]
  },
  {
   "cell_type": "markdown",
   "id": "public-probe",
   "metadata": {},
   "source": [
    "# Sample code from Week 3 >>> @@@@@@@@@@@@@@@@@@@@ REMOVE LATER!!!\n",
    "...so we will use the Geocoder Python package instead: https://geocoder.readthedocs.io/index.html.\n",
    "\n",
    "The problem with this Package is you have to be persistent sometimes in order to get the geographical coordinates of a given postal code. So you can make a call to get the latitude and longitude coordinates of a given postal code and the result would be None, and then make the call again and you would get the coordinates. So, in order to make sure that you get the coordinates for all of our neighborhoods, you can run a while loop for each postal code. Taking  postal code M5G as an example, your code would look something like this:"
   ]
  },
  {
   "cell_type": "code",
   "execution_count": null,
   "id": "spectacular-viewer",
   "metadata": {},
   "outputs": [],
   "source": [
    "# Sample code from Week 3 >>> @@@@@@@@@@@@@@@@@@@@ REMOVE LATER!!!\n",
    "import geocoder # import geocoder\n",
    "\n",
    "# initialize your variable to None\n",
    "lat_lng_coords = None\n",
    "\n",
    "# loop until you get the coordinates\n",
    "while(lat_lng_coords is None):\n",
    "  g = geocoder.google('{}, Toronto, Ontario'.format(postal_code))\n",
    "  lat_lng_coords = g.latlng\n",
    "\n",
    "latitude = lat_lng_coords[0]\n",
    "longitude = lat_lng_coords[1]"
   ]
  },
  {
   "cell_type": "markdown",
   "id": "fourth-extraction",
   "metadata": {},
   "source": [
    "Nombre \tRosario\n",
    "\n",
    "Código Postal \tS2000, S2001, S2002, S2003, S2004, S2005, S2006, S2007, S2008, S2009, S2010, S2011, S2012, S2013\n",
    "\n",
    "https://www.azcodigopostal.com/argentina/pplace-rosario-82084/\n",
    "\n",
    "https://nuestraciudad.info/portal/Rosario.SF/Barrios\n",
    "\n",
    "https://en.wikipedia.org/wiki/Rosario,_Santa_Fe\n",
    "\n",
    "https://en.wikipedia.org/wiki/Districts_of_Rosario\n",
    "\n",
    "https://en.wikipedia.org/wiki/Postal_codes_in_Argentina"
   ]
  },
  {
   "cell_type": "markdown",
   "id": "assured-bulgarian",
   "metadata": {},
   "source": [
    "# MY WORK STARTS HERE:"
   ]
  },
  {
   "cell_type": "code",
   "execution_count": 1,
   "id": "confidential-fifteen",
   "metadata": {},
   "outputs": [],
   "source": [
    "import geocoder"
   ]
  },
  {
   "cell_type": "code",
   "execution_count": 5,
   "id": "colonial-replica",
   "metadata": {},
   "outputs": [
    {
     "name": "stdout",
     "output_type": "stream",
     "text": [
      "14\n",
      "14\n",
      "14\n"
     ]
    }
   ],
   "source": [
    "# List of Rosario's postal code\n",
    "postal_codes = ['S2000', 'S2001', 'S2002', 'S2003', 'S2004', 'S2005', 'S2006', 'S2007', 'S2008', 'S2009', 'S2010', 'S2011', 'S2012', 'S2013']\n",
    "# create empty list to store the coordinates\n",
    "latitude = [-32.96354142056077, -32.980578888678785, -32.93260868410449, -32.952964392452614, -32.97872331071033, -32.89758281135937,\n",
    "            -32.91349360699411, -32.92768617257364, -32.94579808366731, -32.96473523859615, -32.964460995720835, -33.000370247338765,\n",
    "            -32.999148635673635, -32.921991867419145]\n",
    "\n",
    "longitude = [-60.65037857900159, -60.66100803319768, -60.66273116276681, -60.68825739888609, -60.66670558317473, -60.69617074246556,\n",
    "             -60.73624425027854, -60.702232363462635, -60.697415481486416, -60.708317770683564, -60.70435151962735, -60.631855625912,\n",
    "             -60.68624179075663, -60.681842009191065]\n",
    "\n",
    "# s2000 -32.96354142056077, -60.65037857900159\n",
    "# s2001 -32.980578888678785, -60.66100803319768\n",
    "# s2002 -32.93260868410449, -60.66273116276681\n",
    "# s2003 -32.952964392452614, -60.68825739888609\n",
    "# s2004 -32.97872331071033, -60.66670558317473\n",
    "# s2005 -32.89758281135937, -60.69617074246556\n",
    "# s2006 -32.91349360699411, -60.73624425027854\n",
    "# s2007 -32.92768617257364, -60.702232363462635\n",
    "# s2008 -32.94579808366731, -60.697415481486416\n",
    "# s2009 -32.96473523859615, -60.708317770683564\n",
    "# s2010 -32.964460995720835, -60.70435151962735\n",
    "# s2011 -33.000370247338765, -60.631855625912\n",
    "# s2012 -32.999148635673635, -60.68624179075663\n",
    "# s2013 -32.921991867419145, -60.681842009191065\n",
    "\n",
    "# for postal_code in postal_codes:\n",
    "#     # initialize your variable to None\n",
    "#     lat_lng_coords = None\n",
    "#     # loop until you get the coordinates\n",
    "#     while(lat_lng_coords is None):\n",
    "#         g = geocoder.google('{}, Rosario, Santa Fe Province, Argentina'.format(postal_codes))\n",
    "#         if lat_lng_coords != None:       \n",
    "#             lat_lng_coords = g.latlng\n",
    "#             lat = lat_lng_coords[0]\n",
    "#             long = lat_lng_coords[1]\n",
    "#             latitude.append(lat)\n",
    "#             longitude.append(long)\n",
    "\n",
    "print(len(postal_codes))\n",
    "print(len(latitude))\n",
    "print(len(longitude))"
   ]
  },
  {
   "cell_type": "code",
   "execution_count": 2,
   "id": "sophisticated-prescription",
   "metadata": {},
   "outputs": [],
   "source": [
    "# g = geocoder.google('S2000, Rosario, Santa Fe Province, Argentina', method='places')\n",
    "# lat_lng_coords = g.latlng\n",
    "# lat = lat_lng_coords[0]\n",
    "# long = lat_lng_coords[1]"
   ]
  },
  {
   "cell_type": "code",
   "execution_count": null,
   "id": "removable-windsor",
   "metadata": {},
   "outputs": [],
   "source": []
  },
  {
   "cell_type": "code",
   "execution_count": null,
   "id": "bacterial-albany",
   "metadata": {},
   "outputs": [],
   "source": []
  },
  {
   "cell_type": "code",
   "execution_count": null,
   "id": "conceptual-watch",
   "metadata": {},
   "outputs": [],
   "source": [
    "# Define Foursquare Credentials and Version\n",
    "CLIENT_ID = '@@@@@@@@@@@@@@@@@@@@@@@@@@@@@@@@@@@@@@@@@@@@' # your Foursquare ID\n",
    "CLIENT_SECRET = '@@@@@@@@@@@@@@@@@@@@@@@@@@@@@@@@@@@@@@@@@@@@' # your Foursquare Secret\n",
    "VERSION = '20180605' # Foursquare API version\n",
    "LIMIT = 100 # A default Foursquare API limit value"
   ]
  },
  {
   "cell_type": "markdown",
   "id": "sexual-consultancy",
   "metadata": {},
   "source": [
    "### Explore Neighborhoods in Rosario"
   ]
  },
  {
   "cell_type": "code",
   "execution_count": null,
   "id": "large-scotland",
   "metadata": {},
   "outputs": [],
   "source": [
    "def getNearbyVenues(names, latitudes, longitudes, radius=500):\n",
    "    \"\"\" names, latitudes, longitudes are columns from a dataframe. \"\"\"\n",
    "    venues_list = []\n",
    "    for name, lat, lng in zip(names, latitudes, longitudes):\n",
    "        print(name)\n",
    "        # create the API request URL\n",
    "        url = 'https://api.foursquare.com/v2/venues/explore?&client_id={}&client_secret={}&v={}&ll={},{}&radius={}&limit={}'.format(\n",
    "            CLIENT_ID,\n",
    "            CLIENT_SECRET,\n",
    "            VERSION,\n",
    "            lat,\n",
    "            lng,\n",
    "            radius,\n",
    "            LIMIT)\n",
    "        # make the GET request\n",
    "        results = requests.get(url).json()[\"response\"]['groups'][0]['items']\n",
    "        # return only relevant information for each nearby venue\n",
    "        venues_list.append([(name, lat, lng,\n",
    "            v['venue']['name'],\n",
    "            v['venue']['location']['lat'],\n",
    "            v['venue']['location']['lng'],\n",
    "            v['venue']['categories'][0]['name']) for v in results])\n",
    "\n",
    "    nearby_venues = pd.DataFrame([item for venue_list in venues_list for item in venue_list])\n",
    "    nearby_venues.columns = ['Neighborhood',\n",
    "                  'Neighborhood Latitude',\n",
    "                  'Neighborhood Longitude',\n",
    "                  'Venue',\n",
    "                  'Venue Latitude',\n",
    "                  'Venue Longitude',\n",
    "                  'Venue Category']\n",
    "    \n",
    "    return(nearby_venues)"
   ]
  },
  {
   "cell_type": "code",
   "execution_count": null,
   "id": "angry-subscription",
   "metadata": {},
   "outputs": [],
   "source": [
    "# Run the above function on each neighborhood and create a new dataframe called toronto_venues.\n",
    "toronto_venues = getNearbyVenues(names=neighborhoods['Neighborhood'],\n",
    "                                   latitudes=neighborhoods['Latitude'],\n",
    "                                   longitudes=neighborhoods['Longitude'])"
   ]
  },
  {
   "cell_type": "code",
   "execution_count": null,
   "id": "shaped-birthday",
   "metadata": {},
   "outputs": [],
   "source": [
    "print(toronto_venues.shape)\n",
    "toronto_venues.head()"
   ]
  },
  {
   "cell_type": "code",
   "execution_count": null,
   "id": "biblical-cardiff",
   "metadata": {},
   "outputs": [],
   "source": []
  },
  {
   "cell_type": "code",
   "execution_count": 26,
   "id": "relevant-religious",
   "metadata": {},
   "outputs": [],
   "source": [
    "barrios = ['14 de Octubre ', '17 de Agosto', 'Abasto', 'Alberdi', 'Alberto Olmedo', 'Alvear', \n",
    "           'Antártida Argentina', 'Azcuénaga', 'Belgrano', 'Bella Vista', 'Celedonio Escalada', 'Cinco Esquinas',\n",
    "           'Domingo Faustino Sarmiento', 'Domingo Matheu', 'España y Hospitales', 'Esteban Echeverría', 'Fisherton', 'General Las Heras',\n",
    "           'Godoy', 'Jorge Cura', 'La Cerámica y Cuyo', 'La Guardia', 'Larrea y Empalme Graneros', 'Las Flores',\n",
    "           'Las Malvinas', 'Latinoamérica', 'Lisandro de la Torre', 'Ludueña', 'Luis Agote', 'Mercedes de San Martín',\n",
    "           'Nuestra Sra. de Lourdes', 'Parque Casado', 'Parque Field', 'Presidente Roque Saenz Peña', 'Remedios de Escalada de San Martín', 'República de la Sexta',\n",
    "           'Rosario Centro', 'Rucci', 'Saladillo Sur', 'San Martín', 'Tango', 'Tiro Suizo',\n",
    "           'Triángulo y Moderno', 'Victoria Walsh', 'Villa Manuelita', 'Villa Urquiza']"
   ]
  },
  {
   "cell_type": "code",
   "execution_count": 27,
   "id": "unlikely-taylor",
   "metadata": {},
   "outputs": [],
   "source": [
    "distritos = ['Distrito Sudoeste', 'Distrito Sudoeste', 'Distrito Centro', 'Distrito Norte', 'Distrito Centro', 'Distrito Sudoeste', \n",
    "             'Distrito Noroeste', 'Distrito Noroeste, Distrito Oeste', 'Distrito Noroeste', 'Distrito Oeste, Distrito Sudoeste', 'Distrito Norte', 'Distrito Oeste',\n",
    "             'Distrito Norte', 'Distrito Sur, Distrito Sudoeste', 'Distrito Centro, Distrito Sudoeste, Distrito Sur', 'Distrito Sur', 'Distrito Noroeste', 'Distrito Sur',\n",
    "             'Distrito Oeste', 'Distrito Sudoeste, Distrito Centro', 'Distrito Norte, Distrito Noroeste', 'Distrito Sur', 'Distrito Noroeste', 'Distrito Sudoeste',\n",
    "             'Distrito Norte, Distrito Noroeste', 'Distrito Centro', 'Distrito Norte', 'Distrito Norte, Distrito Noroeste, Distrito Centro', 'Distrito Centro, Distrito Noroeste', 'Distrito Oeste, Distrito Sudoeste',\n",
    "             'Distrito Centro', 'Distrito Centro, Distrito Sudoeste, Distrito Sur', 'Distrito Norte', 'Distrito Sur, Distrito Sudoeste', 'Distrito Centro', ' \tDistrito Centro',\n",
    "             'Distrito Centro', 'Distrito Norte', 'Distrito Sur', 'Distrito Sur', 'Distrito Noroeste', 'Distrito Sur',\n",
    "             'Distrito Oeste', 'Distrito Oeste', 'Distrito Sur', 'Distrito Oeste']"
   ]
  },
  {
   "cell_type": "code",
   "execution_count": 28,
   "id": "solved-spray",
   "metadata": {},
   "outputs": [],
   "source": [
    "latitude = [-32.996944, -33.011944, -32.961667, -32.897222, -32.933611, -32.986944, \n",
    "            -32.936944, -32.942500, -32.940833, -32.966667, -32.875000, -32.954444,\n",
    "            -32.910278, -32.981944, -32.971389, -32.995000, -32.918611, -32.988333,\n",
    "            -32.965278, -32.968333, -32.886111, -32.989722, -32.916667, -33.016667,\n",
    "            -32.924444, -32.966944, -32.916667, -32.931667, -32.935000, -33.012222,\n",
    "            -32.948333, -32.970000, -32.891667, -33.003611, -32.943611, -32.965556,\n",
    "            -32.946667, -32.888611, -32.999167, -32.976389, -32.944167, -32.997778,\n",
    "            -32.977500, -32.964722, -32.985278, -32.954722]"
   ]
  },
  {
   "cell_type": "code",
   "execution_count": 29,
   "id": "golden-growth",
   "metadata": {},
   "outputs": [],
   "source": [
    "longitude = [-60.663056, -60.660000, -60.646944, -60.698333, -60.658056, -60.677778, \n",
    "             -60.763056, -60.698333, -60.713333, -60.680833, -60.730000, -60.681944,\n",
    "             -60.686389, -60.653889, -60.652222, -60.624167, -60.738056, -60.636944,\n",
    "             -60.721111, -60.663333, -60.732222, -60.655833, -60.718611, -60.655833,\n",
    "             -60.670278, -60.666111, -60.677222, -60.692222, -60.671667, -60.695556,\n",
    "             -60.660833, -60.670556, -60.713056, -60.637222, -60.682500, -60.630833,\n",
    "             -60.636667, -60.712778, -60.618611, -60.637222, -60.753889, -60.652500,\n",
    "             -60.700000, -60.688889, -60.624444, -60.704167]"
   ]
  },
  {
   "cell_type": "code",
   "execution_count": 30,
   "id": "beginning-administrator",
   "metadata": {},
   "outputs": [
    {
     "name": "stdout",
     "output_type": "stream",
     "text": [
      "46\n",
      "46\n",
      "46\n",
      "46\n"
     ]
    }
   ],
   "source": [
    "print(len(barrios))\n",
    "print(len(distritos))\n",
    "print(len(latitude))\n",
    "print(len(longitude))"
   ]
  },
  {
   "cell_type": "code",
   "execution_count": null,
   "id": "attended-whole",
   "metadata": {},
   "outputs": [],
   "source": []
  }
 ],
 "metadata": {
  "kernelspec": {
   "display_name": "Python 3",
   "language": "python",
   "name": "python3"
  },
  "language_info": {
   "codemirror_mode": {
    "name": "ipython",
    "version": 3
   },
   "file_extension": ".py",
   "mimetype": "text/x-python",
   "name": "python",
   "nbconvert_exporter": "python",
   "pygments_lexer": "ipython3",
   "version": "3.7.6"
  }
 },
 "nbformat": 4,
 "nbformat_minor": 5
}
