{
 "cells": [
  {
   "cell_type": "markdown",
   "id": "olympic-equity",
   "metadata": {},
   "source": [
    "# The Battle of the Neighborhoods - Open a Tea Room in Vancouver\n",
    "\n",
    "### Capstone Project - IBM Data Science Professional Certificate - Coursera\n",
    "***"
   ]
  },
  {
   "cell_type": "markdown",
   "id": "mechanical-playing",
   "metadata": {},
   "source": [
    "## Table of contents\n",
    "* [Introduction: Business Problem](#introduction)\n",
    "* [Data](#data)\n",
    "* [Methodology](#methodology)\n",
    "* [Analysis](#analysis)\n",
    "* [Results and Discussion](#results)\n",
    "* [Conclusion](#conclusion)\n",
    "* [References](#references)\n",
    "***"
   ]
  },
  {
   "cell_type": "markdown",
   "id": "motivated-constitution",
   "metadata": {},
   "source": [
    "## Introduction: Business Problem <a name=\"introduction\"></a>"
   ]
  },
  {
   "cell_type": "markdown",
   "id": "royal-howard",
   "metadata": {},
   "source": [
    "Vancouver is a major city in western Canada, located in the region of British Columbia. It is one of the most ethnically and linguistically diverse cities in Canada. Almost half of its residents are not native English speakers and belong to visible minority groups, mostly Asians. With its location on the Pacific Rim and at the western terminus of Canada's transcontinental highway and rail routes, Vancouver is one of the nation's largest industrial centres, and it's scenic location makes it a major tourist destination.\n",
    "\n",
    "In many asian countries, a teahouse is traditionally a place which offers tea to its customers, alongside with small plates of food. People gather at teahouses to chat, socialize and enjoy tea, and young people often meet at teahouses for dates. Tea rooms are also popular in Commonwealth countries, particularly Canada, with its harsh winters when afternoon tea is popular. The menu will generally have pastries, butter tarts or other small desserts. \n",
    "\n",
    "All these factors combined make of Vancouver a perfect city to open a Tea Room. In this project I will try to find an optimal location for a \"Tea Room & Pastries\" shop. Specifically, __this report will be targeted to stakeholders interested in opening a Tea Room in Vancouver, Canada__.\n",
    "\n",
    "I will try to detect locations that are not already crowded with tea rooms, coffee shops and similar venues. I will take into account the city's neighborhoods demographic diversity and the proximity to tourist attractions to evaluate each location's potential attractiveness to customers.\n",
    "\n",
    "I will use my data science skills to find the most promissing neighborhoods based on this criteria. Advantages of each area will be described so that the best possible final location can be chosen by stakeholders.\n",
    "\n",
    "***"
   ]
  },
  {
   "cell_type": "markdown",
   "id": "paperback-processing",
   "metadata": {},
   "source": [
    "## Data <a name=\"data\"></a>"
   ]
  },
  {
   "cell_type": "markdown",
   "id": "unexpected-discussion",
   "metadata": {},
   "source": [
    "Based on the definition of the problem, the following factors will guide this analysis:\n",
    "* The number of existing similar venues in the neighborhood (other tea rooms, breakfast spots, coffee shops, etc.)\n",
    "* The proximity to tourist attractions.\n",
    "* Each neighborhoods' demographics and its residential or commercial character.\n",
    "\n",
    "I will use the [postal codes of British Columbia](https://en.wikipedia.org/wiki/List_of_postal_codes_of_Canada:_V) to find Vancouver's neighborhoods names and postal codes. \n",
    "\n",
    "I will use the following resources to extract/generate the required information:\n",
    "- To get the center coordinates of each postal code I will use __Geocoder__.\n",
    "- The data about venues (name, type and location) for each neighborhood will be obtained using **Foursquare API**.\n",
    "- To find information about the city and it's demographics, I will use [Vancouver's Wikipedia page](https://en.wikipedia.org/wiki/Vancouver)"
   ]
  },
  {
   "cell_type": "markdown",
   "id": "contemporary-ballot",
   "metadata": {},
   "source": [
    "Let's start by importing the necessary libraries:"
   ]
  },
  {
   "cell_type": "code",
   "execution_count": 49,
   "id": "fundamental-decade",
   "metadata": {},
   "outputs": [
    {
     "name": "stdout",
     "output_type": "stream",
     "text": [
      "Libraries imported.\n"
     ]
    }
   ],
   "source": [
    "import requests\n",
    "import os\n",
    "import pandas as pd\n",
    "import numpy as np\n",
    "import json\n",
    "\n",
    "from pandas.io.json import json_normalize # tranform JSON file into a pandas dataframe >>> DO I NEED THIS?\n",
    "\n",
    "from bs4 import BeautifulSoup\n",
    "\n",
    "import matplotlib.cm as cm\n",
    "import matplotlib.colors as colors\n",
    "\n",
    "# from sklearn.cluster import KMeans ######### imported later\n",
    "\n",
    "import folium # map rendering library\n",
    "\n",
    "print('Libraries imported.')"
   ]
  },
  {
   "cell_type": "markdown",
   "id": "creative-democrat",
   "metadata": {},
   "source": [
    "Let's start by searching for the postal codes and the names of Vancouver's neighborhoods. Postal codes beginning with V are located within the Canadian province of British Columbia, where Vancouver is located. So I will start by scraping the list of postal codes of Canada from Wikipedia."
   ]
  },
  {
   "cell_type": "code",
   "execution_count": 50,
   "id": "expired-employment",
   "metadata": {},
   "outputs": [
    {
     "name": "stdout",
     "output_type": "stream",
     "text": [
      "(20, 9)\n"
     ]
    },
    {
     "data": {
      "text/html": [
       "<div>\n",
       "<style scoped>\n",
       "    .dataframe tbody tr th:only-of-type {\n",
       "        vertical-align: middle;\n",
       "    }\n",
       "\n",
       "    .dataframe tbody tr th {\n",
       "        vertical-align: top;\n",
       "    }\n",
       "\n",
       "    .dataframe thead th {\n",
       "        text-align: right;\n",
       "    }\n",
       "</style>\n",
       "<table border=\"1\" class=\"dataframe\">\n",
       "  <thead>\n",
       "    <tr style=\"text-align: right;\">\n",
       "      <th></th>\n",
       "      <th>0</th>\n",
       "      <th>1</th>\n",
       "      <th>2</th>\n",
       "      <th>3</th>\n",
       "      <th>4</th>\n",
       "      <th>5</th>\n",
       "      <th>6</th>\n",
       "      <th>7</th>\n",
       "      <th>8</th>\n",
       "    </tr>\n",
       "  </thead>\n",
       "  <tbody>\n",
       "    <tr>\n",
       "      <th>0</th>\n",
       "      <td>V1AKimberley</td>\n",
       "      <td>V2APenticton</td>\n",
       "      <td>V3ALangley Township(Langley City)</td>\n",
       "      <td>V4ASurreySouthwest</td>\n",
       "      <td>V5ABurnaby(Government Road / Lake City / SFU /...</td>\n",
       "      <td>V6AVancouver(Strathcona / Chinatown / Downtown...</td>\n",
       "      <td>V7ARichmondSouth</td>\n",
       "      <td>V8APowell River</td>\n",
       "      <td>V9AVictoria(Vic West / Esquimalt)Canadian Forc...</td>\n",
       "    </tr>\n",
       "    <tr>\n",
       "      <th>1</th>\n",
       "      <td>V1BVernonEast</td>\n",
       "      <td>V2BKamloopsNorthwest</td>\n",
       "      <td>V3BPort CoquitlamCentral</td>\n",
       "      <td>V4BWhite Rock</td>\n",
       "      <td>V5BBurnaby(Parkcrest-Aubrey / Ardingley-Sprott)</td>\n",
       "      <td>V6BVancouver(NE Downtown / Gastown / Harbour C...</td>\n",
       "      <td>V7BRichmond(Sea Island / YVR)</td>\n",
       "      <td>V8BSquamish</td>\n",
       "      <td>V9BVictoria(West Highlands / North Langford / ...</td>\n",
       "    </tr>\n",
       "    <tr>\n",
       "      <th>2</th>\n",
       "      <td>V1CCranbrook</td>\n",
       "      <td>V2CKamloopsCentral and Southeast</td>\n",
       "      <td>V3CPort CoquitlamSouth</td>\n",
       "      <td>V4CDeltaNortheast</td>\n",
       "      <td>V5CBurnaby(Burnaby Heights / Willingdon Height...</td>\n",
       "      <td>V6CVancouver(Waterfront / Coal Harbour / Canad...</td>\n",
       "      <td>V7CRichmondNorthwest</td>\n",
       "      <td>V8CKitimat</td>\n",
       "      <td>V9CVictoria(Colwood / South Langford / Metchosin)</td>\n",
       "    </tr>\n",
       "    <tr>\n",
       "      <th>3</th>\n",
       "      <td>V1ESalmon Arm</td>\n",
       "      <td>V2EKamloopsSouth and West</td>\n",
       "      <td>V3ECoquitlamNorth</td>\n",
       "      <td>V4EDeltaEast</td>\n",
       "      <td>V5EBurnaby(Lakeview-Mayfield / Richmond Park /...</td>\n",
       "      <td>V6EVancouver(SE West End / Davie Village)</td>\n",
       "      <td>V7ERichmondSouthwest</td>\n",
       "      <td>V8EWhistler</td>\n",
       "      <td>V9EVictoria(East Highlands / NW Saanich)</td>\n",
       "    </tr>\n",
       "    <tr>\n",
       "      <th>4</th>\n",
       "      <td>V1GDawson Creek</td>\n",
       "      <td>V2GWilliams Lake</td>\n",
       "      <td>V3GAbbotsfordEast</td>\n",
       "      <td>V4GDeltaEast Central</td>\n",
       "      <td>V5GBurnaby(Cascade-Schou / Douglas-Gilpin)</td>\n",
       "      <td>V6GVancouver(NW West End / Stanley Park)</td>\n",
       "      <td>V7GNorth Vancouver (district municipality)Oute...</td>\n",
       "      <td>V8GTerrace</td>\n",
       "      <td>V9GLadysmith</td>\n",
       "    </tr>\n",
       "  </tbody>\n",
       "</table>\n",
       "</div>"
      ],
      "text/plain": [
       "                 0                                 1  \\\n",
       "0     V1AKimberley                      V2APenticton   \n",
       "1    V1BVernonEast              V2BKamloopsNorthwest   \n",
       "2     V1CCranbrook  V2CKamloopsCentral and Southeast   \n",
       "3    V1ESalmon Arm         V2EKamloopsSouth and West   \n",
       "4  V1GDawson Creek                  V2GWilliams Lake   \n",
       "\n",
       "                                   2                     3  \\\n",
       "0  V3ALangley Township(Langley City)    V4ASurreySouthwest   \n",
       "1           V3BPort CoquitlamCentral         V4BWhite Rock   \n",
       "2             V3CPort CoquitlamSouth     V4CDeltaNortheast   \n",
       "3                  V3ECoquitlamNorth          V4EDeltaEast   \n",
       "4                  V3GAbbotsfordEast  V4GDeltaEast Central   \n",
       "\n",
       "                                                   4  \\\n",
       "0  V5ABurnaby(Government Road / Lake City / SFU /...   \n",
       "1    V5BBurnaby(Parkcrest-Aubrey / Ardingley-Sprott)   \n",
       "2  V5CBurnaby(Burnaby Heights / Willingdon Height...   \n",
       "3  V5EBurnaby(Lakeview-Mayfield / Richmond Park /...   \n",
       "4         V5GBurnaby(Cascade-Schou / Douglas-Gilpin)   \n",
       "\n",
       "                                                   5  \\\n",
       "0  V6AVancouver(Strathcona / Chinatown / Downtown...   \n",
       "1  V6BVancouver(NE Downtown / Gastown / Harbour C...   \n",
       "2  V6CVancouver(Waterfront / Coal Harbour / Canad...   \n",
       "3          V6EVancouver(SE West End / Davie Village)   \n",
       "4           V6GVancouver(NW West End / Stanley Park)   \n",
       "\n",
       "                                                   6                7  \\\n",
       "0                                   V7ARichmondSouth  V8APowell River   \n",
       "1                      V7BRichmond(Sea Island / YVR)      V8BSquamish   \n",
       "2                               V7CRichmondNorthwest       V8CKitimat   \n",
       "3                               V7ERichmondSouthwest      V8EWhistler   \n",
       "4  V7GNorth Vancouver (district municipality)Oute...       V8GTerrace   \n",
       "\n",
       "                                                   8  \n",
       "0  V9AVictoria(Vic West / Esquimalt)Canadian Forc...  \n",
       "1  V9BVictoria(West Highlands / North Langford / ...  \n",
       "2  V9CVictoria(Colwood / South Langford / Metchosin)  \n",
       "3           V9EVictoria(East Highlands / NW Saanich)  \n",
       "4                                       V9GLadysmith  "
      ]
     },
     "execution_count": 50,
     "metadata": {},
     "output_type": "execute_result"
    }
   ],
   "source": [
    "# retrieve the URL and create a BeautifulSoup object\n",
    "url = 'https://en.wikipedia.org/wiki/List_of_postal_codes_of_Canada:_V'\n",
    "bc_wiki = requests.get(url)\n",
    "soup = BeautifulSoup(bc_wiki.content, \"lxml\")\n",
    "\n",
    "table = soup.find_all('table')[0]\n",
    "df = pd.read_html(str(table))\n",
    "bc_data = pd.DataFrame(df[0])\n",
    "bc_data.rename(columns={'Postcode': 'PostalCode', 'Borough': 'Borough', 'Neighbourhood': 'Neighborhood'}, inplace=True)\n",
    "print(bc_data.shape)\n",
    "bc_data.head()"
   ]
  },
  {
   "cell_type": "markdown",
   "id": "electric-screen",
   "metadata": {},
   "source": [
    "In this table, each data cell contains a postal code and the city and neighborhood/s it has been assigned to. I will rearrange this data to create a new dataframe with columns named \"PostalCode\", \"City\" and \"Neighborhood\", keeping only Vancouver's postal codes."
   ]
  },
  {
   "cell_type": "code",
   "execution_count": 51,
   "id": "portuguese-trustee",
   "metadata": {},
   "outputs": [],
   "source": [
    "### create one list for each column of bc_data\n",
    "zero = bc_data[0].tolist()\n",
    "one = bc_data[1].tolist()\n",
    "two = bc_data[2].tolist()\n",
    "three = bc_data[3].tolist()\n",
    "four = bc_data[4].tolist()\n",
    "five = bc_data[5].tolist()\n",
    "six = bc_data[6].tolist()\n",
    "seven = bc_data[7].tolist()\n",
    "eight = bc_data[8].tolist()"
   ]
  },
  {
   "cell_type": "code",
   "execution_count": 52,
   "id": "constitutional-michigan",
   "metadata": {},
   "outputs": [
    {
     "data": {
      "text/html": [
       "<div>\n",
       "<style scoped>\n",
       "    .dataframe tbody tr th:only-of-type {\n",
       "        vertical-align: middle;\n",
       "    }\n",
       "\n",
       "    .dataframe tbody tr th {\n",
       "        vertical-align: top;\n",
       "    }\n",
       "\n",
       "    .dataframe thead th {\n",
       "        text-align: right;\n",
       "    }\n",
       "</style>\n",
       "<table border=\"1\" class=\"dataframe\">\n",
       "  <thead>\n",
       "    <tr style=\"text-align: right;\">\n",
       "      <th></th>\n",
       "      <th>0</th>\n",
       "    </tr>\n",
       "  </thead>\n",
       "  <tbody>\n",
       "    <tr>\n",
       "      <th>0</th>\n",
       "      <td>V1AKimberley</td>\n",
       "    </tr>\n",
       "    <tr>\n",
       "      <th>1</th>\n",
       "      <td>V1BVernonEast</td>\n",
       "    </tr>\n",
       "    <tr>\n",
       "      <th>2</th>\n",
       "      <td>V1CCranbrook</td>\n",
       "    </tr>\n",
       "    <tr>\n",
       "      <th>3</th>\n",
       "      <td>V1ESalmon Arm</td>\n",
       "    </tr>\n",
       "    <tr>\n",
       "      <th>4</th>\n",
       "      <td>V1GDawson Creek</td>\n",
       "    </tr>\n",
       "  </tbody>\n",
       "</table>\n",
       "</div>"
      ],
      "text/plain": [
       "                 0\n",
       "0     V1AKimberley\n",
       "1    V1BVernonEast\n",
       "2     V1CCranbrook\n",
       "3    V1ESalmon Arm\n",
       "4  V1GDawson Creek"
      ]
     },
     "execution_count": 52,
     "metadata": {},
     "output_type": "execute_result"
    }
   ],
   "source": [
    "### concatenate all lists and convert to pd.Series\n",
    "bc_series = pd.Series([zero, one, two, three, four, five, six, seven, eight])\n",
    "bc_series = bc_series.sum()\n",
    "### convert Series to DataFrame\n",
    "bc_df = pd.DataFrame(bc_series)\n",
    "bc_df.head()"
   ]
  },
  {
   "cell_type": "code",
   "execution_count": 53,
   "id": "suited-coach",
   "metadata": {},
   "outputs": [
    {
     "data": {
      "text/html": [
       "<div>\n",
       "<style scoped>\n",
       "    .dataframe tbody tr th:only-of-type {\n",
       "        vertical-align: middle;\n",
       "    }\n",
       "\n",
       "    .dataframe tbody tr th {\n",
       "        vertical-align: top;\n",
       "    }\n",
       "\n",
       "    .dataframe thead th {\n",
       "        text-align: right;\n",
       "    }\n",
       "</style>\n",
       "<table border=\"1\" class=\"dataframe\">\n",
       "  <thead>\n",
       "    <tr style=\"text-align: right;\">\n",
       "      <th></th>\n",
       "      <th>0</th>\n",
       "      <th>PostalCode</th>\n",
       "      <th>City-Neighborhood</th>\n",
       "    </tr>\n",
       "  </thead>\n",
       "  <tbody>\n",
       "    <tr>\n",
       "      <th>0</th>\n",
       "      <td>V1AKimberley</td>\n",
       "      <td>V1A</td>\n",
       "      <td>Kimberley</td>\n",
       "    </tr>\n",
       "    <tr>\n",
       "      <th>1</th>\n",
       "      <td>V1BVernonEast</td>\n",
       "      <td>V1B</td>\n",
       "      <td>VernonEast</td>\n",
       "    </tr>\n",
       "    <tr>\n",
       "      <th>2</th>\n",
       "      <td>V1CCranbrook</td>\n",
       "      <td>V1C</td>\n",
       "      <td>Cranbrook</td>\n",
       "    </tr>\n",
       "    <tr>\n",
       "      <th>3</th>\n",
       "      <td>V1ESalmon Arm</td>\n",
       "      <td>V1E</td>\n",
       "      <td>Salmon Arm</td>\n",
       "    </tr>\n",
       "    <tr>\n",
       "      <th>4</th>\n",
       "      <td>V1GDawson Creek</td>\n",
       "      <td>V1G</td>\n",
       "      <td>Dawson Creek</td>\n",
       "    </tr>\n",
       "    <tr>\n",
       "      <th>5</th>\n",
       "      <td>V1HVernonWest</td>\n",
       "      <td>V1H</td>\n",
       "      <td>VernonWest</td>\n",
       "    </tr>\n",
       "    <tr>\n",
       "      <th>6</th>\n",
       "      <td>V1JFort St. John</td>\n",
       "      <td>V1J</td>\n",
       "      <td>Fort St. John</td>\n",
       "    </tr>\n",
       "    <tr>\n",
       "      <th>7</th>\n",
       "      <td>V1KMerritt</td>\n",
       "      <td>V1K</td>\n",
       "      <td>Merritt</td>\n",
       "    </tr>\n",
       "    <tr>\n",
       "      <th>8</th>\n",
       "      <td>V1LNelson</td>\n",
       "      <td>V1L</td>\n",
       "      <td>Nelson</td>\n",
       "    </tr>\n",
       "    <tr>\n",
       "      <th>9</th>\n",
       "      <td>V1MLangley TownshipNorth</td>\n",
       "      <td>V1M</td>\n",
       "      <td>Langley TownshipNorth</td>\n",
       "    </tr>\n",
       "  </tbody>\n",
       "</table>\n",
       "</div>"
      ],
      "text/plain": [
       "                          0 PostalCode      City-Neighborhood\n",
       "0              V1AKimberley        V1A              Kimberley\n",
       "1             V1BVernonEast        V1B             VernonEast\n",
       "2              V1CCranbrook        V1C              Cranbrook\n",
       "3             V1ESalmon Arm        V1E             Salmon Arm\n",
       "4           V1GDawson Creek        V1G           Dawson Creek\n",
       "5             V1HVernonWest        V1H             VernonWest\n",
       "6          V1JFort St. John        V1J          Fort St. John\n",
       "7                V1KMerritt        V1K                Merritt\n",
       "8                 V1LNelson        V1L                 Nelson\n",
       "9  V1MLangley TownshipNorth        V1M  Langley TownshipNorth"
      ]
     },
     "execution_count": 53,
     "metadata": {},
     "output_type": "execute_result"
    }
   ],
   "source": [
    "### split data into 2 columns: PostalCode, City-Neighborhood\n",
    "bc_df['PostalCode'] = bc_df[0].str[:3]\n",
    "bc_df['City-Neighborhood'] = bc_df[0].str[3:]\n",
    "bc_df.head(10)"
   ]
  },
  {
   "cell_type": "code",
   "execution_count": 54,
   "id": "informed-batch",
   "metadata": {},
   "outputs": [
    {
     "name": "stdout",
     "output_type": "stream",
     "text": [
      "(31, 3)\n"
     ]
    },
    {
     "data": {
      "text/html": [
       "<div>\n",
       "<style scoped>\n",
       "    .dataframe tbody tr th:only-of-type {\n",
       "        vertical-align: middle;\n",
       "    }\n",
       "\n",
       "    .dataframe tbody tr th {\n",
       "        vertical-align: top;\n",
       "    }\n",
       "\n",
       "    .dataframe thead th {\n",
       "        text-align: right;\n",
       "    }\n",
       "</style>\n",
       "<table border=\"1\" class=\"dataframe\">\n",
       "  <thead>\n",
       "    <tr style=\"text-align: right;\">\n",
       "      <th></th>\n",
       "      <th>0</th>\n",
       "      <th>PostalCode</th>\n",
       "      <th>City-Neighborhood</th>\n",
       "    </tr>\n",
       "  </thead>\n",
       "  <tbody>\n",
       "    <tr>\n",
       "      <th>87</th>\n",
       "      <td>V5KVancouver(North Hastings-Sunrise)</td>\n",
       "      <td>V5K</td>\n",
       "      <td>Vancouver(North Hastings-Sunrise)</td>\n",
       "    </tr>\n",
       "    <tr>\n",
       "      <th>88</th>\n",
       "      <td>V5LVancouver(North Grandview-Woodland)</td>\n",
       "      <td>V5L</td>\n",
       "      <td>Vancouver(North Grandview-Woodland)</td>\n",
       "    </tr>\n",
       "    <tr>\n",
       "      <th>89</th>\n",
       "      <td>V5MVancouver(South Hastings-Sunrise / North Re...</td>\n",
       "      <td>V5M</td>\n",
       "      <td>Vancouver(South Hastings-Sunrise / North Renfr...</td>\n",
       "    </tr>\n",
       "    <tr>\n",
       "      <th>90</th>\n",
       "      <td>V5NVancouver(South Grandview-Woodland / NE Ken...</td>\n",
       "      <td>V5N</td>\n",
       "      <td>Vancouver(South Grandview-Woodland / NE Kensin...</td>\n",
       "    </tr>\n",
       "    <tr>\n",
       "      <th>91</th>\n",
       "      <td>V5PVancouver(SE Kensington-Cedar Cottage / Vic...</td>\n",
       "      <td>V5P</td>\n",
       "      <td>Vancouver(SE Kensington-Cedar Cottage / Victor...</td>\n",
       "    </tr>\n",
       "  </tbody>\n",
       "</table>\n",
       "</div>"
      ],
      "text/plain": [
       "                                                    0 PostalCode  \\\n",
       "87               V5KVancouver(North Hastings-Sunrise)        V5K   \n",
       "88             V5LVancouver(North Grandview-Woodland)        V5L   \n",
       "89  V5MVancouver(South Hastings-Sunrise / North Re...        V5M   \n",
       "90  V5NVancouver(South Grandview-Woodland / NE Ken...        V5N   \n",
       "91  V5PVancouver(SE Kensington-Cedar Cottage / Vic...        V5P   \n",
       "\n",
       "                                    City-Neighborhood  \n",
       "87                  Vancouver(North Hastings-Sunrise)  \n",
       "88                Vancouver(North Grandview-Woodland)  \n",
       "89  Vancouver(South Hastings-Sunrise / North Renfr...  \n",
       "90  Vancouver(South Grandview-Woodland / NE Kensin...  \n",
       "91  Vancouver(SE Kensington-Cedar Cottage / Victor...  "
      ]
     },
     "execution_count": 54,
     "metadata": {},
     "output_type": "execute_result"
    }
   ],
   "source": [
    "### create a subdf with Vancouver's data only\n",
    "vancouver_df = bc_df[bc_df['City-Neighborhood'].str.startswith('Vancouver')]\n",
    "print(vancouver_df.shape)\n",
    "vancouver_df.head()"
   ]
  },
  {
   "cell_type": "code",
   "execution_count": 55,
   "id": "guided-fashion",
   "metadata": {},
   "outputs": [
    {
     "name": "stderr",
     "output_type": "stream",
     "text": [
      "/home/alina/anaconda3/lib/python3.7/site-packages/pandas/core/frame.py:3188: SettingWithCopyWarning: \n",
      "A value is trying to be set on a copy of a slice from a DataFrame.\n",
      "Try using .loc[row_indexer,col_indexer] = value instead\n",
      "\n",
      "See the caveats in the documentation: https://pandas.pydata.org/pandas-docs/stable/user_guide/indexing.html#returning-a-view-versus-a-copy\n",
      "  self[k1] = value[k2]\n",
      "/home/alina/anaconda3/lib/python3.7/site-packages/ipykernel_launcher.py:4: SettingWithCopyWarning: \n",
      "A value is trying to be set on a copy of a slice from a DataFrame.\n",
      "Try using .loc[row_indexer,col_indexer] = value instead\n",
      "\n",
      "See the caveats in the documentation: https://pandas.pydata.org/pandas-docs/stable/user_guide/indexing.html#returning-a-view-versus-a-copy\n",
      "  after removing the cwd from sys.path.\n",
      "/home/alina/anaconda3/lib/python3.7/site-packages/pandas/core/frame.py:4312: SettingWithCopyWarning: \n",
      "A value is trying to be set on a copy of a slice from a DataFrame\n",
      "\n",
      "See the caveats in the documentation: https://pandas.pydata.org/pandas-docs/stable/user_guide/indexing.html#returning-a-view-versus-a-copy\n",
      "  errors=errors,\n"
     ]
    },
    {
     "data": {
      "text/html": [
       "<div>\n",
       "<style scoped>\n",
       "    .dataframe tbody tr th:only-of-type {\n",
       "        vertical-align: middle;\n",
       "    }\n",
       "\n",
       "    .dataframe tbody tr th {\n",
       "        vertical-align: top;\n",
       "    }\n",
       "\n",
       "    .dataframe thead th {\n",
       "        text-align: right;\n",
       "    }\n",
       "</style>\n",
       "<table border=\"1\" class=\"dataframe\">\n",
       "  <thead>\n",
       "    <tr style=\"text-align: right;\">\n",
       "      <th></th>\n",
       "      <th>PostalCode</th>\n",
       "      <th>City</th>\n",
       "      <th>Neighborhood</th>\n",
       "    </tr>\n",
       "  </thead>\n",
       "  <tbody>\n",
       "    <tr>\n",
       "      <th>87</th>\n",
       "      <td>V5K</td>\n",
       "      <td>Vancouver</td>\n",
       "      <td>North Hastings-Sunrise</td>\n",
       "    </tr>\n",
       "    <tr>\n",
       "      <th>88</th>\n",
       "      <td>V5L</td>\n",
       "      <td>Vancouver</td>\n",
       "      <td>North Grandview-Woodland</td>\n",
       "    </tr>\n",
       "    <tr>\n",
       "      <th>89</th>\n",
       "      <td>V5M</td>\n",
       "      <td>Vancouver</td>\n",
       "      <td>South Hastings-Sunrise / North Renfrew-Colling...</td>\n",
       "    </tr>\n",
       "    <tr>\n",
       "      <th>90</th>\n",
       "      <td>V5N</td>\n",
       "      <td>Vancouver</td>\n",
       "      <td>South Grandview-Woodland / NE Kensington-Cedar...</td>\n",
       "    </tr>\n",
       "    <tr>\n",
       "      <th>91</th>\n",
       "      <td>V5P</td>\n",
       "      <td>Vancouver</td>\n",
       "      <td>SE Kensington-Cedar Cottage / Victoria-Fraserview</td>\n",
       "    </tr>\n",
       "  </tbody>\n",
       "</table>\n",
       "</div>"
      ],
      "text/plain": [
       "   PostalCode       City                                       Neighborhood\n",
       "87        V5K  Vancouver                             North Hastings-Sunrise\n",
       "88        V5L  Vancouver                           North Grandview-Woodland\n",
       "89        V5M  Vancouver  South Hastings-Sunrise / North Renfrew-Colling...\n",
       "90        V5N  Vancouver  South Grandview-Woodland / NE Kensington-Cedar...\n",
       "91        V5P  Vancouver  SE Kensington-Cedar Cottage / Victoria-Fraserview"
      ]
     },
     "execution_count": 55,
     "metadata": {},
     "output_type": "execute_result"
    }
   ],
   "source": [
    "### split City-Neighborhood into 2 columns, named City and Neighborhood\n",
    "vancouver_df[['City', 'Neighborhood']] = vancouver_df['City-Neighborhood'].str.split('(', expand=True)\n",
    "### remove the ending ')' from 'Neighborhood' column\n",
    "vancouver_df['Neighborhood'] = vancouver_df['Neighborhood'].str[:-1]\n",
    "### drop columns with repeated data\n",
    "vancouver_df.drop(columns=[0, 'City-Neighborhood'], inplace=True)\n",
    "vancouver_df.head()"
   ]
  },
  {
   "cell_type": "code",
   "execution_count": 56,
   "id": "informed-bidding",
   "metadata": {},
   "outputs": [],
   "source": [
    "### to avoid problems with SettingWithCopyWarning, I deep copy the df before reseting the index\n",
    "vancouver_data = vancouver_df.copy()\n",
    "vancouver_data.reset_index(drop=True, inplace=True)\n",
    "# vancouver_data @@@@@@@@@@@@@@@@ REMOVE THIS LINE ON THE NEXT RUN"
   ]
  },
  {
   "cell_type": "code",
   "execution_count": 57,
   "id": "instant-istanbul",
   "metadata": {},
   "outputs": [
    {
     "data": {
      "text/html": [
       "<div>\n",
       "<style scoped>\n",
       "    .dataframe tbody tr th:only-of-type {\n",
       "        vertical-align: middle;\n",
       "    }\n",
       "\n",
       "    .dataframe tbody tr th {\n",
       "        vertical-align: top;\n",
       "    }\n",
       "\n",
       "    .dataframe thead th {\n",
       "        text-align: right;\n",
       "    }\n",
       "</style>\n",
       "<table border=\"1\" class=\"dataframe\">\n",
       "  <thead>\n",
       "    <tr style=\"text-align: right;\">\n",
       "      <th></th>\n",
       "      <th>PostalCode</th>\n",
       "      <th>City</th>\n",
       "      <th>Neighborhood</th>\n",
       "    </tr>\n",
       "  </thead>\n",
       "  <tbody>\n",
       "    <tr>\n",
       "      <th>0</th>\n",
       "      <td>V5K</td>\n",
       "      <td>Vancouver</td>\n",
       "      <td>North Hastings-Sunrise</td>\n",
       "    </tr>\n",
       "    <tr>\n",
       "      <th>1</th>\n",
       "      <td>V5L</td>\n",
       "      <td>Vancouver</td>\n",
       "      <td>North Grandview-Woodland</td>\n",
       "    </tr>\n",
       "    <tr>\n",
       "      <th>2</th>\n",
       "      <td>V5M</td>\n",
       "      <td>Vancouver</td>\n",
       "      <td>South Hastings-Sunrise / North Renfrew-Colling...</td>\n",
       "    </tr>\n",
       "    <tr>\n",
       "      <th>3</th>\n",
       "      <td>V5N</td>\n",
       "      <td>Vancouver</td>\n",
       "      <td>South Grandview-Woodland / NE Kensington-Cedar...</td>\n",
       "    </tr>\n",
       "    <tr>\n",
       "      <th>4</th>\n",
       "      <td>V5P</td>\n",
       "      <td>Vancouver</td>\n",
       "      <td>SE Kensington-Cedar Cottage / Victoria-Fraserview</td>\n",
       "    </tr>\n",
       "  </tbody>\n",
       "</table>\n",
       "</div>"
      ],
      "text/plain": [
       "  PostalCode       City                                       Neighborhood\n",
       "0        V5K  Vancouver                             North Hastings-Sunrise\n",
       "1        V5L  Vancouver                           North Grandview-Woodland\n",
       "2        V5M  Vancouver  South Hastings-Sunrise / North Renfrew-Colling...\n",
       "3        V5N  Vancouver  South Grandview-Woodland / NE Kensington-Cedar...\n",
       "4        V5P  Vancouver  SE Kensington-Cedar Cottage / Victoria-Fraserview"
      ]
     },
     "execution_count": 57,
     "metadata": {},
     "output_type": "execute_result"
    }
   ],
   "source": [
    "vancouver_data.head()"
   ]
  },
  {
   "cell_type": "markdown",
   "id": "helpful-pension",
   "metadata": {},
   "source": [
    "Now that I have Vancouver's postal codes and neighborhood names, let's find the coordinates with geocoder:"
   ]
  },
  {
   "cell_type": "code",
   "execution_count": null,
   "id": "sufficient-royalty",
   "metadata": {
    "jupyter": {
     "source_hidden": true
    }
   },
   "outputs": [],
   "source": [
    "11:33 - 11:40"
   ]
  },
  {
   "cell_type": "code",
   "execution_count": null,
   "id": "annoying-basic",
   "metadata": {
    "jupyter": {
     "source_hidden": true
    }
   },
   "outputs": [],
   "source": [
    "# # Sample code from Week 3 >>> @@@@@@@@@@@@@@@@@@@@ REMOVE LATER!!!\n",
    "# import geocoder # import geocoder\n",
    "\n",
    "# # initialize your variable to None\n",
    "# lat_lng_coords = None\n",
    "\n",
    "# # loop until you get the coordinates\n",
    "# while(lat_lng_coords is None):\n",
    "#   g = geocoder.google('{}, Vancouver, BC, Canada'.format('V5K'))\n",
    "#   lat_lng_coords = g.latlng\n",
    "\n",
    "# latitude = lat_lng_coords[0]\n",
    "# longitude = lat_lng_coords[1]\n",
    "# print(latitude, longitude)"
   ]
  },
  {
   "cell_type": "code",
   "execution_count": null,
   "id": "vanilla-cylinder",
   "metadata": {
    "jupyter": {
     "source_hidden": true
    }
   },
   "outputs": [],
   "source": [
    "############ REMOVE LATER????????????\n",
    "from geopy.geocoders import Nominatim # convert an address into latitude and longitude values\n",
    "\n",
    "address = 'Vancouver, BC, Canada'\n",
    "\n",
    "geolocator = Nominatim(user_agent=\"vancouver_explorer\")\n",
    "location = geolocator.geocode(address)\n",
    "latitude = location.latitude\n",
    "longitude = location.longitude\n",
    "print('The geograpical coordinates of the city of Vancouver are {}, {}.'.format(latitude, longitude))"
   ]
  },
  {
   "cell_type": "code",
   "execution_count": 58,
   "id": "selective-belief",
   "metadata": {},
   "outputs": [
    {
     "name": "stdout",
     "output_type": "stream",
     "text": [
      "V5K\n",
      "V5L\n",
      "V5M\n",
      "V5N\n",
      "V5P\n",
      "V5R\n",
      "V5S\n",
      "V5T\n",
      "--- V5T\n",
      "V5V\n",
      "V5W\n",
      "V5X\n",
      "V5Y\n",
      "--- V5Y\n",
      "V5Z\n",
      "V6A\n",
      "V6B\n",
      "V6C\n",
      "V6E\n",
      "V6G\n",
      "V6H\n",
      "V6J\n",
      "V6K\n",
      "V6L\n",
      "V6M\n",
      "V6N\n",
      "V6P\n",
      "V6R\n",
      "V6S\n",
      "--- V6S\n",
      "V6T\n",
      "V6Z\n",
      "V7X\n",
      "V7Y\n",
      "28 28\n"
     ]
    }
   ],
   "source": [
    "from geopy.geocoders import Nominatim # convert an address into latitude and longitude values\n",
    "\n",
    "##### the following lines WORK!\n",
    "# postal_code = 'V5K'\n",
    "\n",
    "# geolocator = Nominatim(user_agent=\"vancouver_explorer\")\n",
    "# location = geolocator.geocode(postal_code)\n",
    "# latitude = location.latitude\n",
    "# longitude = location.longitude\n",
    "# print('The geograpical coordinates of the postal code {} are {}, {}.'.format(postal_code, latitude, longitude))\n",
    "#####\n",
    "\n",
    "lat = []\n",
    "long = []\n",
    "\n",
    "for postal_code in list(vancouver_data['PostalCode']):\n",
    "    print(postal_code)\n",
    "    geolocator = Nominatim(user_agent=\"vancouver_explorer\")\n",
    "    location = geolocator.geocode(postal_code)\n",
    "    try:\n",
    "        lat.append(location.latitude)\n",
    "        long.append(location.longitude)\n",
    "    except AttributeError:\n",
    "        print('---', postal_code)\n",
    "        continue\n",
    "\n",
    "print(len(lat), len(long))"
   ]
  },
  {
   "cell_type": "code",
   "execution_count": 59,
   "id": "particular-genesis",
   "metadata": {},
   "outputs": [
    {
     "name": "stdout",
     "output_type": "stream",
     "text": [
      "Latitude coordinates:  [49.28171754656246, 49.280200918758624, 49.26007804182507, 49.2646254249102, 49.22275092852469, 49.239822993458404, 49.21604993652559, 49.248424877991, 49.23626244835694, 49.21542495297729, 49.25668694119318, 49.27358514239091, 49.27811172378708, 49.287716588954346, 49.28801282544443, 49.3002702, 49.25680023082197, 49.260907082479285, 49.26895274770836, 49.25123526871763, 49.23445241369216, 49.224594327808234, 49.218349248173894, 49.26911800091252, 49.274648, 49.27844786726529, 49.28600408893013, 49.282806433536955] 28\n",
      "Longitude coordinates:  [-123.0400063294856, -123.06656328873324, -123.0401599764032, -123.06586883849849, -123.06756094152627, -123.04080030032974, -123.04095993051983, -123.09060263719377, -123.09288184184227, -123.09779804646165, -123.1211251156331, -123.09942180668273, -123.11959791158985, -123.11519411838533, -123.12108056609158, -123.13779663860902, -123.13313020255173, -123.14578765518688, -123.16501916876759, -123.17444800477642, -123.14541366762147, -123.1686106806456, -123.14992456434537, -123.19719787977779, -123.2735751, -123.12429208190194, -123.11984724657425, -123.11863823416351] 28\n"
     ]
    }
   ],
   "source": [
    "print(\"Latitude coordinates: \", lat, len(lat))\n",
    "print(\"Longitude coordinates: \", long, len(long))"
   ]
  },
  {
   "cell_type": "markdown",
   "id": "sweet-volleyball",
   "metadata": {},
   "source": [
    "For some reason geopy cannot find postal codes V5T, V5Y, V6S, which are assigned to neighborhoods \"East Mount Pleasant\", \"West Mount Pleasant / West Riley Park-Little M...\" and \"NW Dunbar-Southlands / Chaldecutt / South Univ...\" respectively. Since it's only 3 postal codes, I will use Google Maps Search option to find them:"
   ]
  },
  {
   "cell_type": "markdown",
   "id": "prerequisite-thompson",
   "metadata": {},
   "source": [
    "Google Maps search results:\n",
    "\n",
    "- V5T: 49.264724, -123.092574\n",
    "- V5Y: 49.252015, -123.110748\n",
    "- V6S: 49.251210, -123.225418\n",
    "\n",
    "I will insert these values in the 'lat' and 'long' lists, and the create a new dataframe with Vancouver's postal codes coordinates."
   ]
  },
  {
   "cell_type": "code",
   "execution_count": 60,
   "id": "cultural-level",
   "metadata": {},
   "outputs": [
    {
     "name": "stdout",
     "output_type": "stream",
     "text": [
      "28 28\n",
      "49.264724\n",
      "-123.092574\n",
      "49.252015\n",
      "-123.110748\n",
      "49.25121\n",
      "-123.225418\n",
      "31 31\n"
     ]
    }
   ],
   "source": [
    "# get indexes for the 3 postal codes\n",
    "pc_to_insert = ['V5T', 'V5Y', 'V6S']\n",
    "lat_to_insert = [49.264724, 49.252015, 49.251210]\n",
    "long_to_insert = [-123.092574, -123.110748, -123.225418]\n",
    "\n",
    "print(len(lat), len(long))\n",
    "\n",
    "for pc in pc_to_insert:\n",
    "    index = postal_codes.index(pc)\n",
    "    lat.insert(index, lat_to_insert[pc_to_insert.index(pc)])\n",
    "    print(lat_to_insert[pc_to_insert.index(pc)])\n",
    "    long.insert(index, long_to_insert[pc_to_insert.index(pc)])\n",
    "    print(long_to_insert[pc_to_insert.index(pc)])\n",
    "\n",
    "print(len(lat), len(long))"
   ]
  },
  {
   "cell_type": "code",
   "execution_count": null,
   "id": "adolescent-variation",
   "metadata": {},
   "outputs": [],
   "source": []
  },
  {
   "cell_type": "code",
   "execution_count": null,
   "id": "fifteen-implement",
   "metadata": {},
   "outputs": [],
   "source": []
  },
  {
   "cell_type": "markdown",
   "id": "german-daniel",
   "metadata": {},
   "source": [
    "EXPLAIN HOW I FOUND ALL THE GEOLOCATION DATA\n",
    "\n",
    "the geocoder package did not work, no matter what I tried"
   ]
  },
  {
   "cell_type": "code",
   "execution_count": null,
   "id": "asian-pendant",
   "metadata": {},
   "outputs": [],
   "source": [
    "# postal_codes = ['V5K', 'V5L', 'V5M', 'V5N', 'V5P', 'V5R',\n",
    "#                 'V5S', 'V5T', 'V5V', 'V5W', 'V5X', 'V5Y',\n",
    "#                 'V5Z', 'V6A', 'V6B', 'V6C', 'V6E', 'V6G',\n",
    "#                 'V6H', 'V6J', 'V6K', 'V6L', 'V6M', 'V6N',\n",
    "#                 'V6P', 'V6R', 'V6S', 'V6T', 'V6Z', 'V7X', 'V7Y']"
   ]
  },
  {
   "cell_type": "code",
   "execution_count": null,
   "id": "wooden-place",
   "metadata": {},
   "outputs": [],
   "source": [
    "# latitude = [49.28327692992457, 49.27985324214888, 49.2653580677758, 49.25925375085778, 49.23066769612333, 49.24063680490001,\n",
    "#             49.22175399240329, 49.264724451943785, 49.25156523762483, 49.236264461735814, 49.21514467045678, 49.25201526564356,\n",
    "#             49.260879569058794, 49.281138329348636, 49.280718454113824, 49.28727754578737, 49.28422045264578, 49.29092594034838,\n",
    "#             49.25799774050024, 49.262053516608404, 49.26648330869385, 49.25310953498545, 49.23630274346183, 49.2371832176151,\n",
    "#             49.214390822344754, 49.26688560987094, 49.25120988008219, 49.27126808428649, 49.27588523874305, 49.28596658609673, 49.28218206665508]"
   ]
  },
  {
   "cell_type": "code",
   "execution_count": null,
   "id": "static-pressing",
   "metadata": {},
   "outputs": [],
   "source": [
    "# longitude = [-123.04329271829529, -123.06827660204843, -123.04911872950036, -123.072063099059, -123.07184266792716, -123.04175361008751,\n",
    "#              -123.04294548573618, -123.09257386008586, -123.0929621873012, -123.10332776576216, -123.10317812883694, -123.11074779451818,\n",
    "#              -123.1218084558727, -123.09542483761334, -123.1141689234957, -123.1155077625037, -123.13132647887186, -123.14090375789006,\n",
    "#              -123.13176101715264, -123.14929629231642, -123.17318480044347, -123.17428149259355, -123.14714057838971, -123.1857490833099,\n",
    "#              -123.14904062028786, -123.21047318497928, -123.22541802262631, -123.23926940900262, -123.13172470324018, -123.11953099301677, -123.11924656130608]"
   ]
  },
  {
   "cell_type": "code",
   "execution_count": 61,
   "id": "scenic-contents",
   "metadata": {},
   "outputs": [],
   "source": [
    "df = pd.DataFrame(list(zip(list(vancouver_data['PostalCode']), lat, long)), columns=['PostalCode', 'Latitude', 'Longitude'])\n",
    "df.to_csv('Vancouver_coordinates2.csv', index=False)"
   ]
  },
  {
   "cell_type": "code",
   "execution_count": 62,
   "id": "democratic-donna",
   "metadata": {},
   "outputs": [
    {
     "data": {
      "text/html": [
       "<div>\n",
       "<style scoped>\n",
       "    .dataframe tbody tr th:only-of-type {\n",
       "        vertical-align: middle;\n",
       "    }\n",
       "\n",
       "    .dataframe tbody tr th {\n",
       "        vertical-align: top;\n",
       "    }\n",
       "\n",
       "    .dataframe thead th {\n",
       "        text-align: right;\n",
       "    }\n",
       "</style>\n",
       "<table border=\"1\" class=\"dataframe\">\n",
       "  <thead>\n",
       "    <tr style=\"text-align: right;\">\n",
       "      <th></th>\n",
       "      <th>PostalCode</th>\n",
       "      <th>Latitude</th>\n",
       "      <th>Longitude</th>\n",
       "    </tr>\n",
       "  </thead>\n",
       "  <tbody>\n",
       "    <tr>\n",
       "      <th>0</th>\n",
       "      <td>V5K</td>\n",
       "      <td>49.281718</td>\n",
       "      <td>-123.040006</td>\n",
       "    </tr>\n",
       "    <tr>\n",
       "      <th>1</th>\n",
       "      <td>V5L</td>\n",
       "      <td>49.280201</td>\n",
       "      <td>-123.066563</td>\n",
       "    </tr>\n",
       "    <tr>\n",
       "      <th>2</th>\n",
       "      <td>V5M</td>\n",
       "      <td>49.260078</td>\n",
       "      <td>-123.040160</td>\n",
       "    </tr>\n",
       "    <tr>\n",
       "      <th>3</th>\n",
       "      <td>V5N</td>\n",
       "      <td>49.264625</td>\n",
       "      <td>-123.065869</td>\n",
       "    </tr>\n",
       "    <tr>\n",
       "      <th>4</th>\n",
       "      <td>V5P</td>\n",
       "      <td>49.222751</td>\n",
       "      <td>-123.067561</td>\n",
       "    </tr>\n",
       "    <tr>\n",
       "      <th>5</th>\n",
       "      <td>V5R</td>\n",
       "      <td>49.239823</td>\n",
       "      <td>-123.040800</td>\n",
       "    </tr>\n",
       "    <tr>\n",
       "      <th>6</th>\n",
       "      <td>V5S</td>\n",
       "      <td>49.216050</td>\n",
       "      <td>-123.040960</td>\n",
       "    </tr>\n",
       "    <tr>\n",
       "      <th>7</th>\n",
       "      <td>V5T</td>\n",
       "      <td>49.264724</td>\n",
       "      <td>-123.092574</td>\n",
       "    </tr>\n",
       "    <tr>\n",
       "      <th>8</th>\n",
       "      <td>V5V</td>\n",
       "      <td>49.248425</td>\n",
       "      <td>-123.090603</td>\n",
       "    </tr>\n",
       "    <tr>\n",
       "      <th>9</th>\n",
       "      <td>V5W</td>\n",
       "      <td>49.236262</td>\n",
       "      <td>-123.092882</td>\n",
       "    </tr>\n",
       "    <tr>\n",
       "      <th>10</th>\n",
       "      <td>V5X</td>\n",
       "      <td>49.215425</td>\n",
       "      <td>-123.097798</td>\n",
       "    </tr>\n",
       "    <tr>\n",
       "      <th>11</th>\n",
       "      <td>V5Y</td>\n",
       "      <td>49.252015</td>\n",
       "      <td>-123.110748</td>\n",
       "    </tr>\n",
       "    <tr>\n",
       "      <th>12</th>\n",
       "      <td>V5Z</td>\n",
       "      <td>49.256687</td>\n",
       "      <td>-123.121125</td>\n",
       "    </tr>\n",
       "    <tr>\n",
       "      <th>13</th>\n",
       "      <td>V6A</td>\n",
       "      <td>49.273585</td>\n",
       "      <td>-123.099422</td>\n",
       "    </tr>\n",
       "    <tr>\n",
       "      <th>14</th>\n",
       "      <td>V6B</td>\n",
       "      <td>49.278112</td>\n",
       "      <td>-123.119598</td>\n",
       "    </tr>\n",
       "    <tr>\n",
       "      <th>15</th>\n",
       "      <td>V6C</td>\n",
       "      <td>49.287717</td>\n",
       "      <td>-123.115194</td>\n",
       "    </tr>\n",
       "    <tr>\n",
       "      <th>16</th>\n",
       "      <td>V6E</td>\n",
       "      <td>49.288013</td>\n",
       "      <td>-123.121081</td>\n",
       "    </tr>\n",
       "    <tr>\n",
       "      <th>17</th>\n",
       "      <td>V6G</td>\n",
       "      <td>49.300270</td>\n",
       "      <td>-123.137797</td>\n",
       "    </tr>\n",
       "    <tr>\n",
       "      <th>18</th>\n",
       "      <td>V6H</td>\n",
       "      <td>49.256800</td>\n",
       "      <td>-123.133130</td>\n",
       "    </tr>\n",
       "    <tr>\n",
       "      <th>19</th>\n",
       "      <td>V6J</td>\n",
       "      <td>49.260907</td>\n",
       "      <td>-123.145788</td>\n",
       "    </tr>\n",
       "    <tr>\n",
       "      <th>20</th>\n",
       "      <td>V6K</td>\n",
       "      <td>49.268953</td>\n",
       "      <td>-123.165019</td>\n",
       "    </tr>\n",
       "    <tr>\n",
       "      <th>21</th>\n",
       "      <td>V6L</td>\n",
       "      <td>49.251235</td>\n",
       "      <td>-123.174448</td>\n",
       "    </tr>\n",
       "    <tr>\n",
       "      <th>22</th>\n",
       "      <td>V6M</td>\n",
       "      <td>49.234452</td>\n",
       "      <td>-123.145414</td>\n",
       "    </tr>\n",
       "    <tr>\n",
       "      <th>23</th>\n",
       "      <td>V6N</td>\n",
       "      <td>49.224594</td>\n",
       "      <td>-123.168611</td>\n",
       "    </tr>\n",
       "    <tr>\n",
       "      <th>24</th>\n",
       "      <td>V6P</td>\n",
       "      <td>49.218349</td>\n",
       "      <td>-123.149925</td>\n",
       "    </tr>\n",
       "    <tr>\n",
       "      <th>25</th>\n",
       "      <td>V6R</td>\n",
       "      <td>49.269118</td>\n",
       "      <td>-123.197198</td>\n",
       "    </tr>\n",
       "    <tr>\n",
       "      <th>26</th>\n",
       "      <td>V6S</td>\n",
       "      <td>49.251210</td>\n",
       "      <td>-123.225418</td>\n",
       "    </tr>\n",
       "    <tr>\n",
       "      <th>27</th>\n",
       "      <td>V6T</td>\n",
       "      <td>49.274648</td>\n",
       "      <td>-123.273575</td>\n",
       "    </tr>\n",
       "    <tr>\n",
       "      <th>28</th>\n",
       "      <td>V6Z</td>\n",
       "      <td>49.278448</td>\n",
       "      <td>-123.124292</td>\n",
       "    </tr>\n",
       "    <tr>\n",
       "      <th>29</th>\n",
       "      <td>V7X</td>\n",
       "      <td>49.286004</td>\n",
       "      <td>-123.119847</td>\n",
       "    </tr>\n",
       "    <tr>\n",
       "      <th>30</th>\n",
       "      <td>V7Y</td>\n",
       "      <td>49.282806</td>\n",
       "      <td>-123.118638</td>\n",
       "    </tr>\n",
       "  </tbody>\n",
       "</table>\n",
       "</div>"
      ],
      "text/plain": [
       "   PostalCode   Latitude   Longitude\n",
       "0         V5K  49.281718 -123.040006\n",
       "1         V5L  49.280201 -123.066563\n",
       "2         V5M  49.260078 -123.040160\n",
       "3         V5N  49.264625 -123.065869\n",
       "4         V5P  49.222751 -123.067561\n",
       "5         V5R  49.239823 -123.040800\n",
       "6         V5S  49.216050 -123.040960\n",
       "7         V5T  49.264724 -123.092574\n",
       "8         V5V  49.248425 -123.090603\n",
       "9         V5W  49.236262 -123.092882\n",
       "10        V5X  49.215425 -123.097798\n",
       "11        V5Y  49.252015 -123.110748\n",
       "12        V5Z  49.256687 -123.121125\n",
       "13        V6A  49.273585 -123.099422\n",
       "14        V6B  49.278112 -123.119598\n",
       "15        V6C  49.287717 -123.115194\n",
       "16        V6E  49.288013 -123.121081\n",
       "17        V6G  49.300270 -123.137797\n",
       "18        V6H  49.256800 -123.133130\n",
       "19        V6J  49.260907 -123.145788\n",
       "20        V6K  49.268953 -123.165019\n",
       "21        V6L  49.251235 -123.174448\n",
       "22        V6M  49.234452 -123.145414\n",
       "23        V6N  49.224594 -123.168611\n",
       "24        V6P  49.218349 -123.149925\n",
       "25        V6R  49.269118 -123.197198\n",
       "26        V6S  49.251210 -123.225418\n",
       "27        V6T  49.274648 -123.273575\n",
       "28        V6Z  49.278448 -123.124292\n",
       "29        V7X  49.286004 -123.119847\n",
       "30        V7Y  49.282806 -123.118638"
      ]
     },
     "execution_count": 62,
     "metadata": {},
     "output_type": "execute_result"
    }
   ],
   "source": [
    "# create dataframe with coordinates data for Vancouver's neighborhoods\n",
    "vancouver_coord = pd.read_csv('Vancouver_coordinates2.csv')\n",
    "vancouver_coord"
   ]
  },
  {
   "cell_type": "code",
   "execution_count": null,
   "id": "harmful-tomorrow",
   "metadata": {},
   "outputs": [],
   "source": []
  },
  {
   "cell_type": "code",
   "execution_count": 63,
   "id": "hungarian-declaration",
   "metadata": {},
   "outputs": [
    {
     "data": {
      "text/html": [
       "<div>\n",
       "<style scoped>\n",
       "    .dataframe tbody tr th:only-of-type {\n",
       "        vertical-align: middle;\n",
       "    }\n",
       "\n",
       "    .dataframe tbody tr th {\n",
       "        vertical-align: top;\n",
       "    }\n",
       "\n",
       "    .dataframe thead th {\n",
       "        text-align: right;\n",
       "    }\n",
       "</style>\n",
       "<table border=\"1\" class=\"dataframe\">\n",
       "  <thead>\n",
       "    <tr style=\"text-align: right;\">\n",
       "      <th></th>\n",
       "      <th>PostalCode</th>\n",
       "      <th>City</th>\n",
       "      <th>Neighborhood</th>\n",
       "      <th>Latitude</th>\n",
       "      <th>Longitude</th>\n",
       "    </tr>\n",
       "  </thead>\n",
       "  <tbody>\n",
       "    <tr>\n",
       "      <th>0</th>\n",
       "      <td>V5K</td>\n",
       "      <td>Vancouver</td>\n",
       "      <td>North Hastings-Sunrise</td>\n",
       "      <td>49.281718</td>\n",
       "      <td>-123.040006</td>\n",
       "    </tr>\n",
       "    <tr>\n",
       "      <th>1</th>\n",
       "      <td>V5L</td>\n",
       "      <td>Vancouver</td>\n",
       "      <td>North Grandview-Woodland</td>\n",
       "      <td>49.280201</td>\n",
       "      <td>-123.066563</td>\n",
       "    </tr>\n",
       "    <tr>\n",
       "      <th>2</th>\n",
       "      <td>V5M</td>\n",
       "      <td>Vancouver</td>\n",
       "      <td>South Hastings-Sunrise / North Renfrew-Colling...</td>\n",
       "      <td>49.260078</td>\n",
       "      <td>-123.040160</td>\n",
       "    </tr>\n",
       "    <tr>\n",
       "      <th>3</th>\n",
       "      <td>V5N</td>\n",
       "      <td>Vancouver</td>\n",
       "      <td>South Grandview-Woodland / NE Kensington-Cedar...</td>\n",
       "      <td>49.264625</td>\n",
       "      <td>-123.065869</td>\n",
       "    </tr>\n",
       "    <tr>\n",
       "      <th>4</th>\n",
       "      <td>V5P</td>\n",
       "      <td>Vancouver</td>\n",
       "      <td>SE Kensington-Cedar Cottage / Victoria-Fraserview</td>\n",
       "      <td>49.222751</td>\n",
       "      <td>-123.067561</td>\n",
       "    </tr>\n",
       "    <tr>\n",
       "      <th>5</th>\n",
       "      <td>V5R</td>\n",
       "      <td>Vancouver</td>\n",
       "      <td>South Renfrew-Collingwood</td>\n",
       "      <td>49.239823</td>\n",
       "      <td>-123.040800</td>\n",
       "    </tr>\n",
       "    <tr>\n",
       "      <th>6</th>\n",
       "      <td>V5S</td>\n",
       "      <td>Vancouver</td>\n",
       "      <td>Killarney</td>\n",
       "      <td>49.216050</td>\n",
       "      <td>-123.040960</td>\n",
       "    </tr>\n",
       "    <tr>\n",
       "      <th>7</th>\n",
       "      <td>V5T</td>\n",
       "      <td>Vancouver</td>\n",
       "      <td>East Mount Pleasant</td>\n",
       "      <td>49.264724</td>\n",
       "      <td>-123.092574</td>\n",
       "    </tr>\n",
       "    <tr>\n",
       "      <th>8</th>\n",
       "      <td>V5V</td>\n",
       "      <td>Vancouver</td>\n",
       "      <td>West Kensington-Cedar Cottage / NE Riley Park-...</td>\n",
       "      <td>49.248425</td>\n",
       "      <td>-123.090603</td>\n",
       "    </tr>\n",
       "    <tr>\n",
       "      <th>9</th>\n",
       "      <td>V5W</td>\n",
       "      <td>Vancouver</td>\n",
       "      <td>SE Riley Park-Little Mountain / SW Kensington-...</td>\n",
       "      <td>49.236262</td>\n",
       "      <td>-123.092882</td>\n",
       "    </tr>\n",
       "    <tr>\n",
       "      <th>10</th>\n",
       "      <td>V5X</td>\n",
       "      <td>Vancouver</td>\n",
       "      <td>SE Oakridge / East Marpole / South Sunset</td>\n",
       "      <td>49.215425</td>\n",
       "      <td>-123.097798</td>\n",
       "    </tr>\n",
       "    <tr>\n",
       "      <th>11</th>\n",
       "      <td>V5Y</td>\n",
       "      <td>Vancouver</td>\n",
       "      <td>West Mount Pleasant / West Riley Park-Little M...</td>\n",
       "      <td>49.252015</td>\n",
       "      <td>-123.110748</td>\n",
       "    </tr>\n",
       "    <tr>\n",
       "      <th>12</th>\n",
       "      <td>V5Z</td>\n",
       "      <td>Vancouver</td>\n",
       "      <td>East Fairview / South Cambie</td>\n",
       "      <td>49.256687</td>\n",
       "      <td>-123.121125</td>\n",
       "    </tr>\n",
       "    <tr>\n",
       "      <th>13</th>\n",
       "      <td>V6A</td>\n",
       "      <td>Vancouver</td>\n",
       "      <td>Strathcona / Chinatown / Downtown Eastside</td>\n",
       "      <td>49.273585</td>\n",
       "      <td>-123.099422</td>\n",
       "    </tr>\n",
       "    <tr>\n",
       "      <th>14</th>\n",
       "      <td>V6B</td>\n",
       "      <td>Vancouver</td>\n",
       "      <td>NE Downtown / Gastown / Harbour Centre / Inter...</td>\n",
       "      <td>49.278112</td>\n",
       "      <td>-123.119598</td>\n",
       "    </tr>\n",
       "    <tr>\n",
       "      <th>15</th>\n",
       "      <td>V6C</td>\n",
       "      <td>Vancouver</td>\n",
       "      <td>Waterfront / Coal Harbour / Canada Place</td>\n",
       "      <td>49.287717</td>\n",
       "      <td>-123.115194</td>\n",
       "    </tr>\n",
       "    <tr>\n",
       "      <th>16</th>\n",
       "      <td>V6E</td>\n",
       "      <td>Vancouver</td>\n",
       "      <td>SE West End / Davie Village</td>\n",
       "      <td>49.288013</td>\n",
       "      <td>-123.121081</td>\n",
       "    </tr>\n",
       "    <tr>\n",
       "      <th>17</th>\n",
       "      <td>V6G</td>\n",
       "      <td>Vancouver</td>\n",
       "      <td>NW West End / Stanley Park</td>\n",
       "      <td>49.300270</td>\n",
       "      <td>-123.137797</td>\n",
       "    </tr>\n",
       "    <tr>\n",
       "      <th>18</th>\n",
       "      <td>V6H</td>\n",
       "      <td>Vancouver</td>\n",
       "      <td>West Fairview / Granville Island / NE Shaughnessy</td>\n",
       "      <td>49.256800</td>\n",
       "      <td>-123.133130</td>\n",
       "    </tr>\n",
       "    <tr>\n",
       "      <th>19</th>\n",
       "      <td>V6J</td>\n",
       "      <td>Vancouver</td>\n",
       "      <td>NW Shaughnessy / East Kitsilano / Quilchena</td>\n",
       "      <td>49.260907</td>\n",
       "      <td>-123.145788</td>\n",
       "    </tr>\n",
       "    <tr>\n",
       "      <th>20</th>\n",
       "      <td>V6K</td>\n",
       "      <td>Vancouver</td>\n",
       "      <td>Central Kitsilano / Greektown</td>\n",
       "      <td>49.268953</td>\n",
       "      <td>-123.165019</td>\n",
       "    </tr>\n",
       "    <tr>\n",
       "      <th>21</th>\n",
       "      <td>V6L</td>\n",
       "      <td>Vancouver</td>\n",
       "      <td>NW Arbutus Ridge / NE Dunbar-Southlands</td>\n",
       "      <td>49.251235</td>\n",
       "      <td>-123.174448</td>\n",
       "    </tr>\n",
       "    <tr>\n",
       "      <th>22</th>\n",
       "      <td>V6M</td>\n",
       "      <td>Vancouver</td>\n",
       "      <td>South Shaughnessy / NW Oakridge / NE Kerrisdal...</td>\n",
       "      <td>49.234452</td>\n",
       "      <td>-123.145414</td>\n",
       "    </tr>\n",
       "    <tr>\n",
       "      <th>23</th>\n",
       "      <td>V6N</td>\n",
       "      <td>Vancouver</td>\n",
       "      <td>West Kerrisdale / South Dunbar-Southlands / Mu...</td>\n",
       "      <td>49.224594</td>\n",
       "      <td>-123.168611</td>\n",
       "    </tr>\n",
       "    <tr>\n",
       "      <th>24</th>\n",
       "      <td>V6P</td>\n",
       "      <td>Vancouver</td>\n",
       "      <td>SE Kerrisdale / SW Oakridge / West Marpole</td>\n",
       "      <td>49.218349</td>\n",
       "      <td>-123.149925</td>\n",
       "    </tr>\n",
       "    <tr>\n",
       "      <th>25</th>\n",
       "      <td>V6R</td>\n",
       "      <td>Vancouver</td>\n",
       "      <td>West Kitsilano / West Point Grey / Jericho</td>\n",
       "      <td>49.269118</td>\n",
       "      <td>-123.197198</td>\n",
       "    </tr>\n",
       "    <tr>\n",
       "      <th>26</th>\n",
       "      <td>V6S</td>\n",
       "      <td>Vancouver</td>\n",
       "      <td>NW Dunbar-Southlands / Chaldecutt / South Univ...</td>\n",
       "      <td>49.251210</td>\n",
       "      <td>-123.225418</td>\n",
       "    </tr>\n",
       "    <tr>\n",
       "      <th>27</th>\n",
       "      <td>V6T</td>\n",
       "      <td>Vancouver</td>\n",
       "      <td>UBC</td>\n",
       "      <td>49.274648</td>\n",
       "      <td>-123.273575</td>\n",
       "    </tr>\n",
       "    <tr>\n",
       "      <th>28</th>\n",
       "      <td>V6Z</td>\n",
       "      <td>Vancouver</td>\n",
       "      <td>SW Downtown</td>\n",
       "      <td>49.278448</td>\n",
       "      <td>-123.124292</td>\n",
       "    </tr>\n",
       "    <tr>\n",
       "      <th>29</th>\n",
       "      <td>V7X</td>\n",
       "      <td>Vancouver</td>\n",
       "      <td>Bentall Centre</td>\n",
       "      <td>49.286004</td>\n",
       "      <td>-123.119847</td>\n",
       "    </tr>\n",
       "    <tr>\n",
       "      <th>30</th>\n",
       "      <td>V7Y</td>\n",
       "      <td>Vancouver</td>\n",
       "      <td>Pacific Centre</td>\n",
       "      <td>49.282806</td>\n",
       "      <td>-123.118638</td>\n",
       "    </tr>\n",
       "  </tbody>\n",
       "</table>\n",
       "</div>"
      ],
      "text/plain": [
       "   PostalCode       City                                       Neighborhood  \\\n",
       "0         V5K  Vancouver                             North Hastings-Sunrise   \n",
       "1         V5L  Vancouver                           North Grandview-Woodland   \n",
       "2         V5M  Vancouver  South Hastings-Sunrise / North Renfrew-Colling...   \n",
       "3         V5N  Vancouver  South Grandview-Woodland / NE Kensington-Cedar...   \n",
       "4         V5P  Vancouver  SE Kensington-Cedar Cottage / Victoria-Fraserview   \n",
       "5         V5R  Vancouver                          South Renfrew-Collingwood   \n",
       "6         V5S  Vancouver                                          Killarney   \n",
       "7         V5T  Vancouver                                East Mount Pleasant   \n",
       "8         V5V  Vancouver  West Kensington-Cedar Cottage / NE Riley Park-...   \n",
       "9         V5W  Vancouver  SE Riley Park-Little Mountain / SW Kensington-...   \n",
       "10        V5X  Vancouver          SE Oakridge / East Marpole / South Sunset   \n",
       "11        V5Y  Vancouver  West Mount Pleasant / West Riley Park-Little M...   \n",
       "12        V5Z  Vancouver                       East Fairview / South Cambie   \n",
       "13        V6A  Vancouver         Strathcona / Chinatown / Downtown Eastside   \n",
       "14        V6B  Vancouver  NE Downtown / Gastown / Harbour Centre / Inter...   \n",
       "15        V6C  Vancouver           Waterfront / Coal Harbour / Canada Place   \n",
       "16        V6E  Vancouver                        SE West End / Davie Village   \n",
       "17        V6G  Vancouver                         NW West End / Stanley Park   \n",
       "18        V6H  Vancouver  West Fairview / Granville Island / NE Shaughnessy   \n",
       "19        V6J  Vancouver        NW Shaughnessy / East Kitsilano / Quilchena   \n",
       "20        V6K  Vancouver                      Central Kitsilano / Greektown   \n",
       "21        V6L  Vancouver            NW Arbutus Ridge / NE Dunbar-Southlands   \n",
       "22        V6M  Vancouver  South Shaughnessy / NW Oakridge / NE Kerrisdal...   \n",
       "23        V6N  Vancouver  West Kerrisdale / South Dunbar-Southlands / Mu...   \n",
       "24        V6P  Vancouver         SE Kerrisdale / SW Oakridge / West Marpole   \n",
       "25        V6R  Vancouver         West Kitsilano / West Point Grey / Jericho   \n",
       "26        V6S  Vancouver  NW Dunbar-Southlands / Chaldecutt / South Univ...   \n",
       "27        V6T  Vancouver                                                UBC   \n",
       "28        V6Z  Vancouver                                        SW Downtown   \n",
       "29        V7X  Vancouver                                     Bentall Centre   \n",
       "30        V7Y  Vancouver                                     Pacific Centre   \n",
       "\n",
       "     Latitude   Longitude  \n",
       "0   49.281718 -123.040006  \n",
       "1   49.280201 -123.066563  \n",
       "2   49.260078 -123.040160  \n",
       "3   49.264625 -123.065869  \n",
       "4   49.222751 -123.067561  \n",
       "5   49.239823 -123.040800  \n",
       "6   49.216050 -123.040960  \n",
       "7   49.264724 -123.092574  \n",
       "8   49.248425 -123.090603  \n",
       "9   49.236262 -123.092882  \n",
       "10  49.215425 -123.097798  \n",
       "11  49.252015 -123.110748  \n",
       "12  49.256687 -123.121125  \n",
       "13  49.273585 -123.099422  \n",
       "14  49.278112 -123.119598  \n",
       "15  49.287717 -123.115194  \n",
       "16  49.288013 -123.121081  \n",
       "17  49.300270 -123.137797  \n",
       "18  49.256800 -123.133130  \n",
       "19  49.260907 -123.145788  \n",
       "20  49.268953 -123.165019  \n",
       "21  49.251235 -123.174448  \n",
       "22  49.234452 -123.145414  \n",
       "23  49.224594 -123.168611  \n",
       "24  49.218349 -123.149925  \n",
       "25  49.269118 -123.197198  \n",
       "26  49.251210 -123.225418  \n",
       "27  49.274648 -123.273575  \n",
       "28  49.278448 -123.124292  \n",
       "29  49.286004 -123.119847  \n",
       "30  49.282806 -123.118638  "
      ]
     },
     "execution_count": 63,
     "metadata": {},
     "output_type": "execute_result"
    }
   ],
   "source": [
    "# merge dataframes\n",
    "neighborhoods = vancouver_data.merge(vancouver_coord, how='inner', on='PostalCode')\n",
    "neighborhoods"
   ]
  },
  {
   "cell_type": "code",
   "execution_count": 65,
   "id": "disturbed-discrimination",
   "metadata": {},
   "outputs": [
    {
     "name": "stdout",
     "output_type": "stream",
     "text": [
      "The geograpical coordinates of the city of Vancouver are 49.2608724, -123.1139529.\n"
     ]
    }
   ],
   "source": [
    "from geopy.geocoders import Nominatim # convert an address into latitude and longitude values\n",
    "\n",
    "address = 'Vancouver, BC, Canada'\n",
    "\n",
    "geolocator = Nominatim(user_agent=\"vancouver_explorer\")\n",
    "location = geolocator.geocode(address)\n",
    "latitude = location.latitude\n",
    "longitude = location.longitude\n",
    "print('The geograpical coordinates of the city of Vancouver are {}, {}.'.format(latitude, longitude))"
   ]
  },
  {
   "cell_type": "code",
   "execution_count": 66,
   "id": "stopped-republic",
   "metadata": {},
   "outputs": [
    {
     "name": "stdout",
     "output_type": "stream",
     "text": [
      "The dataframe has 31 postal codes.\n"
     ]
    }
   ],
   "source": [
    "print('The dataframe has {} postal codes.'.format(len(neighborhoods['Neighborhood'].unique()))) # @@@@@@@@@@@@@@@@@@@@@@"
   ]
  },
  {
   "cell_type": "code",
   "execution_count": 68,
   "id": "continuous-aluminum",
   "metadata": {},
   "outputs": [
    {
     "data": {
      "text/html": [
       "<div style=\"width:100%;\"><div style=\"position:relative;width:100%;height:0;padding-bottom:60%;\"><span style=\"color:#565656\">Make this Notebook Trusted to load map: File -> Trust Notebook</span><iframe src=\"about:blank\" style=\"position:absolute;width:100%;height:100%;left:0;top:0;border:none !important;\" data-html=%3C%21DOCTYPE%20html%3E%0A%3Chead%3E%20%20%20%20%0A%20%20%20%20%3Cmeta%20http-equiv%3D%22content-type%22%20content%3D%22text/html%3B%20charset%3DUTF-8%22%20/%3E%0A%20%20%20%20%0A%20%20%20%20%20%20%20%20%3Cscript%3E%0A%20%20%20%20%20%20%20%20%20%20%20%20L_NO_TOUCH%20%3D%20false%3B%0A%20%20%20%20%20%20%20%20%20%20%20%20L_DISABLE_3D%20%3D%20false%3B%0A%20%20%20%20%20%20%20%20%3C/script%3E%0A%20%20%20%20%0A%20%20%20%20%3Cstyle%3Ehtml%2C%20body%20%7Bwidth%3A%20100%25%3Bheight%3A%20100%25%3Bmargin%3A%200%3Bpadding%3A%200%3B%7D%3C/style%3E%0A%20%20%20%20%3Cstyle%3E%23map%20%7Bposition%3Aabsolute%3Btop%3A0%3Bbottom%3A0%3Bright%3A0%3Bleft%3A0%3B%7D%3C/style%3E%0A%20%20%20%20%3Cscript%20src%3D%22https%3A//cdn.jsdelivr.net/npm/leaflet%401.6.0/dist/leaflet.js%22%3E%3C/script%3E%0A%20%20%20%20%3Cscript%20src%3D%22https%3A//code.jquery.com/jquery-1.12.4.min.js%22%3E%3C/script%3E%0A%20%20%20%20%3Cscript%20src%3D%22https%3A//maxcdn.bootstrapcdn.com/bootstrap/3.2.0/js/bootstrap.min.js%22%3E%3C/script%3E%0A%20%20%20%20%3Cscript%20src%3D%22https%3A//cdnjs.cloudflare.com/ajax/libs/Leaflet.awesome-markers/2.0.2/leaflet.awesome-markers.js%22%3E%3C/script%3E%0A%20%20%20%20%3Clink%20rel%3D%22stylesheet%22%20href%3D%22https%3A//cdn.jsdelivr.net/npm/leaflet%401.6.0/dist/leaflet.css%22/%3E%0A%20%20%20%20%3Clink%20rel%3D%22stylesheet%22%20href%3D%22https%3A//maxcdn.bootstrapcdn.com/bootstrap/3.2.0/css/bootstrap.min.css%22/%3E%0A%20%20%20%20%3Clink%20rel%3D%22stylesheet%22%20href%3D%22https%3A//maxcdn.bootstrapcdn.com/bootstrap/3.2.0/css/bootstrap-theme.min.css%22/%3E%0A%20%20%20%20%3Clink%20rel%3D%22stylesheet%22%20href%3D%22https%3A//maxcdn.bootstrapcdn.com/font-awesome/4.6.3/css/font-awesome.min.css%22/%3E%0A%20%20%20%20%3Clink%20rel%3D%22stylesheet%22%20href%3D%22https%3A//cdnjs.cloudflare.com/ajax/libs/Leaflet.awesome-markers/2.0.2/leaflet.awesome-markers.css%22/%3E%0A%20%20%20%20%3Clink%20rel%3D%22stylesheet%22%20href%3D%22https%3A//cdn.jsdelivr.net/gh/python-visualization/folium/folium/templates/leaflet.awesome.rotate.min.css%22/%3E%0A%20%20%20%20%0A%20%20%20%20%20%20%20%20%20%20%20%20%3Cmeta%20name%3D%22viewport%22%20content%3D%22width%3Ddevice-width%2C%0A%20%20%20%20%20%20%20%20%20%20%20%20%20%20%20%20initial-scale%3D1.0%2C%20maximum-scale%3D1.0%2C%20user-scalable%3Dno%22%20/%3E%0A%20%20%20%20%20%20%20%20%20%20%20%20%3Cstyle%3E%0A%20%20%20%20%20%20%20%20%20%20%20%20%20%20%20%20%23map_7a1a50e149d447529762eb1830b08119%20%7B%0A%20%20%20%20%20%20%20%20%20%20%20%20%20%20%20%20%20%20%20%20position%3A%20relative%3B%0A%20%20%20%20%20%20%20%20%20%20%20%20%20%20%20%20%20%20%20%20width%3A%20100.0%25%3B%0A%20%20%20%20%20%20%20%20%20%20%20%20%20%20%20%20%20%20%20%20height%3A%20100.0%25%3B%0A%20%20%20%20%20%20%20%20%20%20%20%20%20%20%20%20%20%20%20%20left%3A%200.0%25%3B%0A%20%20%20%20%20%20%20%20%20%20%20%20%20%20%20%20%20%20%20%20top%3A%200.0%25%3B%0A%20%20%20%20%20%20%20%20%20%20%20%20%20%20%20%20%7D%0A%20%20%20%20%20%20%20%20%20%20%20%20%3C/style%3E%0A%20%20%20%20%20%20%20%20%0A%3C/head%3E%0A%3Cbody%3E%20%20%20%20%0A%20%20%20%20%0A%20%20%20%20%20%20%20%20%20%20%20%20%3Cdiv%20class%3D%22folium-map%22%20id%3D%22map_7a1a50e149d447529762eb1830b08119%22%20%3E%3C/div%3E%0A%20%20%20%20%20%20%20%20%0A%3C/body%3E%0A%3Cscript%3E%20%20%20%20%0A%20%20%20%20%0A%20%20%20%20%20%20%20%20%20%20%20%20var%20map_7a1a50e149d447529762eb1830b08119%20%3D%20L.map%28%0A%20%20%20%20%20%20%20%20%20%20%20%20%20%20%20%20%22map_7a1a50e149d447529762eb1830b08119%22%2C%0A%20%20%20%20%20%20%20%20%20%20%20%20%20%20%20%20%7B%0A%20%20%20%20%20%20%20%20%20%20%20%20%20%20%20%20%20%20%20%20center%3A%20%5B49.2608724%2C%20-123.1139529%5D%2C%0A%20%20%20%20%20%20%20%20%20%20%20%20%20%20%20%20%20%20%20%20crs%3A%20L.CRS.EPSG3857%2C%0A%20%20%20%20%20%20%20%20%20%20%20%20%20%20%20%20%20%20%20%20zoom%3A%2012%2C%0A%20%20%20%20%20%20%20%20%20%20%20%20%20%20%20%20%20%20%20%20zoomControl%3A%20true%2C%0A%20%20%20%20%20%20%20%20%20%20%20%20%20%20%20%20%20%20%20%20preferCanvas%3A%20false%2C%0A%20%20%20%20%20%20%20%20%20%20%20%20%20%20%20%20%7D%0A%20%20%20%20%20%20%20%20%20%20%20%20%29%3B%0A%0A%20%20%20%20%20%20%20%20%20%20%20%20%0A%0A%20%20%20%20%20%20%20%20%0A%20%20%20%20%0A%20%20%20%20%20%20%20%20%20%20%20%20var%20tile_layer_6ac2c74b9209497794c8b42d71954287%20%3D%20L.tileLayer%28%0A%20%20%20%20%20%20%20%20%20%20%20%20%20%20%20%20%22https%3A//%7Bs%7D.tile.openstreetmap.org/%7Bz%7D/%7Bx%7D/%7By%7D.png%22%2C%0A%20%20%20%20%20%20%20%20%20%20%20%20%20%20%20%20%7B%22attribution%22%3A%20%22Data%20by%20%5Cu0026copy%3B%20%5Cu003ca%20href%3D%5C%22http%3A//openstreetmap.org%5C%22%5Cu003eOpenStreetMap%5Cu003c/a%5Cu003e%2C%20under%20%5Cu003ca%20href%3D%5C%22http%3A//www.openstreetmap.org/copyright%5C%22%5Cu003eODbL%5Cu003c/a%5Cu003e.%22%2C%20%22detectRetina%22%3A%20false%2C%20%22maxNativeZoom%22%3A%2018%2C%20%22maxZoom%22%3A%2018%2C%20%22minZoom%22%3A%200%2C%20%22noWrap%22%3A%20false%2C%20%22opacity%22%3A%201%2C%20%22subdomains%22%3A%20%22abc%22%2C%20%22tms%22%3A%20false%7D%0A%20%20%20%20%20%20%20%20%20%20%20%20%29.addTo%28map_7a1a50e149d447529762eb1830b08119%29%3B%0A%20%20%20%20%20%20%20%20%0A%20%20%20%20%0A%20%20%20%20%20%20%20%20%20%20%20%20var%20circle_marker_139c56cc8a2949cea48421e55dc6aaeb%20%3D%20L.circleMarker%28%0A%20%20%20%20%20%20%20%20%20%20%20%20%20%20%20%20%5B49.28171754656246%2C%20-123.0400063294856%5D%2C%0A%20%20%20%20%20%20%20%20%20%20%20%20%20%20%20%20%7B%22bubblingMouseEvents%22%3A%20true%2C%20%22color%22%3A%20%22green%22%2C%20%22dashArray%22%3A%20null%2C%20%22dashOffset%22%3A%20null%2C%20%22fill%22%3A%20true%2C%20%22fillColor%22%3A%20%22lightgreen%22%2C%20%22fillOpacity%22%3A%200.7%2C%20%22fillRule%22%3A%20%22evenodd%22%2C%20%22lineCap%22%3A%20%22round%22%2C%20%22lineJoin%22%3A%20%22round%22%2C%20%22opacity%22%3A%201.0%2C%20%22radius%22%3A%205%2C%20%22stroke%22%3A%20true%2C%20%22weight%22%3A%203%7D%0A%20%20%20%20%20%20%20%20%20%20%20%20%29.addTo%28map_7a1a50e149d447529762eb1830b08119%29%3B%0A%20%20%20%20%20%20%20%20%0A%20%20%20%20%0A%20%20%20%20%20%20%20%20var%20popup_a7c42a6e62d1478cb77802a235c04d51%20%3D%20L.popup%28%7B%22maxWidth%22%3A%20%22100%25%22%7D%29%3B%0A%0A%20%20%20%20%20%20%20%20%0A%20%20%20%20%20%20%20%20%20%20%20%20var%20html_fa3c43b2d4884cb896f77b79153c7440%20%3D%20%24%28%60%3Cdiv%20id%3D%22html_fa3c43b2d4884cb896f77b79153c7440%22%20style%3D%22width%3A%20100.0%25%3B%20height%3A%20100.0%25%3B%22%3ENorth%20Hastings-Sunrise%3C/div%3E%60%29%5B0%5D%3B%0A%20%20%20%20%20%20%20%20%20%20%20%20popup_a7c42a6e62d1478cb77802a235c04d51.setContent%28html_fa3c43b2d4884cb896f77b79153c7440%29%3B%0A%20%20%20%20%20%20%20%20%0A%0A%20%20%20%20%20%20%20%20circle_marker_139c56cc8a2949cea48421e55dc6aaeb.bindPopup%28popup_a7c42a6e62d1478cb77802a235c04d51%29%0A%20%20%20%20%20%20%20%20%3B%0A%0A%20%20%20%20%20%20%20%20%0A%20%20%20%20%0A%20%20%20%20%0A%20%20%20%20%20%20%20%20%20%20%20%20var%20circle_marker_6e77b236c75c48cba7171f0e9b7fdef7%20%3D%20L.circleMarker%28%0A%20%20%20%20%20%20%20%20%20%20%20%20%20%20%20%20%5B49.280200918758624%2C%20-123.06656328873324%5D%2C%0A%20%20%20%20%20%20%20%20%20%20%20%20%20%20%20%20%7B%22bubblingMouseEvents%22%3A%20true%2C%20%22color%22%3A%20%22green%22%2C%20%22dashArray%22%3A%20null%2C%20%22dashOffset%22%3A%20null%2C%20%22fill%22%3A%20true%2C%20%22fillColor%22%3A%20%22lightgreen%22%2C%20%22fillOpacity%22%3A%200.7%2C%20%22fillRule%22%3A%20%22evenodd%22%2C%20%22lineCap%22%3A%20%22round%22%2C%20%22lineJoin%22%3A%20%22round%22%2C%20%22opacity%22%3A%201.0%2C%20%22radius%22%3A%205%2C%20%22stroke%22%3A%20true%2C%20%22weight%22%3A%203%7D%0A%20%20%20%20%20%20%20%20%20%20%20%20%29.addTo%28map_7a1a50e149d447529762eb1830b08119%29%3B%0A%20%20%20%20%20%20%20%20%0A%20%20%20%20%0A%20%20%20%20%20%20%20%20var%20popup_7a2b63e107724ee780b8922dc363dc67%20%3D%20L.popup%28%7B%22maxWidth%22%3A%20%22100%25%22%7D%29%3B%0A%0A%20%20%20%20%20%20%20%20%0A%20%20%20%20%20%20%20%20%20%20%20%20var%20html_381955f9aa354bc8a1122a12038b3016%20%3D%20%24%28%60%3Cdiv%20id%3D%22html_381955f9aa354bc8a1122a12038b3016%22%20style%3D%22width%3A%20100.0%25%3B%20height%3A%20100.0%25%3B%22%3ENorth%20Grandview-Woodland%3C/div%3E%60%29%5B0%5D%3B%0A%20%20%20%20%20%20%20%20%20%20%20%20popup_7a2b63e107724ee780b8922dc363dc67.setContent%28html_381955f9aa354bc8a1122a12038b3016%29%3B%0A%20%20%20%20%20%20%20%20%0A%0A%20%20%20%20%20%20%20%20circle_marker_6e77b236c75c48cba7171f0e9b7fdef7.bindPopup%28popup_7a2b63e107724ee780b8922dc363dc67%29%0A%20%20%20%20%20%20%20%20%3B%0A%0A%20%20%20%20%20%20%20%20%0A%20%20%20%20%0A%20%20%20%20%0A%20%20%20%20%20%20%20%20%20%20%20%20var%20circle_marker_7fda1f59a4ab4b36b4ad6379d5d67777%20%3D%20L.circleMarker%28%0A%20%20%20%20%20%20%20%20%20%20%20%20%20%20%20%20%5B49.26007804182507%2C%20-123.0401599764032%5D%2C%0A%20%20%20%20%20%20%20%20%20%20%20%20%20%20%20%20%7B%22bubblingMouseEvents%22%3A%20true%2C%20%22color%22%3A%20%22green%22%2C%20%22dashArray%22%3A%20null%2C%20%22dashOffset%22%3A%20null%2C%20%22fill%22%3A%20true%2C%20%22fillColor%22%3A%20%22lightgreen%22%2C%20%22fillOpacity%22%3A%200.7%2C%20%22fillRule%22%3A%20%22evenodd%22%2C%20%22lineCap%22%3A%20%22round%22%2C%20%22lineJoin%22%3A%20%22round%22%2C%20%22opacity%22%3A%201.0%2C%20%22radius%22%3A%205%2C%20%22stroke%22%3A%20true%2C%20%22weight%22%3A%203%7D%0A%20%20%20%20%20%20%20%20%20%20%20%20%29.addTo%28map_7a1a50e149d447529762eb1830b08119%29%3B%0A%20%20%20%20%20%20%20%20%0A%20%20%20%20%0A%20%20%20%20%20%20%20%20var%20popup_d0ce6f4783c949f89bcc165a4b451562%20%3D%20L.popup%28%7B%22maxWidth%22%3A%20%22100%25%22%7D%29%3B%0A%0A%20%20%20%20%20%20%20%20%0A%20%20%20%20%20%20%20%20%20%20%20%20var%20html_3c01aa14fdd647dab859dcb89b2e0c29%20%3D%20%24%28%60%3Cdiv%20id%3D%22html_3c01aa14fdd647dab859dcb89b2e0c29%22%20style%3D%22width%3A%20100.0%25%3B%20height%3A%20100.0%25%3B%22%3ESouth%20Hastings-Sunrise%20/%20North%20Renfrew-Collingwood%3C/div%3E%60%29%5B0%5D%3B%0A%20%20%20%20%20%20%20%20%20%20%20%20popup_d0ce6f4783c949f89bcc165a4b451562.setContent%28html_3c01aa14fdd647dab859dcb89b2e0c29%29%3B%0A%20%20%20%20%20%20%20%20%0A%0A%20%20%20%20%20%20%20%20circle_marker_7fda1f59a4ab4b36b4ad6379d5d67777.bindPopup%28popup_d0ce6f4783c949f89bcc165a4b451562%29%0A%20%20%20%20%20%20%20%20%3B%0A%0A%20%20%20%20%20%20%20%20%0A%20%20%20%20%0A%20%20%20%20%0A%20%20%20%20%20%20%20%20%20%20%20%20var%20circle_marker_368bb1bb9f204a3f95bbd287d58f83ff%20%3D%20L.circleMarker%28%0A%20%20%20%20%20%20%20%20%20%20%20%20%20%20%20%20%5B49.2646254249102%2C%20-123.06586883849847%5D%2C%0A%20%20%20%20%20%20%20%20%20%20%20%20%20%20%20%20%7B%22bubblingMouseEvents%22%3A%20true%2C%20%22color%22%3A%20%22green%22%2C%20%22dashArray%22%3A%20null%2C%20%22dashOffset%22%3A%20null%2C%20%22fill%22%3A%20true%2C%20%22fillColor%22%3A%20%22lightgreen%22%2C%20%22fillOpacity%22%3A%200.7%2C%20%22fillRule%22%3A%20%22evenodd%22%2C%20%22lineCap%22%3A%20%22round%22%2C%20%22lineJoin%22%3A%20%22round%22%2C%20%22opacity%22%3A%201.0%2C%20%22radius%22%3A%205%2C%20%22stroke%22%3A%20true%2C%20%22weight%22%3A%203%7D%0A%20%20%20%20%20%20%20%20%20%20%20%20%29.addTo%28map_7a1a50e149d447529762eb1830b08119%29%3B%0A%20%20%20%20%20%20%20%20%0A%20%20%20%20%0A%20%20%20%20%20%20%20%20var%20popup_dc7a70eb2c9c45b8917e1410c0eef870%20%3D%20L.popup%28%7B%22maxWidth%22%3A%20%22100%25%22%7D%29%3B%0A%0A%20%20%20%20%20%20%20%20%0A%20%20%20%20%20%20%20%20%20%20%20%20var%20html_cf1d68567bcf42598842c0e8a0dab01e%20%3D%20%24%28%60%3Cdiv%20id%3D%22html_cf1d68567bcf42598842c0e8a0dab01e%22%20style%3D%22width%3A%20100.0%25%3B%20height%3A%20100.0%25%3B%22%3ESouth%20Grandview-Woodland%20/%20NE%20Kensington-Cedar%20Cottage%3C/div%3E%60%29%5B0%5D%3B%0A%20%20%20%20%20%20%20%20%20%20%20%20popup_dc7a70eb2c9c45b8917e1410c0eef870.setContent%28html_cf1d68567bcf42598842c0e8a0dab01e%29%3B%0A%20%20%20%20%20%20%20%20%0A%0A%20%20%20%20%20%20%20%20circle_marker_368bb1bb9f204a3f95bbd287d58f83ff.bindPopup%28popup_dc7a70eb2c9c45b8917e1410c0eef870%29%0A%20%20%20%20%20%20%20%20%3B%0A%0A%20%20%20%20%20%20%20%20%0A%20%20%20%20%0A%20%20%20%20%0A%20%20%20%20%20%20%20%20%20%20%20%20var%20circle_marker_2e58fb94a8384808b77f3b3ad59b8670%20%3D%20L.circleMarker%28%0A%20%20%20%20%20%20%20%20%20%20%20%20%20%20%20%20%5B49.22275092852469%2C%20-123.06756094152628%5D%2C%0A%20%20%20%20%20%20%20%20%20%20%20%20%20%20%20%20%7B%22bubblingMouseEvents%22%3A%20true%2C%20%22color%22%3A%20%22green%22%2C%20%22dashArray%22%3A%20null%2C%20%22dashOffset%22%3A%20null%2C%20%22fill%22%3A%20true%2C%20%22fillColor%22%3A%20%22lightgreen%22%2C%20%22fillOpacity%22%3A%200.7%2C%20%22fillRule%22%3A%20%22evenodd%22%2C%20%22lineCap%22%3A%20%22round%22%2C%20%22lineJoin%22%3A%20%22round%22%2C%20%22opacity%22%3A%201.0%2C%20%22radius%22%3A%205%2C%20%22stroke%22%3A%20true%2C%20%22weight%22%3A%203%7D%0A%20%20%20%20%20%20%20%20%20%20%20%20%29.addTo%28map_7a1a50e149d447529762eb1830b08119%29%3B%0A%20%20%20%20%20%20%20%20%0A%20%20%20%20%0A%20%20%20%20%20%20%20%20var%20popup_5241a1c8e264493c8cc26b4316d96763%20%3D%20L.popup%28%7B%22maxWidth%22%3A%20%22100%25%22%7D%29%3B%0A%0A%20%20%20%20%20%20%20%20%0A%20%20%20%20%20%20%20%20%20%20%20%20var%20html_8e46d0a2b74042aaa5c33829b7d5796d%20%3D%20%24%28%60%3Cdiv%20id%3D%22html_8e46d0a2b74042aaa5c33829b7d5796d%22%20style%3D%22width%3A%20100.0%25%3B%20height%3A%20100.0%25%3B%22%3ESE%20Kensington-Cedar%20Cottage%20/%20Victoria-Fraserview%3C/div%3E%60%29%5B0%5D%3B%0A%20%20%20%20%20%20%20%20%20%20%20%20popup_5241a1c8e264493c8cc26b4316d96763.setContent%28html_8e46d0a2b74042aaa5c33829b7d5796d%29%3B%0A%20%20%20%20%20%20%20%20%0A%0A%20%20%20%20%20%20%20%20circle_marker_2e58fb94a8384808b77f3b3ad59b8670.bindPopup%28popup_5241a1c8e264493c8cc26b4316d96763%29%0A%20%20%20%20%20%20%20%20%3B%0A%0A%20%20%20%20%20%20%20%20%0A%20%20%20%20%0A%20%20%20%20%0A%20%20%20%20%20%20%20%20%20%20%20%20var%20circle_marker_75937f0da3b541269346d8d9699406f2%20%3D%20L.circleMarker%28%0A%20%20%20%20%20%20%20%20%20%20%20%20%20%20%20%20%5B49.2398229934584%2C%20-123.04080030032974%5D%2C%0A%20%20%20%20%20%20%20%20%20%20%20%20%20%20%20%20%7B%22bubblingMouseEvents%22%3A%20true%2C%20%22color%22%3A%20%22green%22%2C%20%22dashArray%22%3A%20null%2C%20%22dashOffset%22%3A%20null%2C%20%22fill%22%3A%20true%2C%20%22fillColor%22%3A%20%22lightgreen%22%2C%20%22fillOpacity%22%3A%200.7%2C%20%22fillRule%22%3A%20%22evenodd%22%2C%20%22lineCap%22%3A%20%22round%22%2C%20%22lineJoin%22%3A%20%22round%22%2C%20%22opacity%22%3A%201.0%2C%20%22radius%22%3A%205%2C%20%22stroke%22%3A%20true%2C%20%22weight%22%3A%203%7D%0A%20%20%20%20%20%20%20%20%20%20%20%20%29.addTo%28map_7a1a50e149d447529762eb1830b08119%29%3B%0A%20%20%20%20%20%20%20%20%0A%20%20%20%20%0A%20%20%20%20%20%20%20%20var%20popup_16b2fcf690ef485197a349b60977a584%20%3D%20L.popup%28%7B%22maxWidth%22%3A%20%22100%25%22%7D%29%3B%0A%0A%20%20%20%20%20%20%20%20%0A%20%20%20%20%20%20%20%20%20%20%20%20var%20html_12bd645ec4c64ca595321cf0c8f082b5%20%3D%20%24%28%60%3Cdiv%20id%3D%22html_12bd645ec4c64ca595321cf0c8f082b5%22%20style%3D%22width%3A%20100.0%25%3B%20height%3A%20100.0%25%3B%22%3ESouth%20Renfrew-Collingwood%3C/div%3E%60%29%5B0%5D%3B%0A%20%20%20%20%20%20%20%20%20%20%20%20popup_16b2fcf690ef485197a349b60977a584.setContent%28html_12bd645ec4c64ca595321cf0c8f082b5%29%3B%0A%20%20%20%20%20%20%20%20%0A%0A%20%20%20%20%20%20%20%20circle_marker_75937f0da3b541269346d8d9699406f2.bindPopup%28popup_16b2fcf690ef485197a349b60977a584%29%0A%20%20%20%20%20%20%20%20%3B%0A%0A%20%20%20%20%20%20%20%20%0A%20%20%20%20%0A%20%20%20%20%0A%20%20%20%20%20%20%20%20%20%20%20%20var%20circle_marker_0f446e7787784d8c9ba73954c1b5b017%20%3D%20L.circleMarker%28%0A%20%20%20%20%20%20%20%20%20%20%20%20%20%20%20%20%5B49.21604993652559%2C%20-123.04095993051985%5D%2C%0A%20%20%20%20%20%20%20%20%20%20%20%20%20%20%20%20%7B%22bubblingMouseEvents%22%3A%20true%2C%20%22color%22%3A%20%22green%22%2C%20%22dashArray%22%3A%20null%2C%20%22dashOffset%22%3A%20null%2C%20%22fill%22%3A%20true%2C%20%22fillColor%22%3A%20%22lightgreen%22%2C%20%22fillOpacity%22%3A%200.7%2C%20%22fillRule%22%3A%20%22evenodd%22%2C%20%22lineCap%22%3A%20%22round%22%2C%20%22lineJoin%22%3A%20%22round%22%2C%20%22opacity%22%3A%201.0%2C%20%22radius%22%3A%205%2C%20%22stroke%22%3A%20true%2C%20%22weight%22%3A%203%7D%0A%20%20%20%20%20%20%20%20%20%20%20%20%29.addTo%28map_7a1a50e149d447529762eb1830b08119%29%3B%0A%20%20%20%20%20%20%20%20%0A%20%20%20%20%0A%20%20%20%20%20%20%20%20var%20popup_566d6af98f3544048c89c8072fb5018f%20%3D%20L.popup%28%7B%22maxWidth%22%3A%20%22100%25%22%7D%29%3B%0A%0A%20%20%20%20%20%20%20%20%0A%20%20%20%20%20%20%20%20%20%20%20%20var%20html_8f9d4a232d514c0fbbf87be179f261c0%20%3D%20%24%28%60%3Cdiv%20id%3D%22html_8f9d4a232d514c0fbbf87be179f261c0%22%20style%3D%22width%3A%20100.0%25%3B%20height%3A%20100.0%25%3B%22%3EKillarney%3C/div%3E%60%29%5B0%5D%3B%0A%20%20%20%20%20%20%20%20%20%20%20%20popup_566d6af98f3544048c89c8072fb5018f.setContent%28html_8f9d4a232d514c0fbbf87be179f261c0%29%3B%0A%20%20%20%20%20%20%20%20%0A%0A%20%20%20%20%20%20%20%20circle_marker_0f446e7787784d8c9ba73954c1b5b017.bindPopup%28popup_566d6af98f3544048c89c8072fb5018f%29%0A%20%20%20%20%20%20%20%20%3B%0A%0A%20%20%20%20%20%20%20%20%0A%20%20%20%20%0A%20%20%20%20%0A%20%20%20%20%20%20%20%20%20%20%20%20var%20circle_marker_1c278db3249947819949f38de40599ba%20%3D%20L.circleMarker%28%0A%20%20%20%20%20%20%20%20%20%20%20%20%20%20%20%20%5B49.264724%2C%20-123.092574%5D%2C%0A%20%20%20%20%20%20%20%20%20%20%20%20%20%20%20%20%7B%22bubblingMouseEvents%22%3A%20true%2C%20%22color%22%3A%20%22green%22%2C%20%22dashArray%22%3A%20null%2C%20%22dashOffset%22%3A%20null%2C%20%22fill%22%3A%20true%2C%20%22fillColor%22%3A%20%22lightgreen%22%2C%20%22fillOpacity%22%3A%200.7%2C%20%22fillRule%22%3A%20%22evenodd%22%2C%20%22lineCap%22%3A%20%22round%22%2C%20%22lineJoin%22%3A%20%22round%22%2C%20%22opacity%22%3A%201.0%2C%20%22radius%22%3A%205%2C%20%22stroke%22%3A%20true%2C%20%22weight%22%3A%203%7D%0A%20%20%20%20%20%20%20%20%20%20%20%20%29.addTo%28map_7a1a50e149d447529762eb1830b08119%29%3B%0A%20%20%20%20%20%20%20%20%0A%20%20%20%20%0A%20%20%20%20%20%20%20%20var%20popup_f62f9191630d4ff6b093b1ef4833eaff%20%3D%20L.popup%28%7B%22maxWidth%22%3A%20%22100%25%22%7D%29%3B%0A%0A%20%20%20%20%20%20%20%20%0A%20%20%20%20%20%20%20%20%20%20%20%20var%20html_aa4ed146485b4cc5b4b8b0fb02cdc171%20%3D%20%24%28%60%3Cdiv%20id%3D%22html_aa4ed146485b4cc5b4b8b0fb02cdc171%22%20style%3D%22width%3A%20100.0%25%3B%20height%3A%20100.0%25%3B%22%3EEast%20Mount%20Pleasant%3C/div%3E%60%29%5B0%5D%3B%0A%20%20%20%20%20%20%20%20%20%20%20%20popup_f62f9191630d4ff6b093b1ef4833eaff.setContent%28html_aa4ed146485b4cc5b4b8b0fb02cdc171%29%3B%0A%20%20%20%20%20%20%20%20%0A%0A%20%20%20%20%20%20%20%20circle_marker_1c278db3249947819949f38de40599ba.bindPopup%28popup_f62f9191630d4ff6b093b1ef4833eaff%29%0A%20%20%20%20%20%20%20%20%3B%0A%0A%20%20%20%20%20%20%20%20%0A%20%20%20%20%0A%20%20%20%20%0A%20%20%20%20%20%20%20%20%20%20%20%20var%20circle_marker_6586c46de6ee48aa8a4a501b9e2efefa%20%3D%20L.circleMarker%28%0A%20%20%20%20%20%20%20%20%20%20%20%20%20%20%20%20%5B49.248424877991%2C%20-123.09060263719375%5D%2C%0A%20%20%20%20%20%20%20%20%20%20%20%20%20%20%20%20%7B%22bubblingMouseEvents%22%3A%20true%2C%20%22color%22%3A%20%22green%22%2C%20%22dashArray%22%3A%20null%2C%20%22dashOffset%22%3A%20null%2C%20%22fill%22%3A%20true%2C%20%22fillColor%22%3A%20%22lightgreen%22%2C%20%22fillOpacity%22%3A%200.7%2C%20%22fillRule%22%3A%20%22evenodd%22%2C%20%22lineCap%22%3A%20%22round%22%2C%20%22lineJoin%22%3A%20%22round%22%2C%20%22opacity%22%3A%201.0%2C%20%22radius%22%3A%205%2C%20%22stroke%22%3A%20true%2C%20%22weight%22%3A%203%7D%0A%20%20%20%20%20%20%20%20%20%20%20%20%29.addTo%28map_7a1a50e149d447529762eb1830b08119%29%3B%0A%20%20%20%20%20%20%20%20%0A%20%20%20%20%0A%20%20%20%20%20%20%20%20var%20popup_2140584bf11d4ad6ab87129040b6796a%20%3D%20L.popup%28%7B%22maxWidth%22%3A%20%22100%25%22%7D%29%3B%0A%0A%20%20%20%20%20%20%20%20%0A%20%20%20%20%20%20%20%20%20%20%20%20var%20html_57d03141d477497f9b27086e323c3ca7%20%3D%20%24%28%60%3Cdiv%20id%3D%22html_57d03141d477497f9b27086e323c3ca7%22%20style%3D%22width%3A%20100.0%25%3B%20height%3A%20100.0%25%3B%22%3EWest%20Kensington-Cedar%20Cottage%20/%20NE%20Riley%20Park-Little%20Mountain%3C/div%3E%60%29%5B0%5D%3B%0A%20%20%20%20%20%20%20%20%20%20%20%20popup_2140584bf11d4ad6ab87129040b6796a.setContent%28html_57d03141d477497f9b27086e323c3ca7%29%3B%0A%20%20%20%20%20%20%20%20%0A%0A%20%20%20%20%20%20%20%20circle_marker_6586c46de6ee48aa8a4a501b9e2efefa.bindPopup%28popup_2140584bf11d4ad6ab87129040b6796a%29%0A%20%20%20%20%20%20%20%20%3B%0A%0A%20%20%20%20%20%20%20%20%0A%20%20%20%20%0A%20%20%20%20%0A%20%20%20%20%20%20%20%20%20%20%20%20var%20circle_marker_355359008a474c1fb3e6ea17b1d5e98c%20%3D%20L.circleMarker%28%0A%20%20%20%20%20%20%20%20%20%20%20%20%20%20%20%20%5B49.23626244835694%2C%20-123.09288184184228%5D%2C%0A%20%20%20%20%20%20%20%20%20%20%20%20%20%20%20%20%7B%22bubblingMouseEvents%22%3A%20true%2C%20%22color%22%3A%20%22green%22%2C%20%22dashArray%22%3A%20null%2C%20%22dashOffset%22%3A%20null%2C%20%22fill%22%3A%20true%2C%20%22fillColor%22%3A%20%22lightgreen%22%2C%20%22fillOpacity%22%3A%200.7%2C%20%22fillRule%22%3A%20%22evenodd%22%2C%20%22lineCap%22%3A%20%22round%22%2C%20%22lineJoin%22%3A%20%22round%22%2C%20%22opacity%22%3A%201.0%2C%20%22radius%22%3A%205%2C%20%22stroke%22%3A%20true%2C%20%22weight%22%3A%203%7D%0A%20%20%20%20%20%20%20%20%20%20%20%20%29.addTo%28map_7a1a50e149d447529762eb1830b08119%29%3B%0A%20%20%20%20%20%20%20%20%0A%20%20%20%20%0A%20%20%20%20%20%20%20%20var%20popup_849e08177437476794ad22080b9d6301%20%3D%20L.popup%28%7B%22maxWidth%22%3A%20%22100%25%22%7D%29%3B%0A%0A%20%20%20%20%20%20%20%20%0A%20%20%20%20%20%20%20%20%20%20%20%20var%20html_af1849c683744814a0153d5afb697a80%20%3D%20%24%28%60%3Cdiv%20id%3D%22html_af1849c683744814a0153d5afb697a80%22%20style%3D%22width%3A%20100.0%25%3B%20height%3A%20100.0%25%3B%22%3ESE%20Riley%20Park-Little%20Mountain%20/%20SW%20Kensington-Cedar%20Cottage%20/%20NE%20Oakridge%20/%20North%20Sunset%3C/div%3E%60%29%5B0%5D%3B%0A%20%20%20%20%20%20%20%20%20%20%20%20popup_849e08177437476794ad22080b9d6301.setContent%28html_af1849c683744814a0153d5afb697a80%29%3B%0A%20%20%20%20%20%20%20%20%0A%0A%20%20%20%20%20%20%20%20circle_marker_355359008a474c1fb3e6ea17b1d5e98c.bindPopup%28popup_849e08177437476794ad22080b9d6301%29%0A%20%20%20%20%20%20%20%20%3B%0A%0A%20%20%20%20%20%20%20%20%0A%20%20%20%20%0A%20%20%20%20%0A%20%20%20%20%20%20%20%20%20%20%20%20var%20circle_marker_3e0065b1106d42ef97c93f6d47c95f2f%20%3D%20L.circleMarker%28%0A%20%20%20%20%20%20%20%20%20%20%20%20%20%20%20%20%5B49.21542495297729%2C%20-123.09779804646163%5D%2C%0A%20%20%20%20%20%20%20%20%20%20%20%20%20%20%20%20%7B%22bubblingMouseEvents%22%3A%20true%2C%20%22color%22%3A%20%22green%22%2C%20%22dashArray%22%3A%20null%2C%20%22dashOffset%22%3A%20null%2C%20%22fill%22%3A%20true%2C%20%22fillColor%22%3A%20%22lightgreen%22%2C%20%22fillOpacity%22%3A%200.7%2C%20%22fillRule%22%3A%20%22evenodd%22%2C%20%22lineCap%22%3A%20%22round%22%2C%20%22lineJoin%22%3A%20%22round%22%2C%20%22opacity%22%3A%201.0%2C%20%22radius%22%3A%205%2C%20%22stroke%22%3A%20true%2C%20%22weight%22%3A%203%7D%0A%20%20%20%20%20%20%20%20%20%20%20%20%29.addTo%28map_7a1a50e149d447529762eb1830b08119%29%3B%0A%20%20%20%20%20%20%20%20%0A%20%20%20%20%0A%20%20%20%20%20%20%20%20var%20popup_96f9faa9c9414f1089e4509259d6374f%20%3D%20L.popup%28%7B%22maxWidth%22%3A%20%22100%25%22%7D%29%3B%0A%0A%20%20%20%20%20%20%20%20%0A%20%20%20%20%20%20%20%20%20%20%20%20var%20html_44edb1288502417aa1628901ff641783%20%3D%20%24%28%60%3Cdiv%20id%3D%22html_44edb1288502417aa1628901ff641783%22%20style%3D%22width%3A%20100.0%25%3B%20height%3A%20100.0%25%3B%22%3ESE%20Oakridge%20/%20East%20Marpole%20/%20South%20Sunset%3C/div%3E%60%29%5B0%5D%3B%0A%20%20%20%20%20%20%20%20%20%20%20%20popup_96f9faa9c9414f1089e4509259d6374f.setContent%28html_44edb1288502417aa1628901ff641783%29%3B%0A%20%20%20%20%20%20%20%20%0A%0A%20%20%20%20%20%20%20%20circle_marker_3e0065b1106d42ef97c93f6d47c95f2f.bindPopup%28popup_96f9faa9c9414f1089e4509259d6374f%29%0A%20%20%20%20%20%20%20%20%3B%0A%0A%20%20%20%20%20%20%20%20%0A%20%20%20%20%0A%20%20%20%20%0A%20%20%20%20%20%20%20%20%20%20%20%20var%20circle_marker_a9427f05927e4c22a89035fde58baacf%20%3D%20L.circleMarker%28%0A%20%20%20%20%20%20%20%20%20%20%20%20%20%20%20%20%5B49.252015%2C%20-123.110748%5D%2C%0A%20%20%20%20%20%20%20%20%20%20%20%20%20%20%20%20%7B%22bubblingMouseEvents%22%3A%20true%2C%20%22color%22%3A%20%22green%22%2C%20%22dashArray%22%3A%20null%2C%20%22dashOffset%22%3A%20null%2C%20%22fill%22%3A%20true%2C%20%22fillColor%22%3A%20%22lightgreen%22%2C%20%22fillOpacity%22%3A%200.7%2C%20%22fillRule%22%3A%20%22evenodd%22%2C%20%22lineCap%22%3A%20%22round%22%2C%20%22lineJoin%22%3A%20%22round%22%2C%20%22opacity%22%3A%201.0%2C%20%22radius%22%3A%205%2C%20%22stroke%22%3A%20true%2C%20%22weight%22%3A%203%7D%0A%20%20%20%20%20%20%20%20%20%20%20%20%29.addTo%28map_7a1a50e149d447529762eb1830b08119%29%3B%0A%20%20%20%20%20%20%20%20%0A%20%20%20%20%0A%20%20%20%20%20%20%20%20var%20popup_01c2ce1344304f82998f82a250f39b39%20%3D%20L.popup%28%7B%22maxWidth%22%3A%20%22100%25%22%7D%29%3B%0A%0A%20%20%20%20%20%20%20%20%0A%20%20%20%20%20%20%20%20%20%20%20%20var%20html_537b1293b7f44f0e82b32efc42ac0dc0%20%3D%20%24%28%60%3Cdiv%20id%3D%22html_537b1293b7f44f0e82b32efc42ac0dc0%22%20style%3D%22width%3A%20100.0%25%3B%20height%3A%20100.0%25%3B%22%3EWest%20Mount%20Pleasant%20/%20West%20Riley%20Park-Little%20Mountain%3C/div%3E%60%29%5B0%5D%3B%0A%20%20%20%20%20%20%20%20%20%20%20%20popup_01c2ce1344304f82998f82a250f39b39.setContent%28html_537b1293b7f44f0e82b32efc42ac0dc0%29%3B%0A%20%20%20%20%20%20%20%20%0A%0A%20%20%20%20%20%20%20%20circle_marker_a9427f05927e4c22a89035fde58baacf.bindPopup%28popup_01c2ce1344304f82998f82a250f39b39%29%0A%20%20%20%20%20%20%20%20%3B%0A%0A%20%20%20%20%20%20%20%20%0A%20%20%20%20%0A%20%20%20%20%0A%20%20%20%20%20%20%20%20%20%20%20%20var%20circle_marker_c6be8cd5572c4466ac5b053883c74156%20%3D%20L.circleMarker%28%0A%20%20%20%20%20%20%20%20%20%20%20%20%20%20%20%20%5B49.25668694119318%2C%20-123.1211251156331%5D%2C%0A%20%20%20%20%20%20%20%20%20%20%20%20%20%20%20%20%7B%22bubblingMouseEvents%22%3A%20true%2C%20%22color%22%3A%20%22green%22%2C%20%22dashArray%22%3A%20null%2C%20%22dashOffset%22%3A%20null%2C%20%22fill%22%3A%20true%2C%20%22fillColor%22%3A%20%22lightgreen%22%2C%20%22fillOpacity%22%3A%200.7%2C%20%22fillRule%22%3A%20%22evenodd%22%2C%20%22lineCap%22%3A%20%22round%22%2C%20%22lineJoin%22%3A%20%22round%22%2C%20%22opacity%22%3A%201.0%2C%20%22radius%22%3A%205%2C%20%22stroke%22%3A%20true%2C%20%22weight%22%3A%203%7D%0A%20%20%20%20%20%20%20%20%20%20%20%20%29.addTo%28map_7a1a50e149d447529762eb1830b08119%29%3B%0A%20%20%20%20%20%20%20%20%0A%20%20%20%20%0A%20%20%20%20%20%20%20%20var%20popup_d40d284ae709461f968676221b2d5dff%20%3D%20L.popup%28%7B%22maxWidth%22%3A%20%22100%25%22%7D%29%3B%0A%0A%20%20%20%20%20%20%20%20%0A%20%20%20%20%20%20%20%20%20%20%20%20var%20html_c80c8923b4ad4765be32764108fd9a42%20%3D%20%24%28%60%3Cdiv%20id%3D%22html_c80c8923b4ad4765be32764108fd9a42%22%20style%3D%22width%3A%20100.0%25%3B%20height%3A%20100.0%25%3B%22%3EEast%20Fairview%20/%20South%20Cambie%3C/div%3E%60%29%5B0%5D%3B%0A%20%20%20%20%20%20%20%20%20%20%20%20popup_d40d284ae709461f968676221b2d5dff.setContent%28html_c80c8923b4ad4765be32764108fd9a42%29%3B%0A%20%20%20%20%20%20%20%20%0A%0A%20%20%20%20%20%20%20%20circle_marker_c6be8cd5572c4466ac5b053883c74156.bindPopup%28popup_d40d284ae709461f968676221b2d5dff%29%0A%20%20%20%20%20%20%20%20%3B%0A%0A%20%20%20%20%20%20%20%20%0A%20%20%20%20%0A%20%20%20%20%0A%20%20%20%20%20%20%20%20%20%20%20%20var%20circle_marker_208a886fdd934e578d0f7f284aea23d1%20%3D%20L.circleMarker%28%0A%20%20%20%20%20%20%20%20%20%20%20%20%20%20%20%20%5B49.27358514239091%2C%20-123.09942180668271%5D%2C%0A%20%20%20%20%20%20%20%20%20%20%20%20%20%20%20%20%7B%22bubblingMouseEvents%22%3A%20true%2C%20%22color%22%3A%20%22green%22%2C%20%22dashArray%22%3A%20null%2C%20%22dashOffset%22%3A%20null%2C%20%22fill%22%3A%20true%2C%20%22fillColor%22%3A%20%22lightgreen%22%2C%20%22fillOpacity%22%3A%200.7%2C%20%22fillRule%22%3A%20%22evenodd%22%2C%20%22lineCap%22%3A%20%22round%22%2C%20%22lineJoin%22%3A%20%22round%22%2C%20%22opacity%22%3A%201.0%2C%20%22radius%22%3A%205%2C%20%22stroke%22%3A%20true%2C%20%22weight%22%3A%203%7D%0A%20%20%20%20%20%20%20%20%20%20%20%20%29.addTo%28map_7a1a50e149d447529762eb1830b08119%29%3B%0A%20%20%20%20%20%20%20%20%0A%20%20%20%20%0A%20%20%20%20%20%20%20%20var%20popup_2bd7aa3402364e57b40ce834b910ce43%20%3D%20L.popup%28%7B%22maxWidth%22%3A%20%22100%25%22%7D%29%3B%0A%0A%20%20%20%20%20%20%20%20%0A%20%20%20%20%20%20%20%20%20%20%20%20var%20html_ed4a18c97a394b688966873b2fe66342%20%3D%20%24%28%60%3Cdiv%20id%3D%22html_ed4a18c97a394b688966873b2fe66342%22%20style%3D%22width%3A%20100.0%25%3B%20height%3A%20100.0%25%3B%22%3EStrathcona%20/%20Chinatown%20/%20Downtown%20Eastside%3C/div%3E%60%29%5B0%5D%3B%0A%20%20%20%20%20%20%20%20%20%20%20%20popup_2bd7aa3402364e57b40ce834b910ce43.setContent%28html_ed4a18c97a394b688966873b2fe66342%29%3B%0A%20%20%20%20%20%20%20%20%0A%0A%20%20%20%20%20%20%20%20circle_marker_208a886fdd934e578d0f7f284aea23d1.bindPopup%28popup_2bd7aa3402364e57b40ce834b910ce43%29%0A%20%20%20%20%20%20%20%20%3B%0A%0A%20%20%20%20%20%20%20%20%0A%20%20%20%20%0A%20%20%20%20%0A%20%20%20%20%20%20%20%20%20%20%20%20var%20circle_marker_25dea77394a14b7094f51bc32d9f30d8%20%3D%20L.circleMarker%28%0A%20%20%20%20%20%20%20%20%20%20%20%20%20%20%20%20%5B49.27811172378708%2C%20-123.11959791158984%5D%2C%0A%20%20%20%20%20%20%20%20%20%20%20%20%20%20%20%20%7B%22bubblingMouseEvents%22%3A%20true%2C%20%22color%22%3A%20%22green%22%2C%20%22dashArray%22%3A%20null%2C%20%22dashOffset%22%3A%20null%2C%20%22fill%22%3A%20true%2C%20%22fillColor%22%3A%20%22lightgreen%22%2C%20%22fillOpacity%22%3A%200.7%2C%20%22fillRule%22%3A%20%22evenodd%22%2C%20%22lineCap%22%3A%20%22round%22%2C%20%22lineJoin%22%3A%20%22round%22%2C%20%22opacity%22%3A%201.0%2C%20%22radius%22%3A%205%2C%20%22stroke%22%3A%20true%2C%20%22weight%22%3A%203%7D%0A%20%20%20%20%20%20%20%20%20%20%20%20%29.addTo%28map_7a1a50e149d447529762eb1830b08119%29%3B%0A%20%20%20%20%20%20%20%20%0A%20%20%20%20%0A%20%20%20%20%20%20%20%20var%20popup_5ca1f6bada1c413397a50c08a65d792f%20%3D%20L.popup%28%7B%22maxWidth%22%3A%20%22100%25%22%7D%29%3B%0A%0A%20%20%20%20%20%20%20%20%0A%20%20%20%20%20%20%20%20%20%20%20%20var%20html_c4332aebc0fb4671bb6e03993a0f7331%20%3D%20%24%28%60%3Cdiv%20id%3D%22html_c4332aebc0fb4671bb6e03993a0f7331%22%20style%3D%22width%3A%20100.0%25%3B%20height%3A%20100.0%25%3B%22%3ENE%20Downtown%20/%20Gastown%20/%20Harbour%20Centre%20/%20International%20Village%20/%20Victory%20Square%20/%20Yaletown%3C/div%3E%60%29%5B0%5D%3B%0A%20%20%20%20%20%20%20%20%20%20%20%20popup_5ca1f6bada1c413397a50c08a65d792f.setContent%28html_c4332aebc0fb4671bb6e03993a0f7331%29%3B%0A%20%20%20%20%20%20%20%20%0A%0A%20%20%20%20%20%20%20%20circle_marker_25dea77394a14b7094f51bc32d9f30d8.bindPopup%28popup_5ca1f6bada1c413397a50c08a65d792f%29%0A%20%20%20%20%20%20%20%20%3B%0A%0A%20%20%20%20%20%20%20%20%0A%20%20%20%20%0A%20%20%20%20%0A%20%20%20%20%20%20%20%20%20%20%20%20var%20circle_marker_9fffd007773c430b8f43fd373b9eed9c%20%3D%20L.circleMarker%28%0A%20%20%20%20%20%20%20%20%20%20%20%20%20%20%20%20%5B49.287716588954346%2C%20-123.11519411838532%5D%2C%0A%20%20%20%20%20%20%20%20%20%20%20%20%20%20%20%20%7B%22bubblingMouseEvents%22%3A%20true%2C%20%22color%22%3A%20%22green%22%2C%20%22dashArray%22%3A%20null%2C%20%22dashOffset%22%3A%20null%2C%20%22fill%22%3A%20true%2C%20%22fillColor%22%3A%20%22lightgreen%22%2C%20%22fillOpacity%22%3A%200.7%2C%20%22fillRule%22%3A%20%22evenodd%22%2C%20%22lineCap%22%3A%20%22round%22%2C%20%22lineJoin%22%3A%20%22round%22%2C%20%22opacity%22%3A%201.0%2C%20%22radius%22%3A%205%2C%20%22stroke%22%3A%20true%2C%20%22weight%22%3A%203%7D%0A%20%20%20%20%20%20%20%20%20%20%20%20%29.addTo%28map_7a1a50e149d447529762eb1830b08119%29%3B%0A%20%20%20%20%20%20%20%20%0A%20%20%20%20%0A%20%20%20%20%20%20%20%20var%20popup_43c2dc593404465184d4a06ff17caea1%20%3D%20L.popup%28%7B%22maxWidth%22%3A%20%22100%25%22%7D%29%3B%0A%0A%20%20%20%20%20%20%20%20%0A%20%20%20%20%20%20%20%20%20%20%20%20var%20html_63bd874ccd7a4cb8ae88d75c174978be%20%3D%20%24%28%60%3Cdiv%20id%3D%22html_63bd874ccd7a4cb8ae88d75c174978be%22%20style%3D%22width%3A%20100.0%25%3B%20height%3A%20100.0%25%3B%22%3EWaterfront%20/%20Coal%20Harbour%20/%20Canada%20Place%3C/div%3E%60%29%5B0%5D%3B%0A%20%20%20%20%20%20%20%20%20%20%20%20popup_43c2dc593404465184d4a06ff17caea1.setContent%28html_63bd874ccd7a4cb8ae88d75c174978be%29%3B%0A%20%20%20%20%20%20%20%20%0A%0A%20%20%20%20%20%20%20%20circle_marker_9fffd007773c430b8f43fd373b9eed9c.bindPopup%28popup_43c2dc593404465184d4a06ff17caea1%29%0A%20%20%20%20%20%20%20%20%3B%0A%0A%20%20%20%20%20%20%20%20%0A%20%20%20%20%0A%20%20%20%20%0A%20%20%20%20%20%20%20%20%20%20%20%20var%20circle_marker_a2d7b0a5be2e4f5bbac2b296d864e7ea%20%3D%20L.circleMarker%28%0A%20%20%20%20%20%20%20%20%20%20%20%20%20%20%20%20%5B49.28801282544443%2C%20-123.12108056609158%5D%2C%0A%20%20%20%20%20%20%20%20%20%20%20%20%20%20%20%20%7B%22bubblingMouseEvents%22%3A%20true%2C%20%22color%22%3A%20%22green%22%2C%20%22dashArray%22%3A%20null%2C%20%22dashOffset%22%3A%20null%2C%20%22fill%22%3A%20true%2C%20%22fillColor%22%3A%20%22lightgreen%22%2C%20%22fillOpacity%22%3A%200.7%2C%20%22fillRule%22%3A%20%22evenodd%22%2C%20%22lineCap%22%3A%20%22round%22%2C%20%22lineJoin%22%3A%20%22round%22%2C%20%22opacity%22%3A%201.0%2C%20%22radius%22%3A%205%2C%20%22stroke%22%3A%20true%2C%20%22weight%22%3A%203%7D%0A%20%20%20%20%20%20%20%20%20%20%20%20%29.addTo%28map_7a1a50e149d447529762eb1830b08119%29%3B%0A%20%20%20%20%20%20%20%20%0A%20%20%20%20%0A%20%20%20%20%20%20%20%20var%20popup_b0d72f70924f4cb183334b15dc9ea0c8%20%3D%20L.popup%28%7B%22maxWidth%22%3A%20%22100%25%22%7D%29%3B%0A%0A%20%20%20%20%20%20%20%20%0A%20%20%20%20%20%20%20%20%20%20%20%20var%20html_a0937794df6743fd8e382b3fda340833%20%3D%20%24%28%60%3Cdiv%20id%3D%22html_a0937794df6743fd8e382b3fda340833%22%20style%3D%22width%3A%20100.0%25%3B%20height%3A%20100.0%25%3B%22%3ESE%20West%20End%20/%20Davie%20Village%3C/div%3E%60%29%5B0%5D%3B%0A%20%20%20%20%20%20%20%20%20%20%20%20popup_b0d72f70924f4cb183334b15dc9ea0c8.setContent%28html_a0937794df6743fd8e382b3fda340833%29%3B%0A%20%20%20%20%20%20%20%20%0A%0A%20%20%20%20%20%20%20%20circle_marker_a2d7b0a5be2e4f5bbac2b296d864e7ea.bindPopup%28popup_b0d72f70924f4cb183334b15dc9ea0c8%29%0A%20%20%20%20%20%20%20%20%3B%0A%0A%20%20%20%20%20%20%20%20%0A%20%20%20%20%0A%20%20%20%20%0A%20%20%20%20%20%20%20%20%20%20%20%20var%20circle_marker_8a50de638fe044a8b64cf05b2528b5a5%20%3D%20L.circleMarker%28%0A%20%20%20%20%20%20%20%20%20%20%20%20%20%20%20%20%5B49.3002702%2C%20-123.13779663860902%5D%2C%0A%20%20%20%20%20%20%20%20%20%20%20%20%20%20%20%20%7B%22bubblingMouseEvents%22%3A%20true%2C%20%22color%22%3A%20%22green%22%2C%20%22dashArray%22%3A%20null%2C%20%22dashOffset%22%3A%20null%2C%20%22fill%22%3A%20true%2C%20%22fillColor%22%3A%20%22lightgreen%22%2C%20%22fillOpacity%22%3A%200.7%2C%20%22fillRule%22%3A%20%22evenodd%22%2C%20%22lineCap%22%3A%20%22round%22%2C%20%22lineJoin%22%3A%20%22round%22%2C%20%22opacity%22%3A%201.0%2C%20%22radius%22%3A%205%2C%20%22stroke%22%3A%20true%2C%20%22weight%22%3A%203%7D%0A%20%20%20%20%20%20%20%20%20%20%20%20%29.addTo%28map_7a1a50e149d447529762eb1830b08119%29%3B%0A%20%20%20%20%20%20%20%20%0A%20%20%20%20%0A%20%20%20%20%20%20%20%20var%20popup_812a48938bfc4e1ca88a1f407d526571%20%3D%20L.popup%28%7B%22maxWidth%22%3A%20%22100%25%22%7D%29%3B%0A%0A%20%20%20%20%20%20%20%20%0A%20%20%20%20%20%20%20%20%20%20%20%20var%20html_426161bbd2c04e06bb938870fc86c3a2%20%3D%20%24%28%60%3Cdiv%20id%3D%22html_426161bbd2c04e06bb938870fc86c3a2%22%20style%3D%22width%3A%20100.0%25%3B%20height%3A%20100.0%25%3B%22%3ENW%20West%20End%20/%20Stanley%20Park%3C/div%3E%60%29%5B0%5D%3B%0A%20%20%20%20%20%20%20%20%20%20%20%20popup_812a48938bfc4e1ca88a1f407d526571.setContent%28html_426161bbd2c04e06bb938870fc86c3a2%29%3B%0A%20%20%20%20%20%20%20%20%0A%0A%20%20%20%20%20%20%20%20circle_marker_8a50de638fe044a8b64cf05b2528b5a5.bindPopup%28popup_812a48938bfc4e1ca88a1f407d526571%29%0A%20%20%20%20%20%20%20%20%3B%0A%0A%20%20%20%20%20%20%20%20%0A%20%20%20%20%0A%20%20%20%20%0A%20%20%20%20%20%20%20%20%20%20%20%20var%20circle_marker_39f62fb82b2b4609abecce6287002ca9%20%3D%20L.circleMarker%28%0A%20%20%20%20%20%20%20%20%20%20%20%20%20%20%20%20%5B49.25680023082197%2C%20-123.13313020255173%5D%2C%0A%20%20%20%20%20%20%20%20%20%20%20%20%20%20%20%20%7B%22bubblingMouseEvents%22%3A%20true%2C%20%22color%22%3A%20%22green%22%2C%20%22dashArray%22%3A%20null%2C%20%22dashOffset%22%3A%20null%2C%20%22fill%22%3A%20true%2C%20%22fillColor%22%3A%20%22lightgreen%22%2C%20%22fillOpacity%22%3A%200.7%2C%20%22fillRule%22%3A%20%22evenodd%22%2C%20%22lineCap%22%3A%20%22round%22%2C%20%22lineJoin%22%3A%20%22round%22%2C%20%22opacity%22%3A%201.0%2C%20%22radius%22%3A%205%2C%20%22stroke%22%3A%20true%2C%20%22weight%22%3A%203%7D%0A%20%20%20%20%20%20%20%20%20%20%20%20%29.addTo%28map_7a1a50e149d447529762eb1830b08119%29%3B%0A%20%20%20%20%20%20%20%20%0A%20%20%20%20%0A%20%20%20%20%20%20%20%20var%20popup_b890cfe743f2403f91c02de3bc41fb69%20%3D%20L.popup%28%7B%22maxWidth%22%3A%20%22100%25%22%7D%29%3B%0A%0A%20%20%20%20%20%20%20%20%0A%20%20%20%20%20%20%20%20%20%20%20%20var%20html_74b70d93f21d439b813f1d3f0fdba0e9%20%3D%20%24%28%60%3Cdiv%20id%3D%22html_74b70d93f21d439b813f1d3f0fdba0e9%22%20style%3D%22width%3A%20100.0%25%3B%20height%3A%20100.0%25%3B%22%3EWest%20Fairview%20/%20Granville%20Island%20/%20NE%20Shaughnessy%3C/div%3E%60%29%5B0%5D%3B%0A%20%20%20%20%20%20%20%20%20%20%20%20popup_b890cfe743f2403f91c02de3bc41fb69.setContent%28html_74b70d93f21d439b813f1d3f0fdba0e9%29%3B%0A%20%20%20%20%20%20%20%20%0A%0A%20%20%20%20%20%20%20%20circle_marker_39f62fb82b2b4609abecce6287002ca9.bindPopup%28popup_b890cfe743f2403f91c02de3bc41fb69%29%0A%20%20%20%20%20%20%20%20%3B%0A%0A%20%20%20%20%20%20%20%20%0A%20%20%20%20%0A%20%20%20%20%0A%20%20%20%20%20%20%20%20%20%20%20%20var%20circle_marker_7c2f317e8d8f4f7db97e248caf9ceab7%20%3D%20L.circleMarker%28%0A%20%20%20%20%20%20%20%20%20%20%20%20%20%20%20%20%5B49.260907082479285%2C%20-123.14578765518688%5D%2C%0A%20%20%20%20%20%20%20%20%20%20%20%20%20%20%20%20%7B%22bubblingMouseEvents%22%3A%20true%2C%20%22color%22%3A%20%22green%22%2C%20%22dashArray%22%3A%20null%2C%20%22dashOffset%22%3A%20null%2C%20%22fill%22%3A%20true%2C%20%22fillColor%22%3A%20%22lightgreen%22%2C%20%22fillOpacity%22%3A%200.7%2C%20%22fillRule%22%3A%20%22evenodd%22%2C%20%22lineCap%22%3A%20%22round%22%2C%20%22lineJoin%22%3A%20%22round%22%2C%20%22opacity%22%3A%201.0%2C%20%22radius%22%3A%205%2C%20%22stroke%22%3A%20true%2C%20%22weight%22%3A%203%7D%0A%20%20%20%20%20%20%20%20%20%20%20%20%29.addTo%28map_7a1a50e149d447529762eb1830b08119%29%3B%0A%20%20%20%20%20%20%20%20%0A%20%20%20%20%0A%20%20%20%20%20%20%20%20var%20popup_38320faafcf14ae582b7a32ef5e30228%20%3D%20L.popup%28%7B%22maxWidth%22%3A%20%22100%25%22%7D%29%3B%0A%0A%20%20%20%20%20%20%20%20%0A%20%20%20%20%20%20%20%20%20%20%20%20var%20html_fb13715d35964d76abb552ffb284da8a%20%3D%20%24%28%60%3Cdiv%20id%3D%22html_fb13715d35964d76abb552ffb284da8a%22%20style%3D%22width%3A%20100.0%25%3B%20height%3A%20100.0%25%3B%22%3ENW%20Shaughnessy%20/%20East%20Kitsilano%20/%20Quilchena%3C/div%3E%60%29%5B0%5D%3B%0A%20%20%20%20%20%20%20%20%20%20%20%20popup_38320faafcf14ae582b7a32ef5e30228.setContent%28html_fb13715d35964d76abb552ffb284da8a%29%3B%0A%20%20%20%20%20%20%20%20%0A%0A%20%20%20%20%20%20%20%20circle_marker_7c2f317e8d8f4f7db97e248caf9ceab7.bindPopup%28popup_38320faafcf14ae582b7a32ef5e30228%29%0A%20%20%20%20%20%20%20%20%3B%0A%0A%20%20%20%20%20%20%20%20%0A%20%20%20%20%0A%20%20%20%20%0A%20%20%20%20%20%20%20%20%20%20%20%20var%20circle_marker_7acda0d6507049f4a0a3fab1b9257821%20%3D%20L.circleMarker%28%0A%20%20%20%20%20%20%20%20%20%20%20%20%20%20%20%20%5B49.26895274770836%2C%20-123.1650191687676%5D%2C%0A%20%20%20%20%20%20%20%20%20%20%20%20%20%20%20%20%7B%22bubblingMouseEvents%22%3A%20true%2C%20%22color%22%3A%20%22green%22%2C%20%22dashArray%22%3A%20null%2C%20%22dashOffset%22%3A%20null%2C%20%22fill%22%3A%20true%2C%20%22fillColor%22%3A%20%22lightgreen%22%2C%20%22fillOpacity%22%3A%200.7%2C%20%22fillRule%22%3A%20%22evenodd%22%2C%20%22lineCap%22%3A%20%22round%22%2C%20%22lineJoin%22%3A%20%22round%22%2C%20%22opacity%22%3A%201.0%2C%20%22radius%22%3A%205%2C%20%22stroke%22%3A%20true%2C%20%22weight%22%3A%203%7D%0A%20%20%20%20%20%20%20%20%20%20%20%20%29.addTo%28map_7a1a50e149d447529762eb1830b08119%29%3B%0A%20%20%20%20%20%20%20%20%0A%20%20%20%20%0A%20%20%20%20%20%20%20%20var%20popup_bfeb6745facf4e35b3a42f108770fbda%20%3D%20L.popup%28%7B%22maxWidth%22%3A%20%22100%25%22%7D%29%3B%0A%0A%20%20%20%20%20%20%20%20%0A%20%20%20%20%20%20%20%20%20%20%20%20var%20html_9da1367fe63f416181901f322d30b6b1%20%3D%20%24%28%60%3Cdiv%20id%3D%22html_9da1367fe63f416181901f322d30b6b1%22%20style%3D%22width%3A%20100.0%25%3B%20height%3A%20100.0%25%3B%22%3ECentral%20Kitsilano%20/%20Greektown%3C/div%3E%60%29%5B0%5D%3B%0A%20%20%20%20%20%20%20%20%20%20%20%20popup_bfeb6745facf4e35b3a42f108770fbda.setContent%28html_9da1367fe63f416181901f322d30b6b1%29%3B%0A%20%20%20%20%20%20%20%20%0A%0A%20%20%20%20%20%20%20%20circle_marker_7acda0d6507049f4a0a3fab1b9257821.bindPopup%28popup_bfeb6745facf4e35b3a42f108770fbda%29%0A%20%20%20%20%20%20%20%20%3B%0A%0A%20%20%20%20%20%20%20%20%0A%20%20%20%20%0A%20%20%20%20%0A%20%20%20%20%20%20%20%20%20%20%20%20var%20circle_marker_1d623f07f7da4dbdb8d26c285cead0fc%20%3D%20L.circleMarker%28%0A%20%20%20%20%20%20%20%20%20%20%20%20%20%20%20%20%5B49.25123526871763%2C%20-123.17444800477642%5D%2C%0A%20%20%20%20%20%20%20%20%20%20%20%20%20%20%20%20%7B%22bubblingMouseEvents%22%3A%20true%2C%20%22color%22%3A%20%22green%22%2C%20%22dashArray%22%3A%20null%2C%20%22dashOffset%22%3A%20null%2C%20%22fill%22%3A%20true%2C%20%22fillColor%22%3A%20%22lightgreen%22%2C%20%22fillOpacity%22%3A%200.7%2C%20%22fillRule%22%3A%20%22evenodd%22%2C%20%22lineCap%22%3A%20%22round%22%2C%20%22lineJoin%22%3A%20%22round%22%2C%20%22opacity%22%3A%201.0%2C%20%22radius%22%3A%205%2C%20%22stroke%22%3A%20true%2C%20%22weight%22%3A%203%7D%0A%20%20%20%20%20%20%20%20%20%20%20%20%29.addTo%28map_7a1a50e149d447529762eb1830b08119%29%3B%0A%20%20%20%20%20%20%20%20%0A%20%20%20%20%0A%20%20%20%20%20%20%20%20var%20popup_cd5a85ef49e046e4be118c2c8a4c3bf4%20%3D%20L.popup%28%7B%22maxWidth%22%3A%20%22100%25%22%7D%29%3B%0A%0A%20%20%20%20%20%20%20%20%0A%20%20%20%20%20%20%20%20%20%20%20%20var%20html_962974ad242948958f976505969eadb1%20%3D%20%24%28%60%3Cdiv%20id%3D%22html_962974ad242948958f976505969eadb1%22%20style%3D%22width%3A%20100.0%25%3B%20height%3A%20100.0%25%3B%22%3ENW%20Arbutus%20Ridge%20/%20NE%20Dunbar-Southlands%3C/div%3E%60%29%5B0%5D%3B%0A%20%20%20%20%20%20%20%20%20%20%20%20popup_cd5a85ef49e046e4be118c2c8a4c3bf4.setContent%28html_962974ad242948958f976505969eadb1%29%3B%0A%20%20%20%20%20%20%20%20%0A%0A%20%20%20%20%20%20%20%20circle_marker_1d623f07f7da4dbdb8d26c285cead0fc.bindPopup%28popup_cd5a85ef49e046e4be118c2c8a4c3bf4%29%0A%20%20%20%20%20%20%20%20%3B%0A%0A%20%20%20%20%20%20%20%20%0A%20%20%20%20%0A%20%20%20%20%0A%20%20%20%20%20%20%20%20%20%20%20%20var%20circle_marker_b352ce9e0a0f45edaeba28e3d60677f4%20%3D%20L.circleMarker%28%0A%20%20%20%20%20%20%20%20%20%20%20%20%20%20%20%20%5B49.23445241369216%2C%20-123.14541366762148%5D%2C%0A%20%20%20%20%20%20%20%20%20%20%20%20%20%20%20%20%7B%22bubblingMouseEvents%22%3A%20true%2C%20%22color%22%3A%20%22green%22%2C%20%22dashArray%22%3A%20null%2C%20%22dashOffset%22%3A%20null%2C%20%22fill%22%3A%20true%2C%20%22fillColor%22%3A%20%22lightgreen%22%2C%20%22fillOpacity%22%3A%200.7%2C%20%22fillRule%22%3A%20%22evenodd%22%2C%20%22lineCap%22%3A%20%22round%22%2C%20%22lineJoin%22%3A%20%22round%22%2C%20%22opacity%22%3A%201.0%2C%20%22radius%22%3A%205%2C%20%22stroke%22%3A%20true%2C%20%22weight%22%3A%203%7D%0A%20%20%20%20%20%20%20%20%20%20%20%20%29.addTo%28map_7a1a50e149d447529762eb1830b08119%29%3B%0A%20%20%20%20%20%20%20%20%0A%20%20%20%20%0A%20%20%20%20%20%20%20%20var%20popup_bdd2c6073e844fdc91b6c629e46087cf%20%3D%20L.popup%28%7B%22maxWidth%22%3A%20%22100%25%22%7D%29%3B%0A%0A%20%20%20%20%20%20%20%20%0A%20%20%20%20%20%20%20%20%20%20%20%20var%20html_a3c40f85be8c4c05809bd70409983048%20%3D%20%24%28%60%3Cdiv%20id%3D%22html_a3c40f85be8c4c05809bd70409983048%22%20style%3D%22width%3A%20100.0%25%3B%20height%3A%20100.0%25%3B%22%3ESouth%20Shaughnessy%20/%20NW%20Oakridge%20/%20NE%20Kerrisdale%20/%20SE%20Arbutus%20Ridge%3C/div%3E%60%29%5B0%5D%3B%0A%20%20%20%20%20%20%20%20%20%20%20%20popup_bdd2c6073e844fdc91b6c629e46087cf.setContent%28html_a3c40f85be8c4c05809bd70409983048%29%3B%0A%20%20%20%20%20%20%20%20%0A%0A%20%20%20%20%20%20%20%20circle_marker_b352ce9e0a0f45edaeba28e3d60677f4.bindPopup%28popup_bdd2c6073e844fdc91b6c629e46087cf%29%0A%20%20%20%20%20%20%20%20%3B%0A%0A%20%20%20%20%20%20%20%20%0A%20%20%20%20%0A%20%20%20%20%0A%20%20%20%20%20%20%20%20%20%20%20%20var%20circle_marker_50fc450bd87846079fba9a5df725c122%20%3D%20L.circleMarker%28%0A%20%20%20%20%20%20%20%20%20%20%20%20%20%20%20%20%5B49.22459432780824%2C%20-123.1686106806456%5D%2C%0A%20%20%20%20%20%20%20%20%20%20%20%20%20%20%20%20%7B%22bubblingMouseEvents%22%3A%20true%2C%20%22color%22%3A%20%22green%22%2C%20%22dashArray%22%3A%20null%2C%20%22dashOffset%22%3A%20null%2C%20%22fill%22%3A%20true%2C%20%22fillColor%22%3A%20%22lightgreen%22%2C%20%22fillOpacity%22%3A%200.7%2C%20%22fillRule%22%3A%20%22evenodd%22%2C%20%22lineCap%22%3A%20%22round%22%2C%20%22lineJoin%22%3A%20%22round%22%2C%20%22opacity%22%3A%201.0%2C%20%22radius%22%3A%205%2C%20%22stroke%22%3A%20true%2C%20%22weight%22%3A%203%7D%0A%20%20%20%20%20%20%20%20%20%20%20%20%29.addTo%28map_7a1a50e149d447529762eb1830b08119%29%3B%0A%20%20%20%20%20%20%20%20%0A%20%20%20%20%0A%20%20%20%20%20%20%20%20var%20popup_eac67952de824fb6b83b50a990c6a7ba%20%3D%20L.popup%28%7B%22maxWidth%22%3A%20%22100%25%22%7D%29%3B%0A%0A%20%20%20%20%20%20%20%20%0A%20%20%20%20%20%20%20%20%20%20%20%20var%20html_ed06c6fccc6b4087b6dc8fd41c3e38e7%20%3D%20%24%28%60%3Cdiv%20id%3D%22html_ed06c6fccc6b4087b6dc8fd41c3e38e7%22%20style%3D%22width%3A%20100.0%25%3B%20height%3A%20100.0%25%3B%22%3EWest%20Kerrisdale%20/%20South%20Dunbar-Southlands%20/%20Musqueam%3C/div%3E%60%29%5B0%5D%3B%0A%20%20%20%20%20%20%20%20%20%20%20%20popup_eac67952de824fb6b83b50a990c6a7ba.setContent%28html_ed06c6fccc6b4087b6dc8fd41c3e38e7%29%3B%0A%20%20%20%20%20%20%20%20%0A%0A%20%20%20%20%20%20%20%20circle_marker_50fc450bd87846079fba9a5df725c122.bindPopup%28popup_eac67952de824fb6b83b50a990c6a7ba%29%0A%20%20%20%20%20%20%20%20%3B%0A%0A%20%20%20%20%20%20%20%20%0A%20%20%20%20%0A%20%20%20%20%0A%20%20%20%20%20%20%20%20%20%20%20%20var%20circle_marker_c08e9c9ab0cd4842a8fdeda66ddcca23%20%3D%20L.circleMarker%28%0A%20%20%20%20%20%20%20%20%20%20%20%20%20%20%20%20%5B49.21834924817389%2C%20-123.14992456434535%5D%2C%0A%20%20%20%20%20%20%20%20%20%20%20%20%20%20%20%20%7B%22bubblingMouseEvents%22%3A%20true%2C%20%22color%22%3A%20%22green%22%2C%20%22dashArray%22%3A%20null%2C%20%22dashOffset%22%3A%20null%2C%20%22fill%22%3A%20true%2C%20%22fillColor%22%3A%20%22lightgreen%22%2C%20%22fillOpacity%22%3A%200.7%2C%20%22fillRule%22%3A%20%22evenodd%22%2C%20%22lineCap%22%3A%20%22round%22%2C%20%22lineJoin%22%3A%20%22round%22%2C%20%22opacity%22%3A%201.0%2C%20%22radius%22%3A%205%2C%20%22stroke%22%3A%20true%2C%20%22weight%22%3A%203%7D%0A%20%20%20%20%20%20%20%20%20%20%20%20%29.addTo%28map_7a1a50e149d447529762eb1830b08119%29%3B%0A%20%20%20%20%20%20%20%20%0A%20%20%20%20%0A%20%20%20%20%20%20%20%20var%20popup_ad37898ef002489fb928e8735b9111ca%20%3D%20L.popup%28%7B%22maxWidth%22%3A%20%22100%25%22%7D%29%3B%0A%0A%20%20%20%20%20%20%20%20%0A%20%20%20%20%20%20%20%20%20%20%20%20var%20html_370c224b13ac4f41b020a5102b334c4b%20%3D%20%24%28%60%3Cdiv%20id%3D%22html_370c224b13ac4f41b020a5102b334c4b%22%20style%3D%22width%3A%20100.0%25%3B%20height%3A%20100.0%25%3B%22%3ESE%20Kerrisdale%20/%20SW%20Oakridge%20/%20West%20Marpole%3C/div%3E%60%29%5B0%5D%3B%0A%20%20%20%20%20%20%20%20%20%20%20%20popup_ad37898ef002489fb928e8735b9111ca.setContent%28html_370c224b13ac4f41b020a5102b334c4b%29%3B%0A%20%20%20%20%20%20%20%20%0A%0A%20%20%20%20%20%20%20%20circle_marker_c08e9c9ab0cd4842a8fdeda66ddcca23.bindPopup%28popup_ad37898ef002489fb928e8735b9111ca%29%0A%20%20%20%20%20%20%20%20%3B%0A%0A%20%20%20%20%20%20%20%20%0A%20%20%20%20%0A%20%20%20%20%0A%20%20%20%20%20%20%20%20%20%20%20%20var%20circle_marker_3775254662bb4b999c86f3e8a2915f70%20%3D%20L.circleMarker%28%0A%20%20%20%20%20%20%20%20%20%20%20%20%20%20%20%20%5B49.26911800091252%2C%20-123.1971978797778%5D%2C%0A%20%20%20%20%20%20%20%20%20%20%20%20%20%20%20%20%7B%22bubblingMouseEvents%22%3A%20true%2C%20%22color%22%3A%20%22green%22%2C%20%22dashArray%22%3A%20null%2C%20%22dashOffset%22%3A%20null%2C%20%22fill%22%3A%20true%2C%20%22fillColor%22%3A%20%22lightgreen%22%2C%20%22fillOpacity%22%3A%200.7%2C%20%22fillRule%22%3A%20%22evenodd%22%2C%20%22lineCap%22%3A%20%22round%22%2C%20%22lineJoin%22%3A%20%22round%22%2C%20%22opacity%22%3A%201.0%2C%20%22radius%22%3A%205%2C%20%22stroke%22%3A%20true%2C%20%22weight%22%3A%203%7D%0A%20%20%20%20%20%20%20%20%20%20%20%20%29.addTo%28map_7a1a50e149d447529762eb1830b08119%29%3B%0A%20%20%20%20%20%20%20%20%0A%20%20%20%20%0A%20%20%20%20%20%20%20%20var%20popup_e27592814a524bb497716f80c63d2fca%20%3D%20L.popup%28%7B%22maxWidth%22%3A%20%22100%25%22%7D%29%3B%0A%0A%20%20%20%20%20%20%20%20%0A%20%20%20%20%20%20%20%20%20%20%20%20var%20html_fdf381ea97b549eeafebcefd1e9bea35%20%3D%20%24%28%60%3Cdiv%20id%3D%22html_fdf381ea97b549eeafebcefd1e9bea35%22%20style%3D%22width%3A%20100.0%25%3B%20height%3A%20100.0%25%3B%22%3EWest%20Kitsilano%20/%20West%20Point%20Grey%20/%20Jericho%3C/div%3E%60%29%5B0%5D%3B%0A%20%20%20%20%20%20%20%20%20%20%20%20popup_e27592814a524bb497716f80c63d2fca.setContent%28html_fdf381ea97b549eeafebcefd1e9bea35%29%3B%0A%20%20%20%20%20%20%20%20%0A%0A%20%20%20%20%20%20%20%20circle_marker_3775254662bb4b999c86f3e8a2915f70.bindPopup%28popup_e27592814a524bb497716f80c63d2fca%29%0A%20%20%20%20%20%20%20%20%3B%0A%0A%20%20%20%20%20%20%20%20%0A%20%20%20%20%0A%20%20%20%20%0A%20%20%20%20%20%20%20%20%20%20%20%20var%20circle_marker_08072c6c7bea4cc4a719de6382d38fbb%20%3D%20L.circleMarker%28%0A%20%20%20%20%20%20%20%20%20%20%20%20%20%20%20%20%5B49.25121%2C%20-123.225418%5D%2C%0A%20%20%20%20%20%20%20%20%20%20%20%20%20%20%20%20%7B%22bubblingMouseEvents%22%3A%20true%2C%20%22color%22%3A%20%22green%22%2C%20%22dashArray%22%3A%20null%2C%20%22dashOffset%22%3A%20null%2C%20%22fill%22%3A%20true%2C%20%22fillColor%22%3A%20%22lightgreen%22%2C%20%22fillOpacity%22%3A%200.7%2C%20%22fillRule%22%3A%20%22evenodd%22%2C%20%22lineCap%22%3A%20%22round%22%2C%20%22lineJoin%22%3A%20%22round%22%2C%20%22opacity%22%3A%201.0%2C%20%22radius%22%3A%205%2C%20%22stroke%22%3A%20true%2C%20%22weight%22%3A%203%7D%0A%20%20%20%20%20%20%20%20%20%20%20%20%29.addTo%28map_7a1a50e149d447529762eb1830b08119%29%3B%0A%20%20%20%20%20%20%20%20%0A%20%20%20%20%0A%20%20%20%20%20%20%20%20var%20popup_02d5b4401dc84255a07c538278790a41%20%3D%20L.popup%28%7B%22maxWidth%22%3A%20%22100%25%22%7D%29%3B%0A%0A%20%20%20%20%20%20%20%20%0A%20%20%20%20%20%20%20%20%20%20%20%20var%20html_30526a4fe1f4436a87439552b24c0b7a%20%3D%20%24%28%60%3Cdiv%20id%3D%22html_30526a4fe1f4436a87439552b24c0b7a%22%20style%3D%22width%3A%20100.0%25%3B%20height%3A%20100.0%25%3B%22%3ENW%20Dunbar-Southlands%20/%20Chaldecutt%20/%20South%20University%20Endowment%20Lands%3C/div%3E%60%29%5B0%5D%3B%0A%20%20%20%20%20%20%20%20%20%20%20%20popup_02d5b4401dc84255a07c538278790a41.setContent%28html_30526a4fe1f4436a87439552b24c0b7a%29%3B%0A%20%20%20%20%20%20%20%20%0A%0A%20%20%20%20%20%20%20%20circle_marker_08072c6c7bea4cc4a719de6382d38fbb.bindPopup%28popup_02d5b4401dc84255a07c538278790a41%29%0A%20%20%20%20%20%20%20%20%3B%0A%0A%20%20%20%20%20%20%20%20%0A%20%20%20%20%0A%20%20%20%20%0A%20%20%20%20%20%20%20%20%20%20%20%20var%20circle_marker_eefc6781d879459494873b993f06d2d5%20%3D%20L.circleMarker%28%0A%20%20%20%20%20%20%20%20%20%20%20%20%20%20%20%20%5B49.274648%2C%20-123.2735751%5D%2C%0A%20%20%20%20%20%20%20%20%20%20%20%20%20%20%20%20%7B%22bubblingMouseEvents%22%3A%20true%2C%20%22color%22%3A%20%22green%22%2C%20%22dashArray%22%3A%20null%2C%20%22dashOffset%22%3A%20null%2C%20%22fill%22%3A%20true%2C%20%22fillColor%22%3A%20%22lightgreen%22%2C%20%22fillOpacity%22%3A%200.7%2C%20%22fillRule%22%3A%20%22evenodd%22%2C%20%22lineCap%22%3A%20%22round%22%2C%20%22lineJoin%22%3A%20%22round%22%2C%20%22opacity%22%3A%201.0%2C%20%22radius%22%3A%205%2C%20%22stroke%22%3A%20true%2C%20%22weight%22%3A%203%7D%0A%20%20%20%20%20%20%20%20%20%20%20%20%29.addTo%28map_7a1a50e149d447529762eb1830b08119%29%3B%0A%20%20%20%20%20%20%20%20%0A%20%20%20%20%0A%20%20%20%20%20%20%20%20var%20popup_f4f7813de408413484b022ac77504895%20%3D%20L.popup%28%7B%22maxWidth%22%3A%20%22100%25%22%7D%29%3B%0A%0A%20%20%20%20%20%20%20%20%0A%20%20%20%20%20%20%20%20%20%20%20%20var%20html_fd0f3dccc28a4411800d90941d56946e%20%3D%20%24%28%60%3Cdiv%20id%3D%22html_fd0f3dccc28a4411800d90941d56946e%22%20style%3D%22width%3A%20100.0%25%3B%20height%3A%20100.0%25%3B%22%3EUBC%3C/div%3E%60%29%5B0%5D%3B%0A%20%20%20%20%20%20%20%20%20%20%20%20popup_f4f7813de408413484b022ac77504895.setContent%28html_fd0f3dccc28a4411800d90941d56946e%29%3B%0A%20%20%20%20%20%20%20%20%0A%0A%20%20%20%20%20%20%20%20circle_marker_eefc6781d879459494873b993f06d2d5.bindPopup%28popup_f4f7813de408413484b022ac77504895%29%0A%20%20%20%20%20%20%20%20%3B%0A%0A%20%20%20%20%20%20%20%20%0A%20%20%20%20%0A%20%20%20%20%0A%20%20%20%20%20%20%20%20%20%20%20%20var%20circle_marker_9a27ca155a9049049a5c490d11decc32%20%3D%20L.circleMarker%28%0A%20%20%20%20%20%20%20%20%20%20%20%20%20%20%20%20%5B49.27844786726529%2C%20-123.12429208190194%5D%2C%0A%20%20%20%20%20%20%20%20%20%20%20%20%20%20%20%20%7B%22bubblingMouseEvents%22%3A%20true%2C%20%22color%22%3A%20%22green%22%2C%20%22dashArray%22%3A%20null%2C%20%22dashOffset%22%3A%20null%2C%20%22fill%22%3A%20true%2C%20%22fillColor%22%3A%20%22lightgreen%22%2C%20%22fillOpacity%22%3A%200.7%2C%20%22fillRule%22%3A%20%22evenodd%22%2C%20%22lineCap%22%3A%20%22round%22%2C%20%22lineJoin%22%3A%20%22round%22%2C%20%22opacity%22%3A%201.0%2C%20%22radius%22%3A%205%2C%20%22stroke%22%3A%20true%2C%20%22weight%22%3A%203%7D%0A%20%20%20%20%20%20%20%20%20%20%20%20%29.addTo%28map_7a1a50e149d447529762eb1830b08119%29%3B%0A%20%20%20%20%20%20%20%20%0A%20%20%20%20%0A%20%20%20%20%20%20%20%20var%20popup_eda282a9d3fa4357a4fd12bcdd324eda%20%3D%20L.popup%28%7B%22maxWidth%22%3A%20%22100%25%22%7D%29%3B%0A%0A%20%20%20%20%20%20%20%20%0A%20%20%20%20%20%20%20%20%20%20%20%20var%20html_b8f7f857ef834770b9d78df6724c11bb%20%3D%20%24%28%60%3Cdiv%20id%3D%22html_b8f7f857ef834770b9d78df6724c11bb%22%20style%3D%22width%3A%20100.0%25%3B%20height%3A%20100.0%25%3B%22%3ESW%20Downtown%3C/div%3E%60%29%5B0%5D%3B%0A%20%20%20%20%20%20%20%20%20%20%20%20popup_eda282a9d3fa4357a4fd12bcdd324eda.setContent%28html_b8f7f857ef834770b9d78df6724c11bb%29%3B%0A%20%20%20%20%20%20%20%20%0A%0A%20%20%20%20%20%20%20%20circle_marker_9a27ca155a9049049a5c490d11decc32.bindPopup%28popup_eda282a9d3fa4357a4fd12bcdd324eda%29%0A%20%20%20%20%20%20%20%20%3B%0A%0A%20%20%20%20%20%20%20%20%0A%20%20%20%20%0A%20%20%20%20%0A%20%20%20%20%20%20%20%20%20%20%20%20var%20circle_marker_4d4e5e6464234917bf640cbc3f3efcad%20%3D%20L.circleMarker%28%0A%20%20%20%20%20%20%20%20%20%20%20%20%20%20%20%20%5B49.28600408893013%2C%20-123.11984724657424%5D%2C%0A%20%20%20%20%20%20%20%20%20%20%20%20%20%20%20%20%7B%22bubblingMouseEvents%22%3A%20true%2C%20%22color%22%3A%20%22green%22%2C%20%22dashArray%22%3A%20null%2C%20%22dashOffset%22%3A%20null%2C%20%22fill%22%3A%20true%2C%20%22fillColor%22%3A%20%22lightgreen%22%2C%20%22fillOpacity%22%3A%200.7%2C%20%22fillRule%22%3A%20%22evenodd%22%2C%20%22lineCap%22%3A%20%22round%22%2C%20%22lineJoin%22%3A%20%22round%22%2C%20%22opacity%22%3A%201.0%2C%20%22radius%22%3A%205%2C%20%22stroke%22%3A%20true%2C%20%22weight%22%3A%203%7D%0A%20%20%20%20%20%20%20%20%20%20%20%20%29.addTo%28map_7a1a50e149d447529762eb1830b08119%29%3B%0A%20%20%20%20%20%20%20%20%0A%20%20%20%20%0A%20%20%20%20%20%20%20%20var%20popup_ccf68241f91e41619ec0cc7822fff391%20%3D%20L.popup%28%7B%22maxWidth%22%3A%20%22100%25%22%7D%29%3B%0A%0A%20%20%20%20%20%20%20%20%0A%20%20%20%20%20%20%20%20%20%20%20%20var%20html_3071c8de4c1b41e8968979932ede45f5%20%3D%20%24%28%60%3Cdiv%20id%3D%22html_3071c8de4c1b41e8968979932ede45f5%22%20style%3D%22width%3A%20100.0%25%3B%20height%3A%20100.0%25%3B%22%3EBentall%20Centre%3C/div%3E%60%29%5B0%5D%3B%0A%20%20%20%20%20%20%20%20%20%20%20%20popup_ccf68241f91e41619ec0cc7822fff391.setContent%28html_3071c8de4c1b41e8968979932ede45f5%29%3B%0A%20%20%20%20%20%20%20%20%0A%0A%20%20%20%20%20%20%20%20circle_marker_4d4e5e6464234917bf640cbc3f3efcad.bindPopup%28popup_ccf68241f91e41619ec0cc7822fff391%29%0A%20%20%20%20%20%20%20%20%3B%0A%0A%20%20%20%20%20%20%20%20%0A%20%20%20%20%0A%20%20%20%20%0A%20%20%20%20%20%20%20%20%20%20%20%20var%20circle_marker_9e86c181cccc47e69d7f1fe1670ee4fe%20%3D%20L.circleMarker%28%0A%20%20%20%20%20%20%20%20%20%20%20%20%20%20%20%20%5B49.28280643353696%2C%20-123.11863823416353%5D%2C%0A%20%20%20%20%20%20%20%20%20%20%20%20%20%20%20%20%7B%22bubblingMouseEvents%22%3A%20true%2C%20%22color%22%3A%20%22green%22%2C%20%22dashArray%22%3A%20null%2C%20%22dashOffset%22%3A%20null%2C%20%22fill%22%3A%20true%2C%20%22fillColor%22%3A%20%22lightgreen%22%2C%20%22fillOpacity%22%3A%200.7%2C%20%22fillRule%22%3A%20%22evenodd%22%2C%20%22lineCap%22%3A%20%22round%22%2C%20%22lineJoin%22%3A%20%22round%22%2C%20%22opacity%22%3A%201.0%2C%20%22radius%22%3A%205%2C%20%22stroke%22%3A%20true%2C%20%22weight%22%3A%203%7D%0A%20%20%20%20%20%20%20%20%20%20%20%20%29.addTo%28map_7a1a50e149d447529762eb1830b08119%29%3B%0A%20%20%20%20%20%20%20%20%0A%20%20%20%20%0A%20%20%20%20%20%20%20%20var%20popup_9a970f9165394ed6af66810a3d41f128%20%3D%20L.popup%28%7B%22maxWidth%22%3A%20%22100%25%22%7D%29%3B%0A%0A%20%20%20%20%20%20%20%20%0A%20%20%20%20%20%20%20%20%20%20%20%20var%20html_ee6156abeb0749dfad85c0312d3efe5d%20%3D%20%24%28%60%3Cdiv%20id%3D%22html_ee6156abeb0749dfad85c0312d3efe5d%22%20style%3D%22width%3A%20100.0%25%3B%20height%3A%20100.0%25%3B%22%3EPacific%20Centre%3C/div%3E%60%29%5B0%5D%3B%0A%20%20%20%20%20%20%20%20%20%20%20%20popup_9a970f9165394ed6af66810a3d41f128.setContent%28html_ee6156abeb0749dfad85c0312d3efe5d%29%3B%0A%20%20%20%20%20%20%20%20%0A%0A%20%20%20%20%20%20%20%20circle_marker_9e86c181cccc47e69d7f1fe1670ee4fe.bindPopup%28popup_9a970f9165394ed6af66810a3d41f128%29%0A%20%20%20%20%20%20%20%20%3B%0A%0A%20%20%20%20%20%20%20%20%0A%20%20%20%20%0A%3C/script%3E onload=\"this.contentDocument.open();this.contentDocument.write(    decodeURIComponent(this.getAttribute('data-html')));this.contentDocument.close();\" allowfullscreen webkitallowfullscreen mozallowfullscreen></iframe></div></div>"
      ],
      "text/plain": [
       "<folium.folium.Map at 0x7f0dee4878d0>"
      ]
     },
     "execution_count": 68,
     "metadata": {},
     "output_type": "execute_result"
    }
   ],
   "source": [
    "# create map of Vancouver using latitude and longitude values\n",
    "map_vancouver = folium.Map(location=[latitude, longitude], zoom_start=12)\n",
    "\n",
    "# add markers to map\n",
    "for lat, lng, neighborhood in zip(neighborhoods['Latitude'], \n",
    "                                  neighborhoods['Longitude'],\n",
    "                                  neighborhoods['Neighborhood']):\n",
    "    label = neighborhood\n",
    "    label = folium.Popup(label, parse_html=True)\n",
    "    folium.CircleMarker(\n",
    "        [lat, lng],\n",
    "        radius=5,\n",
    "        popup=label,\n",
    "        color='green',\n",
    "        fill=True,\n",
    "        fill_color='lightgreen',\n",
    "        fill_opacity=0.7,\n",
    "        parse_html=False).add_to(map_vancouver)\n",
    "\n",
    "map_vancouver"
   ]
  },
  {
   "cell_type": "markdown",
   "id": "clinical-control",
   "metadata": {},
   "source": [
    "***"
   ]
  },
  {
   "cell_type": "markdown",
   "id": "built-lecture",
   "metadata": {},
   "source": [
    "## Methodology <a name=\"methodology\"></a>"
   ]
  },
  {
   "cell_type": "markdown",
   "id": "deluxe-wealth",
   "metadata": {},
   "source": [
    "\n",
    "# Add something like this (check out others first)\n",
    "\n",
    "\n",
    "In this project we will direct our efforts on detecting areas of Berlin that have low restaurant density, particularly those with low number of Italian restaurants. We will limit our analysis to area ~6km around city center.\n",
    "\n",
    "In first step we have collected the required data: location and type (category) of every restaurant within 6km from Berlin center (Alexanderplatz). We have also identified Italian restaurants (according to Foursquare categorization).\n",
    "\n",
    "Second step in our analysis will be calculation and exploration of 'restaurant density' across different areas of Berlin - we will use heatmaps to identify a few promising areas close to center with low number of restaurants in general (and no Italian restaurants in vicinity) and focus our attention on those areas.\n",
    "\n",
    "In third and final step we will focus on most promising areas and within those create clusters of locations that meet some basic requirements established in discussion with stakeholders: we will take into consideration locations with no more than two restaurants in radius of 250 meters, and we want locations without Italian restaurants in radius of 400 meters. We will present map of all such locations but also create clusters (using k-means clustering) of those locations to identify general zones / neighborhoods / addresses which should be a starting point for final 'street level' exploration and search for optimal venue location by stakeholders.\n",
    "***"
   ]
  },
  {
   "cell_type": "markdown",
   "id": "european-spain",
   "metadata": {},
   "source": [
    "#### Explore Neighborhoods in Vancouver"
   ]
  },
  {
   "cell_type": "code",
   "execution_count": null,
   "id": "african-scott",
   "metadata": {},
   "outputs": [],
   "source": [
    "# Define Foursquare Credentials and Version\n",
    "CLIENT_ID = 'OC30BIT0T1C1DAJAXAUJGG1H3MQ1XOOZULL5ZWMARRVZFR0K' # your Foursquare ID\n",
    "CLIENT_SECRET = 'NGO53AGQLJYHRMVAADNXU2QXJX1SLPK5M3HSMNTOWZQUMJZY' # your Foursquare Secret\n",
    "VERSION = '20180605' # Foursquare API version\n",
    "LIMIT = 100 # A default Foursquare API limit value"
   ]
  },
  {
   "cell_type": "code",
   "execution_count": null,
   "id": "humanitarian-minnesota",
   "metadata": {},
   "outputs": [],
   "source": [
    "def getNearbyVenues(names, latitudes, longitudes, radius=1000):\n",
    "    \"\"\" names, latitudes, longitudes are columns from a dataframe. \"\"\"\n",
    "    venues_list = []\n",
    "    for name, lat, lng in zip(names, latitudes, longitudes):\n",
    "        print(name)\n",
    "        # create the API request URL\n",
    "        url = 'https://api.foursquare.com/v2/venues/explore?&client_id={}&client_secret={}&v={}&ll={},{}&radius={}&limit={}'.format(\n",
    "            CLIENT_ID,\n",
    "            CLIENT_SECRET,\n",
    "            VERSION,\n",
    "            lat,\n",
    "            lng,\n",
    "            radius,\n",
    "            LIMIT)\n",
    "        # make the GET request\n",
    "        results = requests.get(url).json()[\"response\"]['groups'][0]['items']\n",
    "        # return only relevant information for each nearby venue\n",
    "        venues_list.append([(name, lat, lng,\n",
    "            v['venue']['name'],\n",
    "            v['venue']['location']['lat'],\n",
    "            v['venue']['location']['lng'],\n",
    "            v['venue']['categories'][0]['name']) for v in results])\n",
    "\n",
    "    nearby_venues = pd.DataFrame([item for venue_list in venues_list for item in venue_list])\n",
    "    nearby_venues.columns = ['Neighborhood',\n",
    "                  'Neighborhood Latitude',\n",
    "                  'Neighborhood Longitude',\n",
    "                  'Venue',\n",
    "                  'Venue Latitude',\n",
    "                  'Venue Longitude',\n",
    "                  'Venue Category']\n",
    "    \n",
    "    return(nearby_venues)"
   ]
  },
  {
   "cell_type": "code",
   "execution_count": null,
   "id": "acting-network",
   "metadata": {},
   "outputs": [],
   "source": [
    "# Run the above function on each neighborhood and create a new dataframe called ba_venues.\n",
    "vancouver_venues = getNearbyVenues(names=neighborhoods['Neighborhood'],\n",
    "                            latitudes=neighborhoods['Latitude'],\n",
    "                            longitudes=neighborhoods['Longitude'])"
   ]
  },
  {
   "cell_type": "code",
   "execution_count": null,
   "id": "chemical-smart",
   "metadata": {},
   "outputs": [],
   "source": [
    "print(vancouver_venues.shape)\n",
    "vancouver_venues"
   ]
  },
  {
   "cell_type": "code",
   "execution_count": null,
   "id": "cognitive-clarity",
   "metadata": {},
   "outputs": [],
   "source": [
    "vancouver_venues.duplicated().sum()"
   ]
  },
  {
   "cell_type": "markdown",
   "id": "excited-irrigation",
   "metadata": {},
   "source": [
    "There are no duplicated rows (EXPLAIN THAT I USE 1000 FEET AS RADIUS...)"
   ]
  },
  {
   "cell_type": "code",
   "execution_count": null,
   "id": "accepting-kazakhstan",
   "metadata": {},
   "outputs": [],
   "source": [
    "# Let's check how many venues were returned for each neighborhood\n",
    "pd.set_option('display.max_rows', None)\n",
    "vancouver_venues_grouped = vancouver_venues.groupby('Neighborhood').count().reset_index()\n",
    "vancouver_venues_grouped.sort_values('Venue', ascending=False)"
   ]
  },
  {
   "cell_type": "code",
   "execution_count": null,
   "id": "emotional-integer",
   "metadata": {},
   "outputs": [],
   "source": [
    "print(vancouver_venues_grouped.shape)"
   ]
  },
  {
   "cell_type": "markdown",
   "id": "buried-writing",
   "metadata": {},
   "source": [
    "The dataset has data for all 31 areas considered."
   ]
  },
  {
   "cell_type": "code",
   "execution_count": null,
   "id": "disturbed-watts",
   "metadata": {},
   "outputs": [],
   "source": [
    "print('There are {} uniques categories.'.format(len(vancouver_venues['Venue Category'].unique())))"
   ]
  },
  {
   "cell_type": "markdown",
   "id": "nominated-memory",
   "metadata": {},
   "source": [
    "Let's take a look at where all these venues are located:"
   ]
  },
  {
   "cell_type": "code",
   "execution_count": null,
   "id": "piano-reliance",
   "metadata": {},
   "outputs": [],
   "source": [
    "# create map of Vancouver using latitude and longitude values\n",
    "map_venues = folium.Map(location=[latitude, longitude], zoom_start=12)\n",
    "\n",
    "# add markers to map\n",
    "for lat, lng, venue, venue_cat, in zip(vancouver_venues['Venue Latitude'], \n",
    "                                       vancouver_venues['Venue Longitude'],\n",
    "                                       vancouver_venues['Venue'],\n",
    "                                       vancouver_venues['Venue Category']\n",
    "                                            ):\n",
    "    label = '{}, {}'.format(venue, venue_cat)\n",
    "    label = folium.Popup(label, parse_html=True)\n",
    "    folium.CircleMarker(\n",
    "        [lat, lng],\n",
    "        radius=5,\n",
    "        popup=label,\n",
    "        color='blue',\n",
    "        fill=True,\n",
    "        fill_color='lightblue',\n",
    "        fill_opacity=0.7,\n",
    "        parse_html=False).add_to(map_venues)\n",
    "\n",
    "map_venues"
   ]
  },
  {
   "cell_type": "code",
   "execution_count": null,
   "id": "colonial-domain",
   "metadata": {},
   "outputs": [],
   "source": [
    "vancouver_venues.groupby('Venue Category').count().sort_values('Venue', ascending=False)"
   ]
  },
  {
   "cell_type": "code",
   "execution_count": null,
   "id": "orange-baking",
   "metadata": {},
   "outputs": [],
   "source": [
    "# one hot encoding\n",
    "vancouver_onehot = pd.get_dummies(vancouver_venues[['Venue Category']], prefix=\"\", prefix_sep=\"\")\n",
    "vancouver_onehot.head()"
   ]
  },
  {
   "cell_type": "markdown",
   "id": "present-cleanup",
   "metadata": {},
   "source": [
    "I am interested in venues that sell coffee/tea/juice and pastries/pies/snacks/food on the go, so I will create a subdf with only those categories:"
   ]
  },
  {
   "cell_type": "code",
   "execution_count": null,
   "id": "first-tunisia",
   "metadata": {},
   "outputs": [],
   "source": [
    "# tea_shops = ['Breakfast Spot', 'Tea Room', 'Creperie']\n",
    "\n",
    "# tea_venues = vancouver_venues[snacks_shops]\n",
    "# tea_venues ####### rearrange this!!!"
   ]
  },
  {
   "cell_type": "code",
   "execution_count": null,
   "id": "solved-legend",
   "metadata": {},
   "outputs": [],
   "source": [
    "tea_onehot = vancouver_onehot[['Breakfast Spot', 'Tea Room', 'Creperie']]\n",
    "tea_onehot.head()"
   ]
  },
  {
   "cell_type": "code",
   "execution_count": null,
   "id": "interstate-nursery",
   "metadata": {},
   "outputs": [],
   "source": [
    "# add neighborhood column back to dataframe\n",
    "tea_onehot['Neighborhood'] = vancouver_venues['Neighborhood']\n",
    "\n",
    "# move neighborhood column to the first column\n",
    "fixed_columns = [tea_onehot.columns[-1]] + list(tea_onehot.columns[:-1])\n",
    "tea_onehot = tea_onehot[fixed_columns]\n",
    "\n",
    "# move neighborhood column to the first column\n",
    "tea_onehot.head()"
   ]
  },
  {
   "cell_type": "code",
   "execution_count": null,
   "id": "selective-print",
   "metadata": {},
   "outputs": [],
   "source": [
    "tea_onehot = tea_onehot.copy()"
   ]
  },
  {
   "cell_type": "markdown",
   "id": "knowing-tactics",
   "metadata": {},
   "source": [
    "Let's examine the new dataframe's size:"
   ]
  },
  {
   "cell_type": "code",
   "execution_count": null,
   "id": "identical-confusion",
   "metadata": {},
   "outputs": [],
   "source": [
    "tea_onehot.shape"
   ]
  },
  {
   "cell_type": "code",
   "execution_count": null,
   "id": "abroad-lottery",
   "metadata": {},
   "outputs": [],
   "source": [
    "# Next, let's group rows by neighborhood and by taking the mean of the frequency of occurrence of each category\n",
    "pd.set_option('display.max_rows', 10)\n",
    "\n",
    "tea_grouped = tea_onehot.groupby('Neighborhood').mean().reset_index()\n",
    "tea_grouped"
   ]
  },
  {
   "cell_type": "code",
   "execution_count": null,
   "id": "demonstrated-theme",
   "metadata": {},
   "outputs": [],
   "source": [
    "# # Sort the venues in descending order\n",
    "# def return_most_common_venues(row, num_top_venues):\n",
    "#     row_categories = row.iloc[1:]\n",
    "#     row_categories_sorted = row_categories.sort_values(ascending=False)\n",
    "    \n",
    "#     return row_categories_sorted.index.values[0:num_top_venues]"
   ]
  },
  {
   "cell_type": "code",
   "execution_count": null,
   "id": "dried-vermont",
   "metadata": {},
   "outputs": [],
   "source": [
    "# # Create the new dataframe and display the top 5 venues for each neighborhood. \n",
    "# num_top_venues = 3\n",
    "\n",
    "# indicators = ['st', 'nd', 'rd']\n",
    "\n",
    "# # create columns according to number of top venues\n",
    "# columns = ['Neighborhood']\n",
    "# for ind in np.arange(num_top_venues):\n",
    "#     try:\n",
    "#         columns.append('{}{} Most Common Venue'.format(ind+1, indicators[ind]))\n",
    "#     except:\n",
    "#         columns.append('{}th Most Common Venue'.format(ind+1))\n",
    "\n",
    "# # create a new dataframe\n",
    "# neighborhoods_venues_sorted = pd.DataFrame(columns=columns)\n",
    "# neighborhoods_venues_sorted['Neighborhood'] = tea_grouped['Neighborhood']\n",
    "\n",
    "# for ind in np.arange(tea_grouped.shape[0]):\n",
    "#     neighborhoods_venues_sorted.iloc[ind, 1:] = return_most_common_venues(tea_grouped.iloc[ind, :], num_top_venues)\n",
    "\n",
    "# neighborhoods_venues_sorted.head()"
   ]
  },
  {
   "cell_type": "markdown",
   "id": "pregnant-universal",
   "metadata": {},
   "source": [
    "***"
   ]
  },
  {
   "cell_type": "markdown",
   "id": "opened-frank",
   "metadata": {},
   "source": [
    "## Analysis <a name=\"analysis\"></a>"
   ]
  },
  {
   "cell_type": "markdown",
   "id": "derived-discipline",
   "metadata": {},
   "source": [
    "#### Cluster Neighborhoods"
   ]
  },
  {
   "cell_type": "markdown",
   "id": "electric-better",
   "metadata": {},
   "source": [
    "#### Elbow Method to determine the optimal value of k"
   ]
  },
  {
   "cell_type": "code",
   "execution_count": null,
   "id": "quick-premiere",
   "metadata": {},
   "outputs": [],
   "source": [
    "from sklearn.cluster import KMeans\n",
    "from sklearn import metrics\n",
    "from scipy.spatial.distance import cdist\n",
    "import numpy as np\n",
    "import matplotlib.pyplot as plt"
   ]
  },
  {
   "cell_type": "code",
   "execution_count": null,
   "id": "mathematical-coordinate",
   "metadata": {},
   "outputs": [],
   "source": [
    "# drop 'Neighborhood' column before clustering\n",
    "tea_grouped_clustering = tea_grouped.drop('Neighborhood', 1)"
   ]
  },
  {
   "cell_type": "code",
   "execution_count": null,
   "id": "usual-france",
   "metadata": {},
   "outputs": [],
   "source": [
    "distortions = []\n",
    "inertias = []\n",
    "mapping1 = {}\n",
    "mapping2 = {}\n",
    "K = range(1, 10)\n",
    " \n",
    "for k in K:\n",
    "    # Building and fitting the model\n",
    "    kmeanModel = KMeans(n_clusters=k).fit(tea_grouped_clustering)\n",
    "    kmeanModel.fit(tea_grouped_clustering)\n",
    " \n",
    "    distortions.append(sum(np.min(cdist(tea_grouped_clustering, kmeanModel.cluster_centers_,\n",
    "                                        'euclidean'), axis=1)) / tea_grouped_clustering.shape[0])\n",
    "    inertias.append(kmeanModel.inertia_)\n",
    " \n",
    "    mapping1[k] = sum(np.min(cdist(tea_grouped_clustering, kmeanModel.cluster_centers_,\n",
    "                                   'euclidean'), axis=1)) / tea_grouped_clustering.shape[0]\n",
    "    mapping2[k] = kmeanModel.inertia_"
   ]
  },
  {
   "cell_type": "markdown",
   "id": "billion-baking",
   "metadata": {},
   "source": [
    "#### Tabulating and Visualizing the results:\n",
    "####  a) Using the different values of Distortion:"
   ]
  },
  {
   "cell_type": "code",
   "execution_count": null,
   "id": "medical-greek",
   "metadata": {},
   "outputs": [],
   "source": [
    "for key, val in mapping1.items():\n",
    "    print(f'{key} : {val}')"
   ]
  },
  {
   "cell_type": "code",
   "execution_count": null,
   "id": "straight-shade",
   "metadata": {},
   "outputs": [],
   "source": [
    "plt.plot(K, distortions, 'bx-')\n",
    "plt.xlabel('Values of K')\n",
    "plt.ylabel('Distortion')\n",
    "plt.title('The Elbow Method using Distortion')\n",
    "plt.show()"
   ]
  },
  {
   "cell_type": "markdown",
   "id": "smoking-disability",
   "metadata": {},
   "source": [
    "####  b) Using the different values of Inertia:"
   ]
  },
  {
   "cell_type": "code",
   "execution_count": null,
   "id": "lonely-spirit",
   "metadata": {},
   "outputs": [],
   "source": [
    "for key, val in mapping2.items():\n",
    "    print(f'{key} : {val}')"
   ]
  },
  {
   "cell_type": "code",
   "execution_count": null,
   "id": "practical-internet",
   "metadata": {},
   "outputs": [],
   "source": [
    "plt.plot(K, inertias, 'bx-')\n",
    "plt.xlabel('Values of K')\n",
    "plt.ylabel('Inertia')\n",
    "plt.title('The Elbow Method using Inertia')\n",
    "plt.show()"
   ]
  },
  {
   "cell_type": "code",
   "execution_count": null,
   "id": "driven-revolution",
   "metadata": {},
   "outputs": [],
   "source": [
    "# from New York Data Set\n",
    "# set number of clusters\n",
    "kclusters = 4\n",
    "\n",
    "# run k-means clustering\n",
    "kmeans = KMeans(n_clusters=kclusters, random_state=0).fit(tea_grouped_clustering)\n",
    "\n",
    "# check cluster labels generated for each row in the dataframe\n",
    "kmeans.labels_[0:10]"
   ]
  },
  {
   "cell_type": "markdown",
   "id": "latest-royal",
   "metadata": {},
   "source": [
    "https://stats.stackexchange.com/questions/89679/what-do-you-do-when-theres-no-elbow-point-for-kmeans-clustering"
   ]
  },
  {
   "cell_type": "markdown",
   "id": "lesser-investment",
   "metadata": {},
   "source": [
    "Let's create a new dataframe that includes the cluster label as well as the frequencies of the tea related venues for each neighborhood."
   ]
  },
  {
   "cell_type": "code",
   "execution_count": null,
   "id": "blank-rough",
   "metadata": {},
   "outputs": [],
   "source": [
    "# tea_grouped['Cluster Labels'] = \n",
    "\n",
    "# feature_file_df['RESULT'] = RESULT_df['RESULT'].values"
   ]
  },
  {
   "cell_type": "code",
   "execution_count": null,
   "id": "advanced-pennsylvania",
   "metadata": {},
   "outputs": [],
   "source": [
    "# add clustering labels to the df\n",
    "tea_grouped.insert(0, 'Cluster Labels', kmeans.labels_)#, allow_duplicates=True)\n",
    "\n",
    "tea_merged = neighborhoods\n",
    "\n",
    "# merge rosario_grouped with toronto_data to add latitude/longitude for each neighborhood\n",
    "tea_merged = tea_merged.join(tea_grouped.set_index('Neighborhood'), on='Neighborhood')"
   ]
  },
  {
   "cell_type": "code",
   "execution_count": null,
   "id": "liberal-hampton",
   "metadata": {},
   "outputs": [],
   "source": [
    "tea_merged"
   ]
  },
  {
   "cell_type": "code",
   "execution_count": null,
   "id": "legitimate-brunswick",
   "metadata": {},
   "outputs": [],
   "source": [
    "# Assign colors to the different Cluster Labels and replace with these new values the column named 'MarkerColor'\n",
    "labels = list(tea_merged['Cluster Labels'])\n",
    "\n",
    "marker_color = []\n",
    "\n",
    "for label in labels:\n",
    "    if label == 0:\n",
    "        marker_color.append('red')\n",
    "    elif label == 1:\n",
    "        marker_color.append('blue')\n",
    "    elif label == 2:\n",
    "        marker_color.append('green')\n",
    "    elif label == 3:\n",
    "        marker_color.append('orange')\n",
    "#     elif label == 4:\n",
    "#         marker_color.append('purple')\n",
    "#     elif label == 5:\n",
    "#         marker_color.append('darkblue')\n",
    "#     elif label == 6:\n",
    "#         marker_color.append('darkgreen') \n",
    "        \n",
    "tea_merged['MarkerColor'] = marker_color\n",
    "tea_merged.head()"
   ]
  },
  {
   "cell_type": "code",
   "execution_count": null,
   "id": "impressed-august",
   "metadata": {},
   "outputs": [],
   "source": [
    "# create map of Vancouver showing clusters\n",
    "map_clusters = folium.Map(location=[latitude, longitude], zoom_start=12)\n",
    "\n",
    "# add markers to map\n",
    "for lat, lng, neighborhood, markercolor in zip(tea_merged['Latitude'],\n",
    "                                               tea_merged['Longitude'],\n",
    "                                               tea_merged['Neighborhood'],\n",
    "                                               tea_merged['MarkerColor']):\n",
    "    label = neighborhood\n",
    "    label = folium.Popup(label, parse_html=True)\n",
    "    folium.CircleMarker(\n",
    "        [lat, lng],\n",
    "        radius=5,\n",
    "        popup=label,\n",
    "        color=markercolor,\n",
    "        fill=True,\n",
    "        fill_color=markercolor,\n",
    "        fill_opacity=0.7,\n",
    "        parse_html=False).add_to(map_clusters)\n",
    "\n",
    "map_clusters"
   ]
  },
  {
   "cell_type": "markdown",
   "id": "sexual-reach",
   "metadata": {},
   "source": [
    "https://www.analyticsvidhya.com/blog/2019/08/comprehensive-guide-k-means-clustering/"
   ]
  },
  {
   "cell_type": "markdown",
   "id": "lonely-restriction",
   "metadata": {},
   "source": [
    "### Examine clusters"
   ]
  },
  {
   "cell_type": "code",
   "execution_count": null,
   "id": "occasional-gates",
   "metadata": {},
   "outputs": [],
   "source": [
    "tea_merged.head()"
   ]
  },
  {
   "cell_type": "code",
   "execution_count": null,
   "id": "continental-shoulder",
   "metadata": {},
   "outputs": [],
   "source": [
    "# create subdf\n",
    "sub_tea_merged = tea_merged[['Cluster Labels', 'Breakfast Spot', 'Tea Room', 'Creperie']]\n",
    "# use df.melt to rearrange data before plotting\n",
    "data = sub_tea_merged.melt('Cluster Labels', var_name='Shop', value_name='Frequencies')"
   ]
  },
  {
   "cell_type": "code",
   "execution_count": null,
   "id": "radical-disposal",
   "metadata": {},
   "outputs": [],
   "source": [
    "# avg number tea shops vs cluster\n",
    "import matplotlib.pyplot as plt\n",
    "import seaborn as sns\n",
    "\n",
    "sns.set_theme(style=\"whitegrid\")\n",
    "ax = sns.barplot(x=\"Cluster Labels\", y=\"Frequencies\", hue=\"Shop\", data=data)\n",
    "ax.set_title(\"Average Number of Tea & Pastries Shops per Cluster\")\n",
    "\n",
    "# ax=sns.barplot(x='date', y='b', hue='a', data=data)\n",
    "# ax.set_xticklabels(ax.get_xticklabels(), rotation=90)"
   ]
  },
  {
   "cell_type": "markdown",
   "id": "french-thing",
   "metadata": {},
   "source": [
    "There are no \"Tea & Pastries\" shops in neighborhoods grouped in cluster 2.\n",
    "\n",
    "Cluster number 1 is the cluster with more Breakfast Spots, followed by cluster 0.\n",
    "\n",
    "There is only one Creperie (in cluster 1), so this type of shop wouldn't be big competitors. @@@@@@@@@@@@@\n",
    "\n",
    "Cluster 3 has five times more Tea Rooms than cluster 0, and the difference is even bigger with cluster 1.  \n",
    "\n",
    "Let's see how many neighborhoods are there in each cluster:"
   ]
  },
  {
   "cell_type": "code",
   "execution_count": null,
   "id": "incomplete-cancer",
   "metadata": {},
   "outputs": [],
   "source": [
    "# create a sub dataframe with only 'Neighborhood', 'Cluster Labels', 'Yoga Studio' columns in it\n"
   ]
  },
  {
   "cell_type": "code",
   "execution_count": null,
   "id": "continent-bread",
   "metadata": {},
   "outputs": [],
   "source": [
    "# create a sub dataframe with only 'Neighborhood', 'Cluster Labels', ''Breakfast Spot', 'Tea Room' and 'Creperie' columns in it\n",
    "neighborhoods_cluster = tea_merged[['Neighborhood', 'Cluster Labels', 'Breakfast Spot', 'Tea Room', 'Creperie']]\n",
    "# group by cluster label and count the number of neighborhoods in each cluster\n",
    "neighborhoods_per_cluster = neighborhoods_cluster.groupby('Cluster Labels')['Neighborhood'].count().to_frame()\n",
    "neighborhoods_per_cluster.reset_index(inplace=True)\n",
    "neighborhoods_per_cluster"
   ]
  },
  {
   "cell_type": "code",
   "execution_count": null,
   "id": "dramatic-sponsorship",
   "metadata": {},
   "outputs": [],
   "source": [
    "# plot number of neighborhoods vs cluster\n",
    "sns.set_theme(style=\"whitegrid\")\n",
    "ax = sns.barplot(x=\"Cluster Labels\", y=\"Neighborhood\", data=neighborhoods_per_cluster)\n",
    "ax.set_title(\"Number of Neighborhoods per Cluster\")"
   ]
  },
  {
   "cell_type": "markdown",
   "id": "informational-ocean",
   "metadata": {},
   "source": [
    "The plots show that the Tea Rooms from cluster 3 are concentrated in a small area of the city &rarr; possible spots?\n",
    "\n",
    "Cluster 2 has the highest number of neighborhoods and no clusters &rarr; maybe no demand?\n",
    "\n",
    "The obvious clusters are 0 and 1, evaluate this."
   ]
  },
  {
   "cell_type": "code",
   "execution_count": null,
   "id": "middle-addition",
   "metadata": {},
   "outputs": [],
   "source": []
  },
  {
   "cell_type": "code",
   "execution_count": null,
   "id": "reflected-canon",
   "metadata": {},
   "outputs": [],
   "source": []
  },
  {
   "cell_type": "code",
   "execution_count": null,
   "id": "standing-klein",
   "metadata": {},
   "outputs": [],
   "source": []
  },
  {
   "cell_type": "code",
   "execution_count": null,
   "id": "spatial-yeast",
   "metadata": {},
   "outputs": [],
   "source": []
  },
  {
   "cell_type": "code",
   "execution_count": null,
   "id": "earlier-whole",
   "metadata": {},
   "outputs": [],
   "source": []
  },
  {
   "cell_type": "code",
   "execution_count": null,
   "id": "authentic-automation",
   "metadata": {},
   "outputs": [],
   "source": [
    "tea_merged[tea_merged['Cluster Labels'] == 3]"
   ]
  },
  {
   "cell_type": "code",
   "execution_count": null,
   "id": "optical-henry",
   "metadata": {},
   "outputs": [],
   "source": [
    "vancouver_venues[(vancouver_venues['Venue Category'] == 'Tea Room')]"
   ]
  },
  {
   "cell_type": "code",
   "execution_count": null,
   "id": "czech-maria",
   "metadata": {},
   "outputs": [],
   "source": [
    "neighborhoods.loc[(neighborhoods[neighborhoods['PostalCode'] == 'V6M']).index,'Neighborhood']"
   ]
  },
  {
   "cell_type": "markdown",
   "id": "deadly-ukraine",
   "metadata": {},
   "source": [
    "South Shaughnessy / NW Oakridge / NE Kerrisdale / SE Arbutus Ridge"
   ]
  },
  {
   "cell_type": "code",
   "execution_count": null,
   "id": "accredited-chinese",
   "metadata": {},
   "outputs": [],
   "source": []
  },
  {
   "cell_type": "code",
   "execution_count": null,
   "id": "homeless-artwork",
   "metadata": {},
   "outputs": [],
   "source": []
  },
  {
   "cell_type": "markdown",
   "id": "assisted-spain",
   "metadata": {},
   "source": [
    "# &rarr; Explore areas of Vancouver in order to find a good spot to open a \"Tea & Pastries\" shop.\n",
    "\n",
    "Consider:\n",
    "- Areas highly visited by turists\n",
    "- City demographic diversity\n",
    "- Areas with no venues like this\n",
    "\n",
    "\n",
    "\n",
    "\n",
    "\n",
    "\n",
    "\n",
    "READ about South Shaughnessy / NW Oakridge / NE Kerrisdale / SE Arbutus Ridge &rarr; may be a good idea to open a shop there since there is high demand.\n",
    "\n",
    "https://en.wikipedia.org/wiki/Shaughnessy,_Vancouver\n",
    "\n",
    "https://en.wikipedia.org/wiki/Oakridge,_Vancouver\n",
    "\n",
    "https://en.wikipedia.org/wiki/Kerrisdale\n",
    "\n",
    "https://en.wikipedia.org/wiki/Arbutus_Ridge\n",
    "\n"
   ]
  },
  {
   "cell_type": "markdown",
   "id": "perceived-delivery",
   "metadata": {},
   "source": [
    "***"
   ]
  },
  {
   "cell_type": "markdown",
   "id": "systematic-plymouth",
   "metadata": {},
   "source": [
    "## Results and Discussion <a name=\"results\"></a>"
   ]
  },
  {
   "cell_type": "markdown",
   "id": "scheduled-pharmacology",
   "metadata": {},
   "source": [
    "Write 2-3 paragraphs\n",
    "\n",
    "***"
   ]
  },
  {
   "cell_type": "markdown",
   "id": "promising-assessment",
   "metadata": {},
   "source": [
    "## Conclusion <a name=\"conclusion\"></a>"
   ]
  },
  {
   "cell_type": "markdown",
   "id": "talented-freeware",
   "metadata": {},
   "source": [
    "Write 2-3 paragraphs\n",
    "***"
   ]
  },
  {
   "cell_type": "markdown",
   "id": "statutory-lafayette",
   "metadata": {},
   "source": [
    "## References <a name=\"references\"></a>"
   ]
  },
  {
   "cell_type": "markdown",
   "id": "fancy-delight",
   "metadata": {},
   "source": []
  },
  {
   "cell_type": "markdown",
   "id": "normal-photographer",
   "metadata": {},
   "source": [
    "https://en.wikipedia.org/wiki/Vancouver\n",
    "\n",
    "https://en.wikipedia.org/wiki/List_of_postal_codes_of_Canada:_V"
   ]
  },
  {
   "cell_type": "markdown",
   "id": "casual-continent",
   "metadata": {},
   "source": [
    "***"
   ]
  },
  {
   "cell_type": "code",
   "execution_count": null,
   "id": "celtic-refrigerator",
   "metadata": {},
   "outputs": [],
   "source": []
  },
  {
   "cell_type": "code",
   "execution_count": null,
   "id": "rising-reception",
   "metadata": {},
   "outputs": [],
   "source": []
  },
  {
   "cell_type": "code",
   "execution_count": null,
   "id": "illegal-injury",
   "metadata": {},
   "outputs": [],
   "source": []
  },
  {
   "cell_type": "code",
   "execution_count": null,
   "id": "after-armstrong",
   "metadata": {
    "jupyter": {
     "source_hidden": true
    }
   },
   "outputs": [],
   "source": [
    "cluster_0 = tea_merged.loc[tea_merged['Cluster Labels'] == 0,\n",
    "                           tea_merged.columns[[1] + list(range(5, tea_merged.shape[1]))]]\n",
    "cluster_0"
   ]
  },
  {
   "cell_type": "code",
   "execution_count": null,
   "id": "statistical-fluid",
   "metadata": {
    "jupyter": {
     "source_hidden": true
    }
   },
   "outputs": [],
   "source": [
    "# find the mode for each of the first 3 columns\n",
    "n = 0\n",
    "for column in cluster_0.columns[1:]:\n",
    "    print(cluster_0[column].mode())\n",
    "    n += 1\n",
    "    if n == 3:\n",
    "        break"
   ]
  },
  {
   "cell_type": "code",
   "execution_count": null,
   "id": "demanding-increase",
   "metadata": {
    "jupyter": {
     "source_hidden": true
    }
   },
   "outputs": [],
   "source": [
    "cluster_1 = tea_merged.loc[tea_merged['Cluster Labels'] == 1,\n",
    "                           tea_merged.columns[[1] + list(range(5, tea_merged.shape[1]))]]\n",
    "cluster_1"
   ]
  },
  {
   "cell_type": "code",
   "execution_count": null,
   "id": "chicken-mandate",
   "metadata": {
    "jupyter": {
     "source_hidden": true
    }
   },
   "outputs": [],
   "source": [
    "# find the mode for each of the first 3 columns\n",
    "n = 0\n",
    "for column in cluster_1.columns[1:]:\n",
    "    print(cluster_1[column].mode())\n",
    "    n += 1\n",
    "    if n == 3:\n",
    "        break"
   ]
  },
  {
   "cell_type": "code",
   "execution_count": null,
   "id": "academic-action",
   "metadata": {},
   "outputs": [],
   "source": []
  }
 ],
 "metadata": {
  "kernelspec": {
   "display_name": "Python 3",
   "language": "python",
   "name": "python3"
  },
  "language_info": {
   "codemirror_mode": {
    "name": "ipython",
    "version": 3
   },
   "file_extension": ".py",
   "mimetype": "text/x-python",
   "name": "python",
   "nbconvert_exporter": "python",
   "pygments_lexer": "ipython3",
   "version": "3.7.6"
  }
 },
 "nbformat": 4,
 "nbformat_minor": 5
}
