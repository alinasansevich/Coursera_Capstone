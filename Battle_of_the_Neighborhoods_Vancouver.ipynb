{
 "cells": [
  {
   "cell_type": "markdown",
   "id": "paperback-delivery",
   "metadata": {},
   "source": [
    "# The Battle of the Neighborhoods - Open a Tea Room in Vancouver\n",
    "\n",
    "### Capstone Project - IBM Data Science Professional Certificate - Coursera\n",
    "***"
   ]
  },
  {
   "cell_type": "markdown",
   "id": "falling-region",
   "metadata": {},
   "source": [
    "## Table of contents\n",
    "* [Introduction: Business Problem](#introduction)\n",
    "* [Data](#data)\n",
    "* [Methodology](#methodology)\n",
    "* [Analysis](#analysis)\n",
    "* [Results and Discussion](#results)\n",
    "* [Conclusion](#conclusion)\n",
    "* [References](#references)\n",
    "***"
   ]
  },
  {
   "cell_type": "markdown",
   "id": "convinced-cylinder",
   "metadata": {},
   "source": [
    "## Introduction: Business Problem <a name=\"introduction\"></a>"
   ]
  },
  {
   "cell_type": "markdown",
   "id": "cognitive-messaging",
   "metadata": {},
   "source": [
    "Vancouver is a major city in western Canada, located in the region of British Columbia. It is one of the most ethnically and linguistically diverse cities in Canada. Almost half of its residents are not native English speakers and belong to visible minority groups, mostly Asians. With its location on the Pacific Rim and at the western terminus of Canada's transcontinental highway and rail routes, Vancouver is one of the nation's largest industrial centres, and it's scenic location makes it a major tourist destination.\n",
    "\n",
    "In many asian countries, a teahouse is traditionally a place which offers tea to its customers, alongside with small plates of food. People gather at teahouses to chat, socialize and enjoy tea, and young people often meet at teahouses for dates. Tea rooms are also popular in Commonwealth countries, particularly Canada, with its harsh winters when afternoon tea is popular. The menu will generally have pastries, butter tarts or other small desserts. \n",
    "\n",
    "All these factors combined make of Vancouver a perfect city to open a Tea Room. In this project I will try to find an optimal location for a \"Tea Room & Pastries\" shop. Specifically, __this report will be targeted to stakeholders interested in opening a Tea Room in Vancouver, Canada__.\n",
    "\n",
    "I will try to detect locations that are not already crowded with tea rooms, coffee shops and similar venues. I will take into account the city's neighborhoods demographic diversity and the proximity to tourist attractions to evaluate each location's potential attractiveness to customers.\n",
    "\n",
    "I will use my data science skills to find the most promissing neighborhoods based on this criteria. Advantages of each area will be described so that the best possible final location can be chosen by stakeholders.\n",
    "\n",
    "***"
   ]
  },
  {
   "cell_type": "markdown",
   "id": "macro-provision",
   "metadata": {},
   "source": [
    "## Data <a name=\"data\"></a>"
   ]
  },
  {
   "cell_type": "markdown",
   "id": "similar-hundred",
   "metadata": {},
   "source": [
    "Based on the definition of the problem, the following factors will guide this analysis:\n",
    "* The number of existing similar venues in the neighborhood (other tea rooms, breakfast spots, coffee shops, etc.)\n",
    "* The proximity to tourist attractions.\n",
    "* Each neighborhoods' demographics and its residential or commercial character.\n",
    "\n",
    "I will use the [postal codes of British Columbia](https://en.wikipedia.org/wiki/List_of_postal_codes_of_Canada:_V) to find Vancouver's neighborhoods names and postal codes. \n",
    "\n",
    "I will use the following resources to extract/generate the required information:\n",
    "- To get the center coordinates of each postal code I will use __Geopy__.\n",
    "- The data about venues (name, type and location) for each neighborhood will be obtained using **Foursquare API**.\n",
    "- To find information about the city and it's demographics, I will use [Vancouver's Wikipedia page](https://en.wikipedia.org/wiki/Vancouver)"
   ]
  },
  {
   "cell_type": "markdown",
   "id": "velvet-briefs",
   "metadata": {},
   "source": [
    "Let's start by importing the necessary libraries:"
   ]
  },
  {
   "cell_type": "code",
   "execution_count": 1,
   "id": "demonstrated-prefix",
   "metadata": {},
   "outputs": [
    {
     "name": "stdout",
     "output_type": "stream",
     "text": [
      "Libraries imported.\n"
     ]
    }
   ],
   "source": [
    "import requests\n",
    "import os\n",
    "import pandas as pd\n",
    "import numpy as np\n",
    "import json\n",
    "\n",
    "from pandas.io.json import json_normalize # tranform JSON file into a pandas dataframe >>> DO I NEED THIS?\n",
    "\n",
    "from bs4 import BeautifulSoup\n",
    "\n",
    "import matplotlib.cm as cm\n",
    "import matplotlib.colors as colors\n",
    "\n",
    "# from sklearn.cluster import KMeans ######### imported later\n",
    "\n",
    "import folium # map rendering library\n",
    "\n",
    "print('Libraries imported.')"
   ]
  },
  {
   "cell_type": "markdown",
   "id": "changing-washer",
   "metadata": {},
   "source": [
    "Let's start by searching for the postal codes and the names of Vancouver's neighborhoods. Postal codes beginning with V are located within the Canadian province of British Columbia, where Vancouver is located. So I will start by scraping the list of postal codes of Canada from Wikipedia."
   ]
  },
  {
   "cell_type": "code",
   "execution_count": 2,
   "id": "palestinian-bathroom",
   "metadata": {},
   "outputs": [
    {
     "name": "stdout",
     "output_type": "stream",
     "text": [
      "(20, 9)\n"
     ]
    },
    {
     "data": {
      "text/html": [
       "<div>\n",
       "<style scoped>\n",
       "    .dataframe tbody tr th:only-of-type {\n",
       "        vertical-align: middle;\n",
       "    }\n",
       "\n",
       "    .dataframe tbody tr th {\n",
       "        vertical-align: top;\n",
       "    }\n",
       "\n",
       "    .dataframe thead th {\n",
       "        text-align: right;\n",
       "    }\n",
       "</style>\n",
       "<table border=\"1\" class=\"dataframe\">\n",
       "  <thead>\n",
       "    <tr style=\"text-align: right;\">\n",
       "      <th></th>\n",
       "      <th>0</th>\n",
       "      <th>1</th>\n",
       "      <th>2</th>\n",
       "      <th>3</th>\n",
       "      <th>4</th>\n",
       "      <th>5</th>\n",
       "      <th>6</th>\n",
       "      <th>7</th>\n",
       "      <th>8</th>\n",
       "    </tr>\n",
       "  </thead>\n",
       "  <tbody>\n",
       "    <tr>\n",
       "      <th>0</th>\n",
       "      <td>V1AKimberley</td>\n",
       "      <td>V2APenticton</td>\n",
       "      <td>V3ALangley Township(Langley City)</td>\n",
       "      <td>V4ASurreySouthwest</td>\n",
       "      <td>V5ABurnaby(Government Road / Lake City / SFU /...</td>\n",
       "      <td>V6AVancouver(Strathcona / Chinatown / Downtown...</td>\n",
       "      <td>V7ARichmondSouth</td>\n",
       "      <td>V8APowell River</td>\n",
       "      <td>V9AVictoria(Vic West / Esquimalt)Canadian Forc...</td>\n",
       "    </tr>\n",
       "    <tr>\n",
       "      <th>1</th>\n",
       "      <td>V1BVernonEast</td>\n",
       "      <td>V2BKamloopsNorthwest</td>\n",
       "      <td>V3BPort CoquitlamCentral</td>\n",
       "      <td>V4BWhite Rock</td>\n",
       "      <td>V5BBurnaby(Parkcrest-Aubrey / Ardingley-Sprott)</td>\n",
       "      <td>V6BVancouver(NE Downtown / Gastown / Harbour C...</td>\n",
       "      <td>V7BRichmond(Sea Island / YVR)</td>\n",
       "      <td>V8BSquamish</td>\n",
       "      <td>V9BVictoria(West Highlands / North Langford / ...</td>\n",
       "    </tr>\n",
       "    <tr>\n",
       "      <th>2</th>\n",
       "      <td>V1CCranbrook</td>\n",
       "      <td>V2CKamloopsCentral and Southeast</td>\n",
       "      <td>V3CPort CoquitlamSouth</td>\n",
       "      <td>V4CDeltaNortheast</td>\n",
       "      <td>V5CBurnaby(Burnaby Heights / Willingdon Height...</td>\n",
       "      <td>V6CVancouver(Waterfront / Coal Harbour / Canad...</td>\n",
       "      <td>V7CRichmondNorthwest</td>\n",
       "      <td>V8CKitimat</td>\n",
       "      <td>V9CVictoria(Colwood / South Langford / Metchosin)</td>\n",
       "    </tr>\n",
       "    <tr>\n",
       "      <th>3</th>\n",
       "      <td>V1ESalmon Arm</td>\n",
       "      <td>V2EKamloopsSouth and West</td>\n",
       "      <td>V3ECoquitlamNorth</td>\n",
       "      <td>V4EDeltaEast</td>\n",
       "      <td>V5EBurnaby(Lakeview-Mayfield / Richmond Park /...</td>\n",
       "      <td>V6EVancouver(SE West End / Davie Village)</td>\n",
       "      <td>V7ERichmondSouthwest</td>\n",
       "      <td>V8EWhistler</td>\n",
       "      <td>V9EVictoria(East Highlands / NW Saanich)</td>\n",
       "    </tr>\n",
       "    <tr>\n",
       "      <th>4</th>\n",
       "      <td>V1GDawson Creek</td>\n",
       "      <td>V2GWilliams Lake</td>\n",
       "      <td>V3GAbbotsfordEast</td>\n",
       "      <td>V4GDeltaEast Central</td>\n",
       "      <td>V5GBurnaby(Cascade-Schou / Douglas-Gilpin)</td>\n",
       "      <td>V6GVancouver(NW West End / Stanley Park)</td>\n",
       "      <td>V7GNorth Vancouver (district municipality)Oute...</td>\n",
       "      <td>V8GTerrace</td>\n",
       "      <td>V9GLadysmith</td>\n",
       "    </tr>\n",
       "  </tbody>\n",
       "</table>\n",
       "</div>"
      ],
      "text/plain": [
       "                 0                                 1  \\\n",
       "0     V1AKimberley                      V2APenticton   \n",
       "1    V1BVernonEast              V2BKamloopsNorthwest   \n",
       "2     V1CCranbrook  V2CKamloopsCentral and Southeast   \n",
       "3    V1ESalmon Arm         V2EKamloopsSouth and West   \n",
       "4  V1GDawson Creek                  V2GWilliams Lake   \n",
       "\n",
       "                                   2                     3  \\\n",
       "0  V3ALangley Township(Langley City)    V4ASurreySouthwest   \n",
       "1           V3BPort CoquitlamCentral         V4BWhite Rock   \n",
       "2             V3CPort CoquitlamSouth     V4CDeltaNortheast   \n",
       "3                  V3ECoquitlamNorth          V4EDeltaEast   \n",
       "4                  V3GAbbotsfordEast  V4GDeltaEast Central   \n",
       "\n",
       "                                                   4  \\\n",
       "0  V5ABurnaby(Government Road / Lake City / SFU /...   \n",
       "1    V5BBurnaby(Parkcrest-Aubrey / Ardingley-Sprott)   \n",
       "2  V5CBurnaby(Burnaby Heights / Willingdon Height...   \n",
       "3  V5EBurnaby(Lakeview-Mayfield / Richmond Park /...   \n",
       "4         V5GBurnaby(Cascade-Schou / Douglas-Gilpin)   \n",
       "\n",
       "                                                   5  \\\n",
       "0  V6AVancouver(Strathcona / Chinatown / Downtown...   \n",
       "1  V6BVancouver(NE Downtown / Gastown / Harbour C...   \n",
       "2  V6CVancouver(Waterfront / Coal Harbour / Canad...   \n",
       "3          V6EVancouver(SE West End / Davie Village)   \n",
       "4           V6GVancouver(NW West End / Stanley Park)   \n",
       "\n",
       "                                                   6                7  \\\n",
       "0                                   V7ARichmondSouth  V8APowell River   \n",
       "1                      V7BRichmond(Sea Island / YVR)      V8BSquamish   \n",
       "2                               V7CRichmondNorthwest       V8CKitimat   \n",
       "3                               V7ERichmondSouthwest      V8EWhistler   \n",
       "4  V7GNorth Vancouver (district municipality)Oute...       V8GTerrace   \n",
       "\n",
       "                                                   8  \n",
       "0  V9AVictoria(Vic West / Esquimalt)Canadian Forc...  \n",
       "1  V9BVictoria(West Highlands / North Langford / ...  \n",
       "2  V9CVictoria(Colwood / South Langford / Metchosin)  \n",
       "3           V9EVictoria(East Highlands / NW Saanich)  \n",
       "4                                       V9GLadysmith  "
      ]
     },
     "execution_count": 2,
     "metadata": {},
     "output_type": "execute_result"
    }
   ],
   "source": [
    "# retrieve the URL and create a BeautifulSoup object\n",
    "url = 'https://en.wikipedia.org/wiki/List_of_postal_codes_of_Canada:_V'\n",
    "bc_wiki = requests.get(url)\n",
    "soup = BeautifulSoup(bc_wiki.content, \"lxml\")\n",
    "\n",
    "table = soup.find_all('table')[0]\n",
    "df = pd.read_html(str(table))\n",
    "bc_data = pd.DataFrame(df[0])\n",
    "bc_data.rename(columns={'Postcode': 'PostalCode', 'Borough': 'Borough', 'Neighbourhood': 'Neighborhood'}, inplace=True)\n",
    "print(bc_data.shape)\n",
    "bc_data.head()"
   ]
  },
  {
   "cell_type": "markdown",
   "id": "minimal-forest",
   "metadata": {},
   "source": [
    "In this table, each data cell contains a postal code and the city and neighborhood/s it has been assigned to. I will rearrange this data to create a new dataframe with columns named \"PostalCode\", \"City\" and \"Neighborhood\", keeping only Vancouver's postal codes."
   ]
  },
  {
   "cell_type": "code",
   "execution_count": 3,
   "id": "dependent-solution",
   "metadata": {},
   "outputs": [],
   "source": [
    "### create one list for each column of bc_data\n",
    "zero = bc_data[0].tolist()\n",
    "one = bc_data[1].tolist()\n",
    "two = bc_data[2].tolist()\n",
    "three = bc_data[3].tolist()\n",
    "four = bc_data[4].tolist()\n",
    "five = bc_data[5].tolist()\n",
    "six = bc_data[6].tolist()\n",
    "seven = bc_data[7].tolist()\n",
    "eight = bc_data[8].tolist()"
   ]
  },
  {
   "cell_type": "code",
   "execution_count": 4,
   "id": "internal-indication",
   "metadata": {},
   "outputs": [
    {
     "data": {
      "text/html": [
       "<div>\n",
       "<style scoped>\n",
       "    .dataframe tbody tr th:only-of-type {\n",
       "        vertical-align: middle;\n",
       "    }\n",
       "\n",
       "    .dataframe tbody tr th {\n",
       "        vertical-align: top;\n",
       "    }\n",
       "\n",
       "    .dataframe thead th {\n",
       "        text-align: right;\n",
       "    }\n",
       "</style>\n",
       "<table border=\"1\" class=\"dataframe\">\n",
       "  <thead>\n",
       "    <tr style=\"text-align: right;\">\n",
       "      <th></th>\n",
       "      <th>0</th>\n",
       "    </tr>\n",
       "  </thead>\n",
       "  <tbody>\n",
       "    <tr>\n",
       "      <th>0</th>\n",
       "      <td>V1AKimberley</td>\n",
       "    </tr>\n",
       "    <tr>\n",
       "      <th>1</th>\n",
       "      <td>V1BVernonEast</td>\n",
       "    </tr>\n",
       "    <tr>\n",
       "      <th>2</th>\n",
       "      <td>V1CCranbrook</td>\n",
       "    </tr>\n",
       "    <tr>\n",
       "      <th>3</th>\n",
       "      <td>V1ESalmon Arm</td>\n",
       "    </tr>\n",
       "    <tr>\n",
       "      <th>4</th>\n",
       "      <td>V1GDawson Creek</td>\n",
       "    </tr>\n",
       "  </tbody>\n",
       "</table>\n",
       "</div>"
      ],
      "text/plain": [
       "                 0\n",
       "0     V1AKimberley\n",
       "1    V1BVernonEast\n",
       "2     V1CCranbrook\n",
       "3    V1ESalmon Arm\n",
       "4  V1GDawson Creek"
      ]
     },
     "execution_count": 4,
     "metadata": {},
     "output_type": "execute_result"
    }
   ],
   "source": [
    "### concatenate all lists and convert to pd.Series\n",
    "bc_series = pd.Series([zero, one, two, three, four, five, six, seven, eight])\n",
    "bc_series = bc_series.sum()\n",
    "### convert Series to DataFrame\n",
    "bc_df = pd.DataFrame(bc_series)\n",
    "bc_df.head()"
   ]
  },
  {
   "cell_type": "code",
   "execution_count": 5,
   "id": "desirable-philosophy",
   "metadata": {},
   "outputs": [
    {
     "data": {
      "text/html": [
       "<div>\n",
       "<style scoped>\n",
       "    .dataframe tbody tr th:only-of-type {\n",
       "        vertical-align: middle;\n",
       "    }\n",
       "\n",
       "    .dataframe tbody tr th {\n",
       "        vertical-align: top;\n",
       "    }\n",
       "\n",
       "    .dataframe thead th {\n",
       "        text-align: right;\n",
       "    }\n",
       "</style>\n",
       "<table border=\"1\" class=\"dataframe\">\n",
       "  <thead>\n",
       "    <tr style=\"text-align: right;\">\n",
       "      <th></th>\n",
       "      <th>0</th>\n",
       "      <th>PostalCode</th>\n",
       "      <th>City-Neighborhood</th>\n",
       "    </tr>\n",
       "  </thead>\n",
       "  <tbody>\n",
       "    <tr>\n",
       "      <th>0</th>\n",
       "      <td>V1AKimberley</td>\n",
       "      <td>V1A</td>\n",
       "      <td>Kimberley</td>\n",
       "    </tr>\n",
       "    <tr>\n",
       "      <th>1</th>\n",
       "      <td>V1BVernonEast</td>\n",
       "      <td>V1B</td>\n",
       "      <td>VernonEast</td>\n",
       "    </tr>\n",
       "    <tr>\n",
       "      <th>2</th>\n",
       "      <td>V1CCranbrook</td>\n",
       "      <td>V1C</td>\n",
       "      <td>Cranbrook</td>\n",
       "    </tr>\n",
       "    <tr>\n",
       "      <th>3</th>\n",
       "      <td>V1ESalmon Arm</td>\n",
       "      <td>V1E</td>\n",
       "      <td>Salmon Arm</td>\n",
       "    </tr>\n",
       "    <tr>\n",
       "      <th>4</th>\n",
       "      <td>V1GDawson Creek</td>\n",
       "      <td>V1G</td>\n",
       "      <td>Dawson Creek</td>\n",
       "    </tr>\n",
       "    <tr>\n",
       "      <th>5</th>\n",
       "      <td>V1HVernonWest</td>\n",
       "      <td>V1H</td>\n",
       "      <td>VernonWest</td>\n",
       "    </tr>\n",
       "    <tr>\n",
       "      <th>6</th>\n",
       "      <td>V1JFort St. John</td>\n",
       "      <td>V1J</td>\n",
       "      <td>Fort St. John</td>\n",
       "    </tr>\n",
       "    <tr>\n",
       "      <th>7</th>\n",
       "      <td>V1KMerritt</td>\n",
       "      <td>V1K</td>\n",
       "      <td>Merritt</td>\n",
       "    </tr>\n",
       "    <tr>\n",
       "      <th>8</th>\n",
       "      <td>V1LNelson</td>\n",
       "      <td>V1L</td>\n",
       "      <td>Nelson</td>\n",
       "    </tr>\n",
       "    <tr>\n",
       "      <th>9</th>\n",
       "      <td>V1MLangley TownshipNorth</td>\n",
       "      <td>V1M</td>\n",
       "      <td>Langley TownshipNorth</td>\n",
       "    </tr>\n",
       "  </tbody>\n",
       "</table>\n",
       "</div>"
      ],
      "text/plain": [
       "                          0 PostalCode      City-Neighborhood\n",
       "0              V1AKimberley        V1A              Kimberley\n",
       "1             V1BVernonEast        V1B             VernonEast\n",
       "2              V1CCranbrook        V1C              Cranbrook\n",
       "3             V1ESalmon Arm        V1E             Salmon Arm\n",
       "4           V1GDawson Creek        V1G           Dawson Creek\n",
       "5             V1HVernonWest        V1H             VernonWest\n",
       "6          V1JFort St. John        V1J          Fort St. John\n",
       "7                V1KMerritt        V1K                Merritt\n",
       "8                 V1LNelson        V1L                 Nelson\n",
       "9  V1MLangley TownshipNorth        V1M  Langley TownshipNorth"
      ]
     },
     "execution_count": 5,
     "metadata": {},
     "output_type": "execute_result"
    }
   ],
   "source": [
    "### split data into 2 columns: PostalCode, City-Neighborhood\n",
    "bc_df['PostalCode'] = bc_df[0].str[:3]\n",
    "bc_df['City-Neighborhood'] = bc_df[0].str[3:]\n",
    "bc_df.head(10)"
   ]
  },
  {
   "cell_type": "code",
   "execution_count": 6,
   "id": "thirty-guard",
   "metadata": {},
   "outputs": [
    {
     "name": "stdout",
     "output_type": "stream",
     "text": [
      "(31, 3)\n"
     ]
    },
    {
     "data": {
      "text/html": [
       "<div>\n",
       "<style scoped>\n",
       "    .dataframe tbody tr th:only-of-type {\n",
       "        vertical-align: middle;\n",
       "    }\n",
       "\n",
       "    .dataframe tbody tr th {\n",
       "        vertical-align: top;\n",
       "    }\n",
       "\n",
       "    .dataframe thead th {\n",
       "        text-align: right;\n",
       "    }\n",
       "</style>\n",
       "<table border=\"1\" class=\"dataframe\">\n",
       "  <thead>\n",
       "    <tr style=\"text-align: right;\">\n",
       "      <th></th>\n",
       "      <th>0</th>\n",
       "      <th>PostalCode</th>\n",
       "      <th>City-Neighborhood</th>\n",
       "    </tr>\n",
       "  </thead>\n",
       "  <tbody>\n",
       "    <tr>\n",
       "      <th>87</th>\n",
       "      <td>V5KVancouver(North Hastings-Sunrise)</td>\n",
       "      <td>V5K</td>\n",
       "      <td>Vancouver(North Hastings-Sunrise)</td>\n",
       "    </tr>\n",
       "    <tr>\n",
       "      <th>88</th>\n",
       "      <td>V5LVancouver(North Grandview-Woodland)</td>\n",
       "      <td>V5L</td>\n",
       "      <td>Vancouver(North Grandview-Woodland)</td>\n",
       "    </tr>\n",
       "    <tr>\n",
       "      <th>89</th>\n",
       "      <td>V5MVancouver(South Hastings-Sunrise / North Re...</td>\n",
       "      <td>V5M</td>\n",
       "      <td>Vancouver(South Hastings-Sunrise / North Renfr...</td>\n",
       "    </tr>\n",
       "    <tr>\n",
       "      <th>90</th>\n",
       "      <td>V5NVancouver(South Grandview-Woodland / NE Ken...</td>\n",
       "      <td>V5N</td>\n",
       "      <td>Vancouver(South Grandview-Woodland / NE Kensin...</td>\n",
       "    </tr>\n",
       "    <tr>\n",
       "      <th>91</th>\n",
       "      <td>V5PVancouver(SE Kensington-Cedar Cottage / Vic...</td>\n",
       "      <td>V5P</td>\n",
       "      <td>Vancouver(SE Kensington-Cedar Cottage / Victor...</td>\n",
       "    </tr>\n",
       "  </tbody>\n",
       "</table>\n",
       "</div>"
      ],
      "text/plain": [
       "                                                    0 PostalCode  \\\n",
       "87               V5KVancouver(North Hastings-Sunrise)        V5K   \n",
       "88             V5LVancouver(North Grandview-Woodland)        V5L   \n",
       "89  V5MVancouver(South Hastings-Sunrise / North Re...        V5M   \n",
       "90  V5NVancouver(South Grandview-Woodland / NE Ken...        V5N   \n",
       "91  V5PVancouver(SE Kensington-Cedar Cottage / Vic...        V5P   \n",
       "\n",
       "                                    City-Neighborhood  \n",
       "87                  Vancouver(North Hastings-Sunrise)  \n",
       "88                Vancouver(North Grandview-Woodland)  \n",
       "89  Vancouver(South Hastings-Sunrise / North Renfr...  \n",
       "90  Vancouver(South Grandview-Woodland / NE Kensin...  \n",
       "91  Vancouver(SE Kensington-Cedar Cottage / Victor...  "
      ]
     },
     "execution_count": 6,
     "metadata": {},
     "output_type": "execute_result"
    }
   ],
   "source": [
    "### create a subdf with Vancouver's data only\n",
    "vancouver_df = bc_df[bc_df['City-Neighborhood'].str.startswith('Vancouver')]\n",
    "print(vancouver_df.shape)\n",
    "vancouver_df.head()"
   ]
  },
  {
   "cell_type": "code",
   "execution_count": 7,
   "id": "naked-metro",
   "metadata": {},
   "outputs": [
    {
     "name": "stderr",
     "output_type": "stream",
     "text": [
      "/home/alina/anaconda3/lib/python3.7/site-packages/pandas/core/frame.py:3188: SettingWithCopyWarning: \n",
      "A value is trying to be set on a copy of a slice from a DataFrame.\n",
      "Try using .loc[row_indexer,col_indexer] = value instead\n",
      "\n",
      "See the caveats in the documentation: https://pandas.pydata.org/pandas-docs/stable/user_guide/indexing.html#returning-a-view-versus-a-copy\n",
      "  self[k1] = value[k2]\n",
      "/home/alina/anaconda3/lib/python3.7/site-packages/ipykernel_launcher.py:4: SettingWithCopyWarning: \n",
      "A value is trying to be set on a copy of a slice from a DataFrame.\n",
      "Try using .loc[row_indexer,col_indexer] = value instead\n",
      "\n",
      "See the caveats in the documentation: https://pandas.pydata.org/pandas-docs/stable/user_guide/indexing.html#returning-a-view-versus-a-copy\n",
      "  after removing the cwd from sys.path.\n",
      "/home/alina/anaconda3/lib/python3.7/site-packages/pandas/core/frame.py:4312: SettingWithCopyWarning: \n",
      "A value is trying to be set on a copy of a slice from a DataFrame\n",
      "\n",
      "See the caveats in the documentation: https://pandas.pydata.org/pandas-docs/stable/user_guide/indexing.html#returning-a-view-versus-a-copy\n",
      "  errors=errors,\n"
     ]
    },
    {
     "data": {
      "text/html": [
       "<div>\n",
       "<style scoped>\n",
       "    .dataframe tbody tr th:only-of-type {\n",
       "        vertical-align: middle;\n",
       "    }\n",
       "\n",
       "    .dataframe tbody tr th {\n",
       "        vertical-align: top;\n",
       "    }\n",
       "\n",
       "    .dataframe thead th {\n",
       "        text-align: right;\n",
       "    }\n",
       "</style>\n",
       "<table border=\"1\" class=\"dataframe\">\n",
       "  <thead>\n",
       "    <tr style=\"text-align: right;\">\n",
       "      <th></th>\n",
       "      <th>PostalCode</th>\n",
       "      <th>City</th>\n",
       "      <th>Neighborhood</th>\n",
       "    </tr>\n",
       "  </thead>\n",
       "  <tbody>\n",
       "    <tr>\n",
       "      <th>87</th>\n",
       "      <td>V5K</td>\n",
       "      <td>Vancouver</td>\n",
       "      <td>North Hastings-Sunrise</td>\n",
       "    </tr>\n",
       "    <tr>\n",
       "      <th>88</th>\n",
       "      <td>V5L</td>\n",
       "      <td>Vancouver</td>\n",
       "      <td>North Grandview-Woodland</td>\n",
       "    </tr>\n",
       "    <tr>\n",
       "      <th>89</th>\n",
       "      <td>V5M</td>\n",
       "      <td>Vancouver</td>\n",
       "      <td>South Hastings-Sunrise / North Renfrew-Colling...</td>\n",
       "    </tr>\n",
       "    <tr>\n",
       "      <th>90</th>\n",
       "      <td>V5N</td>\n",
       "      <td>Vancouver</td>\n",
       "      <td>South Grandview-Woodland / NE Kensington-Cedar...</td>\n",
       "    </tr>\n",
       "    <tr>\n",
       "      <th>91</th>\n",
       "      <td>V5P</td>\n",
       "      <td>Vancouver</td>\n",
       "      <td>SE Kensington-Cedar Cottage / Victoria-Fraserview</td>\n",
       "    </tr>\n",
       "  </tbody>\n",
       "</table>\n",
       "</div>"
      ],
      "text/plain": [
       "   PostalCode       City                                       Neighborhood\n",
       "87        V5K  Vancouver                             North Hastings-Sunrise\n",
       "88        V5L  Vancouver                           North Grandview-Woodland\n",
       "89        V5M  Vancouver  South Hastings-Sunrise / North Renfrew-Colling...\n",
       "90        V5N  Vancouver  South Grandview-Woodland / NE Kensington-Cedar...\n",
       "91        V5P  Vancouver  SE Kensington-Cedar Cottage / Victoria-Fraserview"
      ]
     },
     "execution_count": 7,
     "metadata": {},
     "output_type": "execute_result"
    }
   ],
   "source": [
    "### split City-Neighborhood into 2 columns, named City and Neighborhood\n",
    "vancouver_df[['City', 'Neighborhood']] = vancouver_df['City-Neighborhood'].str.split('(', expand=True)\n",
    "### remove the ending ')' from 'Neighborhood' column\n",
    "vancouver_df['Neighborhood'] = vancouver_df['Neighborhood'].str[:-1]\n",
    "### drop columns with repeated data\n",
    "vancouver_df.drop(columns=[0, 'City-Neighborhood'], inplace=True)\n",
    "vancouver_df.head()"
   ]
  },
  {
   "cell_type": "code",
   "execution_count": 8,
   "id": "fuzzy-motion",
   "metadata": {},
   "outputs": [],
   "source": [
    "### to avoid problems with SettingWithCopyWarning, I deep copy the df before reseting the index\n",
    "vancouver_data = vancouver_df.copy()\n",
    "vancouver_data.reset_index(drop=True, inplace=True)"
   ]
  },
  {
   "cell_type": "code",
   "execution_count": 9,
   "id": "special-sampling",
   "metadata": {},
   "outputs": [
    {
     "data": {
      "text/html": [
       "<div>\n",
       "<style scoped>\n",
       "    .dataframe tbody tr th:only-of-type {\n",
       "        vertical-align: middle;\n",
       "    }\n",
       "\n",
       "    .dataframe tbody tr th {\n",
       "        vertical-align: top;\n",
       "    }\n",
       "\n",
       "    .dataframe thead th {\n",
       "        text-align: right;\n",
       "    }\n",
       "</style>\n",
       "<table border=\"1\" class=\"dataframe\">\n",
       "  <thead>\n",
       "    <tr style=\"text-align: right;\">\n",
       "      <th></th>\n",
       "      <th>PostalCode</th>\n",
       "      <th>City</th>\n",
       "      <th>Neighborhood</th>\n",
       "    </tr>\n",
       "  </thead>\n",
       "  <tbody>\n",
       "    <tr>\n",
       "      <th>0</th>\n",
       "      <td>V5K</td>\n",
       "      <td>Vancouver</td>\n",
       "      <td>North Hastings-Sunrise</td>\n",
       "    </tr>\n",
       "    <tr>\n",
       "      <th>1</th>\n",
       "      <td>V5L</td>\n",
       "      <td>Vancouver</td>\n",
       "      <td>North Grandview-Woodland</td>\n",
       "    </tr>\n",
       "    <tr>\n",
       "      <th>2</th>\n",
       "      <td>V5M</td>\n",
       "      <td>Vancouver</td>\n",
       "      <td>South Hastings-Sunrise / North Renfrew-Colling...</td>\n",
       "    </tr>\n",
       "    <tr>\n",
       "      <th>3</th>\n",
       "      <td>V5N</td>\n",
       "      <td>Vancouver</td>\n",
       "      <td>South Grandview-Woodland / NE Kensington-Cedar...</td>\n",
       "    </tr>\n",
       "    <tr>\n",
       "      <th>4</th>\n",
       "      <td>V5P</td>\n",
       "      <td>Vancouver</td>\n",
       "      <td>SE Kensington-Cedar Cottage / Victoria-Fraserview</td>\n",
       "    </tr>\n",
       "  </tbody>\n",
       "</table>\n",
       "</div>"
      ],
      "text/plain": [
       "  PostalCode       City                                       Neighborhood\n",
       "0        V5K  Vancouver                             North Hastings-Sunrise\n",
       "1        V5L  Vancouver                           North Grandview-Woodland\n",
       "2        V5M  Vancouver  South Hastings-Sunrise / North Renfrew-Colling...\n",
       "3        V5N  Vancouver  South Grandview-Woodland / NE Kensington-Cedar...\n",
       "4        V5P  Vancouver  SE Kensington-Cedar Cottage / Victoria-Fraserview"
      ]
     },
     "execution_count": 9,
     "metadata": {},
     "output_type": "execute_result"
    }
   ],
   "source": [
    "vancouver_data.head()"
   ]
  },
  {
   "cell_type": "markdown",
   "id": "undefined-standard",
   "metadata": {},
   "source": [
    "Now that I have Vancouver's postal codes, let's find their coordinates with geopy:"
   ]
  },
  {
   "cell_type": "code",
   "execution_count": 13,
   "id": "viral-detective",
   "metadata": {
    "collapsed": true,
    "jupyter": {
     "outputs_hidden": true
    }
   },
   "outputs": [
    {
     "name": "stdout",
     "output_type": "stream",
     "text": [
      "V5K\n",
      "V5L\n",
      "V5M\n",
      "V5N\n",
      "V5P\n",
      "V5R\n",
      "V5S\n",
      "V5T\n",
      "--- V5T\n",
      "V5V\n",
      "V5W\n",
      "V5X\n",
      "V5Y\n",
      "--- V5Y\n",
      "V5Z\n",
      "V6A\n",
      "V6B\n",
      "V6C\n",
      "V6E\n",
      "V6G\n",
      "V6H\n",
      "V6J\n",
      "V6K\n",
      "V6L\n",
      "V6M\n",
      "V6N\n",
      "V6P\n",
      "V6R\n",
      "V6S\n",
      "--- V6S\n",
      "V6T\n",
      "V6Z\n",
      "V7X\n",
      "V7Y\n",
      "Number of latitude and longitude coordinates found:  28 - 28\n"
     ]
    }
   ],
   "source": [
    "from geopy.geocoders import Nominatim # convert an address into latitude and longitude values\n",
    "\n",
    "##### the following lines WORK!\n",
    "# postal_code = 'V5K'\n",
    "\n",
    "# geolocator = Nominatim(user_agent=\"vancouver_explorer\")\n",
    "# location = geolocator.geocode(postal_code)\n",
    "# latitude = location.latitude\n",
    "# longitude = location.longitude\n",
    "# print('The geograpical coordinates of the postal code {} are {}, {}.'.format(postal_code, latitude, longitude))\n",
    "#####\n",
    "\n",
    "lat = []\n",
    "long = []\n",
    "\n",
    "for postal_code in list(vancouver_data['PostalCode']):\n",
    "    print(postal_code)\n",
    "    geolocator = Nominatim(user_agent=\"vancouver_explorer\")\n",
    "    location = geolocator.geocode(postal_code)\n",
    "    try:\n",
    "        lat.append(location.latitude)\n",
    "        long.append(location.longitude)\n",
    "    except AttributeError:         # this will let me know if there are any coordinates missing \n",
    "        print('---', postal_code)\n",
    "        continue\n",
    "\n",
    "print(\"Number of latitude and longitude coordinates found: \", len(lat), '-', len(long))"
   ]
  },
  {
   "cell_type": "code",
   "execution_count": 14,
   "id": "welcome-loading",
   "metadata": {},
   "outputs": [
    {
     "name": "stdout",
     "output_type": "stream",
     "text": [
      "Latitude coordinates:  [49.28171754656246, 49.280200918758624, 49.26007804182507, 49.2646254249102, 49.22275092852469, 49.239822993458404, 49.21604993652559, 49.248424877991, 49.23626244835694, 49.21542495297729, 49.25668694119318, 49.27358514239091, 49.27811172378708, 49.287716588954346, 49.28801282544443, 49.3002702, 49.25680023082197, 49.260907082479285, 49.26895274770836, 49.25123526871763, 49.23445241369216, 49.224594327808234, 49.218349248173894, 49.26911800091252, 49.274648, 49.27844786726529, 49.28600408893013, 49.282806433536955] \n",
      "\n",
      "Longitude coordinates:  [-123.0400063294856, -123.06656328873324, -123.0401599764032, -123.06586883849849, -123.06756094152627, -123.04080030032974, -123.04095993051983, -123.09060263719377, -123.09288184184227, -123.09779804646165, -123.1211251156331, -123.09942180668273, -123.11959791158985, -123.11519411838533, -123.12108056609158, -123.13779663860902, -123.13313020255173, -123.14578765518688, -123.16501916876759, -123.17444800477642, -123.14541366762147, -123.1686106806456, -123.14992456434537, -123.19719787977779, -123.2735751, -123.12429208190194, -123.11984724657425, -123.11863823416351]\n"
     ]
    }
   ],
   "source": [
    "print(\"Latitude coordinates: \", lat, '\\n')\n",
    "print(\"Longitude coordinates: \", long)"
   ]
  },
  {
   "cell_type": "markdown",
   "id": "crucial-darwin",
   "metadata": {},
   "source": [
    "For some reason geopy cannot find postal codes V5T, V5Y, V6S, which are assigned to neighborhoods \"East Mount Pleasant\", \"West Mount Pleasant / West Riley Park-Little M...\" and \"NW Dunbar-Southlands / Chaldecutt / South Univ...\" respectively. Since it's only 3 postal codes, I will use Google Maps Search Option to find them:"
   ]
  },
  {
   "cell_type": "markdown",
   "id": "concrete-toyota",
   "metadata": {},
   "source": [
    "Google Maps search results:\n",
    "\n",
    "- V5T: 49.264724, -123.092574\n",
    "- V5Y: 49.252015, -123.110748\n",
    "- V6S: 49.251210, -123.225418\n",
    "\n",
    "I will insert these values in the 'lat' and 'long' lists, and the create a new dataframe with Vancouver's postal codes coordinates."
   ]
  },
  {
   "cell_type": "code",
   "execution_count": 16,
   "id": "honey-speed",
   "metadata": {},
   "outputs": [
    {
     "name": "stdout",
     "output_type": "stream",
     "text": [
      "Number of values in lat and long lists before the insert: 28 - 28\n",
      "Number of values in lat and long lists after the insert: 31 - 31\n"
     ]
    }
   ],
   "source": [
    "# values to insert\n",
    "postal_codes = list(vancouver_data['PostalCode'])\n",
    "pc_to_insert = ['V5T', 'V5Y', 'V6S']\n",
    "lat_to_insert = [49.264724, 49.252015, 49.251210]\n",
    "long_to_insert = [-123.092574, -123.110748, -123.225418]\n",
    "\n",
    "print(\"Number of values in lat and long lists before the insert:\", len(lat), '-' ,len(long))\n",
    "\n",
    "for pc in pc_to_insert:\n",
    "    index = postal_codes.index(pc)\n",
    "    lat.insert(index, lat_to_insert[pc_to_insert.index(pc)])\n",
    "#     print(lat_to_insert[pc_to_insert.index(pc)])\n",
    "    long.insert(index, long_to_insert[pc_to_insert.index(pc)])\n",
    "#     print(long_to_insert[pc_to_insert.index(pc)])\n",
    "\n",
    "print(\"Number of values in lat and long lists after the insert:\", len(lat), '-' ,len(long))"
   ]
  },
  {
   "cell_type": "markdown",
   "id": "skilled-saver",
   "metadata": {},
   "source": [
    "Good, now I have a complete list of Vancouver's postal codes and their latitude and longitude coordinates. Let's save that data in a .csv file before moving on with the analysis:"
   ]
  },
  {
   "cell_type": "code",
   "execution_count": 61,
   "id": "excellent-creativity",
   "metadata": {},
   "outputs": [],
   "source": [
    "# df = pd.DataFrame(list(zip(list(vancouver_data['PostalCode']), lat, long)), columns=['PostalCode', 'Latitude', 'Longitude'])\n",
    "# df.to_csv('Vancouver_coordinates.csv', index=False)"
   ]
  },
  {
   "cell_type": "markdown",
   "id": "tribal-offense",
   "metadata": {},
   "source": [
    "And now I can read that data into a dataframe:"
   ]
  },
  {
   "cell_type": "code",
   "execution_count": 18,
   "id": "digital-istanbul",
   "metadata": {},
   "outputs": [
    {
     "data": {
      "text/html": [
       "<div>\n",
       "<style scoped>\n",
       "    .dataframe tbody tr th:only-of-type {\n",
       "        vertical-align: middle;\n",
       "    }\n",
       "\n",
       "    .dataframe tbody tr th {\n",
       "        vertical-align: top;\n",
       "    }\n",
       "\n",
       "    .dataframe thead th {\n",
       "        text-align: right;\n",
       "    }\n",
       "</style>\n",
       "<table border=\"1\" class=\"dataframe\">\n",
       "  <thead>\n",
       "    <tr style=\"text-align: right;\">\n",
       "      <th></th>\n",
       "      <th>PostalCode</th>\n",
       "      <th>Latitude</th>\n",
       "      <th>Longitude</th>\n",
       "    </tr>\n",
       "  </thead>\n",
       "  <tbody>\n",
       "    <tr>\n",
       "      <th>0</th>\n",
       "      <td>V5K</td>\n",
       "      <td>49.283277</td>\n",
       "      <td>-123.043293</td>\n",
       "    </tr>\n",
       "    <tr>\n",
       "      <th>1</th>\n",
       "      <td>V5L</td>\n",
       "      <td>49.279853</td>\n",
       "      <td>-123.068277</td>\n",
       "    </tr>\n",
       "    <tr>\n",
       "      <th>2</th>\n",
       "      <td>V5M</td>\n",
       "      <td>49.265358</td>\n",
       "      <td>-123.049119</td>\n",
       "    </tr>\n",
       "    <tr>\n",
       "      <th>3</th>\n",
       "      <td>V5N</td>\n",
       "      <td>49.259254</td>\n",
       "      <td>-123.072063</td>\n",
       "    </tr>\n",
       "    <tr>\n",
       "      <th>4</th>\n",
       "      <td>V5P</td>\n",
       "      <td>49.230668</td>\n",
       "      <td>-123.071843</td>\n",
       "    </tr>\n",
       "  </tbody>\n",
       "</table>\n",
       "</div>"
      ],
      "text/plain": [
       "  PostalCode   Latitude   Longitude\n",
       "0        V5K  49.283277 -123.043293\n",
       "1        V5L  49.279853 -123.068277\n",
       "2        V5M  49.265358 -123.049119\n",
       "3        V5N  49.259254 -123.072063\n",
       "4        V5P  49.230668 -123.071843"
      ]
     },
     "execution_count": 18,
     "metadata": {},
     "output_type": "execute_result"
    }
   ],
   "source": [
    "# create dataframe with coordinates data for Vancouver's neighborhoods\n",
    "vancouver_coord = pd.read_csv('Vancouver_coordinates.csv')\n",
    "vancouver_coord.head()"
   ]
  },
  {
   "cell_type": "markdown",
   "id": "dated-romania",
   "metadata": {},
   "source": [
    "OK, so now I have all the postal codes, neighborhood names and their coordinates! Let's merge all that into a single dataframe named 'neighborhoods':"
   ]
  },
  {
   "cell_type": "code",
   "execution_count": 19,
   "id": "exciting-stupid",
   "metadata": {},
   "outputs": [
    {
     "data": {
      "text/html": [
       "<div>\n",
       "<style scoped>\n",
       "    .dataframe tbody tr th:only-of-type {\n",
       "        vertical-align: middle;\n",
       "    }\n",
       "\n",
       "    .dataframe tbody tr th {\n",
       "        vertical-align: top;\n",
       "    }\n",
       "\n",
       "    .dataframe thead th {\n",
       "        text-align: right;\n",
       "    }\n",
       "</style>\n",
       "<table border=\"1\" class=\"dataframe\">\n",
       "  <thead>\n",
       "    <tr style=\"text-align: right;\">\n",
       "      <th></th>\n",
       "      <th>PostalCode</th>\n",
       "      <th>City</th>\n",
       "      <th>Neighborhood</th>\n",
       "      <th>Latitude</th>\n",
       "      <th>Longitude</th>\n",
       "    </tr>\n",
       "  </thead>\n",
       "  <tbody>\n",
       "    <tr>\n",
       "      <th>0</th>\n",
       "      <td>V5K</td>\n",
       "      <td>Vancouver</td>\n",
       "      <td>North Hastings-Sunrise</td>\n",
       "      <td>49.283277</td>\n",
       "      <td>-123.043293</td>\n",
       "    </tr>\n",
       "    <tr>\n",
       "      <th>1</th>\n",
       "      <td>V5L</td>\n",
       "      <td>Vancouver</td>\n",
       "      <td>North Grandview-Woodland</td>\n",
       "      <td>49.279853</td>\n",
       "      <td>-123.068277</td>\n",
       "    </tr>\n",
       "    <tr>\n",
       "      <th>2</th>\n",
       "      <td>V5M</td>\n",
       "      <td>Vancouver</td>\n",
       "      <td>South Hastings-Sunrise / North Renfrew-Colling...</td>\n",
       "      <td>49.265358</td>\n",
       "      <td>-123.049119</td>\n",
       "    </tr>\n",
       "    <tr>\n",
       "      <th>3</th>\n",
       "      <td>V5N</td>\n",
       "      <td>Vancouver</td>\n",
       "      <td>South Grandview-Woodland / NE Kensington-Cedar...</td>\n",
       "      <td>49.259254</td>\n",
       "      <td>-123.072063</td>\n",
       "    </tr>\n",
       "    <tr>\n",
       "      <th>4</th>\n",
       "      <td>V5P</td>\n",
       "      <td>Vancouver</td>\n",
       "      <td>SE Kensington-Cedar Cottage / Victoria-Fraserview</td>\n",
       "      <td>49.230668</td>\n",
       "      <td>-123.071843</td>\n",
       "    </tr>\n",
       "  </tbody>\n",
       "</table>\n",
       "</div>"
      ],
      "text/plain": [
       "  PostalCode       City                                       Neighborhood  \\\n",
       "0        V5K  Vancouver                             North Hastings-Sunrise   \n",
       "1        V5L  Vancouver                           North Grandview-Woodland   \n",
       "2        V5M  Vancouver  South Hastings-Sunrise / North Renfrew-Colling...   \n",
       "3        V5N  Vancouver  South Grandview-Woodland / NE Kensington-Cedar...   \n",
       "4        V5P  Vancouver  SE Kensington-Cedar Cottage / Victoria-Fraserview   \n",
       "\n",
       "    Latitude   Longitude  \n",
       "0  49.283277 -123.043293  \n",
       "1  49.279853 -123.068277  \n",
       "2  49.265358 -123.049119  \n",
       "3  49.259254 -123.072063  \n",
       "4  49.230668 -123.071843  "
      ]
     },
     "execution_count": 19,
     "metadata": {},
     "output_type": "execute_result"
    }
   ],
   "source": [
    "# merge dataframes\n",
    "neighborhoods = vancouver_data.merge(vancouver_coord, how='inner', on='PostalCode')\n",
    "neighborhoods.head()"
   ]
  },
  {
   "cell_type": "code",
   "execution_count": 20,
   "id": "balanced-consumption",
   "metadata": {},
   "outputs": [
    {
     "name": "stdout",
     "output_type": "stream",
     "text": [
      "The dataframe has 31 postal codes.\n"
     ]
    }
   ],
   "source": [
    "print('The dataframe has {} postal codes.'.format(len(neighborhoods['Neighborhood'].unique())))"
   ]
  },
  {
   "cell_type": "markdown",
   "id": "completed-contact",
   "metadata": {},
   "source": [
    "Let's see what this data looks like in a map:"
   ]
  },
  {
   "cell_type": "code",
   "execution_count": 21,
   "id": "funky-sarah",
   "metadata": {},
   "outputs": [
    {
     "name": "stdout",
     "output_type": "stream",
     "text": [
      "The geograpical coordinates of the city of Vancouver are 49.2608724, -123.1139529.\n"
     ]
    }
   ],
   "source": [
    "from geopy.geocoders import Nominatim # convert an address into latitude and longitude values\n",
    "\n",
    "address = 'Vancouver, BC, Canada'\n",
    "geolocator = Nominatim(user_agent=\"vancouver_explorer\")\n",
    "location = geolocator.geocode(address)\n",
    "latitude = location.latitude\n",
    "longitude = location.longitude\n",
    "print('The geograpical coordinates of the city of Vancouver are {}, {}.'.format(latitude, longitude))"
   ]
  },
  {
   "cell_type": "code",
   "execution_count": 23,
   "id": "bound-community",
   "metadata": {},
   "outputs": [
    {
     "data": {
      "text/html": [
       "<div style=\"width:100%;\"><div style=\"position:relative;width:100%;height:0;padding-bottom:60%;\"><span style=\"color:#565656\">Make this Notebook Trusted to load map: File -> Trust Notebook</span><iframe src=\"about:blank\" style=\"position:absolute;width:100%;height:100%;left:0;top:0;border:none !important;\" data-html=%3C%21DOCTYPE%20html%3E%0A%3Chead%3E%20%20%20%20%0A%20%20%20%20%3Cmeta%20http-equiv%3D%22content-type%22%20content%3D%22text/html%3B%20charset%3DUTF-8%22%20/%3E%0A%20%20%20%20%0A%20%20%20%20%20%20%20%20%3Cscript%3E%0A%20%20%20%20%20%20%20%20%20%20%20%20L_NO_TOUCH%20%3D%20false%3B%0A%20%20%20%20%20%20%20%20%20%20%20%20L_DISABLE_3D%20%3D%20false%3B%0A%20%20%20%20%20%20%20%20%3C/script%3E%0A%20%20%20%20%0A%20%20%20%20%3Cstyle%3Ehtml%2C%20body%20%7Bwidth%3A%20100%25%3Bheight%3A%20100%25%3Bmargin%3A%200%3Bpadding%3A%200%3B%7D%3C/style%3E%0A%20%20%20%20%3Cstyle%3E%23map%20%7Bposition%3Aabsolute%3Btop%3A0%3Bbottom%3A0%3Bright%3A0%3Bleft%3A0%3B%7D%3C/style%3E%0A%20%20%20%20%3Cscript%20src%3D%22https%3A//cdn.jsdelivr.net/npm/leaflet%401.6.0/dist/leaflet.js%22%3E%3C/script%3E%0A%20%20%20%20%3Cscript%20src%3D%22https%3A//code.jquery.com/jquery-1.12.4.min.js%22%3E%3C/script%3E%0A%20%20%20%20%3Cscript%20src%3D%22https%3A//maxcdn.bootstrapcdn.com/bootstrap/3.2.0/js/bootstrap.min.js%22%3E%3C/script%3E%0A%20%20%20%20%3Cscript%20src%3D%22https%3A//cdnjs.cloudflare.com/ajax/libs/Leaflet.awesome-markers/2.0.2/leaflet.awesome-markers.js%22%3E%3C/script%3E%0A%20%20%20%20%3Clink%20rel%3D%22stylesheet%22%20href%3D%22https%3A//cdn.jsdelivr.net/npm/leaflet%401.6.0/dist/leaflet.css%22/%3E%0A%20%20%20%20%3Clink%20rel%3D%22stylesheet%22%20href%3D%22https%3A//maxcdn.bootstrapcdn.com/bootstrap/3.2.0/css/bootstrap.min.css%22/%3E%0A%20%20%20%20%3Clink%20rel%3D%22stylesheet%22%20href%3D%22https%3A//maxcdn.bootstrapcdn.com/bootstrap/3.2.0/css/bootstrap-theme.min.css%22/%3E%0A%20%20%20%20%3Clink%20rel%3D%22stylesheet%22%20href%3D%22https%3A//maxcdn.bootstrapcdn.com/font-awesome/4.6.3/css/font-awesome.min.css%22/%3E%0A%20%20%20%20%3Clink%20rel%3D%22stylesheet%22%20href%3D%22https%3A//cdnjs.cloudflare.com/ajax/libs/Leaflet.awesome-markers/2.0.2/leaflet.awesome-markers.css%22/%3E%0A%20%20%20%20%3Clink%20rel%3D%22stylesheet%22%20href%3D%22https%3A//cdn.jsdelivr.net/gh/python-visualization/folium/folium/templates/leaflet.awesome.rotate.min.css%22/%3E%0A%20%20%20%20%0A%20%20%20%20%20%20%20%20%20%20%20%20%3Cmeta%20name%3D%22viewport%22%20content%3D%22width%3Ddevice-width%2C%0A%20%20%20%20%20%20%20%20%20%20%20%20%20%20%20%20initial-scale%3D1.0%2C%20maximum-scale%3D1.0%2C%20user-scalable%3Dno%22%20/%3E%0A%20%20%20%20%20%20%20%20%20%20%20%20%3Cstyle%3E%0A%20%20%20%20%20%20%20%20%20%20%20%20%20%20%20%20%23map_c125d84dfaf840979f34bfcca71cb21a%20%7B%0A%20%20%20%20%20%20%20%20%20%20%20%20%20%20%20%20%20%20%20%20position%3A%20relative%3B%0A%20%20%20%20%20%20%20%20%20%20%20%20%20%20%20%20%20%20%20%20width%3A%20100.0%25%3B%0A%20%20%20%20%20%20%20%20%20%20%20%20%20%20%20%20%20%20%20%20height%3A%20100.0%25%3B%0A%20%20%20%20%20%20%20%20%20%20%20%20%20%20%20%20%20%20%20%20left%3A%200.0%25%3B%0A%20%20%20%20%20%20%20%20%20%20%20%20%20%20%20%20%20%20%20%20top%3A%200.0%25%3B%0A%20%20%20%20%20%20%20%20%20%20%20%20%20%20%20%20%7D%0A%20%20%20%20%20%20%20%20%20%20%20%20%3C/style%3E%0A%20%20%20%20%20%20%20%20%0A%3C/head%3E%0A%3Cbody%3E%20%20%20%20%0A%20%20%20%20%0A%20%20%20%20%20%20%20%20%20%20%20%20%3Cdiv%20class%3D%22folium-map%22%20id%3D%22map_c125d84dfaf840979f34bfcca71cb21a%22%20%3E%3C/div%3E%0A%20%20%20%20%20%20%20%20%0A%3C/body%3E%0A%3Cscript%3E%20%20%20%20%0A%20%20%20%20%0A%20%20%20%20%20%20%20%20%20%20%20%20var%20map_c125d84dfaf840979f34bfcca71cb21a%20%3D%20L.map%28%0A%20%20%20%20%20%20%20%20%20%20%20%20%20%20%20%20%22map_c125d84dfaf840979f34bfcca71cb21a%22%2C%0A%20%20%20%20%20%20%20%20%20%20%20%20%20%20%20%20%7B%0A%20%20%20%20%20%20%20%20%20%20%20%20%20%20%20%20%20%20%20%20center%3A%20%5B49.2608724%2C%20-123.1139529%5D%2C%0A%20%20%20%20%20%20%20%20%20%20%20%20%20%20%20%20%20%20%20%20crs%3A%20L.CRS.EPSG3857%2C%0A%20%20%20%20%20%20%20%20%20%20%20%20%20%20%20%20%20%20%20%20zoom%3A%2012%2C%0A%20%20%20%20%20%20%20%20%20%20%20%20%20%20%20%20%20%20%20%20zoomControl%3A%20true%2C%0A%20%20%20%20%20%20%20%20%20%20%20%20%20%20%20%20%20%20%20%20preferCanvas%3A%20false%2C%0A%20%20%20%20%20%20%20%20%20%20%20%20%20%20%20%20%7D%0A%20%20%20%20%20%20%20%20%20%20%20%20%29%3B%0A%0A%20%20%20%20%20%20%20%20%20%20%20%20%0A%0A%20%20%20%20%20%20%20%20%0A%20%20%20%20%0A%20%20%20%20%20%20%20%20%20%20%20%20var%20tile_layer_2c7a1dfaf0af414d88bd6bc5afa5adc3%20%3D%20L.tileLayer%28%0A%20%20%20%20%20%20%20%20%20%20%20%20%20%20%20%20%22https%3A//%7Bs%7D.tile.openstreetmap.org/%7Bz%7D/%7Bx%7D/%7By%7D.png%22%2C%0A%20%20%20%20%20%20%20%20%20%20%20%20%20%20%20%20%7B%22attribution%22%3A%20%22Data%20by%20%5Cu0026copy%3B%20%5Cu003ca%20href%3D%5C%22http%3A//openstreetmap.org%5C%22%5Cu003eOpenStreetMap%5Cu003c/a%5Cu003e%2C%20under%20%5Cu003ca%20href%3D%5C%22http%3A//www.openstreetmap.org/copyright%5C%22%5Cu003eODbL%5Cu003c/a%5Cu003e.%22%2C%20%22detectRetina%22%3A%20false%2C%20%22maxNativeZoom%22%3A%2018%2C%20%22maxZoom%22%3A%2018%2C%20%22minZoom%22%3A%200%2C%20%22noWrap%22%3A%20false%2C%20%22opacity%22%3A%201%2C%20%22subdomains%22%3A%20%22abc%22%2C%20%22tms%22%3A%20false%7D%0A%20%20%20%20%20%20%20%20%20%20%20%20%29.addTo%28map_c125d84dfaf840979f34bfcca71cb21a%29%3B%0A%20%20%20%20%20%20%20%20%0A%20%20%20%20%0A%20%20%20%20%20%20%20%20%20%20%20%20var%20circle_marker_2fb16daae2ac448aaaa152277b159f48%20%3D%20L.circleMarker%28%0A%20%20%20%20%20%20%20%20%20%20%20%20%20%20%20%20%5B49.28327692992457%2C%20-123.04329271829528%5D%2C%0A%20%20%20%20%20%20%20%20%20%20%20%20%20%20%20%20%7B%22bubblingMouseEvents%22%3A%20true%2C%20%22color%22%3A%20%22green%22%2C%20%22dashArray%22%3A%20null%2C%20%22dashOffset%22%3A%20null%2C%20%22fill%22%3A%20true%2C%20%22fillColor%22%3A%20%22lightgreen%22%2C%20%22fillOpacity%22%3A%200.7%2C%20%22fillRule%22%3A%20%22evenodd%22%2C%20%22lineCap%22%3A%20%22round%22%2C%20%22lineJoin%22%3A%20%22round%22%2C%20%22opacity%22%3A%201.0%2C%20%22radius%22%3A%205%2C%20%22stroke%22%3A%20true%2C%20%22weight%22%3A%203%7D%0A%20%20%20%20%20%20%20%20%20%20%20%20%29.addTo%28map_c125d84dfaf840979f34bfcca71cb21a%29%3B%0A%20%20%20%20%20%20%20%20%0A%20%20%20%20%0A%20%20%20%20%20%20%20%20var%20popup_c01ab45377594267900799258e5a296d%20%3D%20L.popup%28%7B%22maxWidth%22%3A%20%22100%25%22%7D%29%3B%0A%0A%20%20%20%20%20%20%20%20%0A%20%20%20%20%20%20%20%20%20%20%20%20var%20html_b10e526f714849d5af7b72441eb26cad%20%3D%20%24%28%60%3Cdiv%20id%3D%22html_b10e526f714849d5af7b72441eb26cad%22%20style%3D%22width%3A%20100.0%25%3B%20height%3A%20100.0%25%3B%22%3ENorth%20Hastings-Sunrise%3C/div%3E%60%29%5B0%5D%3B%0A%20%20%20%20%20%20%20%20%20%20%20%20popup_c01ab45377594267900799258e5a296d.setContent%28html_b10e526f714849d5af7b72441eb26cad%29%3B%0A%20%20%20%20%20%20%20%20%0A%0A%20%20%20%20%20%20%20%20circle_marker_2fb16daae2ac448aaaa152277b159f48.bindPopup%28popup_c01ab45377594267900799258e5a296d%29%0A%20%20%20%20%20%20%20%20%3B%0A%0A%20%20%20%20%20%20%20%20%0A%20%20%20%20%0A%20%20%20%20%0A%20%20%20%20%20%20%20%20%20%20%20%20var%20circle_marker_a992ff35893d4b37b9df77c1bcda73e9%20%3D%20L.circleMarker%28%0A%20%20%20%20%20%20%20%20%20%20%20%20%20%20%20%20%5B49.27985324214888%2C%20-123.06827660204844%5D%2C%0A%20%20%20%20%20%20%20%20%20%20%20%20%20%20%20%20%7B%22bubblingMouseEvents%22%3A%20true%2C%20%22color%22%3A%20%22green%22%2C%20%22dashArray%22%3A%20null%2C%20%22dashOffset%22%3A%20null%2C%20%22fill%22%3A%20true%2C%20%22fillColor%22%3A%20%22lightgreen%22%2C%20%22fillOpacity%22%3A%200.7%2C%20%22fillRule%22%3A%20%22evenodd%22%2C%20%22lineCap%22%3A%20%22round%22%2C%20%22lineJoin%22%3A%20%22round%22%2C%20%22opacity%22%3A%201.0%2C%20%22radius%22%3A%205%2C%20%22stroke%22%3A%20true%2C%20%22weight%22%3A%203%7D%0A%20%20%20%20%20%20%20%20%20%20%20%20%29.addTo%28map_c125d84dfaf840979f34bfcca71cb21a%29%3B%0A%20%20%20%20%20%20%20%20%0A%20%20%20%20%0A%20%20%20%20%20%20%20%20var%20popup_6883d8cf946c41dc962c67e4c0bb20d7%20%3D%20L.popup%28%7B%22maxWidth%22%3A%20%22100%25%22%7D%29%3B%0A%0A%20%20%20%20%20%20%20%20%0A%20%20%20%20%20%20%20%20%20%20%20%20var%20html_ca6784b83167447f8eba963f06312a76%20%3D%20%24%28%60%3Cdiv%20id%3D%22html_ca6784b83167447f8eba963f06312a76%22%20style%3D%22width%3A%20100.0%25%3B%20height%3A%20100.0%25%3B%22%3ENorth%20Grandview-Woodland%3C/div%3E%60%29%5B0%5D%3B%0A%20%20%20%20%20%20%20%20%20%20%20%20popup_6883d8cf946c41dc962c67e4c0bb20d7.setContent%28html_ca6784b83167447f8eba963f06312a76%29%3B%0A%20%20%20%20%20%20%20%20%0A%0A%20%20%20%20%20%20%20%20circle_marker_a992ff35893d4b37b9df77c1bcda73e9.bindPopup%28popup_6883d8cf946c41dc962c67e4c0bb20d7%29%0A%20%20%20%20%20%20%20%20%3B%0A%0A%20%20%20%20%20%20%20%20%0A%20%20%20%20%0A%20%20%20%20%0A%20%20%20%20%20%20%20%20%20%20%20%20var%20circle_marker_8ac6b75621e945c291e8453514614b57%20%3D%20L.circleMarker%28%0A%20%20%20%20%20%20%20%20%20%20%20%20%20%20%20%20%5B49.2653580677758%2C%20-123.04911872950036%5D%2C%0A%20%20%20%20%20%20%20%20%20%20%20%20%20%20%20%20%7B%22bubblingMouseEvents%22%3A%20true%2C%20%22color%22%3A%20%22green%22%2C%20%22dashArray%22%3A%20null%2C%20%22dashOffset%22%3A%20null%2C%20%22fill%22%3A%20true%2C%20%22fillColor%22%3A%20%22lightgreen%22%2C%20%22fillOpacity%22%3A%200.7%2C%20%22fillRule%22%3A%20%22evenodd%22%2C%20%22lineCap%22%3A%20%22round%22%2C%20%22lineJoin%22%3A%20%22round%22%2C%20%22opacity%22%3A%201.0%2C%20%22radius%22%3A%205%2C%20%22stroke%22%3A%20true%2C%20%22weight%22%3A%203%7D%0A%20%20%20%20%20%20%20%20%20%20%20%20%29.addTo%28map_c125d84dfaf840979f34bfcca71cb21a%29%3B%0A%20%20%20%20%20%20%20%20%0A%20%20%20%20%0A%20%20%20%20%20%20%20%20var%20popup_e16c936427494daa8b49c92bd9def1ea%20%3D%20L.popup%28%7B%22maxWidth%22%3A%20%22100%25%22%7D%29%3B%0A%0A%20%20%20%20%20%20%20%20%0A%20%20%20%20%20%20%20%20%20%20%20%20var%20html_798ba4d29c95467e806ae1273d09801a%20%3D%20%24%28%60%3Cdiv%20id%3D%22html_798ba4d29c95467e806ae1273d09801a%22%20style%3D%22width%3A%20100.0%25%3B%20height%3A%20100.0%25%3B%22%3ESouth%20Hastings-Sunrise%20/%20North%20Renfrew-Collingwood%3C/div%3E%60%29%5B0%5D%3B%0A%20%20%20%20%20%20%20%20%20%20%20%20popup_e16c936427494daa8b49c92bd9def1ea.setContent%28html_798ba4d29c95467e806ae1273d09801a%29%3B%0A%20%20%20%20%20%20%20%20%0A%0A%20%20%20%20%20%20%20%20circle_marker_8ac6b75621e945c291e8453514614b57.bindPopup%28popup_e16c936427494daa8b49c92bd9def1ea%29%0A%20%20%20%20%20%20%20%20%3B%0A%0A%20%20%20%20%20%20%20%20%0A%20%20%20%20%0A%20%20%20%20%0A%20%20%20%20%20%20%20%20%20%20%20%20var%20circle_marker_648657d8d5144b2b9aec523bf4628c25%20%3D%20L.circleMarker%28%0A%20%20%20%20%20%20%20%20%20%20%20%20%20%20%20%20%5B49.25925375085778%2C%20-123.072063099059%5D%2C%0A%20%20%20%20%20%20%20%20%20%20%20%20%20%20%20%20%7B%22bubblingMouseEvents%22%3A%20true%2C%20%22color%22%3A%20%22green%22%2C%20%22dashArray%22%3A%20null%2C%20%22dashOffset%22%3A%20null%2C%20%22fill%22%3A%20true%2C%20%22fillColor%22%3A%20%22lightgreen%22%2C%20%22fillOpacity%22%3A%200.7%2C%20%22fillRule%22%3A%20%22evenodd%22%2C%20%22lineCap%22%3A%20%22round%22%2C%20%22lineJoin%22%3A%20%22round%22%2C%20%22opacity%22%3A%201.0%2C%20%22radius%22%3A%205%2C%20%22stroke%22%3A%20true%2C%20%22weight%22%3A%203%7D%0A%20%20%20%20%20%20%20%20%20%20%20%20%29.addTo%28map_c125d84dfaf840979f34bfcca71cb21a%29%3B%0A%20%20%20%20%20%20%20%20%0A%20%20%20%20%0A%20%20%20%20%20%20%20%20var%20popup_e282f08450e94dac83431630f992f0a0%20%3D%20L.popup%28%7B%22maxWidth%22%3A%20%22100%25%22%7D%29%3B%0A%0A%20%20%20%20%20%20%20%20%0A%20%20%20%20%20%20%20%20%20%20%20%20var%20html_ca4a017d81864d7ea69571400daea44d%20%3D%20%24%28%60%3Cdiv%20id%3D%22html_ca4a017d81864d7ea69571400daea44d%22%20style%3D%22width%3A%20100.0%25%3B%20height%3A%20100.0%25%3B%22%3ESouth%20Grandview-Woodland%20/%20NE%20Kensington-Cedar%20Cottage%3C/div%3E%60%29%5B0%5D%3B%0A%20%20%20%20%20%20%20%20%20%20%20%20popup_e282f08450e94dac83431630f992f0a0.setContent%28html_ca4a017d81864d7ea69571400daea44d%29%3B%0A%20%20%20%20%20%20%20%20%0A%0A%20%20%20%20%20%20%20%20circle_marker_648657d8d5144b2b9aec523bf4628c25.bindPopup%28popup_e282f08450e94dac83431630f992f0a0%29%0A%20%20%20%20%20%20%20%20%3B%0A%0A%20%20%20%20%20%20%20%20%0A%20%20%20%20%0A%20%20%20%20%0A%20%20%20%20%20%20%20%20%20%20%20%20var%20circle_marker_cc13bc457a964c289fbf5f86af9d78c5%20%3D%20L.circleMarker%28%0A%20%20%20%20%20%20%20%20%20%20%20%20%20%20%20%20%5B49.23066769612333%2C%20-123.07184266792716%5D%2C%0A%20%20%20%20%20%20%20%20%20%20%20%20%20%20%20%20%7B%22bubblingMouseEvents%22%3A%20true%2C%20%22color%22%3A%20%22green%22%2C%20%22dashArray%22%3A%20null%2C%20%22dashOffset%22%3A%20null%2C%20%22fill%22%3A%20true%2C%20%22fillColor%22%3A%20%22lightgreen%22%2C%20%22fillOpacity%22%3A%200.7%2C%20%22fillRule%22%3A%20%22evenodd%22%2C%20%22lineCap%22%3A%20%22round%22%2C%20%22lineJoin%22%3A%20%22round%22%2C%20%22opacity%22%3A%201.0%2C%20%22radius%22%3A%205%2C%20%22stroke%22%3A%20true%2C%20%22weight%22%3A%203%7D%0A%20%20%20%20%20%20%20%20%20%20%20%20%29.addTo%28map_c125d84dfaf840979f34bfcca71cb21a%29%3B%0A%20%20%20%20%20%20%20%20%0A%20%20%20%20%0A%20%20%20%20%20%20%20%20var%20popup_680f5f1dfdc743bf920ad3667afc1777%20%3D%20L.popup%28%7B%22maxWidth%22%3A%20%22100%25%22%7D%29%3B%0A%0A%20%20%20%20%20%20%20%20%0A%20%20%20%20%20%20%20%20%20%20%20%20var%20html_13df137071794fb3baaa4da41e42ff60%20%3D%20%24%28%60%3Cdiv%20id%3D%22html_13df137071794fb3baaa4da41e42ff60%22%20style%3D%22width%3A%20100.0%25%3B%20height%3A%20100.0%25%3B%22%3ESE%20Kensington-Cedar%20Cottage%20/%20Victoria-Fraserview%3C/div%3E%60%29%5B0%5D%3B%0A%20%20%20%20%20%20%20%20%20%20%20%20popup_680f5f1dfdc743bf920ad3667afc1777.setContent%28html_13df137071794fb3baaa4da41e42ff60%29%3B%0A%20%20%20%20%20%20%20%20%0A%0A%20%20%20%20%20%20%20%20circle_marker_cc13bc457a964c289fbf5f86af9d78c5.bindPopup%28popup_680f5f1dfdc743bf920ad3667afc1777%29%0A%20%20%20%20%20%20%20%20%3B%0A%0A%20%20%20%20%20%20%20%20%0A%20%20%20%20%0A%20%20%20%20%0A%20%20%20%20%20%20%20%20%20%20%20%20var%20circle_marker_f0cdb17542754b8d9371c6abb31cc551%20%3D%20L.circleMarker%28%0A%20%20%20%20%20%20%20%20%20%20%20%20%20%20%20%20%5B49.24063680490001%2C%20-123.04175361008753%5D%2C%0A%20%20%20%20%20%20%20%20%20%20%20%20%20%20%20%20%7B%22bubblingMouseEvents%22%3A%20true%2C%20%22color%22%3A%20%22green%22%2C%20%22dashArray%22%3A%20null%2C%20%22dashOffset%22%3A%20null%2C%20%22fill%22%3A%20true%2C%20%22fillColor%22%3A%20%22lightgreen%22%2C%20%22fillOpacity%22%3A%200.7%2C%20%22fillRule%22%3A%20%22evenodd%22%2C%20%22lineCap%22%3A%20%22round%22%2C%20%22lineJoin%22%3A%20%22round%22%2C%20%22opacity%22%3A%201.0%2C%20%22radius%22%3A%205%2C%20%22stroke%22%3A%20true%2C%20%22weight%22%3A%203%7D%0A%20%20%20%20%20%20%20%20%20%20%20%20%29.addTo%28map_c125d84dfaf840979f34bfcca71cb21a%29%3B%0A%20%20%20%20%20%20%20%20%0A%20%20%20%20%0A%20%20%20%20%20%20%20%20var%20popup_6e542c84259643df8842ad630ef1c177%20%3D%20L.popup%28%7B%22maxWidth%22%3A%20%22100%25%22%7D%29%3B%0A%0A%20%20%20%20%20%20%20%20%0A%20%20%20%20%20%20%20%20%20%20%20%20var%20html_1b2c66be2a5f4e68968ec43086a6171a%20%3D%20%24%28%60%3Cdiv%20id%3D%22html_1b2c66be2a5f4e68968ec43086a6171a%22%20style%3D%22width%3A%20100.0%25%3B%20height%3A%20100.0%25%3B%22%3ESouth%20Renfrew-Collingwood%3C/div%3E%60%29%5B0%5D%3B%0A%20%20%20%20%20%20%20%20%20%20%20%20popup_6e542c84259643df8842ad630ef1c177.setContent%28html_1b2c66be2a5f4e68968ec43086a6171a%29%3B%0A%20%20%20%20%20%20%20%20%0A%0A%20%20%20%20%20%20%20%20circle_marker_f0cdb17542754b8d9371c6abb31cc551.bindPopup%28popup_6e542c84259643df8842ad630ef1c177%29%0A%20%20%20%20%20%20%20%20%3B%0A%0A%20%20%20%20%20%20%20%20%0A%20%20%20%20%0A%20%20%20%20%0A%20%20%20%20%20%20%20%20%20%20%20%20var%20circle_marker_e2a62d84f3f84de4b9a956c44d1f4415%20%3D%20L.circleMarker%28%0A%20%20%20%20%20%20%20%20%20%20%20%20%20%20%20%20%5B49.22175399240329%2C%20-123.04294548573618%5D%2C%0A%20%20%20%20%20%20%20%20%20%20%20%20%20%20%20%20%7B%22bubblingMouseEvents%22%3A%20true%2C%20%22color%22%3A%20%22green%22%2C%20%22dashArray%22%3A%20null%2C%20%22dashOffset%22%3A%20null%2C%20%22fill%22%3A%20true%2C%20%22fillColor%22%3A%20%22lightgreen%22%2C%20%22fillOpacity%22%3A%200.7%2C%20%22fillRule%22%3A%20%22evenodd%22%2C%20%22lineCap%22%3A%20%22round%22%2C%20%22lineJoin%22%3A%20%22round%22%2C%20%22opacity%22%3A%201.0%2C%20%22radius%22%3A%205%2C%20%22stroke%22%3A%20true%2C%20%22weight%22%3A%203%7D%0A%20%20%20%20%20%20%20%20%20%20%20%20%29.addTo%28map_c125d84dfaf840979f34bfcca71cb21a%29%3B%0A%20%20%20%20%20%20%20%20%0A%20%20%20%20%0A%20%20%20%20%20%20%20%20var%20popup_622cbe2ff18049d2bd23cd687d6d6048%20%3D%20L.popup%28%7B%22maxWidth%22%3A%20%22100%25%22%7D%29%3B%0A%0A%20%20%20%20%20%20%20%20%0A%20%20%20%20%20%20%20%20%20%20%20%20var%20html_9312545dd6b34adc940a79e135cc787f%20%3D%20%24%28%60%3Cdiv%20id%3D%22html_9312545dd6b34adc940a79e135cc787f%22%20style%3D%22width%3A%20100.0%25%3B%20height%3A%20100.0%25%3B%22%3EKillarney%3C/div%3E%60%29%5B0%5D%3B%0A%20%20%20%20%20%20%20%20%20%20%20%20popup_622cbe2ff18049d2bd23cd687d6d6048.setContent%28html_9312545dd6b34adc940a79e135cc787f%29%3B%0A%20%20%20%20%20%20%20%20%0A%0A%20%20%20%20%20%20%20%20circle_marker_e2a62d84f3f84de4b9a956c44d1f4415.bindPopup%28popup_622cbe2ff18049d2bd23cd687d6d6048%29%0A%20%20%20%20%20%20%20%20%3B%0A%0A%20%20%20%20%20%20%20%20%0A%20%20%20%20%0A%20%20%20%20%0A%20%20%20%20%20%20%20%20%20%20%20%20var%20circle_marker_c8626051b0f644e99c490576fefe2a4c%20%3D%20L.circleMarker%28%0A%20%20%20%20%20%20%20%20%20%20%20%20%20%20%20%20%5B49.264724451943785%2C%20-123.09257386008586%5D%2C%0A%20%20%20%20%20%20%20%20%20%20%20%20%20%20%20%20%7B%22bubblingMouseEvents%22%3A%20true%2C%20%22color%22%3A%20%22green%22%2C%20%22dashArray%22%3A%20null%2C%20%22dashOffset%22%3A%20null%2C%20%22fill%22%3A%20true%2C%20%22fillColor%22%3A%20%22lightgreen%22%2C%20%22fillOpacity%22%3A%200.7%2C%20%22fillRule%22%3A%20%22evenodd%22%2C%20%22lineCap%22%3A%20%22round%22%2C%20%22lineJoin%22%3A%20%22round%22%2C%20%22opacity%22%3A%201.0%2C%20%22radius%22%3A%205%2C%20%22stroke%22%3A%20true%2C%20%22weight%22%3A%203%7D%0A%20%20%20%20%20%20%20%20%20%20%20%20%29.addTo%28map_c125d84dfaf840979f34bfcca71cb21a%29%3B%0A%20%20%20%20%20%20%20%20%0A%20%20%20%20%0A%20%20%20%20%20%20%20%20var%20popup_380d62c496554c4eb5ad469262d0cbf5%20%3D%20L.popup%28%7B%22maxWidth%22%3A%20%22100%25%22%7D%29%3B%0A%0A%20%20%20%20%20%20%20%20%0A%20%20%20%20%20%20%20%20%20%20%20%20var%20html_5866b3101470489a80674e8c45b42dcf%20%3D%20%24%28%60%3Cdiv%20id%3D%22html_5866b3101470489a80674e8c45b42dcf%22%20style%3D%22width%3A%20100.0%25%3B%20height%3A%20100.0%25%3B%22%3EEast%20Mount%20Pleasant%3C/div%3E%60%29%5B0%5D%3B%0A%20%20%20%20%20%20%20%20%20%20%20%20popup_380d62c496554c4eb5ad469262d0cbf5.setContent%28html_5866b3101470489a80674e8c45b42dcf%29%3B%0A%20%20%20%20%20%20%20%20%0A%0A%20%20%20%20%20%20%20%20circle_marker_c8626051b0f644e99c490576fefe2a4c.bindPopup%28popup_380d62c496554c4eb5ad469262d0cbf5%29%0A%20%20%20%20%20%20%20%20%3B%0A%0A%20%20%20%20%20%20%20%20%0A%20%20%20%20%0A%20%20%20%20%0A%20%20%20%20%20%20%20%20%20%20%20%20var%20circle_marker_adb73a27950b46d986fb190a86aeae56%20%3D%20L.circleMarker%28%0A%20%20%20%20%20%20%20%20%20%20%20%20%20%20%20%20%5B49.25156523762483%2C%20-123.0929621873012%5D%2C%0A%20%20%20%20%20%20%20%20%20%20%20%20%20%20%20%20%7B%22bubblingMouseEvents%22%3A%20true%2C%20%22color%22%3A%20%22green%22%2C%20%22dashArray%22%3A%20null%2C%20%22dashOffset%22%3A%20null%2C%20%22fill%22%3A%20true%2C%20%22fillColor%22%3A%20%22lightgreen%22%2C%20%22fillOpacity%22%3A%200.7%2C%20%22fillRule%22%3A%20%22evenodd%22%2C%20%22lineCap%22%3A%20%22round%22%2C%20%22lineJoin%22%3A%20%22round%22%2C%20%22opacity%22%3A%201.0%2C%20%22radius%22%3A%205%2C%20%22stroke%22%3A%20true%2C%20%22weight%22%3A%203%7D%0A%20%20%20%20%20%20%20%20%20%20%20%20%29.addTo%28map_c125d84dfaf840979f34bfcca71cb21a%29%3B%0A%20%20%20%20%20%20%20%20%0A%20%20%20%20%0A%20%20%20%20%20%20%20%20var%20popup_11a43f1385f3454887747e1a12e86e61%20%3D%20L.popup%28%7B%22maxWidth%22%3A%20%22100%25%22%7D%29%3B%0A%0A%20%20%20%20%20%20%20%20%0A%20%20%20%20%20%20%20%20%20%20%20%20var%20html_49e16d80efc94301bc2ecf4882318fd7%20%3D%20%24%28%60%3Cdiv%20id%3D%22html_49e16d80efc94301bc2ecf4882318fd7%22%20style%3D%22width%3A%20100.0%25%3B%20height%3A%20100.0%25%3B%22%3EWest%20Kensington-Cedar%20Cottage%20/%20NE%20Riley%20Park-Little%20Mountain%3C/div%3E%60%29%5B0%5D%3B%0A%20%20%20%20%20%20%20%20%20%20%20%20popup_11a43f1385f3454887747e1a12e86e61.setContent%28html_49e16d80efc94301bc2ecf4882318fd7%29%3B%0A%20%20%20%20%20%20%20%20%0A%0A%20%20%20%20%20%20%20%20circle_marker_adb73a27950b46d986fb190a86aeae56.bindPopup%28popup_11a43f1385f3454887747e1a12e86e61%29%0A%20%20%20%20%20%20%20%20%3B%0A%0A%20%20%20%20%20%20%20%20%0A%20%20%20%20%0A%20%20%20%20%0A%20%20%20%20%20%20%20%20%20%20%20%20var%20circle_marker_aba6433f81a547e8afe7aa2c0967cbfc%20%3D%20L.circleMarker%28%0A%20%20%20%20%20%20%20%20%20%20%20%20%20%20%20%20%5B49.23626446173581%2C%20-123.10332776576216%5D%2C%0A%20%20%20%20%20%20%20%20%20%20%20%20%20%20%20%20%7B%22bubblingMouseEvents%22%3A%20true%2C%20%22color%22%3A%20%22green%22%2C%20%22dashArray%22%3A%20null%2C%20%22dashOffset%22%3A%20null%2C%20%22fill%22%3A%20true%2C%20%22fillColor%22%3A%20%22lightgreen%22%2C%20%22fillOpacity%22%3A%200.7%2C%20%22fillRule%22%3A%20%22evenodd%22%2C%20%22lineCap%22%3A%20%22round%22%2C%20%22lineJoin%22%3A%20%22round%22%2C%20%22opacity%22%3A%201.0%2C%20%22radius%22%3A%205%2C%20%22stroke%22%3A%20true%2C%20%22weight%22%3A%203%7D%0A%20%20%20%20%20%20%20%20%20%20%20%20%29.addTo%28map_c125d84dfaf840979f34bfcca71cb21a%29%3B%0A%20%20%20%20%20%20%20%20%0A%20%20%20%20%0A%20%20%20%20%20%20%20%20var%20popup_5e2330bb7a5042f3bb7b60c2a3b75f9e%20%3D%20L.popup%28%7B%22maxWidth%22%3A%20%22100%25%22%7D%29%3B%0A%0A%20%20%20%20%20%20%20%20%0A%20%20%20%20%20%20%20%20%20%20%20%20var%20html_2c5537d3c316480782f1687a913cedf1%20%3D%20%24%28%60%3Cdiv%20id%3D%22html_2c5537d3c316480782f1687a913cedf1%22%20style%3D%22width%3A%20100.0%25%3B%20height%3A%20100.0%25%3B%22%3ESE%20Riley%20Park-Little%20Mountain%20/%20SW%20Kensington-Cedar%20Cottage%20/%20NE%20Oakridge%20/%20North%20Sunset%3C/div%3E%60%29%5B0%5D%3B%0A%20%20%20%20%20%20%20%20%20%20%20%20popup_5e2330bb7a5042f3bb7b60c2a3b75f9e.setContent%28html_2c5537d3c316480782f1687a913cedf1%29%3B%0A%20%20%20%20%20%20%20%20%0A%0A%20%20%20%20%20%20%20%20circle_marker_aba6433f81a547e8afe7aa2c0967cbfc.bindPopup%28popup_5e2330bb7a5042f3bb7b60c2a3b75f9e%29%0A%20%20%20%20%20%20%20%20%3B%0A%0A%20%20%20%20%20%20%20%20%0A%20%20%20%20%0A%20%20%20%20%0A%20%20%20%20%20%20%20%20%20%20%20%20var%20circle_marker_ba416cee78da4d5a96ab6276196aae77%20%3D%20L.circleMarker%28%0A%20%20%20%20%20%20%20%20%20%20%20%20%20%20%20%20%5B49.21514467045678%2C%20-123.10317812883694%5D%2C%0A%20%20%20%20%20%20%20%20%20%20%20%20%20%20%20%20%7B%22bubblingMouseEvents%22%3A%20true%2C%20%22color%22%3A%20%22green%22%2C%20%22dashArray%22%3A%20null%2C%20%22dashOffset%22%3A%20null%2C%20%22fill%22%3A%20true%2C%20%22fillColor%22%3A%20%22lightgreen%22%2C%20%22fillOpacity%22%3A%200.7%2C%20%22fillRule%22%3A%20%22evenodd%22%2C%20%22lineCap%22%3A%20%22round%22%2C%20%22lineJoin%22%3A%20%22round%22%2C%20%22opacity%22%3A%201.0%2C%20%22radius%22%3A%205%2C%20%22stroke%22%3A%20true%2C%20%22weight%22%3A%203%7D%0A%20%20%20%20%20%20%20%20%20%20%20%20%29.addTo%28map_c125d84dfaf840979f34bfcca71cb21a%29%3B%0A%20%20%20%20%20%20%20%20%0A%20%20%20%20%0A%20%20%20%20%20%20%20%20var%20popup_101d553406ec4ee8b2e9125e3da99776%20%3D%20L.popup%28%7B%22maxWidth%22%3A%20%22100%25%22%7D%29%3B%0A%0A%20%20%20%20%20%20%20%20%0A%20%20%20%20%20%20%20%20%20%20%20%20var%20html_31a7759d9b7c45768a61008b1f2da779%20%3D%20%24%28%60%3Cdiv%20id%3D%22html_31a7759d9b7c45768a61008b1f2da779%22%20style%3D%22width%3A%20100.0%25%3B%20height%3A%20100.0%25%3B%22%3ESE%20Oakridge%20/%20East%20Marpole%20/%20South%20Sunset%3C/div%3E%60%29%5B0%5D%3B%0A%20%20%20%20%20%20%20%20%20%20%20%20popup_101d553406ec4ee8b2e9125e3da99776.setContent%28html_31a7759d9b7c45768a61008b1f2da779%29%3B%0A%20%20%20%20%20%20%20%20%0A%0A%20%20%20%20%20%20%20%20circle_marker_ba416cee78da4d5a96ab6276196aae77.bindPopup%28popup_101d553406ec4ee8b2e9125e3da99776%29%0A%20%20%20%20%20%20%20%20%3B%0A%0A%20%20%20%20%20%20%20%20%0A%20%20%20%20%0A%20%20%20%20%0A%20%20%20%20%20%20%20%20%20%20%20%20var%20circle_marker_2bea37d18a734571b68bb73c1921bacf%20%3D%20L.circleMarker%28%0A%20%20%20%20%20%20%20%20%20%20%20%20%20%20%20%20%5B49.25201526564356%2C%20-123.11074779451818%5D%2C%0A%20%20%20%20%20%20%20%20%20%20%20%20%20%20%20%20%7B%22bubblingMouseEvents%22%3A%20true%2C%20%22color%22%3A%20%22green%22%2C%20%22dashArray%22%3A%20null%2C%20%22dashOffset%22%3A%20null%2C%20%22fill%22%3A%20true%2C%20%22fillColor%22%3A%20%22lightgreen%22%2C%20%22fillOpacity%22%3A%200.7%2C%20%22fillRule%22%3A%20%22evenodd%22%2C%20%22lineCap%22%3A%20%22round%22%2C%20%22lineJoin%22%3A%20%22round%22%2C%20%22opacity%22%3A%201.0%2C%20%22radius%22%3A%205%2C%20%22stroke%22%3A%20true%2C%20%22weight%22%3A%203%7D%0A%20%20%20%20%20%20%20%20%20%20%20%20%29.addTo%28map_c125d84dfaf840979f34bfcca71cb21a%29%3B%0A%20%20%20%20%20%20%20%20%0A%20%20%20%20%0A%20%20%20%20%20%20%20%20var%20popup_983c4e1ce0ff48debecc03633b2c3eba%20%3D%20L.popup%28%7B%22maxWidth%22%3A%20%22100%25%22%7D%29%3B%0A%0A%20%20%20%20%20%20%20%20%0A%20%20%20%20%20%20%20%20%20%20%20%20var%20html_08407e24dfd84b3bbbadea949468f4e6%20%3D%20%24%28%60%3Cdiv%20id%3D%22html_08407e24dfd84b3bbbadea949468f4e6%22%20style%3D%22width%3A%20100.0%25%3B%20height%3A%20100.0%25%3B%22%3EWest%20Mount%20Pleasant%20/%20West%20Riley%20Park-Little%20Mountain%3C/div%3E%60%29%5B0%5D%3B%0A%20%20%20%20%20%20%20%20%20%20%20%20popup_983c4e1ce0ff48debecc03633b2c3eba.setContent%28html_08407e24dfd84b3bbbadea949468f4e6%29%3B%0A%20%20%20%20%20%20%20%20%0A%0A%20%20%20%20%20%20%20%20circle_marker_2bea37d18a734571b68bb73c1921bacf.bindPopup%28popup_983c4e1ce0ff48debecc03633b2c3eba%29%0A%20%20%20%20%20%20%20%20%3B%0A%0A%20%20%20%20%20%20%20%20%0A%20%20%20%20%0A%20%20%20%20%0A%20%20%20%20%20%20%20%20%20%20%20%20var%20circle_marker_8b6c7099b09f4dd99c88086086b8b8b0%20%3D%20L.circleMarker%28%0A%20%20%20%20%20%20%20%20%20%20%20%20%20%20%20%20%5B49.2608795690588%2C%20-123.1218084558727%5D%2C%0A%20%20%20%20%20%20%20%20%20%20%20%20%20%20%20%20%7B%22bubblingMouseEvents%22%3A%20true%2C%20%22color%22%3A%20%22green%22%2C%20%22dashArray%22%3A%20null%2C%20%22dashOffset%22%3A%20null%2C%20%22fill%22%3A%20true%2C%20%22fillColor%22%3A%20%22lightgreen%22%2C%20%22fillOpacity%22%3A%200.7%2C%20%22fillRule%22%3A%20%22evenodd%22%2C%20%22lineCap%22%3A%20%22round%22%2C%20%22lineJoin%22%3A%20%22round%22%2C%20%22opacity%22%3A%201.0%2C%20%22radius%22%3A%205%2C%20%22stroke%22%3A%20true%2C%20%22weight%22%3A%203%7D%0A%20%20%20%20%20%20%20%20%20%20%20%20%29.addTo%28map_c125d84dfaf840979f34bfcca71cb21a%29%3B%0A%20%20%20%20%20%20%20%20%0A%20%20%20%20%0A%20%20%20%20%20%20%20%20var%20popup_a06b99ed7e444effa64f139d45e9f37e%20%3D%20L.popup%28%7B%22maxWidth%22%3A%20%22100%25%22%7D%29%3B%0A%0A%20%20%20%20%20%20%20%20%0A%20%20%20%20%20%20%20%20%20%20%20%20var%20html_f0cca70737924c60b2ae2c07b7b6f971%20%3D%20%24%28%60%3Cdiv%20id%3D%22html_f0cca70737924c60b2ae2c07b7b6f971%22%20style%3D%22width%3A%20100.0%25%3B%20height%3A%20100.0%25%3B%22%3EEast%20Fairview%20/%20South%20Cambie%3C/div%3E%60%29%5B0%5D%3B%0A%20%20%20%20%20%20%20%20%20%20%20%20popup_a06b99ed7e444effa64f139d45e9f37e.setContent%28html_f0cca70737924c60b2ae2c07b7b6f971%29%3B%0A%20%20%20%20%20%20%20%20%0A%0A%20%20%20%20%20%20%20%20circle_marker_8b6c7099b09f4dd99c88086086b8b8b0.bindPopup%28popup_a06b99ed7e444effa64f139d45e9f37e%29%0A%20%20%20%20%20%20%20%20%3B%0A%0A%20%20%20%20%20%20%20%20%0A%20%20%20%20%0A%20%20%20%20%0A%20%20%20%20%20%20%20%20%20%20%20%20var%20circle_marker_a6194892fb3b4506920fb5349fb951de%20%3D%20L.circleMarker%28%0A%20%20%20%20%20%20%20%20%20%20%20%20%20%20%20%20%5B49.28113832934864%2C%20-123.09542483761334%5D%2C%0A%20%20%20%20%20%20%20%20%20%20%20%20%20%20%20%20%7B%22bubblingMouseEvents%22%3A%20true%2C%20%22color%22%3A%20%22green%22%2C%20%22dashArray%22%3A%20null%2C%20%22dashOffset%22%3A%20null%2C%20%22fill%22%3A%20true%2C%20%22fillColor%22%3A%20%22lightgreen%22%2C%20%22fillOpacity%22%3A%200.7%2C%20%22fillRule%22%3A%20%22evenodd%22%2C%20%22lineCap%22%3A%20%22round%22%2C%20%22lineJoin%22%3A%20%22round%22%2C%20%22opacity%22%3A%201.0%2C%20%22radius%22%3A%205%2C%20%22stroke%22%3A%20true%2C%20%22weight%22%3A%203%7D%0A%20%20%20%20%20%20%20%20%20%20%20%20%29.addTo%28map_c125d84dfaf840979f34bfcca71cb21a%29%3B%0A%20%20%20%20%20%20%20%20%0A%20%20%20%20%0A%20%20%20%20%20%20%20%20var%20popup_982bb2d03bcc4192b1118bd079ddd62f%20%3D%20L.popup%28%7B%22maxWidth%22%3A%20%22100%25%22%7D%29%3B%0A%0A%20%20%20%20%20%20%20%20%0A%20%20%20%20%20%20%20%20%20%20%20%20var%20html_5a12d846c0924d109c1f8aa06fcb93ea%20%3D%20%24%28%60%3Cdiv%20id%3D%22html_5a12d846c0924d109c1f8aa06fcb93ea%22%20style%3D%22width%3A%20100.0%25%3B%20height%3A%20100.0%25%3B%22%3EStrathcona%20/%20Chinatown%20/%20Downtown%20Eastside%3C/div%3E%60%29%5B0%5D%3B%0A%20%20%20%20%20%20%20%20%20%20%20%20popup_982bb2d03bcc4192b1118bd079ddd62f.setContent%28html_5a12d846c0924d109c1f8aa06fcb93ea%29%3B%0A%20%20%20%20%20%20%20%20%0A%0A%20%20%20%20%20%20%20%20circle_marker_a6194892fb3b4506920fb5349fb951de.bindPopup%28popup_982bb2d03bcc4192b1118bd079ddd62f%29%0A%20%20%20%20%20%20%20%20%3B%0A%0A%20%20%20%20%20%20%20%20%0A%20%20%20%20%0A%20%20%20%20%0A%20%20%20%20%20%20%20%20%20%20%20%20var%20circle_marker_e93c70617b134478a704537dc9cb8c5f%20%3D%20L.circleMarker%28%0A%20%20%20%20%20%20%20%20%20%20%20%20%20%20%20%20%5B49.280718454113824%2C%20-123.1141689234957%5D%2C%0A%20%20%20%20%20%20%20%20%20%20%20%20%20%20%20%20%7B%22bubblingMouseEvents%22%3A%20true%2C%20%22color%22%3A%20%22green%22%2C%20%22dashArray%22%3A%20null%2C%20%22dashOffset%22%3A%20null%2C%20%22fill%22%3A%20true%2C%20%22fillColor%22%3A%20%22lightgreen%22%2C%20%22fillOpacity%22%3A%200.7%2C%20%22fillRule%22%3A%20%22evenodd%22%2C%20%22lineCap%22%3A%20%22round%22%2C%20%22lineJoin%22%3A%20%22round%22%2C%20%22opacity%22%3A%201.0%2C%20%22radius%22%3A%205%2C%20%22stroke%22%3A%20true%2C%20%22weight%22%3A%203%7D%0A%20%20%20%20%20%20%20%20%20%20%20%20%29.addTo%28map_c125d84dfaf840979f34bfcca71cb21a%29%3B%0A%20%20%20%20%20%20%20%20%0A%20%20%20%20%0A%20%20%20%20%20%20%20%20var%20popup_e9d92da0ca044ad5804568fed182e431%20%3D%20L.popup%28%7B%22maxWidth%22%3A%20%22100%25%22%7D%29%3B%0A%0A%20%20%20%20%20%20%20%20%0A%20%20%20%20%20%20%20%20%20%20%20%20var%20html_8554abf6bb3a47e78955182ed36f788a%20%3D%20%24%28%60%3Cdiv%20id%3D%22html_8554abf6bb3a47e78955182ed36f788a%22%20style%3D%22width%3A%20100.0%25%3B%20height%3A%20100.0%25%3B%22%3ENE%20Downtown%20/%20Gastown%20/%20Harbour%20Centre%20/%20International%20Village%20/%20Victory%20Square%20/%20Yaletown%3C/div%3E%60%29%5B0%5D%3B%0A%20%20%20%20%20%20%20%20%20%20%20%20popup_e9d92da0ca044ad5804568fed182e431.setContent%28html_8554abf6bb3a47e78955182ed36f788a%29%3B%0A%20%20%20%20%20%20%20%20%0A%0A%20%20%20%20%20%20%20%20circle_marker_e93c70617b134478a704537dc9cb8c5f.bindPopup%28popup_e9d92da0ca044ad5804568fed182e431%29%0A%20%20%20%20%20%20%20%20%3B%0A%0A%20%20%20%20%20%20%20%20%0A%20%20%20%20%0A%20%20%20%20%0A%20%20%20%20%20%20%20%20%20%20%20%20var%20circle_marker_980d80769a4d48e49be9bb230d9ded10%20%3D%20L.circleMarker%28%0A%20%20%20%20%20%20%20%20%20%20%20%20%20%20%20%20%5B49.28727754578737%2C%20-123.1155077625037%5D%2C%0A%20%20%20%20%20%20%20%20%20%20%20%20%20%20%20%20%7B%22bubblingMouseEvents%22%3A%20true%2C%20%22color%22%3A%20%22green%22%2C%20%22dashArray%22%3A%20null%2C%20%22dashOffset%22%3A%20null%2C%20%22fill%22%3A%20true%2C%20%22fillColor%22%3A%20%22lightgreen%22%2C%20%22fillOpacity%22%3A%200.7%2C%20%22fillRule%22%3A%20%22evenodd%22%2C%20%22lineCap%22%3A%20%22round%22%2C%20%22lineJoin%22%3A%20%22round%22%2C%20%22opacity%22%3A%201.0%2C%20%22radius%22%3A%205%2C%20%22stroke%22%3A%20true%2C%20%22weight%22%3A%203%7D%0A%20%20%20%20%20%20%20%20%20%20%20%20%29.addTo%28map_c125d84dfaf840979f34bfcca71cb21a%29%3B%0A%20%20%20%20%20%20%20%20%0A%20%20%20%20%0A%20%20%20%20%20%20%20%20var%20popup_174d84ff2e2149198459e2f72afc7dde%20%3D%20L.popup%28%7B%22maxWidth%22%3A%20%22100%25%22%7D%29%3B%0A%0A%20%20%20%20%20%20%20%20%0A%20%20%20%20%20%20%20%20%20%20%20%20var%20html_c1b45b2602e549d190e05218c480b49e%20%3D%20%24%28%60%3Cdiv%20id%3D%22html_c1b45b2602e549d190e05218c480b49e%22%20style%3D%22width%3A%20100.0%25%3B%20height%3A%20100.0%25%3B%22%3EWaterfront%20/%20Coal%20Harbour%20/%20Canada%20Place%3C/div%3E%60%29%5B0%5D%3B%0A%20%20%20%20%20%20%20%20%20%20%20%20popup_174d84ff2e2149198459e2f72afc7dde.setContent%28html_c1b45b2602e549d190e05218c480b49e%29%3B%0A%20%20%20%20%20%20%20%20%0A%0A%20%20%20%20%20%20%20%20circle_marker_980d80769a4d48e49be9bb230d9ded10.bindPopup%28popup_174d84ff2e2149198459e2f72afc7dde%29%0A%20%20%20%20%20%20%20%20%3B%0A%0A%20%20%20%20%20%20%20%20%0A%20%20%20%20%0A%20%20%20%20%0A%20%20%20%20%20%20%20%20%20%20%20%20var%20circle_marker_9ed0367bef184dc298c958b54582d710%20%3D%20L.circleMarker%28%0A%20%20%20%20%20%20%20%20%20%20%20%20%20%20%20%20%5B49.28422045264578%2C%20-123.13132647887186%5D%2C%0A%20%20%20%20%20%20%20%20%20%20%20%20%20%20%20%20%7B%22bubblingMouseEvents%22%3A%20true%2C%20%22color%22%3A%20%22green%22%2C%20%22dashArray%22%3A%20null%2C%20%22dashOffset%22%3A%20null%2C%20%22fill%22%3A%20true%2C%20%22fillColor%22%3A%20%22lightgreen%22%2C%20%22fillOpacity%22%3A%200.7%2C%20%22fillRule%22%3A%20%22evenodd%22%2C%20%22lineCap%22%3A%20%22round%22%2C%20%22lineJoin%22%3A%20%22round%22%2C%20%22opacity%22%3A%201.0%2C%20%22radius%22%3A%205%2C%20%22stroke%22%3A%20true%2C%20%22weight%22%3A%203%7D%0A%20%20%20%20%20%20%20%20%20%20%20%20%29.addTo%28map_c125d84dfaf840979f34bfcca71cb21a%29%3B%0A%20%20%20%20%20%20%20%20%0A%20%20%20%20%0A%20%20%20%20%20%20%20%20var%20popup_0030221d96d144cbb3cefc84dd0d4bc2%20%3D%20L.popup%28%7B%22maxWidth%22%3A%20%22100%25%22%7D%29%3B%0A%0A%20%20%20%20%20%20%20%20%0A%20%20%20%20%20%20%20%20%20%20%20%20var%20html_778c498e16d74b9dbe2e3bcd9a8b143f%20%3D%20%24%28%60%3Cdiv%20id%3D%22html_778c498e16d74b9dbe2e3bcd9a8b143f%22%20style%3D%22width%3A%20100.0%25%3B%20height%3A%20100.0%25%3B%22%3ESE%20West%20End%20/%20Davie%20Village%3C/div%3E%60%29%5B0%5D%3B%0A%20%20%20%20%20%20%20%20%20%20%20%20popup_0030221d96d144cbb3cefc84dd0d4bc2.setContent%28html_778c498e16d74b9dbe2e3bcd9a8b143f%29%3B%0A%20%20%20%20%20%20%20%20%0A%0A%20%20%20%20%20%20%20%20circle_marker_9ed0367bef184dc298c958b54582d710.bindPopup%28popup_0030221d96d144cbb3cefc84dd0d4bc2%29%0A%20%20%20%20%20%20%20%20%3B%0A%0A%20%20%20%20%20%20%20%20%0A%20%20%20%20%0A%20%20%20%20%0A%20%20%20%20%20%20%20%20%20%20%20%20var%20circle_marker_73012957ad4043e8b98eff547c973056%20%3D%20L.circleMarker%28%0A%20%20%20%20%20%20%20%20%20%20%20%20%20%20%20%20%5B49.29092594034838%2C%20-123.14090375789006%5D%2C%0A%20%20%20%20%20%20%20%20%20%20%20%20%20%20%20%20%7B%22bubblingMouseEvents%22%3A%20true%2C%20%22color%22%3A%20%22green%22%2C%20%22dashArray%22%3A%20null%2C%20%22dashOffset%22%3A%20null%2C%20%22fill%22%3A%20true%2C%20%22fillColor%22%3A%20%22lightgreen%22%2C%20%22fillOpacity%22%3A%200.7%2C%20%22fillRule%22%3A%20%22evenodd%22%2C%20%22lineCap%22%3A%20%22round%22%2C%20%22lineJoin%22%3A%20%22round%22%2C%20%22opacity%22%3A%201.0%2C%20%22radius%22%3A%205%2C%20%22stroke%22%3A%20true%2C%20%22weight%22%3A%203%7D%0A%20%20%20%20%20%20%20%20%20%20%20%20%29.addTo%28map_c125d84dfaf840979f34bfcca71cb21a%29%3B%0A%20%20%20%20%20%20%20%20%0A%20%20%20%20%0A%20%20%20%20%20%20%20%20var%20popup_9a4a1237ca324d55a04a6357b38e50ce%20%3D%20L.popup%28%7B%22maxWidth%22%3A%20%22100%25%22%7D%29%3B%0A%0A%20%20%20%20%20%20%20%20%0A%20%20%20%20%20%20%20%20%20%20%20%20var%20html_d37ccc13f7974efbb4d75c85d7766923%20%3D%20%24%28%60%3Cdiv%20id%3D%22html_d37ccc13f7974efbb4d75c85d7766923%22%20style%3D%22width%3A%20100.0%25%3B%20height%3A%20100.0%25%3B%22%3ENW%20West%20End%20/%20Stanley%20Park%3C/div%3E%60%29%5B0%5D%3B%0A%20%20%20%20%20%20%20%20%20%20%20%20popup_9a4a1237ca324d55a04a6357b38e50ce.setContent%28html_d37ccc13f7974efbb4d75c85d7766923%29%3B%0A%20%20%20%20%20%20%20%20%0A%0A%20%20%20%20%20%20%20%20circle_marker_73012957ad4043e8b98eff547c973056.bindPopup%28popup_9a4a1237ca324d55a04a6357b38e50ce%29%0A%20%20%20%20%20%20%20%20%3B%0A%0A%20%20%20%20%20%20%20%20%0A%20%20%20%20%0A%20%20%20%20%0A%20%20%20%20%20%20%20%20%20%20%20%20var%20circle_marker_02a16b46b3d5471398390ca19104b41e%20%3D%20L.circleMarker%28%0A%20%20%20%20%20%20%20%20%20%20%20%20%20%20%20%20%5B49.25799774050024%2C%20-123.13176101715264%5D%2C%0A%20%20%20%20%20%20%20%20%20%20%20%20%20%20%20%20%7B%22bubblingMouseEvents%22%3A%20true%2C%20%22color%22%3A%20%22green%22%2C%20%22dashArray%22%3A%20null%2C%20%22dashOffset%22%3A%20null%2C%20%22fill%22%3A%20true%2C%20%22fillColor%22%3A%20%22lightgreen%22%2C%20%22fillOpacity%22%3A%200.7%2C%20%22fillRule%22%3A%20%22evenodd%22%2C%20%22lineCap%22%3A%20%22round%22%2C%20%22lineJoin%22%3A%20%22round%22%2C%20%22opacity%22%3A%201.0%2C%20%22radius%22%3A%205%2C%20%22stroke%22%3A%20true%2C%20%22weight%22%3A%203%7D%0A%20%20%20%20%20%20%20%20%20%20%20%20%29.addTo%28map_c125d84dfaf840979f34bfcca71cb21a%29%3B%0A%20%20%20%20%20%20%20%20%0A%20%20%20%20%0A%20%20%20%20%20%20%20%20var%20popup_6c47b2a29f934ba29c7cdf09fdbd7537%20%3D%20L.popup%28%7B%22maxWidth%22%3A%20%22100%25%22%7D%29%3B%0A%0A%20%20%20%20%20%20%20%20%0A%20%20%20%20%20%20%20%20%20%20%20%20var%20html_ac6447ce422a4b06bc0070358f329369%20%3D%20%24%28%60%3Cdiv%20id%3D%22html_ac6447ce422a4b06bc0070358f329369%22%20style%3D%22width%3A%20100.0%25%3B%20height%3A%20100.0%25%3B%22%3EWest%20Fairview%20/%20Granville%20Island%20/%20NE%20Shaughnessy%3C/div%3E%60%29%5B0%5D%3B%0A%20%20%20%20%20%20%20%20%20%20%20%20popup_6c47b2a29f934ba29c7cdf09fdbd7537.setContent%28html_ac6447ce422a4b06bc0070358f329369%29%3B%0A%20%20%20%20%20%20%20%20%0A%0A%20%20%20%20%20%20%20%20circle_marker_02a16b46b3d5471398390ca19104b41e.bindPopup%28popup_6c47b2a29f934ba29c7cdf09fdbd7537%29%0A%20%20%20%20%20%20%20%20%3B%0A%0A%20%20%20%20%20%20%20%20%0A%20%20%20%20%0A%20%20%20%20%0A%20%20%20%20%20%20%20%20%20%20%20%20var%20circle_marker_ca300dd7935b424da654edfea2b41ba0%20%3D%20L.circleMarker%28%0A%20%20%20%20%20%20%20%20%20%20%20%20%20%20%20%20%5B49.2620535166084%2C%20-123.14929629231642%5D%2C%0A%20%20%20%20%20%20%20%20%20%20%20%20%20%20%20%20%7B%22bubblingMouseEvents%22%3A%20true%2C%20%22color%22%3A%20%22green%22%2C%20%22dashArray%22%3A%20null%2C%20%22dashOffset%22%3A%20null%2C%20%22fill%22%3A%20true%2C%20%22fillColor%22%3A%20%22lightgreen%22%2C%20%22fillOpacity%22%3A%200.7%2C%20%22fillRule%22%3A%20%22evenodd%22%2C%20%22lineCap%22%3A%20%22round%22%2C%20%22lineJoin%22%3A%20%22round%22%2C%20%22opacity%22%3A%201.0%2C%20%22radius%22%3A%205%2C%20%22stroke%22%3A%20true%2C%20%22weight%22%3A%203%7D%0A%20%20%20%20%20%20%20%20%20%20%20%20%29.addTo%28map_c125d84dfaf840979f34bfcca71cb21a%29%3B%0A%20%20%20%20%20%20%20%20%0A%20%20%20%20%0A%20%20%20%20%20%20%20%20var%20popup_e8cc351aa4c94919822fff31d9d6de32%20%3D%20L.popup%28%7B%22maxWidth%22%3A%20%22100%25%22%7D%29%3B%0A%0A%20%20%20%20%20%20%20%20%0A%20%20%20%20%20%20%20%20%20%20%20%20var%20html_d1a434b5e33d47c2b6ea51cf630c8cf7%20%3D%20%24%28%60%3Cdiv%20id%3D%22html_d1a434b5e33d47c2b6ea51cf630c8cf7%22%20style%3D%22width%3A%20100.0%25%3B%20height%3A%20100.0%25%3B%22%3ENW%20Shaughnessy%20/%20East%20Kitsilano%20/%20Quilchena%3C/div%3E%60%29%5B0%5D%3B%0A%20%20%20%20%20%20%20%20%20%20%20%20popup_e8cc351aa4c94919822fff31d9d6de32.setContent%28html_d1a434b5e33d47c2b6ea51cf630c8cf7%29%3B%0A%20%20%20%20%20%20%20%20%0A%0A%20%20%20%20%20%20%20%20circle_marker_ca300dd7935b424da654edfea2b41ba0.bindPopup%28popup_e8cc351aa4c94919822fff31d9d6de32%29%0A%20%20%20%20%20%20%20%20%3B%0A%0A%20%20%20%20%20%20%20%20%0A%20%20%20%20%0A%20%20%20%20%0A%20%20%20%20%20%20%20%20%20%20%20%20var%20circle_marker_3003721156044475a2e5d9e236160909%20%3D%20L.circleMarker%28%0A%20%20%20%20%20%20%20%20%20%20%20%20%20%20%20%20%5B49.26648330869385%2C%20-123.17318480044348%5D%2C%0A%20%20%20%20%20%20%20%20%20%20%20%20%20%20%20%20%7B%22bubblingMouseEvents%22%3A%20true%2C%20%22color%22%3A%20%22green%22%2C%20%22dashArray%22%3A%20null%2C%20%22dashOffset%22%3A%20null%2C%20%22fill%22%3A%20true%2C%20%22fillColor%22%3A%20%22lightgreen%22%2C%20%22fillOpacity%22%3A%200.7%2C%20%22fillRule%22%3A%20%22evenodd%22%2C%20%22lineCap%22%3A%20%22round%22%2C%20%22lineJoin%22%3A%20%22round%22%2C%20%22opacity%22%3A%201.0%2C%20%22radius%22%3A%205%2C%20%22stroke%22%3A%20true%2C%20%22weight%22%3A%203%7D%0A%20%20%20%20%20%20%20%20%20%20%20%20%29.addTo%28map_c125d84dfaf840979f34bfcca71cb21a%29%3B%0A%20%20%20%20%20%20%20%20%0A%20%20%20%20%0A%20%20%20%20%20%20%20%20var%20popup_8b5a10f681f0446393f2140a51e72a48%20%3D%20L.popup%28%7B%22maxWidth%22%3A%20%22100%25%22%7D%29%3B%0A%0A%20%20%20%20%20%20%20%20%0A%20%20%20%20%20%20%20%20%20%20%20%20var%20html_eae4c5078b094fe7a228065242ea10b4%20%3D%20%24%28%60%3Cdiv%20id%3D%22html_eae4c5078b094fe7a228065242ea10b4%22%20style%3D%22width%3A%20100.0%25%3B%20height%3A%20100.0%25%3B%22%3ECentral%20Kitsilano%20/%20Greektown%3C/div%3E%60%29%5B0%5D%3B%0A%20%20%20%20%20%20%20%20%20%20%20%20popup_8b5a10f681f0446393f2140a51e72a48.setContent%28html_eae4c5078b094fe7a228065242ea10b4%29%3B%0A%20%20%20%20%20%20%20%20%0A%0A%20%20%20%20%20%20%20%20circle_marker_3003721156044475a2e5d9e236160909.bindPopup%28popup_8b5a10f681f0446393f2140a51e72a48%29%0A%20%20%20%20%20%20%20%20%3B%0A%0A%20%20%20%20%20%20%20%20%0A%20%20%20%20%0A%20%20%20%20%0A%20%20%20%20%20%20%20%20%20%20%20%20var%20circle_marker_f79916ee598a4385893c1b21375ff7ed%20%3D%20L.circleMarker%28%0A%20%20%20%20%20%20%20%20%20%20%20%20%20%20%20%20%5B49.25310953498545%2C%20-123.17428149259356%5D%2C%0A%20%20%20%20%20%20%20%20%20%20%20%20%20%20%20%20%7B%22bubblingMouseEvents%22%3A%20true%2C%20%22color%22%3A%20%22green%22%2C%20%22dashArray%22%3A%20null%2C%20%22dashOffset%22%3A%20null%2C%20%22fill%22%3A%20true%2C%20%22fillColor%22%3A%20%22lightgreen%22%2C%20%22fillOpacity%22%3A%200.7%2C%20%22fillRule%22%3A%20%22evenodd%22%2C%20%22lineCap%22%3A%20%22round%22%2C%20%22lineJoin%22%3A%20%22round%22%2C%20%22opacity%22%3A%201.0%2C%20%22radius%22%3A%205%2C%20%22stroke%22%3A%20true%2C%20%22weight%22%3A%203%7D%0A%20%20%20%20%20%20%20%20%20%20%20%20%29.addTo%28map_c125d84dfaf840979f34bfcca71cb21a%29%3B%0A%20%20%20%20%20%20%20%20%0A%20%20%20%20%0A%20%20%20%20%20%20%20%20var%20popup_ff2fa10a17da48eda1530136c5657def%20%3D%20L.popup%28%7B%22maxWidth%22%3A%20%22100%25%22%7D%29%3B%0A%0A%20%20%20%20%20%20%20%20%0A%20%20%20%20%20%20%20%20%20%20%20%20var%20html_a0e119401c854cff8801e0f46cbbc165%20%3D%20%24%28%60%3Cdiv%20id%3D%22html_a0e119401c854cff8801e0f46cbbc165%22%20style%3D%22width%3A%20100.0%25%3B%20height%3A%20100.0%25%3B%22%3ENW%20Arbutus%20Ridge%20/%20NE%20Dunbar-Southlands%3C/div%3E%60%29%5B0%5D%3B%0A%20%20%20%20%20%20%20%20%20%20%20%20popup_ff2fa10a17da48eda1530136c5657def.setContent%28html_a0e119401c854cff8801e0f46cbbc165%29%3B%0A%20%20%20%20%20%20%20%20%0A%0A%20%20%20%20%20%20%20%20circle_marker_f79916ee598a4385893c1b21375ff7ed.bindPopup%28popup_ff2fa10a17da48eda1530136c5657def%29%0A%20%20%20%20%20%20%20%20%3B%0A%0A%20%20%20%20%20%20%20%20%0A%20%20%20%20%0A%20%20%20%20%0A%20%20%20%20%20%20%20%20%20%20%20%20var%20circle_marker_920d3cb806ae49a5a2cbe2e0ecb3106f%20%3D%20L.circleMarker%28%0A%20%20%20%20%20%20%20%20%20%20%20%20%20%20%20%20%5B49.23630274346183%2C%20-123.14714057838972%5D%2C%0A%20%20%20%20%20%20%20%20%20%20%20%20%20%20%20%20%7B%22bubblingMouseEvents%22%3A%20true%2C%20%22color%22%3A%20%22green%22%2C%20%22dashArray%22%3A%20null%2C%20%22dashOffset%22%3A%20null%2C%20%22fill%22%3A%20true%2C%20%22fillColor%22%3A%20%22lightgreen%22%2C%20%22fillOpacity%22%3A%200.7%2C%20%22fillRule%22%3A%20%22evenodd%22%2C%20%22lineCap%22%3A%20%22round%22%2C%20%22lineJoin%22%3A%20%22round%22%2C%20%22opacity%22%3A%201.0%2C%20%22radius%22%3A%205%2C%20%22stroke%22%3A%20true%2C%20%22weight%22%3A%203%7D%0A%20%20%20%20%20%20%20%20%20%20%20%20%29.addTo%28map_c125d84dfaf840979f34bfcca71cb21a%29%3B%0A%20%20%20%20%20%20%20%20%0A%20%20%20%20%0A%20%20%20%20%20%20%20%20var%20popup_dc5dde09ddc24d8e9b6de95a3b1efbf4%20%3D%20L.popup%28%7B%22maxWidth%22%3A%20%22100%25%22%7D%29%3B%0A%0A%20%20%20%20%20%20%20%20%0A%20%20%20%20%20%20%20%20%20%20%20%20var%20html_77301e9ad3ea401d8d6bc48fd9bf5259%20%3D%20%24%28%60%3Cdiv%20id%3D%22html_77301e9ad3ea401d8d6bc48fd9bf5259%22%20style%3D%22width%3A%20100.0%25%3B%20height%3A%20100.0%25%3B%22%3ESouth%20Shaughnessy%20/%20NW%20Oakridge%20/%20NE%20Kerrisdale%20/%20SE%20Arbutus%20Ridge%3C/div%3E%60%29%5B0%5D%3B%0A%20%20%20%20%20%20%20%20%20%20%20%20popup_dc5dde09ddc24d8e9b6de95a3b1efbf4.setContent%28html_77301e9ad3ea401d8d6bc48fd9bf5259%29%3B%0A%20%20%20%20%20%20%20%20%0A%0A%20%20%20%20%20%20%20%20circle_marker_920d3cb806ae49a5a2cbe2e0ecb3106f.bindPopup%28popup_dc5dde09ddc24d8e9b6de95a3b1efbf4%29%0A%20%20%20%20%20%20%20%20%3B%0A%0A%20%20%20%20%20%20%20%20%0A%20%20%20%20%0A%20%20%20%20%0A%20%20%20%20%20%20%20%20%20%20%20%20var%20circle_marker_ee007cc4feb64d2f835e673b384fc471%20%3D%20L.circleMarker%28%0A%20%20%20%20%20%20%20%20%20%20%20%20%20%20%20%20%5B49.2371832176151%2C%20-123.1857490833099%5D%2C%0A%20%20%20%20%20%20%20%20%20%20%20%20%20%20%20%20%7B%22bubblingMouseEvents%22%3A%20true%2C%20%22color%22%3A%20%22green%22%2C%20%22dashArray%22%3A%20null%2C%20%22dashOffset%22%3A%20null%2C%20%22fill%22%3A%20true%2C%20%22fillColor%22%3A%20%22lightgreen%22%2C%20%22fillOpacity%22%3A%200.7%2C%20%22fillRule%22%3A%20%22evenodd%22%2C%20%22lineCap%22%3A%20%22round%22%2C%20%22lineJoin%22%3A%20%22round%22%2C%20%22opacity%22%3A%201.0%2C%20%22radius%22%3A%205%2C%20%22stroke%22%3A%20true%2C%20%22weight%22%3A%203%7D%0A%20%20%20%20%20%20%20%20%20%20%20%20%29.addTo%28map_c125d84dfaf840979f34bfcca71cb21a%29%3B%0A%20%20%20%20%20%20%20%20%0A%20%20%20%20%0A%20%20%20%20%20%20%20%20var%20popup_a309de9966f741b2b96e25d6438c0532%20%3D%20L.popup%28%7B%22maxWidth%22%3A%20%22100%25%22%7D%29%3B%0A%0A%20%20%20%20%20%20%20%20%0A%20%20%20%20%20%20%20%20%20%20%20%20var%20html_f623b85beaa1437daf13bb87ceaac888%20%3D%20%24%28%60%3Cdiv%20id%3D%22html_f623b85beaa1437daf13bb87ceaac888%22%20style%3D%22width%3A%20100.0%25%3B%20height%3A%20100.0%25%3B%22%3EWest%20Kerrisdale%20/%20South%20Dunbar-Southlands%20/%20Musqueam%3C/div%3E%60%29%5B0%5D%3B%0A%20%20%20%20%20%20%20%20%20%20%20%20popup_a309de9966f741b2b96e25d6438c0532.setContent%28html_f623b85beaa1437daf13bb87ceaac888%29%3B%0A%20%20%20%20%20%20%20%20%0A%0A%20%20%20%20%20%20%20%20circle_marker_ee007cc4feb64d2f835e673b384fc471.bindPopup%28popup_a309de9966f741b2b96e25d6438c0532%29%0A%20%20%20%20%20%20%20%20%3B%0A%0A%20%20%20%20%20%20%20%20%0A%20%20%20%20%0A%20%20%20%20%0A%20%20%20%20%20%20%20%20%20%20%20%20var%20circle_marker_23411c0380054c499bdfb31ba0cad623%20%3D%20L.circleMarker%28%0A%20%20%20%20%20%20%20%20%20%20%20%20%20%20%20%20%5B49.214390822344754%2C%20-123.14904062028786%5D%2C%0A%20%20%20%20%20%20%20%20%20%20%20%20%20%20%20%20%7B%22bubblingMouseEvents%22%3A%20true%2C%20%22color%22%3A%20%22green%22%2C%20%22dashArray%22%3A%20null%2C%20%22dashOffset%22%3A%20null%2C%20%22fill%22%3A%20true%2C%20%22fillColor%22%3A%20%22lightgreen%22%2C%20%22fillOpacity%22%3A%200.7%2C%20%22fillRule%22%3A%20%22evenodd%22%2C%20%22lineCap%22%3A%20%22round%22%2C%20%22lineJoin%22%3A%20%22round%22%2C%20%22opacity%22%3A%201.0%2C%20%22radius%22%3A%205%2C%20%22stroke%22%3A%20true%2C%20%22weight%22%3A%203%7D%0A%20%20%20%20%20%20%20%20%20%20%20%20%29.addTo%28map_c125d84dfaf840979f34bfcca71cb21a%29%3B%0A%20%20%20%20%20%20%20%20%0A%20%20%20%20%0A%20%20%20%20%20%20%20%20var%20popup_d7335a5c042844148945b386c9948812%20%3D%20L.popup%28%7B%22maxWidth%22%3A%20%22100%25%22%7D%29%3B%0A%0A%20%20%20%20%20%20%20%20%0A%20%20%20%20%20%20%20%20%20%20%20%20var%20html_47152993dd684e4f8463721188d082fd%20%3D%20%24%28%60%3Cdiv%20id%3D%22html_47152993dd684e4f8463721188d082fd%22%20style%3D%22width%3A%20100.0%25%3B%20height%3A%20100.0%25%3B%22%3ESE%20Kerrisdale%20/%20SW%20Oakridge%20/%20West%20Marpole%3C/div%3E%60%29%5B0%5D%3B%0A%20%20%20%20%20%20%20%20%20%20%20%20popup_d7335a5c042844148945b386c9948812.setContent%28html_47152993dd684e4f8463721188d082fd%29%3B%0A%20%20%20%20%20%20%20%20%0A%0A%20%20%20%20%20%20%20%20circle_marker_23411c0380054c499bdfb31ba0cad623.bindPopup%28popup_d7335a5c042844148945b386c9948812%29%0A%20%20%20%20%20%20%20%20%3B%0A%0A%20%20%20%20%20%20%20%20%0A%20%20%20%20%0A%20%20%20%20%0A%20%20%20%20%20%20%20%20%20%20%20%20var%20circle_marker_c65ac7d3acf34267a774a8ca75c028d0%20%3D%20L.circleMarker%28%0A%20%20%20%20%20%20%20%20%20%20%20%20%20%20%20%20%5B49.26688560987094%2C%20-123.21047318497928%5D%2C%0A%20%20%20%20%20%20%20%20%20%20%20%20%20%20%20%20%7B%22bubblingMouseEvents%22%3A%20true%2C%20%22color%22%3A%20%22green%22%2C%20%22dashArray%22%3A%20null%2C%20%22dashOffset%22%3A%20null%2C%20%22fill%22%3A%20true%2C%20%22fillColor%22%3A%20%22lightgreen%22%2C%20%22fillOpacity%22%3A%200.7%2C%20%22fillRule%22%3A%20%22evenodd%22%2C%20%22lineCap%22%3A%20%22round%22%2C%20%22lineJoin%22%3A%20%22round%22%2C%20%22opacity%22%3A%201.0%2C%20%22radius%22%3A%205%2C%20%22stroke%22%3A%20true%2C%20%22weight%22%3A%203%7D%0A%20%20%20%20%20%20%20%20%20%20%20%20%29.addTo%28map_c125d84dfaf840979f34bfcca71cb21a%29%3B%0A%20%20%20%20%20%20%20%20%0A%20%20%20%20%0A%20%20%20%20%20%20%20%20var%20popup_02f56437384043d1affe2fc4760b5767%20%3D%20L.popup%28%7B%22maxWidth%22%3A%20%22100%25%22%7D%29%3B%0A%0A%20%20%20%20%20%20%20%20%0A%20%20%20%20%20%20%20%20%20%20%20%20var%20html_9ed5473113ab41968c6db7c4bfa32a29%20%3D%20%24%28%60%3Cdiv%20id%3D%22html_9ed5473113ab41968c6db7c4bfa32a29%22%20style%3D%22width%3A%20100.0%25%3B%20height%3A%20100.0%25%3B%22%3EWest%20Kitsilano%20/%20West%20Point%20Grey%20/%20Jericho%3C/div%3E%60%29%5B0%5D%3B%0A%20%20%20%20%20%20%20%20%20%20%20%20popup_02f56437384043d1affe2fc4760b5767.setContent%28html_9ed5473113ab41968c6db7c4bfa32a29%29%3B%0A%20%20%20%20%20%20%20%20%0A%0A%20%20%20%20%20%20%20%20circle_marker_c65ac7d3acf34267a774a8ca75c028d0.bindPopup%28popup_02f56437384043d1affe2fc4760b5767%29%0A%20%20%20%20%20%20%20%20%3B%0A%0A%20%20%20%20%20%20%20%20%0A%20%20%20%20%0A%20%20%20%20%0A%20%20%20%20%20%20%20%20%20%20%20%20var%20circle_marker_8bf3076bebf344a28402b734f3b607b8%20%3D%20L.circleMarker%28%0A%20%20%20%20%20%20%20%20%20%20%20%20%20%20%20%20%5B49.25120988008219%2C%20-123.22541802262631%5D%2C%0A%20%20%20%20%20%20%20%20%20%20%20%20%20%20%20%20%7B%22bubblingMouseEvents%22%3A%20true%2C%20%22color%22%3A%20%22green%22%2C%20%22dashArray%22%3A%20null%2C%20%22dashOffset%22%3A%20null%2C%20%22fill%22%3A%20true%2C%20%22fillColor%22%3A%20%22lightgreen%22%2C%20%22fillOpacity%22%3A%200.7%2C%20%22fillRule%22%3A%20%22evenodd%22%2C%20%22lineCap%22%3A%20%22round%22%2C%20%22lineJoin%22%3A%20%22round%22%2C%20%22opacity%22%3A%201.0%2C%20%22radius%22%3A%205%2C%20%22stroke%22%3A%20true%2C%20%22weight%22%3A%203%7D%0A%20%20%20%20%20%20%20%20%20%20%20%20%29.addTo%28map_c125d84dfaf840979f34bfcca71cb21a%29%3B%0A%20%20%20%20%20%20%20%20%0A%20%20%20%20%0A%20%20%20%20%20%20%20%20var%20popup_31b83ce6c04d40ca992cfedb69f75f92%20%3D%20L.popup%28%7B%22maxWidth%22%3A%20%22100%25%22%7D%29%3B%0A%0A%20%20%20%20%20%20%20%20%0A%20%20%20%20%20%20%20%20%20%20%20%20var%20html_54d5028881864d63b825febe73324e0d%20%3D%20%24%28%60%3Cdiv%20id%3D%22html_54d5028881864d63b825febe73324e0d%22%20style%3D%22width%3A%20100.0%25%3B%20height%3A%20100.0%25%3B%22%3ENW%20Dunbar-Southlands%20/%20Chaldecutt%20/%20South%20University%20Endowment%20Lands%3C/div%3E%60%29%5B0%5D%3B%0A%20%20%20%20%20%20%20%20%20%20%20%20popup_31b83ce6c04d40ca992cfedb69f75f92.setContent%28html_54d5028881864d63b825febe73324e0d%29%3B%0A%20%20%20%20%20%20%20%20%0A%0A%20%20%20%20%20%20%20%20circle_marker_8bf3076bebf344a28402b734f3b607b8.bindPopup%28popup_31b83ce6c04d40ca992cfedb69f75f92%29%0A%20%20%20%20%20%20%20%20%3B%0A%0A%20%20%20%20%20%20%20%20%0A%20%20%20%20%0A%20%20%20%20%0A%20%20%20%20%20%20%20%20%20%20%20%20var%20circle_marker_f31f53dd9b254c9a8ac47bcd1591907b%20%3D%20L.circleMarker%28%0A%20%20%20%20%20%20%20%20%20%20%20%20%20%20%20%20%5B49.27126808428649%2C%20-123.23926940900262%5D%2C%0A%20%20%20%20%20%20%20%20%20%20%20%20%20%20%20%20%7B%22bubblingMouseEvents%22%3A%20true%2C%20%22color%22%3A%20%22green%22%2C%20%22dashArray%22%3A%20null%2C%20%22dashOffset%22%3A%20null%2C%20%22fill%22%3A%20true%2C%20%22fillColor%22%3A%20%22lightgreen%22%2C%20%22fillOpacity%22%3A%200.7%2C%20%22fillRule%22%3A%20%22evenodd%22%2C%20%22lineCap%22%3A%20%22round%22%2C%20%22lineJoin%22%3A%20%22round%22%2C%20%22opacity%22%3A%201.0%2C%20%22radius%22%3A%205%2C%20%22stroke%22%3A%20true%2C%20%22weight%22%3A%203%7D%0A%20%20%20%20%20%20%20%20%20%20%20%20%29.addTo%28map_c125d84dfaf840979f34bfcca71cb21a%29%3B%0A%20%20%20%20%20%20%20%20%0A%20%20%20%20%0A%20%20%20%20%20%20%20%20var%20popup_c11c1ca927eb47a9be858fa081b52054%20%3D%20L.popup%28%7B%22maxWidth%22%3A%20%22100%25%22%7D%29%3B%0A%0A%20%20%20%20%20%20%20%20%0A%20%20%20%20%20%20%20%20%20%20%20%20var%20html_9bd5c473187d4736a7d74cb2cedba602%20%3D%20%24%28%60%3Cdiv%20id%3D%22html_9bd5c473187d4736a7d74cb2cedba602%22%20style%3D%22width%3A%20100.0%25%3B%20height%3A%20100.0%25%3B%22%3EUBC%3C/div%3E%60%29%5B0%5D%3B%0A%20%20%20%20%20%20%20%20%20%20%20%20popup_c11c1ca927eb47a9be858fa081b52054.setContent%28html_9bd5c473187d4736a7d74cb2cedba602%29%3B%0A%20%20%20%20%20%20%20%20%0A%0A%20%20%20%20%20%20%20%20circle_marker_f31f53dd9b254c9a8ac47bcd1591907b.bindPopup%28popup_c11c1ca927eb47a9be858fa081b52054%29%0A%20%20%20%20%20%20%20%20%3B%0A%0A%20%20%20%20%20%20%20%20%0A%20%20%20%20%0A%20%20%20%20%0A%20%20%20%20%20%20%20%20%20%20%20%20var%20circle_marker_a64ba5221b1649fb82293afde6ab7587%20%3D%20L.circleMarker%28%0A%20%20%20%20%20%20%20%20%20%20%20%20%20%20%20%20%5B49.27588523874305%2C%20-123.13172470324018%5D%2C%0A%20%20%20%20%20%20%20%20%20%20%20%20%20%20%20%20%7B%22bubblingMouseEvents%22%3A%20true%2C%20%22color%22%3A%20%22green%22%2C%20%22dashArray%22%3A%20null%2C%20%22dashOffset%22%3A%20null%2C%20%22fill%22%3A%20true%2C%20%22fillColor%22%3A%20%22lightgreen%22%2C%20%22fillOpacity%22%3A%200.7%2C%20%22fillRule%22%3A%20%22evenodd%22%2C%20%22lineCap%22%3A%20%22round%22%2C%20%22lineJoin%22%3A%20%22round%22%2C%20%22opacity%22%3A%201.0%2C%20%22radius%22%3A%205%2C%20%22stroke%22%3A%20true%2C%20%22weight%22%3A%203%7D%0A%20%20%20%20%20%20%20%20%20%20%20%20%29.addTo%28map_c125d84dfaf840979f34bfcca71cb21a%29%3B%0A%20%20%20%20%20%20%20%20%0A%20%20%20%20%0A%20%20%20%20%20%20%20%20var%20popup_0279b593bc07429d93174a98c7021626%20%3D%20L.popup%28%7B%22maxWidth%22%3A%20%22100%25%22%7D%29%3B%0A%0A%20%20%20%20%20%20%20%20%0A%20%20%20%20%20%20%20%20%20%20%20%20var%20html_2a558334049d4d72b1ce44dd74cf0657%20%3D%20%24%28%60%3Cdiv%20id%3D%22html_2a558334049d4d72b1ce44dd74cf0657%22%20style%3D%22width%3A%20100.0%25%3B%20height%3A%20100.0%25%3B%22%3ESW%20Downtown%3C/div%3E%60%29%5B0%5D%3B%0A%20%20%20%20%20%20%20%20%20%20%20%20popup_0279b593bc07429d93174a98c7021626.setContent%28html_2a558334049d4d72b1ce44dd74cf0657%29%3B%0A%20%20%20%20%20%20%20%20%0A%0A%20%20%20%20%20%20%20%20circle_marker_a64ba5221b1649fb82293afde6ab7587.bindPopup%28popup_0279b593bc07429d93174a98c7021626%29%0A%20%20%20%20%20%20%20%20%3B%0A%0A%20%20%20%20%20%20%20%20%0A%20%20%20%20%0A%20%20%20%20%0A%20%20%20%20%20%20%20%20%20%20%20%20var%20circle_marker_e59cc974f71b4f05a7084b75307980ff%20%3D%20L.circleMarker%28%0A%20%20%20%20%20%20%20%20%20%20%20%20%20%20%20%20%5B49.28596658609673%2C%20-123.11953099301677%5D%2C%0A%20%20%20%20%20%20%20%20%20%20%20%20%20%20%20%20%7B%22bubblingMouseEvents%22%3A%20true%2C%20%22color%22%3A%20%22green%22%2C%20%22dashArray%22%3A%20null%2C%20%22dashOffset%22%3A%20null%2C%20%22fill%22%3A%20true%2C%20%22fillColor%22%3A%20%22lightgreen%22%2C%20%22fillOpacity%22%3A%200.7%2C%20%22fillRule%22%3A%20%22evenodd%22%2C%20%22lineCap%22%3A%20%22round%22%2C%20%22lineJoin%22%3A%20%22round%22%2C%20%22opacity%22%3A%201.0%2C%20%22radius%22%3A%205%2C%20%22stroke%22%3A%20true%2C%20%22weight%22%3A%203%7D%0A%20%20%20%20%20%20%20%20%20%20%20%20%29.addTo%28map_c125d84dfaf840979f34bfcca71cb21a%29%3B%0A%20%20%20%20%20%20%20%20%0A%20%20%20%20%0A%20%20%20%20%20%20%20%20var%20popup_c953a01657984fedbd7e650b634a3e18%20%3D%20L.popup%28%7B%22maxWidth%22%3A%20%22100%25%22%7D%29%3B%0A%0A%20%20%20%20%20%20%20%20%0A%20%20%20%20%20%20%20%20%20%20%20%20var%20html_a2d1a36687ad4b418a8c36b0b8244be2%20%3D%20%24%28%60%3Cdiv%20id%3D%22html_a2d1a36687ad4b418a8c36b0b8244be2%22%20style%3D%22width%3A%20100.0%25%3B%20height%3A%20100.0%25%3B%22%3EBentall%20Centre%3C/div%3E%60%29%5B0%5D%3B%0A%20%20%20%20%20%20%20%20%20%20%20%20popup_c953a01657984fedbd7e650b634a3e18.setContent%28html_a2d1a36687ad4b418a8c36b0b8244be2%29%3B%0A%20%20%20%20%20%20%20%20%0A%0A%20%20%20%20%20%20%20%20circle_marker_e59cc974f71b4f05a7084b75307980ff.bindPopup%28popup_c953a01657984fedbd7e650b634a3e18%29%0A%20%20%20%20%20%20%20%20%3B%0A%0A%20%20%20%20%20%20%20%20%0A%20%20%20%20%0A%20%20%20%20%0A%20%20%20%20%20%20%20%20%20%20%20%20var%20circle_marker_024fc97ef0fa40a28eea69aca61255eb%20%3D%20L.circleMarker%28%0A%20%20%20%20%20%20%20%20%20%20%20%20%20%20%20%20%5B49.28218206665508%2C%20-123.11924656130608%5D%2C%0A%20%20%20%20%20%20%20%20%20%20%20%20%20%20%20%20%7B%22bubblingMouseEvents%22%3A%20true%2C%20%22color%22%3A%20%22green%22%2C%20%22dashArray%22%3A%20null%2C%20%22dashOffset%22%3A%20null%2C%20%22fill%22%3A%20true%2C%20%22fillColor%22%3A%20%22lightgreen%22%2C%20%22fillOpacity%22%3A%200.7%2C%20%22fillRule%22%3A%20%22evenodd%22%2C%20%22lineCap%22%3A%20%22round%22%2C%20%22lineJoin%22%3A%20%22round%22%2C%20%22opacity%22%3A%201.0%2C%20%22radius%22%3A%205%2C%20%22stroke%22%3A%20true%2C%20%22weight%22%3A%203%7D%0A%20%20%20%20%20%20%20%20%20%20%20%20%29.addTo%28map_c125d84dfaf840979f34bfcca71cb21a%29%3B%0A%20%20%20%20%20%20%20%20%0A%20%20%20%20%0A%20%20%20%20%20%20%20%20var%20popup_a5b25eb55449455199acb6f206205295%20%3D%20L.popup%28%7B%22maxWidth%22%3A%20%22100%25%22%7D%29%3B%0A%0A%20%20%20%20%20%20%20%20%0A%20%20%20%20%20%20%20%20%20%20%20%20var%20html_fc44b6364f504aeb9b585284e2c0311e%20%3D%20%24%28%60%3Cdiv%20id%3D%22html_fc44b6364f504aeb9b585284e2c0311e%22%20style%3D%22width%3A%20100.0%25%3B%20height%3A%20100.0%25%3B%22%3EPacific%20Centre%3C/div%3E%60%29%5B0%5D%3B%0A%20%20%20%20%20%20%20%20%20%20%20%20popup_a5b25eb55449455199acb6f206205295.setContent%28html_fc44b6364f504aeb9b585284e2c0311e%29%3B%0A%20%20%20%20%20%20%20%20%0A%0A%20%20%20%20%20%20%20%20circle_marker_024fc97ef0fa40a28eea69aca61255eb.bindPopup%28popup_a5b25eb55449455199acb6f206205295%29%0A%20%20%20%20%20%20%20%20%3B%0A%0A%20%20%20%20%20%20%20%20%0A%20%20%20%20%0A%3C/script%3E onload=\"this.contentDocument.open();this.contentDocument.write(    decodeURIComponent(this.getAttribute('data-html')));this.contentDocument.close();\" allowfullscreen webkitallowfullscreen mozallowfullscreen></iframe></div></div>"
      ],
      "text/plain": [
       "<folium.folium.Map at 0x7fd5888cfcd0>"
      ]
     },
     "execution_count": 23,
     "metadata": {},
     "output_type": "execute_result"
    }
   ],
   "source": [
    "# create map of Vancouver using latitude and longitude values\n",
    "map_vancouver = folium.Map(location=[latitude, longitude], zoom_start=12)\n",
    "\n",
    "# add markers to map\n",
    "for lat, lng, neighborhood in zip(neighborhoods['Latitude'], \n",
    "                                  neighborhoods['Longitude'],\n",
    "                                  neighborhoods['Neighborhood']):\n",
    "    label = neighborhood\n",
    "    label = folium.Popup(label, parse_html=True)\n",
    "    folium.CircleMarker(\n",
    "        [lat, lng],\n",
    "        radius=5,\n",
    "        popup=label,\n",
    "        color='green',\n",
    "        fill=True,\n",
    "        fill_color='lightgreen',\n",
    "        fill_opacity=0.7,\n",
    "        parse_html=False).add_to(map_vancouver)\n",
    "\n",
    "map_vancouver"
   ]
  },
  {
   "cell_type": "markdown",
   "id": "found-excellence",
   "metadata": {},
   "source": [
    "***"
   ]
  },
  {
   "cell_type": "markdown",
   "id": "prescription-nickel",
   "metadata": {},
   "source": [
    "## Methodology <a name=\"methodology\"></a>"
   ]
  },
  {
   "cell_type": "markdown",
   "id": "comfortable-aviation",
   "metadata": {},
   "source": [
    "\n",
    "# Add something like this (check out others first)\n",
    "\n",
    "\n",
    "In this project we will direct our efforts on detecting areas of Berlin that have low restaurant density, particularly those with low number of Italian restaurants. We will limit our analysis to area ~6km around city center.\n",
    "\n",
    "In first step we have collected the required data: location and type (category) of every restaurant within 6km from Berlin center (Alexanderplatz). We have also identified Italian restaurants (according to Foursquare categorization).\n",
    "\n",
    "Second step in our analysis will be calculation and exploration of 'restaurant density' across different areas of Berlin - we will use heatmaps to identify a few promising areas close to center with low number of restaurants in general (and no Italian restaurants in vicinity) and focus our attention on those areas.\n",
    "\n",
    "In third and final step we will focus on most promising areas and within those create clusters of locations that meet some basic requirements established in discussion with stakeholders: we will take into consideration locations with no more than two restaurants in radius of 250 meters, and we want locations without Italian restaurants in radius of 400 meters. We will present map of all such locations but also create clusters (using k-means clustering) of those locations to identify general zones / neighborhoods / addresses which should be a starting point for final 'street level' exploration and search for optimal venue location by stakeholders.\n",
    "***"
   ]
  },
  {
   "cell_type": "markdown",
   "id": "representative-cleveland",
   "metadata": {},
   "source": [
    "#### Explore Neighborhoods in Vancouver"
   ]
  },
  {
   "cell_type": "code",
   "execution_count": null,
   "id": "parental-poetry",
   "metadata": {},
   "outputs": [],
   "source": [
    "# Define Foursquare Credentials and Version\n",
    "CLIENT_ID = 'OC30BIT0T1C1DAJAXAUJGG1H3MQ1XOOZULL5ZWMARRVZFR0K' # your Foursquare ID\n",
    "CLIENT_SECRET = 'NGO53AGQLJYHRMVAADNXU2QXJX1SLPK5M3HSMNTOWZQUMJZY' # your Foursquare Secret\n",
    "VERSION = '20180605' # Foursquare API version\n",
    "LIMIT = 100 # A default Foursquare API limit value"
   ]
  },
  {
   "cell_type": "code",
   "execution_count": null,
   "id": "funky-location",
   "metadata": {},
   "outputs": [],
   "source": [
    "def getNearbyVenues(names, latitudes, longitudes, radius=1000):\n",
    "    \"\"\" names, latitudes, longitudes are columns from a dataframe. \"\"\"\n",
    "    venues_list = []\n",
    "    for name, lat, lng in zip(names, latitudes, longitudes):\n",
    "        print(name)\n",
    "        # create the API request URL\n",
    "        url = 'https://api.foursquare.com/v2/venues/explore?&client_id={}&client_secret={}&v={}&ll={},{}&radius={}&limit={}'.format(\n",
    "            CLIENT_ID,\n",
    "            CLIENT_SECRET,\n",
    "            VERSION,\n",
    "            lat,\n",
    "            lng,\n",
    "            radius,\n",
    "            LIMIT)\n",
    "        # make the GET request\n",
    "        results = requests.get(url).json()[\"response\"]['groups'][0]['items']\n",
    "        # return only relevant information for each nearby venue\n",
    "        venues_list.append([(name, lat, lng,\n",
    "            v['venue']['name'],\n",
    "            v['venue']['location']['lat'],\n",
    "            v['venue']['location']['lng'],\n",
    "            v['venue']['categories'][0]['name']) for v in results])\n",
    "\n",
    "    nearby_venues = pd.DataFrame([item for venue_list in venues_list for item in venue_list])\n",
    "    nearby_venues.columns = ['Neighborhood',\n",
    "                  'Neighborhood Latitude',\n",
    "                  'Neighborhood Longitude',\n",
    "                  'Venue',\n",
    "                  'Venue Latitude',\n",
    "                  'Venue Longitude',\n",
    "                  'Venue Category']\n",
    "    \n",
    "    return(nearby_venues)"
   ]
  },
  {
   "cell_type": "code",
   "execution_count": null,
   "id": "acute-aquarium",
   "metadata": {},
   "outputs": [],
   "source": [
    "# Run the above function on each neighborhood and create a new dataframe called ba_venues.\n",
    "vancouver_venues = getNearbyVenues(names=neighborhoods['Neighborhood'],\n",
    "                            latitudes=neighborhoods['Latitude'],\n",
    "                            longitudes=neighborhoods['Longitude'])"
   ]
  },
  {
   "cell_type": "code",
   "execution_count": null,
   "id": "sustainable-leisure",
   "metadata": {},
   "outputs": [],
   "source": [
    "print(vancouver_venues.shape)\n",
    "vancouver_venues"
   ]
  },
  {
   "cell_type": "code",
   "execution_count": null,
   "id": "exotic-hepatitis",
   "metadata": {},
   "outputs": [],
   "source": [
    "vancouver_venues.duplicated().sum()"
   ]
  },
  {
   "cell_type": "markdown",
   "id": "adolescent-privacy",
   "metadata": {},
   "source": [
    "There are no duplicated rows (EXPLAIN THAT I USE 1000 FEET AS RADIUS...)"
   ]
  },
  {
   "cell_type": "code",
   "execution_count": null,
   "id": "banner-atlas",
   "metadata": {},
   "outputs": [],
   "source": [
    "# Let's check how many venues were returned for each neighborhood\n",
    "pd.set_option('display.max_rows', None)\n",
    "vancouver_venues_grouped = vancouver_venues.groupby('Neighborhood').count().reset_index()\n",
    "vancouver_venues_grouped.sort_values('Venue', ascending=False)"
   ]
  },
  {
   "cell_type": "code",
   "execution_count": null,
   "id": "lonely-kuwait",
   "metadata": {},
   "outputs": [],
   "source": [
    "print(vancouver_venues_grouped.shape)"
   ]
  },
  {
   "cell_type": "markdown",
   "id": "different-termination",
   "metadata": {},
   "source": [
    "The dataset has data for all 31 areas considered."
   ]
  },
  {
   "cell_type": "code",
   "execution_count": null,
   "id": "pressed-laptop",
   "metadata": {},
   "outputs": [],
   "source": [
    "print('There are {} uniques categories.'.format(len(vancouver_venues['Venue Category'].unique())))"
   ]
  },
  {
   "cell_type": "markdown",
   "id": "light-bidding",
   "metadata": {},
   "source": [
    "Let's take a look at where all these venues are located:"
   ]
  },
  {
   "cell_type": "code",
   "execution_count": null,
   "id": "varying-proceeding",
   "metadata": {},
   "outputs": [],
   "source": [
    "# create map of Vancouver using latitude and longitude values\n",
    "map_venues = folium.Map(location=[latitude, longitude], zoom_start=12)\n",
    "\n",
    "# add markers to map\n",
    "for lat, lng, venue, venue_cat, in zip(vancouver_venues['Venue Latitude'], \n",
    "                                       vancouver_venues['Venue Longitude'],\n",
    "                                       vancouver_venues['Venue'],\n",
    "                                       vancouver_venues['Venue Category']\n",
    "                                            ):\n",
    "    label = '{}, {}'.format(venue, venue_cat)\n",
    "    label = folium.Popup(label, parse_html=True)\n",
    "    folium.CircleMarker(\n",
    "        [lat, lng],\n",
    "        radius=5,\n",
    "        popup=label,\n",
    "        color='blue',\n",
    "        fill=True,\n",
    "        fill_color='lightblue',\n",
    "        fill_opacity=0.7,\n",
    "        parse_html=False).add_to(map_venues)\n",
    "\n",
    "map_venues"
   ]
  },
  {
   "cell_type": "code",
   "execution_count": null,
   "id": "insured-maker",
   "metadata": {},
   "outputs": [],
   "source": [
    "vancouver_venues.groupby('Venue Category').count().sort_values('Venue', ascending=False)"
   ]
  },
  {
   "cell_type": "code",
   "execution_count": null,
   "id": "august-boards",
   "metadata": {},
   "outputs": [],
   "source": [
    "# one hot encoding\n",
    "vancouver_onehot = pd.get_dummies(vancouver_venues[['Venue Category']], prefix=\"\", prefix_sep=\"\")\n",
    "vancouver_onehot.head()"
   ]
  },
  {
   "cell_type": "markdown",
   "id": "standard-pipeline",
   "metadata": {},
   "source": [
    "I am interested in venues that sell coffee/tea/juice and pastries/pies/snacks/food on the go, so I will create a subdf with only those categories:"
   ]
  },
  {
   "cell_type": "code",
   "execution_count": null,
   "id": "fifty-grenada",
   "metadata": {},
   "outputs": [],
   "source": [
    "# tea_shops = ['Breakfast Spot', 'Tea Room', 'Creperie']\n",
    "\n",
    "# tea_venues = vancouver_venues[snacks_shops]\n",
    "# tea_venues ####### rearrange this!!!"
   ]
  },
  {
   "cell_type": "code",
   "execution_count": null,
   "id": "assumed-single",
   "metadata": {},
   "outputs": [],
   "source": [
    "tea_onehot = vancouver_onehot[['Breakfast Spot', 'Tea Room', 'Creperie']]\n",
    "tea_onehot.head()"
   ]
  },
  {
   "cell_type": "code",
   "execution_count": null,
   "id": "sorted-bracket",
   "metadata": {},
   "outputs": [],
   "source": [
    "# add neighborhood column back to dataframe\n",
    "tea_onehot['Neighborhood'] = vancouver_venues['Neighborhood']\n",
    "\n",
    "# move neighborhood column to the first column\n",
    "fixed_columns = [tea_onehot.columns[-1]] + list(tea_onehot.columns[:-1])\n",
    "tea_onehot = tea_onehot[fixed_columns]\n",
    "\n",
    "# move neighborhood column to the first column\n",
    "tea_onehot.head()"
   ]
  },
  {
   "cell_type": "code",
   "execution_count": null,
   "id": "injured-sewing",
   "metadata": {},
   "outputs": [],
   "source": [
    "tea_onehot = tea_onehot.copy()"
   ]
  },
  {
   "cell_type": "markdown",
   "id": "medium-replica",
   "metadata": {},
   "source": [
    "Let's examine the new dataframe's size:"
   ]
  },
  {
   "cell_type": "code",
   "execution_count": null,
   "id": "compressed-palace",
   "metadata": {},
   "outputs": [],
   "source": [
    "tea_onehot.shape"
   ]
  },
  {
   "cell_type": "code",
   "execution_count": null,
   "id": "involved-lottery",
   "metadata": {},
   "outputs": [],
   "source": [
    "# Next, let's group rows by neighborhood and by taking the mean of the frequency of occurrence of each category\n",
    "pd.set_option('display.max_rows', 10)\n",
    "\n",
    "tea_grouped = tea_onehot.groupby('Neighborhood').mean().reset_index()\n",
    "tea_grouped"
   ]
  },
  {
   "cell_type": "code",
   "execution_count": null,
   "id": "unlike-wednesday",
   "metadata": {},
   "outputs": [],
   "source": [
    "# # Sort the venues in descending order\n",
    "# def return_most_common_venues(row, num_top_venues):\n",
    "#     row_categories = row.iloc[1:]\n",
    "#     row_categories_sorted = row_categories.sort_values(ascending=False)\n",
    "    \n",
    "#     return row_categories_sorted.index.values[0:num_top_venues]"
   ]
  },
  {
   "cell_type": "code",
   "execution_count": null,
   "id": "latest-variable",
   "metadata": {},
   "outputs": [],
   "source": [
    "# # Create the new dataframe and display the top 5 venues for each neighborhood. \n",
    "# num_top_venues = 3\n",
    "\n",
    "# indicators = ['st', 'nd', 'rd']\n",
    "\n",
    "# # create columns according to number of top venues\n",
    "# columns = ['Neighborhood']\n",
    "# for ind in np.arange(num_top_venues):\n",
    "#     try:\n",
    "#         columns.append('{}{} Most Common Venue'.format(ind+1, indicators[ind]))\n",
    "#     except:\n",
    "#         columns.append('{}th Most Common Venue'.format(ind+1))\n",
    "\n",
    "# # create a new dataframe\n",
    "# neighborhoods_venues_sorted = pd.DataFrame(columns=columns)\n",
    "# neighborhoods_venues_sorted['Neighborhood'] = tea_grouped['Neighborhood']\n",
    "\n",
    "# for ind in np.arange(tea_grouped.shape[0]):\n",
    "#     neighborhoods_venues_sorted.iloc[ind, 1:] = return_most_common_venues(tea_grouped.iloc[ind, :], num_top_venues)\n",
    "\n",
    "# neighborhoods_venues_sorted.head()"
   ]
  },
  {
   "cell_type": "markdown",
   "id": "talented-pacific",
   "metadata": {},
   "source": [
    "***"
   ]
  },
  {
   "cell_type": "markdown",
   "id": "nonprofit-display",
   "metadata": {},
   "source": [
    "## Analysis <a name=\"analysis\"></a>"
   ]
  },
  {
   "cell_type": "markdown",
   "id": "scheduled-iceland",
   "metadata": {},
   "source": [
    "#### Cluster Neighborhoods"
   ]
  },
  {
   "cell_type": "markdown",
   "id": "computational-glass",
   "metadata": {},
   "source": [
    "#### Elbow Method to determine the optimal value of k"
   ]
  },
  {
   "cell_type": "code",
   "execution_count": null,
   "id": "coastal-affect",
   "metadata": {},
   "outputs": [],
   "source": [
    "from sklearn.cluster import KMeans\n",
    "from sklearn import metrics\n",
    "from scipy.spatial.distance import cdist\n",
    "import numpy as np\n",
    "import matplotlib.pyplot as plt"
   ]
  },
  {
   "cell_type": "code",
   "execution_count": null,
   "id": "hybrid-engineer",
   "metadata": {},
   "outputs": [],
   "source": [
    "# drop 'Neighborhood' column before clustering\n",
    "tea_grouped_clustering = tea_grouped.drop('Neighborhood', 1)"
   ]
  },
  {
   "cell_type": "code",
   "execution_count": null,
   "id": "retired-contract",
   "metadata": {},
   "outputs": [],
   "source": [
    "distortions = []\n",
    "inertias = []\n",
    "mapping1 = {}\n",
    "mapping2 = {}\n",
    "K = range(1, 10)\n",
    " \n",
    "for k in K:\n",
    "    # Building and fitting the model\n",
    "    kmeanModel = KMeans(n_clusters=k).fit(tea_grouped_clustering)\n",
    "    kmeanModel.fit(tea_grouped_clustering)\n",
    " \n",
    "    distortions.append(sum(np.min(cdist(tea_grouped_clustering, kmeanModel.cluster_centers_,\n",
    "                                        'euclidean'), axis=1)) / tea_grouped_clustering.shape[0])\n",
    "    inertias.append(kmeanModel.inertia_)\n",
    " \n",
    "    mapping1[k] = sum(np.min(cdist(tea_grouped_clustering, kmeanModel.cluster_centers_,\n",
    "                                   'euclidean'), axis=1)) / tea_grouped_clustering.shape[0]\n",
    "    mapping2[k] = kmeanModel.inertia_"
   ]
  },
  {
   "cell_type": "markdown",
   "id": "curious-arrival",
   "metadata": {},
   "source": [
    "#### Tabulating and Visualizing the results:\n",
    "####  a) Using the different values of Distortion:"
   ]
  },
  {
   "cell_type": "code",
   "execution_count": null,
   "id": "artificial-selling",
   "metadata": {},
   "outputs": [],
   "source": [
    "for key, val in mapping1.items():\n",
    "    print(f'{key} : {val}')"
   ]
  },
  {
   "cell_type": "code",
   "execution_count": null,
   "id": "advance-starter",
   "metadata": {},
   "outputs": [],
   "source": [
    "plt.plot(K, distortions, 'bx-')\n",
    "plt.xlabel('Values of K')\n",
    "plt.ylabel('Distortion')\n",
    "plt.title('The Elbow Method using Distortion')\n",
    "plt.show()"
   ]
  },
  {
   "cell_type": "markdown",
   "id": "connected-tunisia",
   "metadata": {},
   "source": [
    "####  b) Using the different values of Inertia:"
   ]
  },
  {
   "cell_type": "code",
   "execution_count": null,
   "id": "southwest-withdrawal",
   "metadata": {},
   "outputs": [],
   "source": [
    "for key, val in mapping2.items():\n",
    "    print(f'{key} : {val}')"
   ]
  },
  {
   "cell_type": "code",
   "execution_count": null,
   "id": "realistic-median",
   "metadata": {},
   "outputs": [],
   "source": [
    "plt.plot(K, inertias, 'bx-')\n",
    "plt.xlabel('Values of K')\n",
    "plt.ylabel('Inertia')\n",
    "plt.title('The Elbow Method using Inertia')\n",
    "plt.show()"
   ]
  },
  {
   "cell_type": "code",
   "execution_count": null,
   "id": "nutritional-malpractice",
   "metadata": {},
   "outputs": [],
   "source": [
    "# from New York Data Set\n",
    "# set number of clusters\n",
    "kclusters = 4\n",
    "\n",
    "# run k-means clustering\n",
    "kmeans = KMeans(n_clusters=kclusters, random_state=0).fit(tea_grouped_clustering)\n",
    "\n",
    "# check cluster labels generated for each row in the dataframe\n",
    "kmeans.labels_[0:10]"
   ]
  },
  {
   "cell_type": "markdown",
   "id": "constitutional-orchestra",
   "metadata": {},
   "source": [
    "https://stats.stackexchange.com/questions/89679/what-do-you-do-when-theres-no-elbow-point-for-kmeans-clustering"
   ]
  },
  {
   "cell_type": "markdown",
   "id": "departmental-exploration",
   "metadata": {},
   "source": [
    "Let's create a new dataframe that includes the cluster label as well as the frequencies of the tea related venues for each neighborhood."
   ]
  },
  {
   "cell_type": "code",
   "execution_count": null,
   "id": "revised-shield",
   "metadata": {},
   "outputs": [],
   "source": [
    "# tea_grouped['Cluster Labels'] = \n",
    "\n",
    "# feature_file_df['RESULT'] = RESULT_df['RESULT'].values"
   ]
  },
  {
   "cell_type": "code",
   "execution_count": null,
   "id": "paperback-methodology",
   "metadata": {},
   "outputs": [],
   "source": [
    "# add clustering labels to the df\n",
    "tea_grouped.insert(0, 'Cluster Labels', kmeans.labels_)#, allow_duplicates=True)\n",
    "\n",
    "tea_merged = neighborhoods\n",
    "\n",
    "# merge rosario_grouped with toronto_data to add latitude/longitude for each neighborhood\n",
    "tea_merged = tea_merged.join(tea_grouped.set_index('Neighborhood'), on='Neighborhood')"
   ]
  },
  {
   "cell_type": "code",
   "execution_count": null,
   "id": "talented-christopher",
   "metadata": {},
   "outputs": [],
   "source": [
    "tea_merged"
   ]
  },
  {
   "cell_type": "code",
   "execution_count": null,
   "id": "medical-sitting",
   "metadata": {},
   "outputs": [],
   "source": [
    "# Assign colors to the different Cluster Labels and replace with these new values the column named 'MarkerColor'\n",
    "labels = list(tea_merged['Cluster Labels'])\n",
    "\n",
    "marker_color = []\n",
    "\n",
    "for label in labels:\n",
    "    if label == 0:\n",
    "        marker_color.append('red')\n",
    "    elif label == 1:\n",
    "        marker_color.append('blue')\n",
    "    elif label == 2:\n",
    "        marker_color.append('green')\n",
    "    elif label == 3:\n",
    "        marker_color.append('orange')\n",
    "#     elif label == 4:\n",
    "#         marker_color.append('purple')\n",
    "#     elif label == 5:\n",
    "#         marker_color.append('darkblue')\n",
    "#     elif label == 6:\n",
    "#         marker_color.append('darkgreen') \n",
    "        \n",
    "tea_merged['MarkerColor'] = marker_color\n",
    "tea_merged.head()"
   ]
  },
  {
   "cell_type": "code",
   "execution_count": null,
   "id": "stunning-eclipse",
   "metadata": {},
   "outputs": [],
   "source": [
    "# create map of Vancouver showing clusters\n",
    "map_clusters = folium.Map(location=[latitude, longitude], zoom_start=12)\n",
    "\n",
    "# add markers to map\n",
    "for lat, lng, neighborhood, markercolor in zip(tea_merged['Latitude'],\n",
    "                                               tea_merged['Longitude'],\n",
    "                                               tea_merged['Neighborhood'],\n",
    "                                               tea_merged['MarkerColor']):\n",
    "    label = neighborhood\n",
    "    label = folium.Popup(label, parse_html=True)\n",
    "    folium.CircleMarker(\n",
    "        [lat, lng],\n",
    "        radius=5,\n",
    "        popup=label,\n",
    "        color=markercolor,\n",
    "        fill=True,\n",
    "        fill_color=markercolor,\n",
    "        fill_opacity=0.7,\n",
    "        parse_html=False).add_to(map_clusters)\n",
    "\n",
    "map_clusters"
   ]
  },
  {
   "cell_type": "markdown",
   "id": "worse-championship",
   "metadata": {},
   "source": [
    "https://www.analyticsvidhya.com/blog/2019/08/comprehensive-guide-k-means-clustering/"
   ]
  },
  {
   "cell_type": "markdown",
   "id": "public-danish",
   "metadata": {},
   "source": [
    "### Examine clusters"
   ]
  },
  {
   "cell_type": "code",
   "execution_count": null,
   "id": "handy-laundry",
   "metadata": {},
   "outputs": [],
   "source": [
    "tea_merged.head()"
   ]
  },
  {
   "cell_type": "code",
   "execution_count": null,
   "id": "vital-conversion",
   "metadata": {},
   "outputs": [],
   "source": [
    "# create subdf\n",
    "sub_tea_merged = tea_merged[['Cluster Labels', 'Breakfast Spot', 'Tea Room', 'Creperie']]\n",
    "# use df.melt to rearrange data before plotting\n",
    "data = sub_tea_merged.melt('Cluster Labels', var_name='Shop', value_name='Frequencies')"
   ]
  },
  {
   "cell_type": "code",
   "execution_count": null,
   "id": "second-vocabulary",
   "metadata": {},
   "outputs": [],
   "source": [
    "# avg number tea shops vs cluster\n",
    "import matplotlib.pyplot as plt\n",
    "import seaborn as sns\n",
    "\n",
    "sns.set_theme(style=\"whitegrid\")\n",
    "ax = sns.barplot(x=\"Cluster Labels\", y=\"Frequencies\", hue=\"Shop\", data=data)\n",
    "ax.set_title(\"Average Number of Tea & Pastries Shops per Cluster\")\n",
    "\n",
    "# ax=sns.barplot(x='date', y='b', hue='a', data=data)\n",
    "# ax.set_xticklabels(ax.get_xticklabels(), rotation=90)"
   ]
  },
  {
   "cell_type": "markdown",
   "id": "specified-adapter",
   "metadata": {},
   "source": [
    "There are no \"Tea & Pastries\" shops in neighborhoods grouped in cluster 2.\n",
    "\n",
    "Cluster number 1 is the cluster with more Breakfast Spots, followed by cluster 0.\n",
    "\n",
    "There is only one Creperie (in cluster 1), so this type of shop wouldn't be big competitors. @@@@@@@@@@@@@\n",
    "\n",
    "Cluster 3 has five times more Tea Rooms than cluster 0, and the difference is even bigger with cluster 1.  \n",
    "\n",
    "Let's see how many neighborhoods are there in each cluster:"
   ]
  },
  {
   "cell_type": "code",
   "execution_count": null,
   "id": "detected-mississippi",
   "metadata": {},
   "outputs": [],
   "source": [
    "# create a sub dataframe with only 'Neighborhood', 'Cluster Labels', 'Yoga Studio' columns in it\n"
   ]
  },
  {
   "cell_type": "code",
   "execution_count": null,
   "id": "catholic-stewart",
   "metadata": {},
   "outputs": [],
   "source": [
    "# create a sub dataframe with only 'Neighborhood', 'Cluster Labels', ''Breakfast Spot', 'Tea Room' and 'Creperie' columns in it\n",
    "neighborhoods_cluster = tea_merged[['Neighborhood', 'Cluster Labels', 'Breakfast Spot', 'Tea Room', 'Creperie']]\n",
    "# group by cluster label and count the number of neighborhoods in each cluster\n",
    "neighborhoods_per_cluster = neighborhoods_cluster.groupby('Cluster Labels')['Neighborhood'].count().to_frame()\n",
    "neighborhoods_per_cluster.reset_index(inplace=True)\n",
    "neighborhoods_per_cluster"
   ]
  },
  {
   "cell_type": "code",
   "execution_count": null,
   "id": "residential-colon",
   "metadata": {},
   "outputs": [],
   "source": [
    "# plot number of neighborhoods vs cluster\n",
    "sns.set_theme(style=\"whitegrid\")\n",
    "ax = sns.barplot(x=\"Cluster Labels\", y=\"Neighborhood\", data=neighborhoods_per_cluster)\n",
    "ax.set_title(\"Number of Neighborhoods per Cluster\")"
   ]
  },
  {
   "cell_type": "markdown",
   "id": "handled-stations",
   "metadata": {},
   "source": [
    "The plots show that the Tea Rooms from cluster 3 are concentrated in a small area of the city &rarr; possible spots?\n",
    "\n",
    "Cluster 2 has the highest number of neighborhoods and no clusters &rarr; maybe no demand?\n",
    "\n",
    "The obvious clusters are 0 and 1, evaluate this."
   ]
  },
  {
   "cell_type": "code",
   "execution_count": null,
   "id": "emerging-haiti",
   "metadata": {},
   "outputs": [],
   "source": []
  },
  {
   "cell_type": "code",
   "execution_count": null,
   "id": "lesser-portfolio",
   "metadata": {},
   "outputs": [],
   "source": []
  },
  {
   "cell_type": "code",
   "execution_count": null,
   "id": "equivalent-stocks",
   "metadata": {},
   "outputs": [],
   "source": []
  },
  {
   "cell_type": "code",
   "execution_count": null,
   "id": "abstract-liberia",
   "metadata": {},
   "outputs": [],
   "source": []
  },
  {
   "cell_type": "code",
   "execution_count": null,
   "id": "developed-information",
   "metadata": {},
   "outputs": [],
   "source": []
  },
  {
   "cell_type": "code",
   "execution_count": null,
   "id": "studied-passenger",
   "metadata": {},
   "outputs": [],
   "source": [
    "tea_merged[tea_merged['Cluster Labels'] == 3]"
   ]
  },
  {
   "cell_type": "code",
   "execution_count": null,
   "id": "thorough-cursor",
   "metadata": {},
   "outputs": [],
   "source": [
    "vancouver_venues[(vancouver_venues['Venue Category'] == 'Tea Room')]"
   ]
  },
  {
   "cell_type": "code",
   "execution_count": null,
   "id": "adapted-logan",
   "metadata": {},
   "outputs": [],
   "source": [
    "neighborhoods.loc[(neighborhoods[neighborhoods['PostalCode'] == 'V6M']).index,'Neighborhood']"
   ]
  },
  {
   "cell_type": "markdown",
   "id": "recognized-count",
   "metadata": {},
   "source": [
    "South Shaughnessy / NW Oakridge / NE Kerrisdale / SE Arbutus Ridge"
   ]
  },
  {
   "cell_type": "code",
   "execution_count": null,
   "id": "dutch-holly",
   "metadata": {},
   "outputs": [],
   "source": []
  },
  {
   "cell_type": "code",
   "execution_count": null,
   "id": "different-acting",
   "metadata": {},
   "outputs": [],
   "source": []
  },
  {
   "cell_type": "markdown",
   "id": "wired-hobby",
   "metadata": {},
   "source": [
    "# &rarr; Explore areas of Vancouver in order to find a good spot to open a \"Tea & Pastries\" shop.\n",
    "\n",
    "Consider:\n",
    "- Areas highly visited by turists\n",
    "- City demographic diversity\n",
    "- Areas with no venues like this\n",
    "\n",
    "\n",
    "\n",
    "\n",
    "\n",
    "\n",
    "\n",
    "READ about South Shaughnessy / NW Oakridge / NE Kerrisdale / SE Arbutus Ridge &rarr; may be a good idea to open a shop there since there is high demand.\n",
    "\n",
    "https://en.wikipedia.org/wiki/Shaughnessy,_Vancouver\n",
    "\n",
    "https://en.wikipedia.org/wiki/Oakridge,_Vancouver\n",
    "\n",
    "https://en.wikipedia.org/wiki/Kerrisdale\n",
    "\n",
    "https://en.wikipedia.org/wiki/Arbutus_Ridge\n",
    "\n"
   ]
  },
  {
   "cell_type": "markdown",
   "id": "significant-objective",
   "metadata": {},
   "source": [
    "***"
   ]
  },
  {
   "cell_type": "markdown",
   "id": "fixed-columbia",
   "metadata": {},
   "source": [
    "## Results and Discussion <a name=\"results\"></a>"
   ]
  },
  {
   "cell_type": "markdown",
   "id": "forty-martial",
   "metadata": {},
   "source": [
    "Write 2-3 paragraphs\n",
    "\n",
    "***"
   ]
  },
  {
   "cell_type": "markdown",
   "id": "western-helena",
   "metadata": {},
   "source": [
    "## Conclusion <a name=\"conclusion\"></a>"
   ]
  },
  {
   "cell_type": "markdown",
   "id": "loved-summit",
   "metadata": {},
   "source": [
    "Write 2-3 paragraphs\n",
    "***"
   ]
  },
  {
   "cell_type": "markdown",
   "id": "metric-integrity",
   "metadata": {},
   "source": [
    "## References <a name=\"references\"></a>"
   ]
  },
  {
   "cell_type": "markdown",
   "id": "premium-statistics",
   "metadata": {},
   "source": []
  },
  {
   "cell_type": "markdown",
   "id": "wrapped-insider",
   "metadata": {},
   "source": [
    "https://en.wikipedia.org/wiki/Vancouver\n",
    "\n",
    "https://en.wikipedia.org/wiki/List_of_postal_codes_of_Canada:_V"
   ]
  },
  {
   "cell_type": "markdown",
   "id": "social-specification",
   "metadata": {},
   "source": [
    "***"
   ]
  },
  {
   "cell_type": "code",
   "execution_count": null,
   "id": "numerous-option",
   "metadata": {},
   "outputs": [],
   "source": []
  },
  {
   "cell_type": "code",
   "execution_count": null,
   "id": "heavy-ethnic",
   "metadata": {},
   "outputs": [],
   "source": []
  },
  {
   "cell_type": "code",
   "execution_count": null,
   "id": "starting-continuity",
   "metadata": {},
   "outputs": [],
   "source": []
  },
  {
   "cell_type": "code",
   "execution_count": null,
   "id": "destroyed-nitrogen",
   "metadata": {
    "jupyter": {
     "source_hidden": true
    }
   },
   "outputs": [],
   "source": [
    "cluster_0 = tea_merged.loc[tea_merged['Cluster Labels'] == 0,\n",
    "                           tea_merged.columns[[1] + list(range(5, tea_merged.shape[1]))]]\n",
    "cluster_0"
   ]
  },
  {
   "cell_type": "code",
   "execution_count": null,
   "id": "mysterious-cancer",
   "metadata": {
    "jupyter": {
     "source_hidden": true
    }
   },
   "outputs": [],
   "source": [
    "# find the mode for each of the first 3 columns\n",
    "n = 0\n",
    "for column in cluster_0.columns[1:]:\n",
    "    print(cluster_0[column].mode())\n",
    "    n += 1\n",
    "    if n == 3:\n",
    "        break"
   ]
  },
  {
   "cell_type": "code",
   "execution_count": null,
   "id": "breathing-setup",
   "metadata": {
    "jupyter": {
     "source_hidden": true
    }
   },
   "outputs": [],
   "source": [
    "cluster_1 = tea_merged.loc[tea_merged['Cluster Labels'] == 1,\n",
    "                           tea_merged.columns[[1] + list(range(5, tea_merged.shape[1]))]]\n",
    "cluster_1"
   ]
  },
  {
   "cell_type": "code",
   "execution_count": null,
   "id": "actual-female",
   "metadata": {
    "jupyter": {
     "source_hidden": true
    }
   },
   "outputs": [],
   "source": [
    "# find the mode for each of the first 3 columns\n",
    "n = 0\n",
    "for column in cluster_1.columns[1:]:\n",
    "    print(cluster_1[column].mode())\n",
    "    n += 1\n",
    "    if n == 3:\n",
    "        break"
   ]
  },
  {
   "cell_type": "code",
   "execution_count": null,
   "id": "funded-mechanics",
   "metadata": {},
   "outputs": [],
   "source": []
  }
 ],
 "metadata": {
  "kernelspec": {
   "display_name": "Python 3",
   "language": "python",
   "name": "python3"
  },
  "language_info": {
   "codemirror_mode": {
    "name": "ipython",
    "version": 3
   },
   "file_extension": ".py",
   "mimetype": "text/x-python",
   "name": "python",
   "nbconvert_exporter": "python",
   "pygments_lexer": "ipython3",
   "version": "3.7.6"
  }
 },
 "nbformat": 4,
 "nbformat_minor": 5
}
